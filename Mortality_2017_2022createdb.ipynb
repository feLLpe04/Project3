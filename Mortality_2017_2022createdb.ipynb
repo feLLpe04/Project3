{
 "cells": [
  {
   "cell_type": "code",
   "execution_count": 2,
   "metadata": {},
   "outputs": [
    {
     "name": "stdout",
     "output_type": "stream",
     "text": [
      "Data successfully loaded into the mortality_data table.\n"
     ]
    }
   ],
   "source": [
    "import pandas as pd\n",
    "from pathlib import Path\n",
    "from sqlalchemy import create_engine, text\n",
    "\n",
    "# Load the CSV file into a Pandas DataFrame\n",
    "csv_file = Path(\"cleaneddata/cleaned_part5_country_mortality_df.csv\")\n",
    "df = pd.read_csv(csv_file)\n",
    "\n",
    "# Connect to a database (e.g., SQLite for simplicity)\n",
    "engine = create_engine(\"sqlite:///mortality_data.db\")  # My database URI\n",
    "table_name = \"mortality_data\"\n",
    "\n",
    "# Define the CREATE TABLE SQL command\n",
    "create_table_query = f\"\"\"\n",
    "CREATE TABLE IF NOT EXISTS {table_name} (\n",
    "    Country_code INTEGER NOT NULL,\n",
    "    Country_name TEXT,\n",
    "    ISO_Alpha3 TEXT NOT NULL,\n",
    "    Year INTEGER NOT NULL,\n",
    "    Cause TEXT NOT NULL,\n",
    "    Sex INTEGER NOT NULL,\n",
    "    Total_deaths REAL\n",
    ");\n",
    "\"\"\"\n",
    "\n",
    "# Execute the CREATE TABLE statement\n",
    "with engine.connect() as connection:\n",
    "    connection.execute(text(create_table_query))\n",
    "\n",
    "# Write the DataFrame to the database\n",
    "df.to_sql(table_name, engine, if_exists=\"replace\", index=False)\n",
    "print(f\"Data successfully loaded into the {table_name} table.\")"
   ]
  },
  {
   "cell_type": "code",
   "execution_count": null,
   "metadata": {},
   "outputs": [],
   "source": [
    "%pip install flask sqlalchemy flask_sqlalchemy"
   ]
  }
 ],
 "metadata": {
  "kernelspec": {
   "display_name": "dev",
   "language": "python",
   "name": "python3"
  },
  "language_info": {
   "codemirror_mode": {
    "name": "ipython",
    "version": 3
   },
   "file_extension": ".py",
   "mimetype": "text/x-python",
   "name": "python",
   "nbconvert_exporter": "python",
   "pygments_lexer": "ipython3",
   "version": "3.10.15"
  }
 },
 "nbformat": 4,
 "nbformat_minor": 2
}
