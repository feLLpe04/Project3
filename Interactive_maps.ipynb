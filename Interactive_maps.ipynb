{
 "cells": [
  {
   "cell_type": "markdown",
   "metadata": {},
   "source": [
    "# Import the libraries"
   ]
  },
  {
   "cell_type": "code",
   "execution_count": 49,
   "metadata": {},
   "outputs": [],
   "source": [
    "# install the opencage to get the geocoordinates for each country\n",
    "#%pip install opencage\n",
    "# install pycountry to get the ISO country code\n",
    "#%pip install pycountry\n"
   ]
  },
  {
   "cell_type": "code",
   "execution_count": 3,
   "metadata": {},
   "outputs": [],
   "source": [
    "# Dependencies\n",
    "import pandas as pd\n",
    "from functools import reduce\n",
    "from pathlib import Path\n",
    "from opencage.geocoder import OpenCageGeocode\n",
    "# For interactive visualisations\n",
    "import plotly.express as px\n",
    "from ipywidgets import interact, IntSlider\n",
    "import pycountry # to convert numeric code to ISO country code used by plotly\n",
    "# for using geopandas and matplotlib\n",
    "import geopandas as gpd\n",
    "import matplotlib.pyplot as plt\n"
   ]
  },
  {
   "cell_type": "markdown",
   "metadata": {},
   "source": [
    "# Define paths and read files"
   ]
  },
  {
   "cell_type": "code",
   "execution_count": 4,
   "metadata": {},
   "outputs": [],
   "source": [
    "# Store filepath in a variable\n",
    "file_one = Path(\"cleaneddata/morticd10_part4_cleaned_df.csv\")\n",
    "file_two = Path(\"cleaneddata/morticd10_part5_cleaned_df.csv\")\n",
    "file_3 = Path(\"data/country_codes.csv\")"
   ]
  },
  {
   "cell_type": "code",
   "execution_count": 5,
   "metadata": {},
   "outputs": [],
   "source": [
    "# Read our data file with the Pandas library\n",
    "# Not every CSV requires an encoding, but be aware this can come up\n",
    "morticd10_part4_df = pd.read_csv(file_one, encoding=\"ISO-8859-1\")\n",
    "morticd10_part5_df = pd.read_csv(file_two, encoding=\"ISO-8859-1\")\n",
    "country_code_df = pd.read_csv(file_3, encoding=\"ISO-8859-1\")\n"
   ]
  },
  {
   "cell_type": "markdown",
   "metadata": {},
   "source": [
    "# Understanding/analysing the data files"
   ]
  },
  {
   "cell_type": "code",
   "execution_count": 6,
   "metadata": {},
   "outputs": [
    {
     "data": {
      "text/html": [
       "<div>\n",
       "<style scoped>\n",
       "    .dataframe tbody tr th:only-of-type {\n",
       "        vertical-align: middle;\n",
       "    }\n",
       "\n",
       "    .dataframe tbody tr th {\n",
       "        vertical-align: top;\n",
       "    }\n",
       "\n",
       "    .dataframe thead th {\n",
       "        text-align: right;\n",
       "    }\n",
       "</style>\n",
       "<table border=\"1\" class=\"dataframe\">\n",
       "  <thead>\n",
       "    <tr style=\"text-align: right;\">\n",
       "      <th></th>\n",
       "      <th>ï»¿country</th>\n",
       "      <th>name</th>\n",
       "    </tr>\n",
       "  </thead>\n",
       "  <tbody>\n",
       "    <tr>\n",
       "      <th>0</th>\n",
       "      <td>1010</td>\n",
       "      <td>Algeria</td>\n",
       "    </tr>\n",
       "    <tr>\n",
       "      <th>1</th>\n",
       "      <td>1020</td>\n",
       "      <td>Angola</td>\n",
       "    </tr>\n",
       "    <tr>\n",
       "      <th>2</th>\n",
       "      <td>1025</td>\n",
       "      <td>Benin</td>\n",
       "    </tr>\n",
       "    <tr>\n",
       "      <th>3</th>\n",
       "      <td>1030</td>\n",
       "      <td>Botswana</td>\n",
       "    </tr>\n",
       "    <tr>\n",
       "      <th>4</th>\n",
       "      <td>1035</td>\n",
       "      <td>Burkina Faso</td>\n",
       "    </tr>\n",
       "  </tbody>\n",
       "</table>\n",
       "</div>"
      ],
      "text/plain": [
       "   ï»¿country          name\n",
       "0        1010       Algeria\n",
       "1        1020        Angola\n",
       "2        1025         Benin\n",
       "3        1030      Botswana\n",
       "4        1035  Burkina Faso"
      ]
     },
     "execution_count": 6,
     "metadata": {},
     "output_type": "execute_result"
    }
   ],
   "source": [
    "country_code_df.head()"
   ]
  },
  {
   "cell_type": "code",
   "execution_count": 7,
   "metadata": {},
   "outputs": [
    {
     "data": {
      "text/html": [
       "<div>\n",
       "<style scoped>\n",
       "    .dataframe tbody tr th:only-of-type {\n",
       "        vertical-align: middle;\n",
       "    }\n",
       "\n",
       "    .dataframe tbody tr th {\n",
       "        vertical-align: top;\n",
       "    }\n",
       "\n",
       "    .dataframe thead th {\n",
       "        text-align: right;\n",
       "    }\n",
       "</style>\n",
       "<table border=\"1\" class=\"dataframe\">\n",
       "  <thead>\n",
       "    <tr style=\"text-align: right;\">\n",
       "      <th></th>\n",
       "      <th>Country</th>\n",
       "      <th>Year</th>\n",
       "      <th>List</th>\n",
       "      <th>Cause</th>\n",
       "      <th>Sex</th>\n",
       "      <th>Deaths1</th>\n",
       "      <th>IM_Deaths1</th>\n",
       "      <th>IM_Deaths2</th>\n",
       "      <th>IM_Deaths3</th>\n",
       "      <th>IM_Deaths4</th>\n",
       "      <th>mort_1_4</th>\n",
       "      <th>mort_5_24</th>\n",
       "      <th>mort_25_44</th>\n",
       "      <th>mort_45_64</th>\n",
       "      <th>mort_65_84</th>\n",
       "      <th>mort_85_95+</th>\n",
       "      <th>Deaths26</th>\n",
       "    </tr>\n",
       "  </thead>\n",
       "  <tbody>\n",
       "    <tr>\n",
       "      <th>0</th>\n",
       "      <td>1400</td>\n",
       "      <td>2013</td>\n",
       "      <td>101</td>\n",
       "      <td>1000</td>\n",
       "      <td>1</td>\n",
       "      <td>383</td>\n",
       "      <td>5.0</td>\n",
       "      <td>1.0</td>\n",
       "      <td>2.0</td>\n",
       "      <td>4.0</td>\n",
       "      <td>0.0</td>\n",
       "      <td>6.0</td>\n",
       "      <td>44.0</td>\n",
       "      <td>103.0</td>\n",
       "      <td>218.0</td>\n",
       "      <td>0.0</td>\n",
       "      <td>0.0</td>\n",
       "    </tr>\n",
       "    <tr>\n",
       "      <th>1</th>\n",
       "      <td>1400</td>\n",
       "      <td>2013</td>\n",
       "      <td>101</td>\n",
       "      <td>1000</td>\n",
       "      <td>2</td>\n",
       "      <td>334</td>\n",
       "      <td>2.0</td>\n",
       "      <td>7.0</td>\n",
       "      <td>3.0</td>\n",
       "      <td>5.0</td>\n",
       "      <td>2.0</td>\n",
       "      <td>3.0</td>\n",
       "      <td>20.0</td>\n",
       "      <td>60.0</td>\n",
       "      <td>232.0</td>\n",
       "      <td>0.0</td>\n",
       "      <td>0.0</td>\n",
       "    </tr>\n",
       "    <tr>\n",
       "      <th>2</th>\n",
       "      <td>1400</td>\n",
       "      <td>2013</td>\n",
       "      <td>101</td>\n",
       "      <td>1001</td>\n",
       "      <td>1</td>\n",
       "      <td>28</td>\n",
       "      <td>0.0</td>\n",
       "      <td>0.0</td>\n",
       "      <td>0.0</td>\n",
       "      <td>0.0</td>\n",
       "      <td>0.0</td>\n",
       "      <td>0.0</td>\n",
       "      <td>6.0</td>\n",
       "      <td>11.0</td>\n",
       "      <td>11.0</td>\n",
       "      <td>0.0</td>\n",
       "      <td>0.0</td>\n",
       "    </tr>\n",
       "    <tr>\n",
       "      <th>3</th>\n",
       "      <td>1400</td>\n",
       "      <td>2013</td>\n",
       "      <td>101</td>\n",
       "      <td>1001</td>\n",
       "      <td>2</td>\n",
       "      <td>30</td>\n",
       "      <td>0.0</td>\n",
       "      <td>2.0</td>\n",
       "      <td>2.0</td>\n",
       "      <td>1.0</td>\n",
       "      <td>0.0</td>\n",
       "      <td>0.0</td>\n",
       "      <td>0.0</td>\n",
       "      <td>6.0</td>\n",
       "      <td>19.0</td>\n",
       "      <td>0.0</td>\n",
       "      <td>0.0</td>\n",
       "    </tr>\n",
       "    <tr>\n",
       "      <th>4</th>\n",
       "      <td>1400</td>\n",
       "      <td>2013</td>\n",
       "      <td>101</td>\n",
       "      <td>1002</td>\n",
       "      <td>1</td>\n",
       "      <td>0</td>\n",
       "      <td>0.0</td>\n",
       "      <td>0.0</td>\n",
       "      <td>0.0</td>\n",
       "      <td>0.0</td>\n",
       "      <td>0.0</td>\n",
       "      <td>0.0</td>\n",
       "      <td>0.0</td>\n",
       "      <td>0.0</td>\n",
       "      <td>0.0</td>\n",
       "      <td>0.0</td>\n",
       "      <td>0.0</td>\n",
       "    </tr>\n",
       "  </tbody>\n",
       "</table>\n",
       "</div>"
      ],
      "text/plain": [
       "   Country  Year  List Cause  Sex  Deaths1  IM_Deaths1  IM_Deaths2  \\\n",
       "0     1400  2013   101  1000    1      383         5.0         1.0   \n",
       "1     1400  2013   101  1000    2      334         2.0         7.0   \n",
       "2     1400  2013   101  1001    1       28         0.0         0.0   \n",
       "3     1400  2013   101  1001    2       30         0.0         2.0   \n",
       "4     1400  2013   101  1002    1        0         0.0         0.0   \n",
       "\n",
       "   IM_Deaths3  IM_Deaths4  mort_1_4  mort_5_24  mort_25_44  mort_45_64  \\\n",
       "0         2.0         4.0       0.0        6.0        44.0       103.0   \n",
       "1         3.0         5.0       2.0        3.0        20.0        60.0   \n",
       "2         0.0         0.0       0.0        0.0         6.0        11.0   \n",
       "3         2.0         1.0       0.0        0.0         0.0         6.0   \n",
       "4         0.0         0.0       0.0        0.0         0.0         0.0   \n",
       "\n",
       "   mort_65_84  mort_85_95+  Deaths26  \n",
       "0       218.0          0.0       0.0  \n",
       "1       232.0          0.0       0.0  \n",
       "2        11.0          0.0       0.0  \n",
       "3        19.0          0.0       0.0  \n",
       "4         0.0          0.0       0.0  "
      ]
     },
     "execution_count": 7,
     "metadata": {},
     "output_type": "execute_result"
    }
   ],
   "source": [
    "morticd10_part4_df.head()"
   ]
  },
  {
   "cell_type": "code",
   "execution_count": 8,
   "metadata": {},
   "outputs": [
    {
     "data": {
      "text/html": [
       "<div>\n",
       "<style scoped>\n",
       "    .dataframe tbody tr th:only-of-type {\n",
       "        vertical-align: middle;\n",
       "    }\n",
       "\n",
       "    .dataframe tbody tr th {\n",
       "        vertical-align: top;\n",
       "    }\n",
       "\n",
       "    .dataframe thead th {\n",
       "        text-align: right;\n",
       "    }\n",
       "</style>\n",
       "<table border=\"1\" class=\"dataframe\">\n",
       "  <thead>\n",
       "    <tr style=\"text-align: right;\">\n",
       "      <th></th>\n",
       "      <th>Country</th>\n",
       "      <th>Year</th>\n",
       "      <th>List</th>\n",
       "      <th>Cause</th>\n",
       "      <th>Sex</th>\n",
       "      <th>Deaths1</th>\n",
       "      <th>IM_Deaths1</th>\n",
       "      <th>IM_Deaths2</th>\n",
       "      <th>IM_Deaths3</th>\n",
       "      <th>IM_Deaths4</th>\n",
       "      <th>mort_1_4</th>\n",
       "      <th>mort_5_24</th>\n",
       "      <th>mort_25_44</th>\n",
       "      <th>mort_45_64</th>\n",
       "      <th>mort_65_84</th>\n",
       "      <th>mort_85_95+</th>\n",
       "      <th>Deaths26</th>\n",
       "    </tr>\n",
       "  </thead>\n",
       "  <tbody>\n",
       "    <tr>\n",
       "      <th>880537</th>\n",
       "      <td>5020</td>\n",
       "      <td>2016</td>\n",
       "      <td>104</td>\n",
       "      <td>Y870</td>\n",
       "      <td>2</td>\n",
       "      <td>2</td>\n",
       "      <td>0.0</td>\n",
       "      <td>0.0</td>\n",
       "      <td>0.0</td>\n",
       "      <td>0.0</td>\n",
       "      <td>0.0</td>\n",
       "      <td>0.0</td>\n",
       "      <td>1.0</td>\n",
       "      <td>1.0</td>\n",
       "      <td>0.0</td>\n",
       "      <td>0.0</td>\n",
       "      <td>0.0</td>\n",
       "    </tr>\n",
       "    <tr>\n",
       "      <th>880538</th>\n",
       "      <td>5020</td>\n",
       "      <td>2016</td>\n",
       "      <td>104</td>\n",
       "      <td>Y883</td>\n",
       "      <td>1</td>\n",
       "      <td>6</td>\n",
       "      <td>0.0</td>\n",
       "      <td>0.0</td>\n",
       "      <td>0.0</td>\n",
       "      <td>0.0</td>\n",
       "      <td>0.0</td>\n",
       "      <td>0.0</td>\n",
       "      <td>0.0</td>\n",
       "      <td>2.0</td>\n",
       "      <td>3.0</td>\n",
       "      <td>1.0</td>\n",
       "      <td>0.0</td>\n",
       "    </tr>\n",
       "    <tr>\n",
       "      <th>880539</th>\n",
       "      <td>5020</td>\n",
       "      <td>2016</td>\n",
       "      <td>104</td>\n",
       "      <td>Y883</td>\n",
       "      <td>2</td>\n",
       "      <td>7</td>\n",
       "      <td>0.0</td>\n",
       "      <td>0.0</td>\n",
       "      <td>0.0</td>\n",
       "      <td>0.0</td>\n",
       "      <td>0.0</td>\n",
       "      <td>0.0</td>\n",
       "      <td>0.0</td>\n",
       "      <td>1.0</td>\n",
       "      <td>3.0</td>\n",
       "      <td>3.0</td>\n",
       "      <td>0.0</td>\n",
       "    </tr>\n",
       "    <tr>\n",
       "      <th>880540</th>\n",
       "      <td>5020</td>\n",
       "      <td>2016</td>\n",
       "      <td>104</td>\n",
       "      <td>Y899</td>\n",
       "      <td>1</td>\n",
       "      <td>6</td>\n",
       "      <td>0.0</td>\n",
       "      <td>0.0</td>\n",
       "      <td>0.0</td>\n",
       "      <td>0.0</td>\n",
       "      <td>0.0</td>\n",
       "      <td>0.0</td>\n",
       "      <td>0.0</td>\n",
       "      <td>2.0</td>\n",
       "      <td>2.0</td>\n",
       "      <td>2.0</td>\n",
       "      <td>0.0</td>\n",
       "    </tr>\n",
       "    <tr>\n",
       "      <th>880541</th>\n",
       "      <td>5020</td>\n",
       "      <td>2016</td>\n",
       "      <td>104</td>\n",
       "      <td>Y899</td>\n",
       "      <td>2</td>\n",
       "      <td>2</td>\n",
       "      <td>0.0</td>\n",
       "      <td>0.0</td>\n",
       "      <td>0.0</td>\n",
       "      <td>0.0</td>\n",
       "      <td>0.0</td>\n",
       "      <td>0.0</td>\n",
       "      <td>0.0</td>\n",
       "      <td>0.0</td>\n",
       "      <td>2.0</td>\n",
       "      <td>0.0</td>\n",
       "      <td>0.0</td>\n",
       "    </tr>\n",
       "  </tbody>\n",
       "</table>\n",
       "</div>"
      ],
      "text/plain": [
       "        Country  Year  List Cause  Sex  Deaths1  IM_Deaths1  IM_Deaths2  \\\n",
       "880537     5020  2016   104  Y870    2        2         0.0         0.0   \n",
       "880538     5020  2016   104  Y883    1        6         0.0         0.0   \n",
       "880539     5020  2016   104  Y883    2        7         0.0         0.0   \n",
       "880540     5020  2016   104  Y899    1        6         0.0         0.0   \n",
       "880541     5020  2016   104  Y899    2        2         0.0         0.0   \n",
       "\n",
       "        IM_Deaths3  IM_Deaths4  mort_1_4  mort_5_24  mort_25_44  mort_45_64  \\\n",
       "880537         0.0         0.0       0.0        0.0         1.0         1.0   \n",
       "880538         0.0         0.0       0.0        0.0         0.0         2.0   \n",
       "880539         0.0         0.0       0.0        0.0         0.0         1.0   \n",
       "880540         0.0         0.0       0.0        0.0         0.0         2.0   \n",
       "880541         0.0         0.0       0.0        0.0         0.0         0.0   \n",
       "\n",
       "        mort_65_84  mort_85_95+  Deaths26  \n",
       "880537         0.0          0.0       0.0  \n",
       "880538         3.0          1.0       0.0  \n",
       "880539         3.0          3.0       0.0  \n",
       "880540         2.0          2.0       0.0  \n",
       "880541         2.0          0.0       0.0  "
      ]
     },
     "execution_count": 8,
     "metadata": {},
     "output_type": "execute_result"
    }
   ],
   "source": [
    "morticd10_part4_df.tail()"
   ]
  },
  {
   "cell_type": "code",
   "execution_count": 9,
   "metadata": {},
   "outputs": [
    {
     "data": {
      "text/html": [
       "<div>\n",
       "<style scoped>\n",
       "    .dataframe tbody tr th:only-of-type {\n",
       "        vertical-align: middle;\n",
       "    }\n",
       "\n",
       "    .dataframe tbody tr th {\n",
       "        vertical-align: top;\n",
       "    }\n",
       "\n",
       "    .dataframe thead th {\n",
       "        text-align: right;\n",
       "    }\n",
       "</style>\n",
       "<table border=\"1\" class=\"dataframe\">\n",
       "  <thead>\n",
       "    <tr style=\"text-align: right;\">\n",
       "      <th></th>\n",
       "      <th>Country</th>\n",
       "      <th>Year</th>\n",
       "      <th>List</th>\n",
       "      <th>Sex</th>\n",
       "      <th>Deaths1</th>\n",
       "      <th>IM_Deaths1</th>\n",
       "      <th>IM_Deaths2</th>\n",
       "      <th>IM_Deaths3</th>\n",
       "      <th>IM_Deaths4</th>\n",
       "      <th>mort_1_4</th>\n",
       "      <th>mort_5_24</th>\n",
       "      <th>mort_25_44</th>\n",
       "      <th>mort_45_64</th>\n",
       "      <th>mort_65_84</th>\n",
       "      <th>mort_85_95+</th>\n",
       "      <th>Deaths26</th>\n",
       "    </tr>\n",
       "  </thead>\n",
       "  <tbody>\n",
       "    <tr>\n",
       "      <th>count</th>\n",
       "      <td>880542.000000</td>\n",
       "      <td>880542.000000</td>\n",
       "      <td>880542.000000</td>\n",
       "      <td>880542.000000</td>\n",
       "      <td>8.805420e+05</td>\n",
       "      <td>880542.000000</td>\n",
       "      <td>880542.000000</td>\n",
       "      <td>880542.000000</td>\n",
       "      <td>880542.000000</td>\n",
       "      <td>880542.000000</td>\n",
       "      <td>880542.000000</td>\n",
       "      <td>880542.000000</td>\n",
       "      <td>880542.000000</td>\n",
       "      <td>880542.000000</td>\n",
       "      <td>880542.000000</td>\n",
       "      <td>880542.000000</td>\n",
       "    </tr>\n",
       "    <tr>\n",
       "      <th>mean</th>\n",
       "      <td>3290.977342</td>\n",
       "      <td>2014.516668</td>\n",
       "      <td>103.895816</td>\n",
       "      <td>1.505759</td>\n",
       "      <td>1.859584e+02</td>\n",
       "      <td>1.474158</td>\n",
       "      <td>0.481073</td>\n",
       "      <td>0.366425</td>\n",
       "      <td>0.795786</td>\n",
       "      <td>0.711366</td>\n",
       "      <td>3.527158</td>\n",
       "      <td>11.642251</td>\n",
       "      <td>36.732208</td>\n",
       "      <td>80.952436</td>\n",
       "      <td>48.968789</td>\n",
       "      <td>0.190336</td>\n",
       "    </tr>\n",
       "    <tr>\n",
       "      <th>std</th>\n",
       "      <td>996.936375</td>\n",
       "      <td>1.119779</td>\n",
       "      <td>0.352870</td>\n",
       "      <td>0.690659</td>\n",
       "      <td>6.855915e+03</td>\n",
       "      <td>77.560580</td>\n",
       "      <td>23.299605</td>\n",
       "      <td>20.440840</td>\n",
       "      <td>47.490539</td>\n",
       "      <td>30.436828</td>\n",
       "      <td>161.114757</td>\n",
       "      <td>527.865395</td>\n",
       "      <td>1504.495546</td>\n",
       "      <td>3022.707691</td>\n",
       "      <td>2099.165613</td>\n",
       "      <td>13.785934</td>\n",
       "    </tr>\n",
       "    <tr>\n",
       "      <th>min</th>\n",
       "      <td>1125.000000</td>\n",
       "      <td>2013.000000</td>\n",
       "      <td>101.000000</td>\n",
       "      <td>1.000000</td>\n",
       "      <td>0.000000e+00</td>\n",
       "      <td>0.000000</td>\n",
       "      <td>0.000000</td>\n",
       "      <td>0.000000</td>\n",
       "      <td>0.000000</td>\n",
       "      <td>0.000000</td>\n",
       "      <td>0.000000</td>\n",
       "      <td>0.000000</td>\n",
       "      <td>0.000000</td>\n",
       "      <td>0.000000</td>\n",
       "      <td>0.000000</td>\n",
       "      <td>0.000000</td>\n",
       "    </tr>\n",
       "    <tr>\n",
       "      <th>25%</th>\n",
       "      <td>2310.000000</td>\n",
       "      <td>2014.000000</td>\n",
       "      <td>104.000000</td>\n",
       "      <td>1.000000</td>\n",
       "      <td>1.000000e+00</td>\n",
       "      <td>0.000000</td>\n",
       "      <td>0.000000</td>\n",
       "      <td>0.000000</td>\n",
       "      <td>0.000000</td>\n",
       "      <td>0.000000</td>\n",
       "      <td>0.000000</td>\n",
       "      <td>0.000000</td>\n",
       "      <td>0.000000</td>\n",
       "      <td>0.000000</td>\n",
       "      <td>0.000000</td>\n",
       "      <td>0.000000</td>\n",
       "    </tr>\n",
       "    <tr>\n",
       "      <th>50%</th>\n",
       "      <td>3380.000000</td>\n",
       "      <td>2015.000000</td>\n",
       "      <td>104.000000</td>\n",
       "      <td>1.000000</td>\n",
       "      <td>3.000000e+00</td>\n",
       "      <td>0.000000</td>\n",
       "      <td>0.000000</td>\n",
       "      <td>0.000000</td>\n",
       "      <td>0.000000</td>\n",
       "      <td>0.000000</td>\n",
       "      <td>0.000000</td>\n",
       "      <td>0.000000</td>\n",
       "      <td>1.000000</td>\n",
       "      <td>1.000000</td>\n",
       "      <td>0.000000</td>\n",
       "      <td>0.000000</td>\n",
       "    </tr>\n",
       "    <tr>\n",
       "      <th>75%</th>\n",
       "      <td>4186.000000</td>\n",
       "      <td>2016.000000</td>\n",
       "      <td>104.000000</td>\n",
       "      <td>2.000000</td>\n",
       "      <td>1.300000e+01</td>\n",
       "      <td>0.000000</td>\n",
       "      <td>0.000000</td>\n",
       "      <td>0.000000</td>\n",
       "      <td>0.000000</td>\n",
       "      <td>0.000000</td>\n",
       "      <td>0.000000</td>\n",
       "      <td>1.000000</td>\n",
       "      <td>2.000000</td>\n",
       "      <td>4.000000</td>\n",
       "      <td>2.000000</td>\n",
       "      <td>0.000000</td>\n",
       "    </tr>\n",
       "    <tr>\n",
       "      <th>max</th>\n",
       "      <td>5150.000000</td>\n",
       "      <td>2016.000000</td>\n",
       "      <td>104.000000</td>\n",
       "      <td>9.000000</td>\n",
       "      <td>1.400232e+06</td>\n",
       "      <td>20191.000000</td>\n",
       "      <td>6260.000000</td>\n",
       "      <td>5848.000000</td>\n",
       "      <td>12251.000000</td>\n",
       "      <td>6879.000000</td>\n",
       "      <td>46997.000000</td>\n",
       "      <td>138034.000000</td>\n",
       "      <td>348850.000000</td>\n",
       "      <td>617561.000000</td>\n",
       "      <td>537997.000000</td>\n",
       "      <td>4599.000000</td>\n",
       "    </tr>\n",
       "  </tbody>\n",
       "</table>\n",
       "</div>"
      ],
      "text/plain": [
       "             Country           Year           List            Sex  \\\n",
       "count  880542.000000  880542.000000  880542.000000  880542.000000   \n",
       "mean     3290.977342    2014.516668     103.895816       1.505759   \n",
       "std       996.936375       1.119779       0.352870       0.690659   \n",
       "min      1125.000000    2013.000000     101.000000       1.000000   \n",
       "25%      2310.000000    2014.000000     104.000000       1.000000   \n",
       "50%      3380.000000    2015.000000     104.000000       1.000000   \n",
       "75%      4186.000000    2016.000000     104.000000       2.000000   \n",
       "max      5150.000000    2016.000000     104.000000       9.000000   \n",
       "\n",
       "            Deaths1     IM_Deaths1     IM_Deaths2     IM_Deaths3  \\\n",
       "count  8.805420e+05  880542.000000  880542.000000  880542.000000   \n",
       "mean   1.859584e+02       1.474158       0.481073       0.366425   \n",
       "std    6.855915e+03      77.560580      23.299605      20.440840   \n",
       "min    0.000000e+00       0.000000       0.000000       0.000000   \n",
       "25%    1.000000e+00       0.000000       0.000000       0.000000   \n",
       "50%    3.000000e+00       0.000000       0.000000       0.000000   \n",
       "75%    1.300000e+01       0.000000       0.000000       0.000000   \n",
       "max    1.400232e+06   20191.000000    6260.000000    5848.000000   \n",
       "\n",
       "          IM_Deaths4       mort_1_4      mort_5_24     mort_25_44  \\\n",
       "count  880542.000000  880542.000000  880542.000000  880542.000000   \n",
       "mean        0.795786       0.711366       3.527158      11.642251   \n",
       "std        47.490539      30.436828     161.114757     527.865395   \n",
       "min         0.000000       0.000000       0.000000       0.000000   \n",
       "25%         0.000000       0.000000       0.000000       0.000000   \n",
       "50%         0.000000       0.000000       0.000000       0.000000   \n",
       "75%         0.000000       0.000000       0.000000       1.000000   \n",
       "max     12251.000000    6879.000000   46997.000000  138034.000000   \n",
       "\n",
       "          mort_45_64     mort_65_84    mort_85_95+       Deaths26  \n",
       "count  880542.000000  880542.000000  880542.000000  880542.000000  \n",
       "mean       36.732208      80.952436      48.968789       0.190336  \n",
       "std      1504.495546    3022.707691    2099.165613      13.785934  \n",
       "min         0.000000       0.000000       0.000000       0.000000  \n",
       "25%         0.000000       0.000000       0.000000       0.000000  \n",
       "50%         1.000000       1.000000       0.000000       0.000000  \n",
       "75%         2.000000       4.000000       2.000000       0.000000  \n",
       "max    348850.000000  617561.000000  537997.000000    4599.000000  "
      ]
     },
     "execution_count": 9,
     "metadata": {},
     "output_type": "execute_result"
    }
   ],
   "source": [
    "morticd10_part4_df.describe()"
   ]
  },
  {
   "cell_type": "code",
   "execution_count": 10,
   "metadata": {},
   "outputs": [
    {
     "data": {
      "text/html": [
       "<div>\n",
       "<style scoped>\n",
       "    .dataframe tbody tr th:only-of-type {\n",
       "        vertical-align: middle;\n",
       "    }\n",
       "\n",
       "    .dataframe tbody tr th {\n",
       "        vertical-align: top;\n",
       "    }\n",
       "\n",
       "    .dataframe thead th {\n",
       "        text-align: right;\n",
       "    }\n",
       "</style>\n",
       "<table border=\"1\" class=\"dataframe\">\n",
       "  <thead>\n",
       "    <tr style=\"text-align: right;\">\n",
       "      <th></th>\n",
       "      <th>Country_code</th>\n",
       "      <th>Year</th>\n",
       "      <th>List</th>\n",
       "      <th>Cause</th>\n",
       "      <th>Sex</th>\n",
       "      <th>Total_deaths</th>\n",
       "      <th>Mort_day0</th>\n",
       "      <th>Mort_day1_6</th>\n",
       "      <th>Mort_day7_27</th>\n",
       "      <th>Mort_day28_365</th>\n",
       "      <th>mort_1_4</th>\n",
       "      <th>mort_5_24</th>\n",
       "      <th>mort_25_44</th>\n",
       "      <th>mort_45_64</th>\n",
       "      <th>mort_65_84</th>\n",
       "      <th>mort_85_95+</th>\n",
       "      <th>Deaths26</th>\n",
       "    </tr>\n",
       "  </thead>\n",
       "  <tbody>\n",
       "    <tr>\n",
       "      <th>0</th>\n",
       "      <td>4303</td>\n",
       "      <td>2017</td>\n",
       "      <td>101</td>\n",
       "      <td>1000</td>\n",
       "      <td>1</td>\n",
       "      <td>281784</td>\n",
       "      <td>1608.0</td>\n",
       "      <td>0.0</td>\n",
       "      <td>0.0</td>\n",
       "      <td>0.0</td>\n",
       "      <td>357.0</td>\n",
       "      <td>2593.0</td>\n",
       "      <td>26494.0</td>\n",
       "      <td>86787.0</td>\n",
       "      <td>134693.0</td>\n",
       "      <td>29184.0</td>\n",
       "      <td>68.0</td>\n",
       "    </tr>\n",
       "    <tr>\n",
       "      <th>1</th>\n",
       "      <td>4303</td>\n",
       "      <td>2017</td>\n",
       "      <td>101</td>\n",
       "      <td>1000</td>\n",
       "      <td>2</td>\n",
       "      <td>292339</td>\n",
       "      <td>1178.0</td>\n",
       "      <td>0.0</td>\n",
       "      <td>0.0</td>\n",
       "      <td>0.0</td>\n",
       "      <td>241.0</td>\n",
       "      <td>998.0</td>\n",
       "      <td>9009.0</td>\n",
       "      <td>37295.0</td>\n",
       "      <td>155328.0</td>\n",
       "      <td>88271.0</td>\n",
       "      <td>19.0</td>\n",
       "    </tr>\n",
       "    <tr>\n",
       "      <th>2</th>\n",
       "      <td>4303</td>\n",
       "      <td>2017</td>\n",
       "      <td>101</td>\n",
       "      <td>1001</td>\n",
       "      <td>1</td>\n",
       "      <td>6198</td>\n",
       "      <td>41.0</td>\n",
       "      <td>0.0</td>\n",
       "      <td>0.0</td>\n",
       "      <td>0.0</td>\n",
       "      <td>29.0</td>\n",
       "      <td>65.0</td>\n",
       "      <td>3019.0</td>\n",
       "      <td>2670.0</td>\n",
       "      <td>358.0</td>\n",
       "      <td>15.0</td>\n",
       "      <td>1.0</td>\n",
       "    </tr>\n",
       "    <tr>\n",
       "      <th>3</th>\n",
       "      <td>4303</td>\n",
       "      <td>2017</td>\n",
       "      <td>101</td>\n",
       "      <td>1001</td>\n",
       "      <td>2</td>\n",
       "      <td>2516</td>\n",
       "      <td>29.0</td>\n",
       "      <td>0.0</td>\n",
       "      <td>0.0</td>\n",
       "      <td>0.0</td>\n",
       "      <td>19.0</td>\n",
       "      <td>51.0</td>\n",
       "      <td>1317.0</td>\n",
       "      <td>808.0</td>\n",
       "      <td>263.0</td>\n",
       "      <td>29.0</td>\n",
       "      <td>0.0</td>\n",
       "    </tr>\n",
       "    <tr>\n",
       "      <th>4</th>\n",
       "      <td>4303</td>\n",
       "      <td>2017</td>\n",
       "      <td>101</td>\n",
       "      <td>1002</td>\n",
       "      <td>1</td>\n",
       "      <td>0</td>\n",
       "      <td>0.0</td>\n",
       "      <td>0.0</td>\n",
       "      <td>0.0</td>\n",
       "      <td>0.0</td>\n",
       "      <td>0.0</td>\n",
       "      <td>0.0</td>\n",
       "      <td>0.0</td>\n",
       "      <td>0.0</td>\n",
       "      <td>0.0</td>\n",
       "      <td>0.0</td>\n",
       "      <td>0.0</td>\n",
       "    </tr>\n",
       "  </tbody>\n",
       "</table>\n",
       "</div>"
      ],
      "text/plain": [
       "   Country_code  Year  List Cause  Sex  Total_deaths  Mort_day0  Mort_day1_6  \\\n",
       "0          4303  2017   101  1000    1        281784     1608.0          0.0   \n",
       "1          4303  2017   101  1000    2        292339     1178.0          0.0   \n",
       "2          4303  2017   101  1001    1          6198       41.0          0.0   \n",
       "3          4303  2017   101  1001    2          2516       29.0          0.0   \n",
       "4          4303  2017   101  1002    1             0        0.0          0.0   \n",
       "\n",
       "   Mort_day7_27  Mort_day28_365  mort_1_4  mort_5_24  mort_25_44  mort_45_64  \\\n",
       "0           0.0             0.0     357.0     2593.0     26494.0     86787.0   \n",
       "1           0.0             0.0     241.0      998.0      9009.0     37295.0   \n",
       "2           0.0             0.0      29.0       65.0      3019.0      2670.0   \n",
       "3           0.0             0.0      19.0       51.0      1317.0       808.0   \n",
       "4           0.0             0.0       0.0        0.0         0.0         0.0   \n",
       "\n",
       "   mort_65_84  mort_85_95+  Deaths26  \n",
       "0    134693.0      29184.0      68.0  \n",
       "1    155328.0      88271.0      19.0  \n",
       "2       358.0         15.0       1.0  \n",
       "3       263.0         29.0       0.0  \n",
       "4         0.0          0.0       0.0  "
      ]
     },
     "execution_count": 10,
     "metadata": {},
     "output_type": "execute_result"
    }
   ],
   "source": [
    "morticd10_part5_df.head()"
   ]
  },
  {
   "cell_type": "code",
   "execution_count": 11,
   "metadata": {},
   "outputs": [
    {
     "data": {
      "text/html": [
       "<div>\n",
       "<style scoped>\n",
       "    .dataframe tbody tr th:only-of-type {\n",
       "        vertical-align: middle;\n",
       "    }\n",
       "\n",
       "    .dataframe tbody tr th {\n",
       "        vertical-align: top;\n",
       "    }\n",
       "\n",
       "    .dataframe thead th {\n",
       "        text-align: right;\n",
       "    }\n",
       "</style>\n",
       "<table border=\"1\" class=\"dataframe\">\n",
       "  <thead>\n",
       "    <tr style=\"text-align: right;\">\n",
       "      <th></th>\n",
       "      <th>Country_code</th>\n",
       "      <th>Year</th>\n",
       "      <th>List</th>\n",
       "      <th>Cause</th>\n",
       "      <th>Sex</th>\n",
       "      <th>Total_deaths</th>\n",
       "      <th>Mort_day0</th>\n",
       "      <th>Mort_day1_6</th>\n",
       "      <th>Mort_day7_27</th>\n",
       "      <th>Mort_day28_365</th>\n",
       "      <th>mort_1_4</th>\n",
       "      <th>mort_5_24</th>\n",
       "      <th>mort_25_44</th>\n",
       "      <th>mort_45_64</th>\n",
       "      <th>mort_65_84</th>\n",
       "      <th>mort_85_95+</th>\n",
       "      <th>Deaths26</th>\n",
       "    </tr>\n",
       "  </thead>\n",
       "  <tbody>\n",
       "    <tr>\n",
       "      <th>1023255</th>\n",
       "      <td>5020</td>\n",
       "      <td>2022</td>\n",
       "      <td>104</td>\n",
       "      <td>Y871</td>\n",
       "      <td>1</td>\n",
       "      <td>1</td>\n",
       "      <td>0.0</td>\n",
       "      <td>0.0</td>\n",
       "      <td>0.0</td>\n",
       "      <td>0.0</td>\n",
       "      <td>0.0</td>\n",
       "      <td>0.0</td>\n",
       "      <td>1.0</td>\n",
       "      <td>0.0</td>\n",
       "      <td>0.0</td>\n",
       "      <td>0.0</td>\n",
       "      <td>0.0</td>\n",
       "    </tr>\n",
       "    <tr>\n",
       "      <th>1023256</th>\n",
       "      <td>5020</td>\n",
       "      <td>2022</td>\n",
       "      <td>104</td>\n",
       "      <td>Y883</td>\n",
       "      <td>1</td>\n",
       "      <td>4</td>\n",
       "      <td>0.0</td>\n",
       "      <td>0.0</td>\n",
       "      <td>0.0</td>\n",
       "      <td>0.0</td>\n",
       "      <td>0.0</td>\n",
       "      <td>0.0</td>\n",
       "      <td>2.0</td>\n",
       "      <td>0.0</td>\n",
       "      <td>1.0</td>\n",
       "      <td>1.0</td>\n",
       "      <td>0.0</td>\n",
       "    </tr>\n",
       "    <tr>\n",
       "      <th>1023257</th>\n",
       "      <td>5020</td>\n",
       "      <td>2022</td>\n",
       "      <td>104</td>\n",
       "      <td>Y883</td>\n",
       "      <td>2</td>\n",
       "      <td>3</td>\n",
       "      <td>0.0</td>\n",
       "      <td>0.0</td>\n",
       "      <td>0.0</td>\n",
       "      <td>0.0</td>\n",
       "      <td>0.0</td>\n",
       "      <td>0.0</td>\n",
       "      <td>0.0</td>\n",
       "      <td>1.0</td>\n",
       "      <td>2.0</td>\n",
       "      <td>0.0</td>\n",
       "      <td>0.0</td>\n",
       "    </tr>\n",
       "    <tr>\n",
       "      <th>1023258</th>\n",
       "      <td>5020</td>\n",
       "      <td>2022</td>\n",
       "      <td>104</td>\n",
       "      <td>Y890</td>\n",
       "      <td>2</td>\n",
       "      <td>1</td>\n",
       "      <td>0.0</td>\n",
       "      <td>0.0</td>\n",
       "      <td>0.0</td>\n",
       "      <td>0.0</td>\n",
       "      <td>0.0</td>\n",
       "      <td>1.0</td>\n",
       "      <td>0.0</td>\n",
       "      <td>0.0</td>\n",
       "      <td>0.0</td>\n",
       "      <td>0.0</td>\n",
       "      <td>0.0</td>\n",
       "    </tr>\n",
       "    <tr>\n",
       "      <th>1023259</th>\n",
       "      <td>5020</td>\n",
       "      <td>2022</td>\n",
       "      <td>104</td>\n",
       "      <td>Y899</td>\n",
       "      <td>1</td>\n",
       "      <td>1</td>\n",
       "      <td>0.0</td>\n",
       "      <td>0.0</td>\n",
       "      <td>0.0</td>\n",
       "      <td>0.0</td>\n",
       "      <td>0.0</td>\n",
       "      <td>0.0</td>\n",
       "      <td>0.0</td>\n",
       "      <td>0.0</td>\n",
       "      <td>0.0</td>\n",
       "      <td>1.0</td>\n",
       "      <td>0.0</td>\n",
       "    </tr>\n",
       "  </tbody>\n",
       "</table>\n",
       "</div>"
      ],
      "text/plain": [
       "         Country_code  Year  List Cause  Sex  Total_deaths  Mort_day0  \\\n",
       "1023255          5020  2022   104  Y871    1             1        0.0   \n",
       "1023256          5020  2022   104  Y883    1             4        0.0   \n",
       "1023257          5020  2022   104  Y883    2             3        0.0   \n",
       "1023258          5020  2022   104  Y890    2             1        0.0   \n",
       "1023259          5020  2022   104  Y899    1             1        0.0   \n",
       "\n",
       "         Mort_day1_6  Mort_day7_27  Mort_day28_365  mort_1_4  mort_5_24  \\\n",
       "1023255          0.0           0.0             0.0       0.0        0.0   \n",
       "1023256          0.0           0.0             0.0       0.0        0.0   \n",
       "1023257          0.0           0.0             0.0       0.0        0.0   \n",
       "1023258          0.0           0.0             0.0       0.0        1.0   \n",
       "1023259          0.0           0.0             0.0       0.0        0.0   \n",
       "\n",
       "         mort_25_44  mort_45_64  mort_65_84  mort_85_95+  Deaths26  \n",
       "1023255         1.0         0.0         0.0          0.0       0.0  \n",
       "1023256         2.0         0.0         1.0          1.0       0.0  \n",
       "1023257         0.0         1.0         2.0          0.0       0.0  \n",
       "1023258         0.0         0.0         0.0          0.0       0.0  \n",
       "1023259         0.0         0.0         0.0          1.0       0.0  "
      ]
     },
     "execution_count": 11,
     "metadata": {},
     "output_type": "execute_result"
    }
   ],
   "source": [
    "morticd10_part5_df.tail()"
   ]
  },
  {
   "cell_type": "code",
   "execution_count": 12,
   "metadata": {},
   "outputs": [
    {
     "data": {
      "text/html": [
       "<div>\n",
       "<style scoped>\n",
       "    .dataframe tbody tr th:only-of-type {\n",
       "        vertical-align: middle;\n",
       "    }\n",
       "\n",
       "    .dataframe tbody tr th {\n",
       "        vertical-align: top;\n",
       "    }\n",
       "\n",
       "    .dataframe thead th {\n",
       "        text-align: right;\n",
       "    }\n",
       "</style>\n",
       "<table border=\"1\" class=\"dataframe\">\n",
       "  <thead>\n",
       "    <tr style=\"text-align: right;\">\n",
       "      <th></th>\n",
       "      <th>Country_code</th>\n",
       "      <th>Year</th>\n",
       "      <th>List</th>\n",
       "      <th>Sex</th>\n",
       "      <th>Total_deaths</th>\n",
       "      <th>Mort_day0</th>\n",
       "      <th>Mort_day1_6</th>\n",
       "      <th>Mort_day7_27</th>\n",
       "      <th>Mort_day28_365</th>\n",
       "      <th>mort_1_4</th>\n",
       "      <th>mort_5_24</th>\n",
       "      <th>mort_25_44</th>\n",
       "      <th>mort_45_64</th>\n",
       "      <th>mort_65_84</th>\n",
       "      <th>mort_85_95+</th>\n",
       "      <th>Deaths26</th>\n",
       "    </tr>\n",
       "  </thead>\n",
       "  <tbody>\n",
       "    <tr>\n",
       "      <th>count</th>\n",
       "      <td>1.023260e+06</td>\n",
       "      <td>1.023260e+06</td>\n",
       "      <td>1.023260e+06</td>\n",
       "      <td>1.023260e+06</td>\n",
       "      <td>1.023260e+06</td>\n",
       "      <td>1.023260e+06</td>\n",
       "      <td>1.023260e+06</td>\n",
       "      <td>1.023260e+06</td>\n",
       "      <td>1.023260e+06</td>\n",
       "      <td>1.023260e+06</td>\n",
       "      <td>1.023260e+06</td>\n",
       "      <td>1.023260e+06</td>\n",
       "      <td>1.023260e+06</td>\n",
       "      <td>1.023260e+06</td>\n",
       "      <td>1.023260e+06</td>\n",
       "      <td>1.023260e+06</td>\n",
       "    </tr>\n",
       "    <tr>\n",
       "      <th>mean</th>\n",
       "      <td>3.330242e+03</td>\n",
       "      <td>2.018914e+03</td>\n",
       "      <td>1.039318e+02</td>\n",
       "      <td>1.513440e+00</td>\n",
       "      <td>1.857104e+02</td>\n",
       "      <td>8.273479e-01</td>\n",
       "      <td>3.952221e-01</td>\n",
       "      <td>3.060483e-01</td>\n",
       "      <td>6.313772e-01</td>\n",
       "      <td>4.940220e-01</td>\n",
       "      <td>2.809164e+00</td>\n",
       "      <td>1.010587e+01</td>\n",
       "      <td>3.435569e+01</td>\n",
       "      <td>8.171510e+01</td>\n",
       "      <td>5.351241e+01</td>\n",
       "      <td>1.788304e-01</td>\n",
       "    </tr>\n",
       "    <tr>\n",
       "      <th>std</th>\n",
       "      <td>9.656538e+02</td>\n",
       "      <td>1.460590e+00</td>\n",
       "      <td>2.947823e-01</td>\n",
       "      <td>7.180351e-01</td>\n",
       "      <td>7.310517e+03</td>\n",
       "      <td>5.061027e+01</td>\n",
       "      <td>2.087597e+01</td>\n",
       "      <td>1.785351e+01</td>\n",
       "      <td>3.636003e+01</td>\n",
       "      <td>2.360656e+01</td>\n",
       "      <td>1.472108e+02</td>\n",
       "      <td>5.019237e+02</td>\n",
       "      <td>1.508388e+03</td>\n",
       "      <td>3.238104e+03</td>\n",
       "      <td>2.324742e+03</td>\n",
       "      <td>1.345978e+01</td>\n",
       "    </tr>\n",
       "    <tr>\n",
       "      <th>min</th>\n",
       "      <td>1.125000e+03</td>\n",
       "      <td>2.017000e+03</td>\n",
       "      <td>1.010000e+02</td>\n",
       "      <td>1.000000e+00</td>\n",
       "      <td>0.000000e+00</td>\n",
       "      <td>0.000000e+00</td>\n",
       "      <td>0.000000e+00</td>\n",
       "      <td>0.000000e+00</td>\n",
       "      <td>-3.000000e+00</td>\n",
       "      <td>0.000000e+00</td>\n",
       "      <td>0.000000e+00</td>\n",
       "      <td>0.000000e+00</td>\n",
       "      <td>0.000000e+00</td>\n",
       "      <td>0.000000e+00</td>\n",
       "      <td>0.000000e+00</td>\n",
       "      <td>0.000000e+00</td>\n",
       "    </tr>\n",
       "    <tr>\n",
       "      <th>25%</th>\n",
       "      <td>2.310000e+03</td>\n",
       "      <td>2.018000e+03</td>\n",
       "      <td>1.040000e+02</td>\n",
       "      <td>1.000000e+00</td>\n",
       "      <td>1.000000e+00</td>\n",
       "      <td>0.000000e+00</td>\n",
       "      <td>0.000000e+00</td>\n",
       "      <td>0.000000e+00</td>\n",
       "      <td>0.000000e+00</td>\n",
       "      <td>0.000000e+00</td>\n",
       "      <td>0.000000e+00</td>\n",
       "      <td>0.000000e+00</td>\n",
       "      <td>0.000000e+00</td>\n",
       "      <td>0.000000e+00</td>\n",
       "      <td>0.000000e+00</td>\n",
       "      <td>0.000000e+00</td>\n",
       "    </tr>\n",
       "    <tr>\n",
       "      <th>50%</th>\n",
       "      <td>3.400000e+03</td>\n",
       "      <td>2.019000e+03</td>\n",
       "      <td>1.040000e+02</td>\n",
       "      <td>1.000000e+00</td>\n",
       "      <td>3.000000e+00</td>\n",
       "      <td>0.000000e+00</td>\n",
       "      <td>0.000000e+00</td>\n",
       "      <td>0.000000e+00</td>\n",
       "      <td>0.000000e+00</td>\n",
       "      <td>0.000000e+00</td>\n",
       "      <td>0.000000e+00</td>\n",
       "      <td>0.000000e+00</td>\n",
       "      <td>1.000000e+00</td>\n",
       "      <td>1.000000e+00</td>\n",
       "      <td>0.000000e+00</td>\n",
       "      <td>0.000000e+00</td>\n",
       "    </tr>\n",
       "    <tr>\n",
       "      <th>75%</th>\n",
       "      <td>4.186000e+03</td>\n",
       "      <td>2.020000e+03</td>\n",
       "      <td>1.040000e+02</td>\n",
       "      <td>2.000000e+00</td>\n",
       "      <td>1.300000e+01</td>\n",
       "      <td>0.000000e+00</td>\n",
       "      <td>0.000000e+00</td>\n",
       "      <td>0.000000e+00</td>\n",
       "      <td>0.000000e+00</td>\n",
       "      <td>0.000000e+00</td>\n",
       "      <td>0.000000e+00</td>\n",
       "      <td>1.000000e+00</td>\n",
       "      <td>2.000000e+00</td>\n",
       "      <td>5.000000e+00</td>\n",
       "      <td>2.000000e+00</td>\n",
       "      <td>0.000000e+00</td>\n",
       "    </tr>\n",
       "    <tr>\n",
       "      <th>max</th>\n",
       "      <td>5.198000e+03</td>\n",
       "      <td>2.022000e+03</td>\n",
       "      <td>1.040000e+02</td>\n",
       "      <td>9.000000e+00</td>\n",
       "      <td>1.838108e+06</td>\n",
       "      <td>1.984600e+04</td>\n",
       "      <td>5.676000e+03</td>\n",
       "      <td>5.954000e+03</td>\n",
       "      <td>1.065800e+04</td>\n",
       "      <td>6.046000e+03</td>\n",
       "      <td>4.692900e+04</td>\n",
       "      <td>1.394990e+05</td>\n",
       "      <td>4.287350e+05</td>\n",
       "      <td>8.513300e+05</td>\n",
       "      <td>6.178850e+05</td>\n",
       "      <td>3.863000e+03</td>\n",
       "    </tr>\n",
       "  </tbody>\n",
       "</table>\n",
       "</div>"
      ],
      "text/plain": [
       "       Country_code          Year          List           Sex  Total_deaths  \\\n",
       "count  1.023260e+06  1.023260e+06  1.023260e+06  1.023260e+06  1.023260e+06   \n",
       "mean   3.330242e+03  2.018914e+03  1.039318e+02  1.513440e+00  1.857104e+02   \n",
       "std    9.656538e+02  1.460590e+00  2.947823e-01  7.180351e-01  7.310517e+03   \n",
       "min    1.125000e+03  2.017000e+03  1.010000e+02  1.000000e+00  0.000000e+00   \n",
       "25%    2.310000e+03  2.018000e+03  1.040000e+02  1.000000e+00  1.000000e+00   \n",
       "50%    3.400000e+03  2.019000e+03  1.040000e+02  1.000000e+00  3.000000e+00   \n",
       "75%    4.186000e+03  2.020000e+03  1.040000e+02  2.000000e+00  1.300000e+01   \n",
       "max    5.198000e+03  2.022000e+03  1.040000e+02  9.000000e+00  1.838108e+06   \n",
       "\n",
       "          Mort_day0   Mort_day1_6  Mort_day7_27  Mort_day28_365      mort_1_4  \\\n",
       "count  1.023260e+06  1.023260e+06  1.023260e+06    1.023260e+06  1.023260e+06   \n",
       "mean   8.273479e-01  3.952221e-01  3.060483e-01    6.313772e-01  4.940220e-01   \n",
       "std    5.061027e+01  2.087597e+01  1.785351e+01    3.636003e+01  2.360656e+01   \n",
       "min    0.000000e+00  0.000000e+00  0.000000e+00   -3.000000e+00  0.000000e+00   \n",
       "25%    0.000000e+00  0.000000e+00  0.000000e+00    0.000000e+00  0.000000e+00   \n",
       "50%    0.000000e+00  0.000000e+00  0.000000e+00    0.000000e+00  0.000000e+00   \n",
       "75%    0.000000e+00  0.000000e+00  0.000000e+00    0.000000e+00  0.000000e+00   \n",
       "max    1.984600e+04  5.676000e+03  5.954000e+03    1.065800e+04  6.046000e+03   \n",
       "\n",
       "          mort_5_24    mort_25_44    mort_45_64    mort_65_84   mort_85_95+  \\\n",
       "count  1.023260e+06  1.023260e+06  1.023260e+06  1.023260e+06  1.023260e+06   \n",
       "mean   2.809164e+00  1.010587e+01  3.435569e+01  8.171510e+01  5.351241e+01   \n",
       "std    1.472108e+02  5.019237e+02  1.508388e+03  3.238104e+03  2.324742e+03   \n",
       "min    0.000000e+00  0.000000e+00  0.000000e+00  0.000000e+00  0.000000e+00   \n",
       "25%    0.000000e+00  0.000000e+00  0.000000e+00  0.000000e+00  0.000000e+00   \n",
       "50%    0.000000e+00  0.000000e+00  1.000000e+00  1.000000e+00  0.000000e+00   \n",
       "75%    0.000000e+00  1.000000e+00  2.000000e+00  5.000000e+00  2.000000e+00   \n",
       "max    4.692900e+04  1.394990e+05  4.287350e+05  8.513300e+05  6.178850e+05   \n",
       "\n",
       "           Deaths26  \n",
       "count  1.023260e+06  \n",
       "mean   1.788304e-01  \n",
       "std    1.345978e+01  \n",
       "min    0.000000e+00  \n",
       "25%    0.000000e+00  \n",
       "50%    0.000000e+00  \n",
       "75%    0.000000e+00  \n",
       "max    3.863000e+03  "
      ]
     },
     "execution_count": 12,
     "metadata": {},
     "output_type": "execute_result"
    }
   ],
   "source": [
    "morticd10_part5_df.describe()"
   ]
  },
  {
   "cell_type": "code",
   "execution_count": 13,
   "metadata": {},
   "outputs": [
    {
     "data": {
      "text/plain": [
       "Index(['Country_code', 'Year', 'List', 'Cause', 'Sex', 'Total_deaths',\n",
       "       'Mort_day0', 'Mort_day1_6', 'Mort_day7_27', 'Mort_day28_365',\n",
       "       'mort_1_4', 'mort_5_24', 'mort_25_44', 'mort_45_64', 'mort_65_84',\n",
       "       'mort_85_95+', 'Deaths26'],\n",
       "      dtype='object')"
      ]
     },
     "execution_count": 13,
     "metadata": {},
     "output_type": "execute_result"
    }
   ],
   "source": [
    "part5_cols = morticd10_part5_df.columns\n",
    "part5_cols"
   ]
  },
  {
   "cell_type": "code",
   "execution_count": 14,
   "metadata": {},
   "outputs": [
    {
     "data": {
      "text/plain": [
       "Index(['Country', 'Year', 'List', 'Cause', 'Sex', 'Deaths1', 'IM_Deaths1',\n",
       "       'IM_Deaths2', 'IM_Deaths3', 'IM_Deaths4', 'mort_1_4', 'mort_5_24',\n",
       "       'mort_25_44', 'mort_45_64', 'mort_65_84', 'mort_85_95+', 'Deaths26'],\n",
       "      dtype='object')"
      ]
     },
     "execution_count": 14,
     "metadata": {},
     "output_type": "execute_result"
    }
   ],
   "source": [
    "part4_cols = morticd10_part4_df.columns\n",
    "part4_cols"
   ]
  },
  {
   "cell_type": "code",
   "execution_count": 15,
   "metadata": {},
   "outputs": [
    {
     "data": {
      "text/html": [
       "<div>\n",
       "<style scoped>\n",
       "    .dataframe tbody tr th:only-of-type {\n",
       "        vertical-align: middle;\n",
       "    }\n",
       "\n",
       "    .dataframe tbody tr th {\n",
       "        vertical-align: top;\n",
       "    }\n",
       "\n",
       "    .dataframe thead th {\n",
       "        text-align: right;\n",
       "    }\n",
       "</style>\n",
       "<table border=\"1\" class=\"dataframe\">\n",
       "  <thead>\n",
       "    <tr style=\"text-align: right;\">\n",
       "      <th></th>\n",
       "      <th>Country_code</th>\n",
       "      <th>Year</th>\n",
       "      <th>List</th>\n",
       "      <th>Cause</th>\n",
       "      <th>Sex</th>\n",
       "      <th>Total_deaths</th>\n",
       "      <th>Mort_day0</th>\n",
       "      <th>Mort_day1_6</th>\n",
       "      <th>Mort_day7_27</th>\n",
       "      <th>Mort_day28_365</th>\n",
       "      <th>mort_1_4</th>\n",
       "      <th>mort_5_24</th>\n",
       "      <th>mort_25_44</th>\n",
       "      <th>mort_45_64</th>\n",
       "      <th>mort_65_84</th>\n",
       "      <th>mort_85_95+</th>\n",
       "      <th>Deaths26</th>\n",
       "    </tr>\n",
       "  </thead>\n",
       "  <tbody>\n",
       "    <tr>\n",
       "      <th>0</th>\n",
       "      <td>1400</td>\n",
       "      <td>2013</td>\n",
       "      <td>101</td>\n",
       "      <td>1000</td>\n",
       "      <td>1</td>\n",
       "      <td>383</td>\n",
       "      <td>5.0</td>\n",
       "      <td>1.0</td>\n",
       "      <td>2.0</td>\n",
       "      <td>4.0</td>\n",
       "      <td>0.0</td>\n",
       "      <td>6.0</td>\n",
       "      <td>44.0</td>\n",
       "      <td>103.0</td>\n",
       "      <td>218.0</td>\n",
       "      <td>0.0</td>\n",
       "      <td>0.0</td>\n",
       "    </tr>\n",
       "    <tr>\n",
       "      <th>1</th>\n",
       "      <td>1400</td>\n",
       "      <td>2013</td>\n",
       "      <td>101</td>\n",
       "      <td>1000</td>\n",
       "      <td>2</td>\n",
       "      <td>334</td>\n",
       "      <td>2.0</td>\n",
       "      <td>7.0</td>\n",
       "      <td>3.0</td>\n",
       "      <td>5.0</td>\n",
       "      <td>2.0</td>\n",
       "      <td>3.0</td>\n",
       "      <td>20.0</td>\n",
       "      <td>60.0</td>\n",
       "      <td>232.0</td>\n",
       "      <td>0.0</td>\n",
       "      <td>0.0</td>\n",
       "    </tr>\n",
       "    <tr>\n",
       "      <th>2</th>\n",
       "      <td>1400</td>\n",
       "      <td>2013</td>\n",
       "      <td>101</td>\n",
       "      <td>1001</td>\n",
       "      <td>1</td>\n",
       "      <td>28</td>\n",
       "      <td>0.0</td>\n",
       "      <td>0.0</td>\n",
       "      <td>0.0</td>\n",
       "      <td>0.0</td>\n",
       "      <td>0.0</td>\n",
       "      <td>0.0</td>\n",
       "      <td>6.0</td>\n",
       "      <td>11.0</td>\n",
       "      <td>11.0</td>\n",
       "      <td>0.0</td>\n",
       "      <td>0.0</td>\n",
       "    </tr>\n",
       "    <tr>\n",
       "      <th>3</th>\n",
       "      <td>1400</td>\n",
       "      <td>2013</td>\n",
       "      <td>101</td>\n",
       "      <td>1001</td>\n",
       "      <td>2</td>\n",
       "      <td>30</td>\n",
       "      <td>0.0</td>\n",
       "      <td>2.0</td>\n",
       "      <td>2.0</td>\n",
       "      <td>1.0</td>\n",
       "      <td>0.0</td>\n",
       "      <td>0.0</td>\n",
       "      <td>0.0</td>\n",
       "      <td>6.0</td>\n",
       "      <td>19.0</td>\n",
       "      <td>0.0</td>\n",
       "      <td>0.0</td>\n",
       "    </tr>\n",
       "    <tr>\n",
       "      <th>4</th>\n",
       "      <td>1400</td>\n",
       "      <td>2013</td>\n",
       "      <td>101</td>\n",
       "      <td>1002</td>\n",
       "      <td>1</td>\n",
       "      <td>0</td>\n",
       "      <td>0.0</td>\n",
       "      <td>0.0</td>\n",
       "      <td>0.0</td>\n",
       "      <td>0.0</td>\n",
       "      <td>0.0</td>\n",
       "      <td>0.0</td>\n",
       "      <td>0.0</td>\n",
       "      <td>0.0</td>\n",
       "      <td>0.0</td>\n",
       "      <td>0.0</td>\n",
       "      <td>0.0</td>\n",
       "    </tr>\n",
       "    <tr>\n",
       "      <th>...</th>\n",
       "      <td>...</td>\n",
       "      <td>...</td>\n",
       "      <td>...</td>\n",
       "      <td>...</td>\n",
       "      <td>...</td>\n",
       "      <td>...</td>\n",
       "      <td>...</td>\n",
       "      <td>...</td>\n",
       "      <td>...</td>\n",
       "      <td>...</td>\n",
       "      <td>...</td>\n",
       "      <td>...</td>\n",
       "      <td>...</td>\n",
       "      <td>...</td>\n",
       "      <td>...</td>\n",
       "      <td>...</td>\n",
       "      <td>...</td>\n",
       "    </tr>\n",
       "    <tr>\n",
       "      <th>880537</th>\n",
       "      <td>5020</td>\n",
       "      <td>2016</td>\n",
       "      <td>104</td>\n",
       "      <td>Y870</td>\n",
       "      <td>2</td>\n",
       "      <td>2</td>\n",
       "      <td>0.0</td>\n",
       "      <td>0.0</td>\n",
       "      <td>0.0</td>\n",
       "      <td>0.0</td>\n",
       "      <td>0.0</td>\n",
       "      <td>0.0</td>\n",
       "      <td>1.0</td>\n",
       "      <td>1.0</td>\n",
       "      <td>0.0</td>\n",
       "      <td>0.0</td>\n",
       "      <td>0.0</td>\n",
       "    </tr>\n",
       "    <tr>\n",
       "      <th>880538</th>\n",
       "      <td>5020</td>\n",
       "      <td>2016</td>\n",
       "      <td>104</td>\n",
       "      <td>Y883</td>\n",
       "      <td>1</td>\n",
       "      <td>6</td>\n",
       "      <td>0.0</td>\n",
       "      <td>0.0</td>\n",
       "      <td>0.0</td>\n",
       "      <td>0.0</td>\n",
       "      <td>0.0</td>\n",
       "      <td>0.0</td>\n",
       "      <td>0.0</td>\n",
       "      <td>2.0</td>\n",
       "      <td>3.0</td>\n",
       "      <td>1.0</td>\n",
       "      <td>0.0</td>\n",
       "    </tr>\n",
       "    <tr>\n",
       "      <th>880539</th>\n",
       "      <td>5020</td>\n",
       "      <td>2016</td>\n",
       "      <td>104</td>\n",
       "      <td>Y883</td>\n",
       "      <td>2</td>\n",
       "      <td>7</td>\n",
       "      <td>0.0</td>\n",
       "      <td>0.0</td>\n",
       "      <td>0.0</td>\n",
       "      <td>0.0</td>\n",
       "      <td>0.0</td>\n",
       "      <td>0.0</td>\n",
       "      <td>0.0</td>\n",
       "      <td>1.0</td>\n",
       "      <td>3.0</td>\n",
       "      <td>3.0</td>\n",
       "      <td>0.0</td>\n",
       "    </tr>\n",
       "    <tr>\n",
       "      <th>880540</th>\n",
       "      <td>5020</td>\n",
       "      <td>2016</td>\n",
       "      <td>104</td>\n",
       "      <td>Y899</td>\n",
       "      <td>1</td>\n",
       "      <td>6</td>\n",
       "      <td>0.0</td>\n",
       "      <td>0.0</td>\n",
       "      <td>0.0</td>\n",
       "      <td>0.0</td>\n",
       "      <td>0.0</td>\n",
       "      <td>0.0</td>\n",
       "      <td>0.0</td>\n",
       "      <td>2.0</td>\n",
       "      <td>2.0</td>\n",
       "      <td>2.0</td>\n",
       "      <td>0.0</td>\n",
       "    </tr>\n",
       "    <tr>\n",
       "      <th>880541</th>\n",
       "      <td>5020</td>\n",
       "      <td>2016</td>\n",
       "      <td>104</td>\n",
       "      <td>Y899</td>\n",
       "      <td>2</td>\n",
       "      <td>2</td>\n",
       "      <td>0.0</td>\n",
       "      <td>0.0</td>\n",
       "      <td>0.0</td>\n",
       "      <td>0.0</td>\n",
       "      <td>0.0</td>\n",
       "      <td>0.0</td>\n",
       "      <td>0.0</td>\n",
       "      <td>0.0</td>\n",
       "      <td>2.0</td>\n",
       "      <td>0.0</td>\n",
       "      <td>0.0</td>\n",
       "    </tr>\n",
       "  </tbody>\n",
       "</table>\n",
       "<p>880542 rows × 17 columns</p>\n",
       "</div>"
      ],
      "text/plain": [
       "        Country_code  Year  List Cause  Sex  Total_deaths  Mort_day0  \\\n",
       "0               1400  2013   101  1000    1           383        5.0   \n",
       "1               1400  2013   101  1000    2           334        2.0   \n",
       "2               1400  2013   101  1001    1            28        0.0   \n",
       "3               1400  2013   101  1001    2            30        0.0   \n",
       "4               1400  2013   101  1002    1             0        0.0   \n",
       "...              ...   ...   ...   ...  ...           ...        ...   \n",
       "880537          5020  2016   104  Y870    2             2        0.0   \n",
       "880538          5020  2016   104  Y883    1             6        0.0   \n",
       "880539          5020  2016   104  Y883    2             7        0.0   \n",
       "880540          5020  2016   104  Y899    1             6        0.0   \n",
       "880541          5020  2016   104  Y899    2             2        0.0   \n",
       "\n",
       "        Mort_day1_6  Mort_day7_27  Mort_day28_365  mort_1_4  mort_5_24  \\\n",
       "0               1.0           2.0             4.0       0.0        6.0   \n",
       "1               7.0           3.0             5.0       2.0        3.0   \n",
       "2               0.0           0.0             0.0       0.0        0.0   \n",
       "3               2.0           2.0             1.0       0.0        0.0   \n",
       "4               0.0           0.0             0.0       0.0        0.0   \n",
       "...             ...           ...             ...       ...        ...   \n",
       "880537          0.0           0.0             0.0       0.0        0.0   \n",
       "880538          0.0           0.0             0.0       0.0        0.0   \n",
       "880539          0.0           0.0             0.0       0.0        0.0   \n",
       "880540          0.0           0.0             0.0       0.0        0.0   \n",
       "880541          0.0           0.0             0.0       0.0        0.0   \n",
       "\n",
       "        mort_25_44  mort_45_64  mort_65_84  mort_85_95+  Deaths26  \n",
       "0             44.0       103.0       218.0          0.0       0.0  \n",
       "1             20.0        60.0       232.0          0.0       0.0  \n",
       "2              6.0        11.0        11.0          0.0       0.0  \n",
       "3              0.0         6.0        19.0          0.0       0.0  \n",
       "4              0.0         0.0         0.0          0.0       0.0  \n",
       "...            ...         ...         ...          ...       ...  \n",
       "880537         1.0         1.0         0.0          0.0       0.0  \n",
       "880538         0.0         2.0         3.0          1.0       0.0  \n",
       "880539         0.0         1.0         3.0          3.0       0.0  \n",
       "880540         0.0         2.0         2.0          2.0       0.0  \n",
       "880541         0.0         0.0         2.0          0.0       0.0  \n",
       "\n",
       "[880542 rows x 17 columns]"
      ]
     },
     "execution_count": 15,
     "metadata": {},
     "output_type": "execute_result"
    }
   ],
   "source": [
    "# Renaming some columns for part4\n",
    "morticd10_part4_df= morticd10_part4_df.rename(columns = {'Country' : 'Country_code',\n",
    "                                                      'Deaths1' : \"Total_deaths\", 'IM_Deaths1' : 'Mort_day0',\n",
    "                                                      'IM_Deaths2' : 'Mort_day1_6' , \n",
    "                                                      'IM_Deaths3' : 'Mort_day7_27',\n",
    "                                                      'IM_Deaths4': 'Mort_day28_365'})\n",
    "morticd10_part4_df"
   ]
  },
  {
   "cell_type": "markdown",
   "metadata": {},
   "source": [
    "### Section to determine the most deadly causes.Keepking only the Total_deaths column together with Country_code, Year, list, Cause, Sex \n"
   ]
  },
  {
   "cell_type": "code",
   "execution_count": 16,
   "metadata": {},
   "outputs": [
    {
     "data": {
      "text/plain": [
       "Index(['Country_code', 'Year', 'List', 'Cause', 'Sex', 'Total_deaths',\n",
       "       'Mort_day0', 'Mort_day1_6', 'Mort_day7_27', 'Mort_day28_365',\n",
       "       'mort_1_4', 'mort_5_24', 'mort_25_44', 'mort_45_64', 'mort_65_84',\n",
       "       'mort_85_95+', 'Deaths26'],\n",
       "      dtype='object')"
      ]
     },
     "execution_count": 16,
     "metadata": {},
     "output_type": "execute_result"
    }
   ],
   "source": [
    "part4_cols = morticd10_part4_df.columns\n",
    "part4_cols"
   ]
  },
  {
   "cell_type": "code",
   "execution_count": 17,
   "metadata": {},
   "outputs": [
    {
     "data": {
      "text/html": [
       "<div>\n",
       "<style scoped>\n",
       "    .dataframe tbody tr th:only-of-type {\n",
       "        vertical-align: middle;\n",
       "    }\n",
       "\n",
       "    .dataframe tbody tr th {\n",
       "        vertical-align: top;\n",
       "    }\n",
       "\n",
       "    .dataframe thead th {\n",
       "        text-align: right;\n",
       "    }\n",
       "</style>\n",
       "<table border=\"1\" class=\"dataframe\">\n",
       "  <thead>\n",
       "    <tr style=\"text-align: right;\">\n",
       "      <th></th>\n",
       "      <th>Country_code</th>\n",
       "      <th>Year</th>\n",
       "      <th>Cause</th>\n",
       "      <th>Sex</th>\n",
       "      <th>Total_deaths</th>\n",
       "    </tr>\n",
       "  </thead>\n",
       "  <tbody>\n",
       "    <tr>\n",
       "      <th>0</th>\n",
       "      <td>1400</td>\n",
       "      <td>2013</td>\n",
       "      <td>1000</td>\n",
       "      <td>1</td>\n",
       "      <td>383</td>\n",
       "    </tr>\n",
       "    <tr>\n",
       "      <th>1</th>\n",
       "      <td>1400</td>\n",
       "      <td>2013</td>\n",
       "      <td>1000</td>\n",
       "      <td>2</td>\n",
       "      <td>334</td>\n",
       "    </tr>\n",
       "    <tr>\n",
       "      <th>2</th>\n",
       "      <td>1400</td>\n",
       "      <td>2013</td>\n",
       "      <td>1001</td>\n",
       "      <td>1</td>\n",
       "      <td>28</td>\n",
       "    </tr>\n",
       "    <tr>\n",
       "      <th>3</th>\n",
       "      <td>1400</td>\n",
       "      <td>2013</td>\n",
       "      <td>1001</td>\n",
       "      <td>2</td>\n",
       "      <td>30</td>\n",
       "    </tr>\n",
       "    <tr>\n",
       "      <th>4</th>\n",
       "      <td>1400</td>\n",
       "      <td>2013</td>\n",
       "      <td>1002</td>\n",
       "      <td>1</td>\n",
       "      <td>0</td>\n",
       "    </tr>\n",
       "    <tr>\n",
       "      <th>...</th>\n",
       "      <td>...</td>\n",
       "      <td>...</td>\n",
       "      <td>...</td>\n",
       "      <td>...</td>\n",
       "      <td>...</td>\n",
       "    </tr>\n",
       "    <tr>\n",
       "      <th>880537</th>\n",
       "      <td>5020</td>\n",
       "      <td>2016</td>\n",
       "      <td>Y870</td>\n",
       "      <td>2</td>\n",
       "      <td>2</td>\n",
       "    </tr>\n",
       "    <tr>\n",
       "      <th>880538</th>\n",
       "      <td>5020</td>\n",
       "      <td>2016</td>\n",
       "      <td>Y883</td>\n",
       "      <td>1</td>\n",
       "      <td>6</td>\n",
       "    </tr>\n",
       "    <tr>\n",
       "      <th>880539</th>\n",
       "      <td>5020</td>\n",
       "      <td>2016</td>\n",
       "      <td>Y883</td>\n",
       "      <td>2</td>\n",
       "      <td>7</td>\n",
       "    </tr>\n",
       "    <tr>\n",
       "      <th>880540</th>\n",
       "      <td>5020</td>\n",
       "      <td>2016</td>\n",
       "      <td>Y899</td>\n",
       "      <td>1</td>\n",
       "      <td>6</td>\n",
       "    </tr>\n",
       "    <tr>\n",
       "      <th>880541</th>\n",
       "      <td>5020</td>\n",
       "      <td>2016</td>\n",
       "      <td>Y899</td>\n",
       "      <td>2</td>\n",
       "      <td>2</td>\n",
       "    </tr>\n",
       "  </tbody>\n",
       "</table>\n",
       "<p>880542 rows × 5 columns</p>\n",
       "</div>"
      ],
      "text/plain": [
       "        Country_code  Year Cause  Sex  Total_deaths\n",
       "0               1400  2013  1000    1           383\n",
       "1               1400  2013  1000    2           334\n",
       "2               1400  2013  1001    1            28\n",
       "3               1400  2013  1001    2            30\n",
       "4               1400  2013  1002    1             0\n",
       "...              ...   ...   ...  ...           ...\n",
       "880537          5020  2016  Y870    2             2\n",
       "880538          5020  2016  Y883    1             6\n",
       "880539          5020  2016  Y883    2             7\n",
       "880540          5020  2016  Y899    1             6\n",
       "880541          5020  2016  Y899    2             2\n",
       "\n",
       "[880542 rows x 5 columns]"
      ]
     },
     "execution_count": 17,
     "metadata": {},
     "output_type": "execute_result"
    }
   ],
   "source": [
    "#Keeping only desired columns to study the total deaths per cause\n",
    "morticd10_part4_totaldeath_df = morticd10_part4_df[['Country_code', 'Year', 'Cause', 'Sex', 'Total_deaths']]\n",
    "morticd10_part4_totaldeath_df"
   ]
  },
  {
   "cell_type": "code",
   "execution_count": 18,
   "metadata": {},
   "outputs": [
    {
     "data": {
      "text/html": [
       "<div>\n",
       "<style scoped>\n",
       "    .dataframe tbody tr th:only-of-type {\n",
       "        vertical-align: middle;\n",
       "    }\n",
       "\n",
       "    .dataframe tbody tr th {\n",
       "        vertical-align: top;\n",
       "    }\n",
       "\n",
       "    .dataframe thead th {\n",
       "        text-align: right;\n",
       "    }\n",
       "</style>\n",
       "<table border=\"1\" class=\"dataframe\">\n",
       "  <thead>\n",
       "    <tr style=\"text-align: right;\">\n",
       "      <th></th>\n",
       "      <th>Country_code</th>\n",
       "      <th>Year</th>\n",
       "      <th>Cause</th>\n",
       "      <th>Sex</th>\n",
       "      <th>Total_deaths</th>\n",
       "    </tr>\n",
       "  </thead>\n",
       "  <tbody>\n",
       "    <tr>\n",
       "      <th>0</th>\n",
       "      <td>4303</td>\n",
       "      <td>2017</td>\n",
       "      <td>1000</td>\n",
       "      <td>1</td>\n",
       "      <td>281784</td>\n",
       "    </tr>\n",
       "    <tr>\n",
       "      <th>1</th>\n",
       "      <td>4303</td>\n",
       "      <td>2017</td>\n",
       "      <td>1000</td>\n",
       "      <td>2</td>\n",
       "      <td>292339</td>\n",
       "    </tr>\n",
       "    <tr>\n",
       "      <th>2</th>\n",
       "      <td>4303</td>\n",
       "      <td>2017</td>\n",
       "      <td>1001</td>\n",
       "      <td>1</td>\n",
       "      <td>6198</td>\n",
       "    </tr>\n",
       "    <tr>\n",
       "      <th>3</th>\n",
       "      <td>4303</td>\n",
       "      <td>2017</td>\n",
       "      <td>1001</td>\n",
       "      <td>2</td>\n",
       "      <td>2516</td>\n",
       "    </tr>\n",
       "    <tr>\n",
       "      <th>4</th>\n",
       "      <td>4303</td>\n",
       "      <td>2017</td>\n",
       "      <td>1002</td>\n",
       "      <td>1</td>\n",
       "      <td>0</td>\n",
       "    </tr>\n",
       "    <tr>\n",
       "      <th>...</th>\n",
       "      <td>...</td>\n",
       "      <td>...</td>\n",
       "      <td>...</td>\n",
       "      <td>...</td>\n",
       "      <td>...</td>\n",
       "    </tr>\n",
       "    <tr>\n",
       "      <th>1023255</th>\n",
       "      <td>5020</td>\n",
       "      <td>2022</td>\n",
       "      <td>Y871</td>\n",
       "      <td>1</td>\n",
       "      <td>1</td>\n",
       "    </tr>\n",
       "    <tr>\n",
       "      <th>1023256</th>\n",
       "      <td>5020</td>\n",
       "      <td>2022</td>\n",
       "      <td>Y883</td>\n",
       "      <td>1</td>\n",
       "      <td>4</td>\n",
       "    </tr>\n",
       "    <tr>\n",
       "      <th>1023257</th>\n",
       "      <td>5020</td>\n",
       "      <td>2022</td>\n",
       "      <td>Y883</td>\n",
       "      <td>2</td>\n",
       "      <td>3</td>\n",
       "    </tr>\n",
       "    <tr>\n",
       "      <th>1023258</th>\n",
       "      <td>5020</td>\n",
       "      <td>2022</td>\n",
       "      <td>Y890</td>\n",
       "      <td>2</td>\n",
       "      <td>1</td>\n",
       "    </tr>\n",
       "    <tr>\n",
       "      <th>1023259</th>\n",
       "      <td>5020</td>\n",
       "      <td>2022</td>\n",
       "      <td>Y899</td>\n",
       "      <td>1</td>\n",
       "      <td>1</td>\n",
       "    </tr>\n",
       "  </tbody>\n",
       "</table>\n",
       "<p>1023260 rows × 5 columns</p>\n",
       "</div>"
      ],
      "text/plain": [
       "         Country_code  Year Cause  Sex  Total_deaths\n",
       "0                4303  2017  1000    1        281784\n",
       "1                4303  2017  1000    2        292339\n",
       "2                4303  2017  1001    1          6198\n",
       "3                4303  2017  1001    2          2516\n",
       "4                4303  2017  1002    1             0\n",
       "...               ...   ...   ...  ...           ...\n",
       "1023255          5020  2022  Y871    1             1\n",
       "1023256          5020  2022  Y883    1             4\n",
       "1023257          5020  2022  Y883    2             3\n",
       "1023258          5020  2022  Y890    2             1\n",
       "1023259          5020  2022  Y899    1             1\n",
       "\n",
       "[1023260 rows x 5 columns]"
      ]
     },
     "execution_count": 18,
     "metadata": {},
     "output_type": "execute_result"
    }
   ],
   "source": [
    "#Keeping only desired columns to study the total deaths per cause\n",
    "morticd10_part5_totaldeath_df = morticd10_part5_df[['Country_code', 'Year', 'Cause', 'Sex', 'Total_deaths']]\n",
    "morticd10_part5_totaldeath_df"
   ]
  },
  {
   "cell_type": "markdown",
   "metadata": {},
   "source": [
    "## Get the total death per cause group"
   ]
  },
  {
   "cell_type": "code",
   "execution_count": 20,
   "metadata": {},
   "outputs": [
    {
     "name": "stdout",
     "output_type": "stream",
     "text": [
      "   Cause_Group  Total_Deaths\n",
      "9            I      21776439\n",
      "0            1      17513087\n",
      "3            C      14528586\n",
      "10           J       6907036\n",
      "18           R       3465155\n",
      "11           K       3159159\n",
      "5            E       2998367\n",
      "7            G       2546231\n",
      "22           X       2225588\n",
      "6            F       1965715\n",
      "14           N       1775409\n",
      "1            A       1533359\n",
      "21           W       1106109\n",
      "20           V       1020899\n",
      "4            D        779485\n",
      "2            B        641768\n",
      "16           P        607251\n",
      "23           Y        583157\n",
      "17           Q        392308\n",
      "13           M        334198\n",
      "12           L        161849\n",
      "15           O         41088\n",
      "8            H          5088\n",
      "19           U            68\n"
     ]
    },
    {
     "name": "stderr",
     "output_type": "stream",
     "text": [
      "C:\\Users\\Owner\\AppData\\Local\\Temp\\ipykernel_26376\\2849450879.py:6: SettingWithCopyWarning: \n",
      "A value is trying to be set on a copy of a slice from a DataFrame.\n",
      "Try using .loc[row_indexer,col_indexer] = value instead\n",
      "\n",
      "See the caveats in the documentation: https://pandas.pydata.org/pandas-docs/stable/user_guide/indexing.html#returning-a-view-versus-a-copy\n",
      "  filtered_df['Cause_Group'] = filtered_df['Cause'].str[0]\n"
     ]
    }
   ],
   "source": [
    "# Exclude the causes 'AAA' and '1000' as they represent total death for all causes combined\n",
    "excluded_causes = ['AAA', '1000']\n",
    "filtered_df = morticd10_part4_totaldeath_df[~morticd10_part4_totaldeath_df['Cause'].isin(excluded_causes)]\n",
    "\n",
    "# Extract the first character of each cause\n",
    "filtered_df['Cause_Group'] = filtered_df['Cause'].str[0]\n",
    "\n",
    "# Aggregate total deaths by cause group across all years\n",
    "total_deaths_by_cause_group = filtered_df.groupby('Cause_Group')['Total_deaths'].sum().reset_index()\n",
    "\n",
    "# Rename columns for clarity\n",
    "total_deaths_by_cause_group.columns = ['Cause_Group', 'Total_Deaths']\n",
    "\n",
    "# Sort by total deaths in descending order (optional)\n",
    "total_deaths_by_cause_group_part4 = total_deaths_by_cause_group.sort_values(by='Total_Deaths', ascending=False)\n",
    "\n",
    "# Display the result\n",
    "print(total_deaths_by_cause_group_part4)"
   ]
  },
  {
   "cell_type": "code",
   "execution_count": 21,
   "metadata": {},
   "outputs": [
    {
     "name": "stdout",
     "output_type": "stream",
     "text": [
      "   Cause_Group  Total_Deaths\n",
      "9            I      24954863\n",
      "3            C      17045676\n",
      "0            1      13891869\n",
      "10           J       8222184\n",
      "18           R       4250594\n",
      "5            E       3818856\n",
      "11           K       3751251\n",
      "7            G       3700066\n",
      "19           U       3523844\n",
      "22           X       2750319\n",
      "6            F       2616724\n",
      "14           N       2190853\n",
      "1            A       1561760\n",
      "21           W       1346492\n",
      "20           V       1009946\n",
      "4            D        930173\n",
      "23           Y        621679\n",
      "2            B        548733\n",
      "16           P        520725\n",
      "13           M        435683\n",
      "17           Q        376375\n",
      "12           L        240604\n",
      "15           O         44188\n",
      "8            H          6295\n"
     ]
    },
    {
     "name": "stderr",
     "output_type": "stream",
     "text": [
      "C:\\Users\\Owner\\AppData\\Local\\Temp\\ipykernel_26376\\1060531729.py:6: SettingWithCopyWarning: \n",
      "A value is trying to be set on a copy of a slice from a DataFrame.\n",
      "Try using .loc[row_indexer,col_indexer] = value instead\n",
      "\n",
      "See the caveats in the documentation: https://pandas.pydata.org/pandas-docs/stable/user_guide/indexing.html#returning-a-view-versus-a-copy\n",
      "  filtered_df['Cause_Group'] = filtered_df['Cause'].str[0]\n"
     ]
    }
   ],
   "source": [
    "# Exclude the causes 'AAA' and '1000' as they represent total death for all causes combined\n",
    "excluded_causes = ['AAA', '1000']\n",
    "filtered_df = morticd10_part5_totaldeath_df[~morticd10_part5_totaldeath_df['Cause'].isin(excluded_causes)]\n",
    "\n",
    "# Extract the first character of each cause\n",
    "filtered_df['Cause_Group'] = filtered_df['Cause'].str[0]\n",
    "\n",
    "# Aggregate total deaths by cause group across all years\n",
    "total_deaths_by_cause_group = filtered_df.groupby('Cause_Group')['Total_deaths'].sum().reset_index()\n",
    "\n",
    "# Rename columns for clarity\n",
    "total_deaths_by_cause_group.columns = ['Cause_Group', 'Total_Deaths']\n",
    "\n",
    "# Sort by total deaths in descending order (optional)\n",
    "total_deaths_by_cause_group_part5 = total_deaths_by_cause_group.sort_values(by='Total_Deaths', ascending=False)\n",
    "\n",
    "# Display the result\n",
    "print(total_deaths_by_cause_group_part5)"
   ]
  },
  {
   "cell_type": "markdown",
   "metadata": {},
   "source": []
  },
  {
   "cell_type": "markdown",
   "metadata": {},
   "source": [
    "# Studying the country code and adding geocoordinates"
   ]
  },
  {
   "cell_type": "code",
   "execution_count": 22,
   "metadata": {},
   "outputs": [
    {
     "data": {
      "text/html": [
       "<div>\n",
       "<style scoped>\n",
       "    .dataframe tbody tr th:only-of-type {\n",
       "        vertical-align: middle;\n",
       "    }\n",
       "\n",
       "    .dataframe tbody tr th {\n",
       "        vertical-align: top;\n",
       "    }\n",
       "\n",
       "    .dataframe thead th {\n",
       "        text-align: right;\n",
       "    }\n",
       "</style>\n",
       "<table border=\"1\" class=\"dataframe\">\n",
       "  <thead>\n",
       "    <tr style=\"text-align: right;\">\n",
       "      <th></th>\n",
       "      <th>ï»¿country</th>\n",
       "      <th>name</th>\n",
       "    </tr>\n",
       "  </thead>\n",
       "  <tbody>\n",
       "    <tr>\n",
       "      <th>0</th>\n",
       "      <td>1010</td>\n",
       "      <td>Algeria</td>\n",
       "    </tr>\n",
       "    <tr>\n",
       "      <th>1</th>\n",
       "      <td>1020</td>\n",
       "      <td>Angola</td>\n",
       "    </tr>\n",
       "    <tr>\n",
       "      <th>2</th>\n",
       "      <td>1025</td>\n",
       "      <td>Benin</td>\n",
       "    </tr>\n",
       "    <tr>\n",
       "      <th>3</th>\n",
       "      <td>1030</td>\n",
       "      <td>Botswana</td>\n",
       "    </tr>\n",
       "    <tr>\n",
       "      <th>4</th>\n",
       "      <td>1035</td>\n",
       "      <td>Burkina Faso</td>\n",
       "    </tr>\n",
       "    <tr>\n",
       "      <th>...</th>\n",
       "      <td>...</td>\n",
       "      <td>...</td>\n",
       "    </tr>\n",
       "    <tr>\n",
       "      <th>222</th>\n",
       "      <td>5197</td>\n",
       "      <td>Samoa</td>\n",
       "    </tr>\n",
       "    <tr>\n",
       "      <th>223</th>\n",
       "      <td>5198</td>\n",
       "      <td>Solomon Islands</td>\n",
       "    </tr>\n",
       "    <tr>\n",
       "      <th>224</th>\n",
       "      <td>5200</td>\n",
       "      <td>Tonga</td>\n",
       "    </tr>\n",
       "    <tr>\n",
       "      <th>225</th>\n",
       "      <td>5205</td>\n",
       "      <td>Tuvalu</td>\n",
       "    </tr>\n",
       "    <tr>\n",
       "      <th>226</th>\n",
       "      <td>5207</td>\n",
       "      <td>Vanuatu</td>\n",
       "    </tr>\n",
       "  </tbody>\n",
       "</table>\n",
       "<p>227 rows × 2 columns</p>\n",
       "</div>"
      ],
      "text/plain": [
       "     ï»¿country             name\n",
       "0          1010          Algeria\n",
       "1          1020           Angola\n",
       "2          1025            Benin\n",
       "3          1030         Botswana\n",
       "4          1035     Burkina Faso\n",
       "..          ...              ...\n",
       "222        5197            Samoa\n",
       "223        5198  Solomon Islands\n",
       "224        5200            Tonga\n",
       "225        5205           Tuvalu\n",
       "226        5207          Vanuatu\n",
       "\n",
       "[227 rows x 2 columns]"
      ]
     },
     "execution_count": 22,
     "metadata": {},
     "output_type": "execute_result"
    }
   ],
   "source": [
    "country_code_df"
   ]
  },
  {
   "cell_type": "code",
   "execution_count": 23,
   "metadata": {},
   "outputs": [
    {
     "data": {
      "text/html": [
       "<div>\n",
       "<style scoped>\n",
       "    .dataframe tbody tr th:only-of-type {\n",
       "        vertical-align: middle;\n",
       "    }\n",
       "\n",
       "    .dataframe tbody tr th {\n",
       "        vertical-align: top;\n",
       "    }\n",
       "\n",
       "    .dataframe thead th {\n",
       "        text-align: right;\n",
       "    }\n",
       "</style>\n",
       "<table border=\"1\" class=\"dataframe\">\n",
       "  <thead>\n",
       "    <tr style=\"text-align: right;\">\n",
       "      <th></th>\n",
       "      <th>Country_code</th>\n",
       "      <th>Country_name</th>\n",
       "    </tr>\n",
       "  </thead>\n",
       "  <tbody>\n",
       "    <tr>\n",
       "      <th>0</th>\n",
       "      <td>1010</td>\n",
       "      <td>Algeria</td>\n",
       "    </tr>\n",
       "    <tr>\n",
       "      <th>1</th>\n",
       "      <td>1020</td>\n",
       "      <td>Angola</td>\n",
       "    </tr>\n",
       "    <tr>\n",
       "      <th>2</th>\n",
       "      <td>1025</td>\n",
       "      <td>Benin</td>\n",
       "    </tr>\n",
       "    <tr>\n",
       "      <th>3</th>\n",
       "      <td>1030</td>\n",
       "      <td>Botswana</td>\n",
       "    </tr>\n",
       "    <tr>\n",
       "      <th>4</th>\n",
       "      <td>1035</td>\n",
       "      <td>Burkina Faso</td>\n",
       "    </tr>\n",
       "    <tr>\n",
       "      <th>...</th>\n",
       "      <td>...</td>\n",
       "      <td>...</td>\n",
       "    </tr>\n",
       "    <tr>\n",
       "      <th>222</th>\n",
       "      <td>5197</td>\n",
       "      <td>Samoa</td>\n",
       "    </tr>\n",
       "    <tr>\n",
       "      <th>223</th>\n",
       "      <td>5198</td>\n",
       "      <td>Solomon Islands</td>\n",
       "    </tr>\n",
       "    <tr>\n",
       "      <th>224</th>\n",
       "      <td>5200</td>\n",
       "      <td>Tonga</td>\n",
       "    </tr>\n",
       "    <tr>\n",
       "      <th>225</th>\n",
       "      <td>5205</td>\n",
       "      <td>Tuvalu</td>\n",
       "    </tr>\n",
       "    <tr>\n",
       "      <th>226</th>\n",
       "      <td>5207</td>\n",
       "      <td>Vanuatu</td>\n",
       "    </tr>\n",
       "  </tbody>\n",
       "</table>\n",
       "<p>227 rows × 2 columns</p>\n",
       "</div>"
      ],
      "text/plain": [
       "     Country_code     Country_name\n",
       "0            1010          Algeria\n",
       "1            1020           Angola\n",
       "2            1025            Benin\n",
       "3            1030         Botswana\n",
       "4            1035     Burkina Faso\n",
       "..            ...              ...\n",
       "222          5197            Samoa\n",
       "223          5198  Solomon Islands\n",
       "224          5200            Tonga\n",
       "225          5205           Tuvalu\n",
       "226          5207          Vanuatu\n",
       "\n",
       "[227 rows x 2 columns]"
      ]
     },
     "execution_count": 23,
     "metadata": {},
     "output_type": "execute_result"
    }
   ],
   "source": [
    "# Renaming the country column to Country_code\n",
    "country_code_df= country_code_df.rename(columns = {'ï»¿country' : 'Country_code',\n",
    "                                                   'name' : 'Country_name'})\n",
    "country_code_df"
   ]
  },
  {
   "cell_type": "markdown",
   "metadata": {},
   "source": [
    "## Coverting the numeric country code to ISO country codes"
   ]
  },
  {
   "cell_type": "code",
   "execution_count": 24,
   "metadata": {},
   "outputs": [
    {
     "data": {
      "text/html": [
       "<div>\n",
       "<style scoped>\n",
       "    .dataframe tbody tr th:only-of-type {\n",
       "        vertical-align: middle;\n",
       "    }\n",
       "\n",
       "    .dataframe tbody tr th {\n",
       "        vertical-align: top;\n",
       "    }\n",
       "\n",
       "    .dataframe thead th {\n",
       "        text-align: right;\n",
       "    }\n",
       "</style>\n",
       "<table border=\"1\" class=\"dataframe\">\n",
       "  <thead>\n",
       "    <tr style=\"text-align: right;\">\n",
       "      <th></th>\n",
       "      <th>Country_code</th>\n",
       "      <th>Country_name</th>\n",
       "      <th>ISO_Alpha3</th>\n",
       "    </tr>\n",
       "  </thead>\n",
       "  <tbody>\n",
       "    <tr>\n",
       "      <th>0</th>\n",
       "      <td>1010</td>\n",
       "      <td>Algeria</td>\n",
       "      <td>DZA</td>\n",
       "    </tr>\n",
       "    <tr>\n",
       "      <th>1</th>\n",
       "      <td>1020</td>\n",
       "      <td>Angola</td>\n",
       "      <td>AGO</td>\n",
       "    </tr>\n",
       "    <tr>\n",
       "      <th>2</th>\n",
       "      <td>1025</td>\n",
       "      <td>Benin</td>\n",
       "      <td>BEN</td>\n",
       "    </tr>\n",
       "    <tr>\n",
       "      <th>3</th>\n",
       "      <td>1030</td>\n",
       "      <td>Botswana</td>\n",
       "      <td>BWA</td>\n",
       "    </tr>\n",
       "    <tr>\n",
       "      <th>4</th>\n",
       "      <td>1035</td>\n",
       "      <td>Burkina Faso</td>\n",
       "      <td>BFA</td>\n",
       "    </tr>\n",
       "  </tbody>\n",
       "</table>\n",
       "</div>"
      ],
      "text/plain": [
       "   Country_code  Country_name ISO_Alpha3\n",
       "0          1010       Algeria        DZA\n",
       "1          1020        Angola        AGO\n",
       "2          1025         Benin        BEN\n",
       "3          1030      Botswana        BWA\n",
       "4          1035  Burkina Faso        BFA"
      ]
     },
     "execution_count": 24,
     "metadata": {},
     "output_type": "execute_result"
    }
   ],
   "source": [
    "# Function to fetch ISO Alpha-3 codes using pycountry\n",
    "def get_iso_alpha3(country_name):\n",
    "    try:\n",
    "        return pycountry.countries.lookup(country_name).alpha_3\n",
    "    except LookupError:\n",
    "        return None  # Return None if the country name is not found\n",
    "\n",
    "# Add ISO_Alpha3 column\n",
    "country_code_df['ISO_Alpha3'] = country_code_df['Country_name'].apply(get_iso_alpha3)\n",
    "\n",
    "# Display the updated DataFrame\n",
    "country_code_df.head()"
   ]
  },
  {
   "cell_type": "code",
   "execution_count": 25,
   "metadata": {},
   "outputs": [
    {
     "data": {
      "text/html": [
       "<div>\n",
       "<style scoped>\n",
       "    .dataframe tbody tr th:only-of-type {\n",
       "        vertical-align: middle;\n",
       "    }\n",
       "\n",
       "    .dataframe tbody tr th {\n",
       "        vertical-align: top;\n",
       "    }\n",
       "\n",
       "    .dataframe thead th {\n",
       "        text-align: right;\n",
       "    }\n",
       "</style>\n",
       "<table border=\"1\" class=\"dataframe\">\n",
       "  <thead>\n",
       "    <tr style=\"text-align: right;\">\n",
       "      <th></th>\n",
       "      <th>Country_code</th>\n",
       "      <th>Year</th>\n",
       "      <th>Cause</th>\n",
       "      <th>Sex</th>\n",
       "      <th>Total_deaths</th>\n",
       "    </tr>\n",
       "  </thead>\n",
       "  <tbody>\n",
       "    <tr>\n",
       "      <th>0</th>\n",
       "      <td>4303</td>\n",
       "      <td>2017</td>\n",
       "      <td>1000</td>\n",
       "      <td>1</td>\n",
       "      <td>281784</td>\n",
       "    </tr>\n",
       "    <tr>\n",
       "      <th>1</th>\n",
       "      <td>4303</td>\n",
       "      <td>2017</td>\n",
       "      <td>1000</td>\n",
       "      <td>2</td>\n",
       "      <td>292339</td>\n",
       "    </tr>\n",
       "    <tr>\n",
       "      <th>2</th>\n",
       "      <td>4303</td>\n",
       "      <td>2017</td>\n",
       "      <td>1001</td>\n",
       "      <td>1</td>\n",
       "      <td>6198</td>\n",
       "    </tr>\n",
       "    <tr>\n",
       "      <th>3</th>\n",
       "      <td>4303</td>\n",
       "      <td>2017</td>\n",
       "      <td>1001</td>\n",
       "      <td>2</td>\n",
       "      <td>2516</td>\n",
       "    </tr>\n",
       "    <tr>\n",
       "      <th>4</th>\n",
       "      <td>4303</td>\n",
       "      <td>2017</td>\n",
       "      <td>1002</td>\n",
       "      <td>1</td>\n",
       "      <td>0</td>\n",
       "    </tr>\n",
       "  </tbody>\n",
       "</table>\n",
       "</div>"
      ],
      "text/plain": [
       "   Country_code  Year Cause  Sex  Total_deaths\n",
       "0          4303  2017  1000    1        281784\n",
       "1          4303  2017  1000    2        292339\n",
       "2          4303  2017  1001    1          6198\n",
       "3          4303  2017  1001    2          2516\n",
       "4          4303  2017  1002    1             0"
      ]
     },
     "execution_count": 25,
     "metadata": {},
     "output_type": "execute_result"
    }
   ],
   "source": [
    "morticd10_part5_totaldeath_df.head()"
   ]
  },
  {
   "cell_type": "markdown",
   "metadata": {},
   "source": [
    "## Merge the mortality data with country dataframe"
   ]
  },
  {
   "cell_type": "code",
   "execution_count": 26,
   "metadata": {},
   "outputs": [
    {
     "data": {
      "text/html": [
       "<div>\n",
       "<style scoped>\n",
       "    .dataframe tbody tr th:only-of-type {\n",
       "        vertical-align: middle;\n",
       "    }\n",
       "\n",
       "    .dataframe tbody tr th {\n",
       "        vertical-align: top;\n",
       "    }\n",
       "\n",
       "    .dataframe thead th {\n",
       "        text-align: right;\n",
       "    }\n",
       "</style>\n",
       "<table border=\"1\" class=\"dataframe\">\n",
       "  <thead>\n",
       "    <tr style=\"text-align: right;\">\n",
       "      <th></th>\n",
       "      <th>Country_code</th>\n",
       "      <th>Country_name</th>\n",
       "      <th>ISO_Alpha3</th>\n",
       "      <th>Year</th>\n",
       "      <th>Cause</th>\n",
       "      <th>Sex</th>\n",
       "      <th>Total_deaths</th>\n",
       "    </tr>\n",
       "  </thead>\n",
       "  <tbody>\n",
       "    <tr>\n",
       "      <th>0</th>\n",
       "      <td>1010</td>\n",
       "      <td>Algeria</td>\n",
       "      <td>DZA</td>\n",
       "      <td>NaN</td>\n",
       "      <td>NaN</td>\n",
       "      <td>NaN</td>\n",
       "      <td>NaN</td>\n",
       "    </tr>\n",
       "    <tr>\n",
       "      <th>1</th>\n",
       "      <td>1020</td>\n",
       "      <td>Angola</td>\n",
       "      <td>AGO</td>\n",
       "      <td>NaN</td>\n",
       "      <td>NaN</td>\n",
       "      <td>NaN</td>\n",
       "      <td>NaN</td>\n",
       "    </tr>\n",
       "    <tr>\n",
       "      <th>2</th>\n",
       "      <td>1025</td>\n",
       "      <td>Benin</td>\n",
       "      <td>BEN</td>\n",
       "      <td>NaN</td>\n",
       "      <td>NaN</td>\n",
       "      <td>NaN</td>\n",
       "      <td>NaN</td>\n",
       "    </tr>\n",
       "    <tr>\n",
       "      <th>3</th>\n",
       "      <td>1030</td>\n",
       "      <td>Botswana</td>\n",
       "      <td>BWA</td>\n",
       "      <td>NaN</td>\n",
       "      <td>NaN</td>\n",
       "      <td>NaN</td>\n",
       "      <td>NaN</td>\n",
       "    </tr>\n",
       "    <tr>\n",
       "      <th>4</th>\n",
       "      <td>1035</td>\n",
       "      <td>Burkina Faso</td>\n",
       "      <td>BFA</td>\n",
       "      <td>NaN</td>\n",
       "      <td>NaN</td>\n",
       "      <td>NaN</td>\n",
       "      <td>NaN</td>\n",
       "    </tr>\n",
       "    <tr>\n",
       "      <th>5</th>\n",
       "      <td>1040</td>\n",
       "      <td>Burundi</td>\n",
       "      <td>BDI</td>\n",
       "      <td>NaN</td>\n",
       "      <td>NaN</td>\n",
       "      <td>NaN</td>\n",
       "      <td>NaN</td>\n",
       "    </tr>\n",
       "    <tr>\n",
       "      <th>6</th>\n",
       "      <td>1045</td>\n",
       "      <td>Cameroon</td>\n",
       "      <td>CMR</td>\n",
       "      <td>NaN</td>\n",
       "      <td>NaN</td>\n",
       "      <td>NaN</td>\n",
       "      <td>NaN</td>\n",
       "    </tr>\n",
       "    <tr>\n",
       "      <th>7</th>\n",
       "      <td>1060</td>\n",
       "      <td>Cape Verde</td>\n",
       "      <td>None</td>\n",
       "      <td>NaN</td>\n",
       "      <td>NaN</td>\n",
       "      <td>NaN</td>\n",
       "      <td>NaN</td>\n",
       "    </tr>\n",
       "    <tr>\n",
       "      <th>8</th>\n",
       "      <td>1070</td>\n",
       "      <td>Central African Republic</td>\n",
       "      <td>CAF</td>\n",
       "      <td>NaN</td>\n",
       "      <td>NaN</td>\n",
       "      <td>NaN</td>\n",
       "      <td>NaN</td>\n",
       "    </tr>\n",
       "    <tr>\n",
       "      <th>9</th>\n",
       "      <td>1080</td>\n",
       "      <td>Chad</td>\n",
       "      <td>TCD</td>\n",
       "      <td>NaN</td>\n",
       "      <td>NaN</td>\n",
       "      <td>NaN</td>\n",
       "      <td>NaN</td>\n",
       "    </tr>\n",
       "  </tbody>\n",
       "</table>\n",
       "</div>"
      ],
      "text/plain": [
       "   Country_code              Country_name ISO_Alpha3  Year Cause  Sex  \\\n",
       "0          1010                   Algeria        DZA   NaN   NaN  NaN   \n",
       "1          1020                    Angola        AGO   NaN   NaN  NaN   \n",
       "2          1025                     Benin        BEN   NaN   NaN  NaN   \n",
       "3          1030                  Botswana        BWA   NaN   NaN  NaN   \n",
       "4          1035              Burkina Faso        BFA   NaN   NaN  NaN   \n",
       "5          1040                   Burundi        BDI   NaN   NaN  NaN   \n",
       "6          1045                  Cameroon        CMR   NaN   NaN  NaN   \n",
       "7          1060                Cape Verde       None   NaN   NaN  NaN   \n",
       "8          1070  Central African Republic        CAF   NaN   NaN  NaN   \n",
       "9          1080                      Chad        TCD   NaN   NaN  NaN   \n",
       "\n",
       "   Total_deaths  \n",
       "0           NaN  \n",
       "1           NaN  \n",
       "2           NaN  \n",
       "3           NaN  \n",
       "4           NaN  \n",
       "5           NaN  \n",
       "6           NaN  \n",
       "7           NaN  \n",
       "8           NaN  \n",
       "9           NaN  "
      ]
     },
     "execution_count": 26,
     "metadata": {},
     "output_type": "execute_result"
    }
   ],
   "source": [
    "# Merge the mortality dataframe with the country data\n",
    "# Match by 'Country_code' from the CSV and 'Country_code' from the world dataset\n",
    "part5_country_mortality_df = pd.merge(\n",
    "    country_code_df,\n",
    "    morticd10_part5_totaldeath_df,\n",
    "    left_on='Country_code',\n",
    "    right_on='Country_code',\n",
    "    how='left'\n",
    ")\n",
    "part5_country_mortality_df.head(10)"
   ]
  },
  {
   "cell_type": "code",
   "execution_count": 27,
   "metadata": {},
   "outputs": [
    {
     "data": {
      "text/html": [
       "<div>\n",
       "<style scoped>\n",
       "    .dataframe tbody tr th:only-of-type {\n",
       "        vertical-align: middle;\n",
       "    }\n",
       "\n",
       "    .dataframe tbody tr th {\n",
       "        vertical-align: top;\n",
       "    }\n",
       "\n",
       "    .dataframe thead th {\n",
       "        text-align: right;\n",
       "    }\n",
       "</style>\n",
       "<table border=\"1\" class=\"dataframe\">\n",
       "  <thead>\n",
       "    <tr style=\"text-align: right;\">\n",
       "      <th></th>\n",
       "      <th>Country_code</th>\n",
       "      <th>Country_name</th>\n",
       "      <th>ISO_Alpha3</th>\n",
       "      <th>Year</th>\n",
       "      <th>Cause</th>\n",
       "      <th>Sex</th>\n",
       "      <th>Total_deaths</th>\n",
       "    </tr>\n",
       "  </thead>\n",
       "  <tbody>\n",
       "    <tr>\n",
       "      <th>1023361</th>\n",
       "      <td>5198</td>\n",
       "      <td>Solomon Islands</td>\n",
       "      <td>SLB</td>\n",
       "      <td>2018.0</td>\n",
       "      <td>W749</td>\n",
       "      <td>2.0</td>\n",
       "      <td>1.0</td>\n",
       "    </tr>\n",
       "    <tr>\n",
       "      <th>1023362</th>\n",
       "      <td>5198</td>\n",
       "      <td>Solomon Islands</td>\n",
       "      <td>SLB</td>\n",
       "      <td>2018.0</td>\n",
       "      <td>Y349</td>\n",
       "      <td>2.0</td>\n",
       "      <td>3.0</td>\n",
       "    </tr>\n",
       "    <tr>\n",
       "      <th>1023363</th>\n",
       "      <td>5200</td>\n",
       "      <td>Tonga</td>\n",
       "      <td>TON</td>\n",
       "      <td>NaN</td>\n",
       "      <td>NaN</td>\n",
       "      <td>NaN</td>\n",
       "      <td>NaN</td>\n",
       "    </tr>\n",
       "    <tr>\n",
       "      <th>1023364</th>\n",
       "      <td>5205</td>\n",
       "      <td>Tuvalu</td>\n",
       "      <td>TUV</td>\n",
       "      <td>NaN</td>\n",
       "      <td>NaN</td>\n",
       "      <td>NaN</td>\n",
       "      <td>NaN</td>\n",
       "    </tr>\n",
       "    <tr>\n",
       "      <th>1023365</th>\n",
       "      <td>5207</td>\n",
       "      <td>Vanuatu</td>\n",
       "      <td>VUT</td>\n",
       "      <td>NaN</td>\n",
       "      <td>NaN</td>\n",
       "      <td>NaN</td>\n",
       "      <td>NaN</td>\n",
       "    </tr>\n",
       "  </tbody>\n",
       "</table>\n",
       "</div>"
      ],
      "text/plain": [
       "         Country_code     Country_name ISO_Alpha3    Year Cause  Sex  \\\n",
       "1023361          5198  Solomon Islands        SLB  2018.0  W749  2.0   \n",
       "1023362          5198  Solomon Islands        SLB  2018.0  Y349  2.0   \n",
       "1023363          5200            Tonga        TON     NaN   NaN  NaN   \n",
       "1023364          5205           Tuvalu        TUV     NaN   NaN  NaN   \n",
       "1023365          5207          Vanuatu        VUT     NaN   NaN  NaN   \n",
       "\n",
       "         Total_deaths  \n",
       "1023361           1.0  \n",
       "1023362           3.0  \n",
       "1023363           NaN  \n",
       "1023364           NaN  \n",
       "1023365           NaN  "
      ]
     },
     "execution_count": 27,
     "metadata": {},
     "output_type": "execute_result"
    }
   ],
   "source": [
    "part5_country_mortality_df.tail()"
   ]
  },
  {
   "cell_type": "code",
   "execution_count": 28,
   "metadata": {},
   "outputs": [
    {
     "data": {
      "text/html": [
       "<div>\n",
       "<style scoped>\n",
       "    .dataframe tbody tr th:only-of-type {\n",
       "        vertical-align: middle;\n",
       "    }\n",
       "\n",
       "    .dataframe tbody tr th {\n",
       "        vertical-align: top;\n",
       "    }\n",
       "\n",
       "    .dataframe thead th {\n",
       "        text-align: right;\n",
       "    }\n",
       "</style>\n",
       "<table border=\"1\" class=\"dataframe\">\n",
       "  <thead>\n",
       "    <tr style=\"text-align: right;\">\n",
       "      <th></th>\n",
       "      <th>Country_code</th>\n",
       "      <th>Country_name</th>\n",
       "      <th>ISO_Alpha3</th>\n",
       "      <th>Year</th>\n",
       "      <th>Cause</th>\n",
       "      <th>Sex</th>\n",
       "      <th>Total_deaths</th>\n",
       "    </tr>\n",
       "  </thead>\n",
       "  <tbody>\n",
       "    <tr>\n",
       "      <th>14</th>\n",
       "      <td>1125</td>\n",
       "      <td>Egypt</td>\n",
       "      <td>EGY</td>\n",
       "      <td>2017.0</td>\n",
       "      <td>A00</td>\n",
       "      <td>1.0</td>\n",
       "      <td>3.0</td>\n",
       "    </tr>\n",
       "    <tr>\n",
       "      <th>15</th>\n",
       "      <td>1125</td>\n",
       "      <td>Egypt</td>\n",
       "      <td>EGY</td>\n",
       "      <td>2017.0</td>\n",
       "      <td>A01</td>\n",
       "      <td>1.0</td>\n",
       "      <td>26.0</td>\n",
       "    </tr>\n",
       "    <tr>\n",
       "      <th>16</th>\n",
       "      <td>1125</td>\n",
       "      <td>Egypt</td>\n",
       "      <td>EGY</td>\n",
       "      <td>2017.0</td>\n",
       "      <td>A02</td>\n",
       "      <td>1.0</td>\n",
       "      <td>9.0</td>\n",
       "    </tr>\n",
       "    <tr>\n",
       "      <th>17</th>\n",
       "      <td>1125</td>\n",
       "      <td>Egypt</td>\n",
       "      <td>EGY</td>\n",
       "      <td>2017.0</td>\n",
       "      <td>A03</td>\n",
       "      <td>1.0</td>\n",
       "      <td>1.0</td>\n",
       "    </tr>\n",
       "    <tr>\n",
       "      <th>18</th>\n",
       "      <td>1125</td>\n",
       "      <td>Egypt</td>\n",
       "      <td>EGY</td>\n",
       "      <td>2017.0</td>\n",
       "      <td>A04</td>\n",
       "      <td>1.0</td>\n",
       "      <td>41.0</td>\n",
       "    </tr>\n",
       "    <tr>\n",
       "      <th>...</th>\n",
       "      <td>...</td>\n",
       "      <td>...</td>\n",
       "      <td>...</td>\n",
       "      <td>...</td>\n",
       "      <td>...</td>\n",
       "      <td>...</td>\n",
       "      <td>...</td>\n",
       "    </tr>\n",
       "    <tr>\n",
       "      <th>1023358</th>\n",
       "      <td>5198</td>\n",
       "      <td>Solomon Islands</td>\n",
       "      <td>SLB</td>\n",
       "      <td>2018.0</td>\n",
       "      <td>R104</td>\n",
       "      <td>2.0</td>\n",
       "      <td>1.0</td>\n",
       "    </tr>\n",
       "    <tr>\n",
       "      <th>1023359</th>\n",
       "      <td>5198</td>\n",
       "      <td>Solomon Islands</td>\n",
       "      <td>SLB</td>\n",
       "      <td>2018.0</td>\n",
       "      <td>R900</td>\n",
       "      <td>2.0</td>\n",
       "      <td>1.0</td>\n",
       "    </tr>\n",
       "    <tr>\n",
       "      <th>1023360</th>\n",
       "      <td>5198</td>\n",
       "      <td>Solomon Islands</td>\n",
       "      <td>SLB</td>\n",
       "      <td>2018.0</td>\n",
       "      <td>R99</td>\n",
       "      <td>2.0</td>\n",
       "      <td>2.0</td>\n",
       "    </tr>\n",
       "    <tr>\n",
       "      <th>1023361</th>\n",
       "      <td>5198</td>\n",
       "      <td>Solomon Islands</td>\n",
       "      <td>SLB</td>\n",
       "      <td>2018.0</td>\n",
       "      <td>W749</td>\n",
       "      <td>2.0</td>\n",
       "      <td>1.0</td>\n",
       "    </tr>\n",
       "    <tr>\n",
       "      <th>1023362</th>\n",
       "      <td>5198</td>\n",
       "      <td>Solomon Islands</td>\n",
       "      <td>SLB</td>\n",
       "      <td>2018.0</td>\n",
       "      <td>Y349</td>\n",
       "      <td>2.0</td>\n",
       "      <td>3.0</td>\n",
       "    </tr>\n",
       "  </tbody>\n",
       "</table>\n",
       "<p>930366 rows × 7 columns</p>\n",
       "</div>"
      ],
      "text/plain": [
       "         Country_code     Country_name ISO_Alpha3    Year Cause  Sex  \\\n",
       "14               1125            Egypt        EGY  2017.0   A00  1.0   \n",
       "15               1125            Egypt        EGY  2017.0   A01  1.0   \n",
       "16               1125            Egypt        EGY  2017.0   A02  1.0   \n",
       "17               1125            Egypt        EGY  2017.0   A03  1.0   \n",
       "18               1125            Egypt        EGY  2017.0   A04  1.0   \n",
       "...               ...              ...        ...     ...   ...  ...   \n",
       "1023358          5198  Solomon Islands        SLB  2018.0  R104  2.0   \n",
       "1023359          5198  Solomon Islands        SLB  2018.0  R900  2.0   \n",
       "1023360          5198  Solomon Islands        SLB  2018.0   R99  2.0   \n",
       "1023361          5198  Solomon Islands        SLB  2018.0  W749  2.0   \n",
       "1023362          5198  Solomon Islands        SLB  2018.0  Y349  2.0   \n",
       "\n",
       "         Total_deaths  \n",
       "14                3.0  \n",
       "15               26.0  \n",
       "16                9.0  \n",
       "17                1.0  \n",
       "18               41.0  \n",
       "...               ...  \n",
       "1023358           1.0  \n",
       "1023359           1.0  \n",
       "1023360           2.0  \n",
       "1023361           1.0  \n",
       "1023362           3.0  \n",
       "\n",
       "[930366 rows x 7 columns]"
      ]
     },
     "execution_count": 28,
     "metadata": {},
     "output_type": "execute_result"
    }
   ],
   "source": [
    "# Drop rows containing NaN values\n",
    "cleaned_part5_country_mortality_df = part5_country_mortality_df.dropna()\n",
    "cleaned_part5_country_mortality_df"
   ]
  },
  {
   "cell_type": "markdown",
   "metadata": {},
   "source": [
    "# Save the part5 total death with Alpha3 "
   ]
  },
  {
   "cell_type": "code",
   "execution_count": 29,
   "metadata": {},
   "outputs": [],
   "source": [
    "# Export file as a CSV, without the Pandas index, but with the header\n",
    "\n",
    "cleaned_part5_country_mortality_df.to_csv(\"cleaneddata/cleaned_part5_country_mortality_df.csv\", index=False, header=True)"
   ]
  },
  {
   "cell_type": "markdown",
   "metadata": {},
   "source": [
    "## Function to visualize deaths for a selected cause"
   ]
  },
  {
   "cell_type": "code",
   "execution_count": null,
   "metadata": {},
   "outputs": [],
   "source": [
    "# Function to visualize deaths for a selected cause\n",
    "def visualize_cause_deaths(cause):\n",
    "    # Filter data for the selected cause\n",
    "    cause_data = cleaned_part5_country_mortality_df[cleaned_part5_country_mortality_df['Cause'] == cause]\n",
    "    \n",
    "    # Aggregate total deaths by country for the selected cause\n",
    "    country_death_data = cause_data.groupby('ISO_Alpha3')['Total_deaths'].sum().reset_index()\n",
    "    \n",
    "    # Rename columns for clarity\n",
    "    country_death_data.columns = ['ISO_Alpha3', 'Total_Deaths']\n",
    "    \n",
    "    # Plot the data on a map\n",
    "    fig = px.scatter_geo(\n",
    "        country_death_data,\n",
    "        locations='ISO_Alpha3',  # Country codes (ISO Alpha-3 recommended)\n",
    "        size='Total_Deaths',\n",
    "        title=f'Total Deaths for Cause: {cause}',\n",
    "        projection='natural earth',\n",
    "        size_max=50,\n",
    "        hover_name='ISO_Alpha3',\n",
    "    )\n",
    "    fig.update_geos(showcountries=True, showframe=True)\n",
    "    fig.show()\n",
    "\n",
    "# List of unique causes for dropdown menu\n",
    "unique_causes = cleaned_part5_country_mortality_df['Cause'].unique()\n",
    "\n",
    "# Create an interactive dropdown to select a cause\n",
    "interact(visualize_cause_deaths, cause=unique_causes)"
   ]
  },
  {
   "cell_type": "markdown",
   "metadata": {},
   "source": [
    "## Function to visualize deaths for a selected cause and year"
   ]
  },
  {
   "cell_type": "code",
   "execution_count": null,
   "metadata": {},
   "outputs": [],
   "source": [
    "# Function to visualize deaths for a selected cause and year\n",
    "def visualize_cause_deaths(cause, year):\n",
    "    # Filter data for the selected cause and year\n",
    "    filtered_data = cleaned_part5_country_mortality_df[\n",
    "        (cleaned_part5_country_mortality_df['Cause'] == cause) & \n",
    "        (cleaned_part5_country_mortality_df['Year'] == year)\n",
    "    ]\n",
    "    \n",
    "    # Aggregate total deaths by country for the selected cause and year\n",
    "    country_death_data = filtered_data.groupby('ISO_Alpha3')['Total_deaths'].sum().reset_index()\n",
    "    \n",
    "    # Rename columns for clarity\n",
    "    country_death_data.columns = ['ISO_Alpha3', 'Total_Deaths']\n",
    "    \n",
    "    # Plot the data on a map\n",
    "    fig = px.scatter_geo(\n",
    "        country_death_data,\n",
    "        locations='ISO_Alpha3',  # Country codes (ISO Alpha-3 recommended)\n",
    "        size='Total_Deaths',\n",
    "        title=f'Total Deaths for Cause: {cause} in Year: {year}',\n",
    "        projection='natural earth',\n",
    "        size_max=50,\n",
    "        hover_name='ISO_Alpha3',\n",
    "    )\n",
    "    fig.update_geos(showcountries=True, showframe=True)\n",
    "    fig.show()\n",
    "\n",
    "# List of unique causes and years for dropdown menus\n",
    "unique_causes = cleaned_part5_country_mortality_df['Cause'].unique()\n",
    "unique_years = cleaned_part5_country_mortality_df['Year'].dropna().unique()\n",
    "\n",
    "# Create an interactive dropdown to select a cause and a year\n",
    "interact(visualize_cause_deaths, cause=unique_causes, year=unique_years)"
   ]
  },
  {
   "cell_type": "markdown",
   "metadata": {},
   "source": [
    "## Adding code to make bubbles of each country to have different colors"
   ]
  },
  {
   "cell_type": "code",
   "execution_count": null,
   "metadata": {},
   "outputs": [],
   "source": [
    "# Function to visualize deaths for a selected cause and year\n",
    "def visualize_cause_deaths(cause, year):\n",
    "    # Filter data for the selected cause and year\n",
    "    filtered_data = cleaned_part5_country_mortality_df[\n",
    "        (cleaned_part5_country_mortality_df['Cause'] == cause) & \n",
    "        (cleaned_part5_country_mortality_df['Year'] == year)\n",
    "    ]\n",
    "    \n",
    "    # Check if there is data to display\n",
    "    if filtered_data.empty:\n",
    "        print(f\"No data available for Cause: {cause} in Year: {year}\")\n",
    "        return\n",
    "    \n",
    "    # Aggregate total deaths by country for the selected cause and year\n",
    "    country_death_data = filtered_data.groupby('ISO_Alpha3')['Total_deaths'].sum().reset_index()\n",
    "    country_death_data.columns = ['ISO_Alpha3', 'Total_Deaths']\n",
    "    \n",
    "    # Assign unique colors to each country\n",
    "    country_death_data['Country_Color'] = country_death_data['ISO_Alpha3']\n",
    "    \n",
    "    # Plot the data on a map\n",
    "    fig = px.scatter_geo(\n",
    "        country_death_data,\n",
    "        locations='ISO_Alpha3', \n",
    "        size='Total_Deaths',\n",
    "        color='Country_Color',  # Different color for each country\n",
    "        title=f'Total Deaths for Cause: {cause} in Year: {year}',\n",
    "        projection='natural earth',\n",
    "        size_max=50,\n",
    "        hover_name='ISO_Alpha3',\n",
    "    )\n",
    "    fig.update_geos(showcountries=True, showframe=True)\n",
    "    fig.show()\n",
    "\n",
    "# List of unique causes and years for dropdown menus\n",
    "unique_causes = sorted(cleaned_part5_country_mortality_df['Cause'].unique())\n",
    "unique_years = sorted(cleaned_part5_country_mortality_df['Year'].dropna().unique())\n",
    "\n",
    "# Create an interactive dropdown to select a cause and a year\n",
    "interact(visualize_cause_deaths, cause=unique_causes, year=unique_years)"
   ]
  },
  {
   "cell_type": "markdown",
   "metadata": {},
   "source": [
    "## Adding a slider horizontal bar to choose the year"
   ]
  },
  {
   "cell_type": "code",
   "execution_count": null,
   "metadata": {},
   "outputs": [],
   "source": [
    "# Function to visualize deaths for a selected cause and year\n",
    "def visualize_cause_deaths(cause, year):\n",
    "    # Filter data for the selected cause and year\n",
    "    filtered_data = cleaned_part5_country_mortality_df[\n",
    "        (cleaned_part5_country_mortality_df['Cause'] == cause) & \n",
    "        (cleaned_part5_country_mortality_df['Year'] == year)\n",
    "    ]\n",
    "    \n",
    "    # Check if there is data to display\n",
    "    if filtered_data.empty:\n",
    "        print(f\"No data available for Cause: {cause} in Year: {year}\")\n",
    "        return\n",
    "    \n",
    "    # Aggregate total deaths by country for the selected cause and year\n",
    "    country_death_data = filtered_data.groupby('ISO_Alpha3')['Total_deaths'].sum().reset_index()\n",
    "    country_death_data.columns = ['ISO_Alpha3', 'Total_Deaths']\n",
    "    \n",
    "    # Plot the data on a map\n",
    "    fig = px.scatter_geo(\n",
    "        country_death_data,\n",
    "        locations='ISO_Alpha3', \n",
    "        size='Total_Deaths',\n",
    "        color='ISO_Alpha3',  # Different color for each country\n",
    "        title=f'Total Deaths for Cause: {cause} in Year: {year}',\n",
    "        projection='natural earth',\n",
    "        size_max=50,\n",
    "        hover_name='ISO_Alpha3',\n",
    "    )\n",
    "    fig.update_geos(showcountries=True, showframe=True)\n",
    "    fig.show()\n",
    "\n",
    "# List of unique causes and years for dropdown and slider\n",
    "unique_causes = sorted(cleaned_part5_country_mortality_df['Cause'].unique())\n",
    "min_year = int(cleaned_part5_country_mortality_df['Year'].min())\n",
    "max_year = int(cleaned_part5_country_mortality_df['Year'].max())\n",
    "\n",
    "# Create an interactive dropdown for cause and slider for year\n",
    "interact(\n",
    "    visualize_cause_deaths, \n",
    "    cause=unique_causes, \n",
    "    year=IntSlider(min=min_year, max=max_year, step=1, value=min_year, description='Year')\n",
    ")"
   ]
  },
  {
   "cell_type": "markdown",
   "metadata": {},
   "source": [
    "## Making visualizations based on cause_group"
   ]
  },
  {
   "cell_type": "code",
   "execution_count": 36,
   "metadata": {},
   "outputs": [
    {
     "data": {
      "application/vnd.jupyter.widget-view+json": {
       "model_id": "0375b454a30e4750905bac86cce80008",
       "version_major": 2,
       "version_minor": 0
      },
      "text/plain": [
       "interactive(children=(Dropdown(description='cause_group', options=('1', 'A', 'B', 'C', 'D', 'E', 'F', 'G', 'H'…"
      ]
     },
     "metadata": {},
     "output_type": "display_data"
    },
    {
     "data": {
      "application/vnd.plotly.v1+json": {
       "config": {
        "plotlyServerURL": "https://plot.ly"
       },
       "data": [
        {
         "geo": "geo",
         "hovertemplate": "<b>%{hovertext}</b><br><br>ISO_Alpha3=%{location}<br>Total_Deaths=%{marker.size}<extra></extra>",
         "hovertext": [
          "ABW"
         ],
         "legendgroup": "ABW",
         "locations": [
          "ABW"
         ],
         "marker": {
          "color": "#636efa",
          "size": [
           173
          ],
          "sizemode": "area",
          "sizeref": 239.6544,
          "symbol": "circle"
         },
         "mode": "markers",
         "name": "ABW",
         "showlegend": true,
         "type": "scattergeo"
        },
        {
         "geo": "geo",
         "hovertemplate": "<b>%{hovertext}</b><br><br>ISO_Alpha3=%{location}<br>Total_Deaths=%{marker.size}<extra></extra>",
         "hovertext": [
          "AIA"
         ],
         "legendgroup": "AIA",
         "locations": [
          "AIA"
         ],
         "marker": {
          "color": "#EF553B",
          "size": [
           19
          ],
          "sizemode": "area",
          "sizeref": 239.6544,
          "symbol": "circle"
         },
         "mode": "markers",
         "name": "AIA",
         "showlegend": true,
         "type": "scattergeo"
        },
        {
         "geo": "geo",
         "hovertemplate": "<b>%{hovertext}</b><br><br>ISO_Alpha3=%{location}<br>Total_Deaths=%{marker.size}<extra></extra>",
         "hovertext": [
          "ARG"
         ],
         "legendgroup": "ARG",
         "locations": [
          "ARG"
         ],
         "marker": {
          "color": "#00cc96",
          "size": [
           62731
          ],
          "sizemode": "area",
          "sizeref": 239.6544,
          "symbol": "circle"
         },
         "mode": "markers",
         "name": "ARG",
         "showlegend": true,
         "type": "scattergeo"
        },
        {
         "geo": "geo",
         "hovertemplate": "<b>%{hovertext}</b><br><br>ISO_Alpha3=%{location}<br>Total_Deaths=%{marker.size}<extra></extra>",
         "hovertext": [
          "ARM"
         ],
         "legendgroup": "ARM",
         "locations": [
          "ARM"
         ],
         "marker": {
          "color": "#ab63fa",
          "size": [
           5550
          ],
          "sizemode": "area",
          "sizeref": 239.6544,
          "symbol": "circle"
         },
         "mode": "markers",
         "name": "ARM",
         "showlegend": true,
         "type": "scattergeo"
        },
        {
         "geo": "geo",
         "hovertemplate": "<b>%{hovertext}</b><br><br>ISO_Alpha3=%{location}<br>Total_Deaths=%{marker.size}<extra></extra>",
         "hovertext": [
          "ATG"
         ],
         "legendgroup": "ATG",
         "locations": [
          "ATG"
         ],
         "marker": {
          "color": "#FFA15A",
          "size": [
           108
          ],
          "sizemode": "area",
          "sizeref": 239.6544,
          "symbol": "circle"
         },
         "mode": "markers",
         "name": "ATG",
         "showlegend": true,
         "type": "scattergeo"
        },
        {
         "geo": "geo",
         "hovertemplate": "<b>%{hovertext}</b><br><br>ISO_Alpha3=%{location}<br>Total_Deaths=%{marker.size}<extra></extra>",
         "hovertext": [
          "AUS"
         ],
         "legendgroup": "AUS",
         "locations": [
          "AUS"
         ],
         "marker": {
          "color": "#19d3f3",
          "size": [
           45265
          ],
          "sizemode": "area",
          "sizeref": 239.6544,
          "symbol": "circle"
         },
         "mode": "markers",
         "name": "AUS",
         "showlegend": true,
         "type": "scattergeo"
        },
        {
         "geo": "geo",
         "hovertemplate": "<b>%{hovertext}</b><br><br>ISO_Alpha3=%{location}<br>Total_Deaths=%{marker.size}<extra></extra>",
         "hovertext": [
          "AUT"
         ],
         "legendgroup": "AUT",
         "locations": [
          "AUT"
         ],
         "marker": {
          "color": "#FF6692",
          "size": [
           20261
          ],
          "sizemode": "area",
          "sizeref": 239.6544,
          "symbol": "circle"
         },
         "mode": "markers",
         "name": "AUT",
         "showlegend": true,
         "type": "scattergeo"
        },
        {
         "geo": "geo",
         "hovertemplate": "<b>%{hovertext}</b><br><br>ISO_Alpha3=%{location}<br>Total_Deaths=%{marker.size}<extra></extra>",
         "hovertext": [
          "BEL"
         ],
         "legendgroup": "BEL",
         "locations": [
          "BEL"
         ],
         "marker": {
          "color": "#B6E880",
          "size": [
           26672
          ],
          "sizemode": "area",
          "sizeref": 239.6544,
          "symbol": "circle"
         },
         "mode": "markers",
         "name": "BEL",
         "showlegend": true,
         "type": "scattergeo"
        },
        {
         "geo": "geo",
         "hovertemplate": "<b>%{hovertext}</b><br><br>ISO_Alpha3=%{location}<br>Total_Deaths=%{marker.size}<extra></extra>",
         "hovertext": [
          "BGR"
         ],
         "legendgroup": "BGR",
         "locations": [
          "BGR"
         ],
         "marker": {
          "color": "#FF97FF",
          "size": [
           17341
          ],
          "sizemode": "area",
          "sizeref": 239.6544,
          "symbol": "circle"
         },
         "mode": "markers",
         "name": "BGR",
         "showlegend": true,
         "type": "scattergeo"
        },
        {
         "geo": "geo",
         "hovertemplate": "<b>%{hovertext}</b><br><br>ISO_Alpha3=%{location}<br>Total_Deaths=%{marker.size}<extra></extra>",
         "hovertext": [
          "BIH"
         ],
         "legendgroup": "BIH",
         "locations": [
          "BIH"
         ],
         "marker": {
          "color": "#FECB52",
          "size": [
           7997
          ],
          "sizemode": "area",
          "sizeref": 239.6544,
          "symbol": "circle"
         },
         "mode": "markers",
         "name": "BIH",
         "showlegend": true,
         "type": "scattergeo"
        },
        {
         "geo": "geo",
         "hovertemplate": "<b>%{hovertext}</b><br><br>ISO_Alpha3=%{location}<br>Total_Deaths=%{marker.size}<extra></extra>",
         "hovertext": [
          "BMU"
         ],
         "legendgroup": "BMU",
         "locations": [
          "BMU"
         ],
         "marker": {
          "color": "#636efa",
          "size": [
           124
          ],
          "sizemode": "area",
          "sizeref": 239.6544,
          "symbol": "circle"
         },
         "mode": "markers",
         "name": "BMU",
         "showlegend": true,
         "type": "scattergeo"
        },
        {
         "geo": "geo",
         "hovertemplate": "<b>%{hovertext}</b><br><br>ISO_Alpha3=%{location}<br>Total_Deaths=%{marker.size}<extra></extra>",
         "hovertext": [
          "BRA"
         ],
         "legendgroup": "BRA",
         "locations": [
          "BRA"
         ],
         "marker": {
          "color": "#EF553B",
          "size": [
           217703
          ],
          "sizemode": "area",
          "sizeref": 239.6544,
          "symbol": "circle"
         },
         "mode": "markers",
         "name": "BRA",
         "showlegend": true,
         "type": "scattergeo"
        },
        {
         "geo": "geo",
         "hovertemplate": "<b>%{hovertext}</b><br><br>ISO_Alpha3=%{location}<br>Total_Deaths=%{marker.size}<extra></extra>",
         "hovertext": [
          "BRN"
         ],
         "legendgroup": "BRN",
         "locations": [
          "BRN"
         ],
         "marker": {
          "color": "#00cc96",
          "size": [
           327
          ],
          "sizemode": "area",
          "sizeref": 239.6544,
          "symbol": "circle"
         },
         "mode": "markers",
         "name": "BRN",
         "showlegend": true,
         "type": "scattergeo"
        },
        {
         "geo": "geo",
         "hovertemplate": "<b>%{hovertext}</b><br><br>ISO_Alpha3=%{location}<br>Total_Deaths=%{marker.size}<extra></extra>",
         "hovertext": [
          "CAN"
         ],
         "legendgroup": "CAN",
         "locations": [
          "CAN"
         ],
         "marker": {
          "color": "#ab63fa",
          "size": [
           79844
          ],
          "sizemode": "area",
          "sizeref": 239.6544,
          "symbol": "circle"
         },
         "mode": "markers",
         "name": "CAN",
         "showlegend": true,
         "type": "scattergeo"
        },
        {
         "geo": "geo",
         "hovertemplate": "<b>%{hovertext}</b><br><br>ISO_Alpha3=%{location}<br>Total_Deaths=%{marker.size}<extra></extra>",
         "hovertext": [
          "CHE"
         ],
         "legendgroup": "CHE",
         "locations": [
          "CHE"
         ],
         "marker": {
          "color": "#FFA15A",
          "size": [
           17295
          ],
          "sizemode": "area",
          "sizeref": 239.6544,
          "symbol": "circle"
         },
         "mode": "markers",
         "name": "CHE",
         "showlegend": true,
         "type": "scattergeo"
        },
        {
         "geo": "geo",
         "hovertemplate": "<b>%{hovertext}</b><br><br>ISO_Alpha3=%{location}<br>Total_Deaths=%{marker.size}<extra></extra>",
         "hovertext": [
          "CHL"
         ],
         "legendgroup": "CHL",
         "locations": [
          "CHL"
         ],
         "marker": {
          "color": "#19d3f3",
          "size": [
           26229
          ],
          "sizemode": "area",
          "sizeref": 239.6544,
          "symbol": "circle"
         },
         "mode": "markers",
         "name": "CHL",
         "showlegend": true,
         "type": "scattergeo"
        },
        {
         "geo": "geo",
         "hovertemplate": "<b>%{hovertext}</b><br><br>ISO_Alpha3=%{location}<br>Total_Deaths=%{marker.size}<extra></extra>",
         "hovertext": [
          "COL"
         ],
         "legendgroup": "COL",
         "locations": [
          "COL"
         ],
         "marker": {
          "color": "#FF6692",
          "size": [
           42610
          ],
          "sizemode": "area",
          "sizeref": 239.6544,
          "symbol": "circle"
         },
         "mode": "markers",
         "name": "COL",
         "showlegend": true,
         "type": "scattergeo"
        },
        {
         "geo": "geo",
         "hovertemplate": "<b>%{hovertext}</b><br><br>ISO_Alpha3=%{location}<br>Total_Deaths=%{marker.size}<extra></extra>",
         "hovertext": [
          "CRI"
         ],
         "legendgroup": "CRI",
         "locations": [
          "CRI"
         ],
         "marker": {
          "color": "#B6E880",
          "size": [
           4899
          ],
          "sizemode": "area",
          "sizeref": 239.6544,
          "symbol": "circle"
         },
         "mode": "markers",
         "name": "CRI",
         "showlegend": true,
         "type": "scattergeo"
        },
        {
         "geo": "geo",
         "hovertemplate": "<b>%{hovertext}</b><br><br>ISO_Alpha3=%{location}<br>Total_Deaths=%{marker.size}<extra></extra>",
         "hovertext": [
          "CUB"
         ],
         "legendgroup": "CUB",
         "locations": [
          "CUB"
         ],
         "marker": {
          "color": "#FF97FF",
          "size": [
           25232
          ],
          "sizemode": "area",
          "sizeref": 239.6544,
          "symbol": "circle"
         },
         "mode": "markers",
         "name": "CUB",
         "showlegend": true,
         "type": "scattergeo"
        },
        {
         "geo": "geo",
         "hovertemplate": "<b>%{hovertext}</b><br><br>ISO_Alpha3=%{location}<br>Total_Deaths=%{marker.size}<extra></extra>",
         "hovertext": [
          "CYM"
         ],
         "legendgroup": "CYM",
         "locations": [
          "CYM"
         ],
         "marker": {
          "color": "#FECB52",
          "size": [
           48
          ],
          "sizemode": "area",
          "sizeref": 239.6544,
          "symbol": "circle"
         },
         "mode": "markers",
         "name": "CYM",
         "showlegend": true,
         "type": "scattergeo"
        },
        {
         "geo": "geo",
         "hovertemplate": "<b>%{hovertext}</b><br><br>ISO_Alpha3=%{location}<br>Total_Deaths=%{marker.size}<extra></extra>",
         "hovertext": [
          "CYP"
         ],
         "legendgroup": "CYP",
         "locations": [
          "CYP"
         ],
         "marker": {
          "color": "#636efa",
          "size": [
           1423
          ],
          "sizemode": "area",
          "sizeref": 239.6544,
          "symbol": "circle"
         },
         "mode": "markers",
         "name": "CYP",
         "showlegend": true,
         "type": "scattergeo"
        },
        {
         "geo": "geo",
         "hovertemplate": "<b>%{hovertext}</b><br><br>ISO_Alpha3=%{location}<br>Total_Deaths=%{marker.size}<extra></extra>",
         "hovertext": [
          "CZE"
         ],
         "legendgroup": "CZE",
         "locations": [
          "CZE"
         ],
         "marker": {
          "color": "#EF553B",
          "size": [
           27320
          ],
          "sizemode": "area",
          "sizeref": 239.6544,
          "symbol": "circle"
         },
         "mode": "markers",
         "name": "CZE",
         "showlegend": true,
         "type": "scattergeo"
        },
        {
         "geo": "geo",
         "hovertemplate": "<b>%{hovertext}</b><br><br>ISO_Alpha3=%{location}<br>Total_Deaths=%{marker.size}<extra></extra>",
         "hovertext": [
          "DEU"
         ],
         "legendgroup": "DEU",
         "locations": [
          "DEU"
         ],
         "marker": {
          "color": "#00cc96",
          "size": [
           227590
          ],
          "sizemode": "area",
          "sizeref": 239.6544,
          "symbol": "circle"
         },
         "mode": "markers",
         "name": "DEU",
         "showlegend": true,
         "type": "scattergeo"
        },
        {
         "geo": "geo",
         "hovertemplate": "<b>%{hovertext}</b><br><br>ISO_Alpha3=%{location}<br>Total_Deaths=%{marker.size}<extra></extra>",
         "hovertext": [
          "DMA"
         ],
         "legendgroup": "DMA",
         "locations": [
          "DMA"
         ],
         "marker": {
          "color": "#ab63fa",
          "size": [
           93
          ],
          "sizemode": "area",
          "sizeref": 239.6544,
          "symbol": "circle"
         },
         "mode": "markers",
         "name": "DMA",
         "showlegend": true,
         "type": "scattergeo"
        },
        {
         "geo": "geo",
         "hovertemplate": "<b>%{hovertext}</b><br><br>ISO_Alpha3=%{location}<br>Total_Deaths=%{marker.size}<extra></extra>",
         "hovertext": [
          "DNK"
         ],
         "legendgroup": "DNK",
         "locations": [
          "DNK"
         ],
         "marker": {
          "color": "#FFA15A",
          "size": [
           15608
          ],
          "sizemode": "area",
          "sizeref": 239.6544,
          "symbol": "circle"
         },
         "mode": "markers",
         "name": "DNK",
         "showlegend": true,
         "type": "scattergeo"
        },
        {
         "geo": "geo",
         "hovertemplate": "<b>%{hovertext}</b><br><br>ISO_Alpha3=%{location}<br>Total_Deaths=%{marker.size}<extra></extra>",
         "hovertext": [
          "DOM"
         ],
         "legendgroup": "DOM",
         "locations": [
          "DOM"
         ],
         "marker": {
          "color": "#19d3f3",
          "size": [
           4259
          ],
          "sizemode": "area",
          "sizeref": 239.6544,
          "symbol": "circle"
         },
         "mode": "markers",
         "name": "DOM",
         "showlegend": true,
         "type": "scattergeo"
        },
        {
         "geo": "geo",
         "hovertemplate": "<b>%{hovertext}</b><br><br>ISO_Alpha3=%{location}<br>Total_Deaths=%{marker.size}<extra></extra>",
         "hovertext": [
          "ECU"
         ],
         "legendgroup": "ECU",
         "locations": [
          "ECU"
         ],
         "marker": {
          "color": "#FF6692",
          "size": [
           10894
          ],
          "sizemode": "area",
          "sizeref": 239.6544,
          "symbol": "circle"
         },
         "mode": "markers",
         "name": "ECU",
         "showlegend": true,
         "type": "scattergeo"
        },
        {
         "geo": "geo",
         "hovertemplate": "<b>%{hovertext}</b><br><br>ISO_Alpha3=%{location}<br>Total_Deaths=%{marker.size}<extra></extra>",
         "hovertext": [
          "EGY"
         ],
         "legendgroup": "EGY",
         "locations": [
          "EGY"
         ],
         "marker": {
          "color": "#B6E880",
          "size": [
           32499
          ],
          "sizemode": "area",
          "sizeref": 239.6544,
          "symbol": "circle"
         },
         "mode": "markers",
         "name": "EGY",
         "showlegend": true,
         "type": "scattergeo"
        },
        {
         "geo": "geo",
         "hovertemplate": "<b>%{hovertext}</b><br><br>ISO_Alpha3=%{location}<br>Total_Deaths=%{marker.size}<extra></extra>",
         "hovertext": [
          "ESP"
         ],
         "legendgroup": "ESP",
         "locations": [
          "ESP"
         ],
         "marker": {
          "color": "#FF97FF",
          "size": [
           109073
          ],
          "sizemode": "area",
          "sizeref": 239.6544,
          "symbol": "circle"
         },
         "mode": "markers",
         "name": "ESP",
         "showlegend": true,
         "type": "scattergeo"
        },
        {
         "geo": "geo",
         "hovertemplate": "<b>%{hovertext}</b><br><br>ISO_Alpha3=%{location}<br>Total_Deaths=%{marker.size}<extra></extra>",
         "hovertext": [
          "EST"
         ],
         "legendgroup": "EST",
         "locations": [
          "EST"
         ],
         "marker": {
          "color": "#FECB52",
          "size": [
           3816
          ],
          "sizemode": "area",
          "sizeref": 239.6544,
          "symbol": "circle"
         },
         "mode": "markers",
         "name": "EST",
         "showlegend": true,
         "type": "scattergeo"
        },
        {
         "geo": "geo",
         "hovertemplate": "<b>%{hovertext}</b><br><br>ISO_Alpha3=%{location}<br>Total_Deaths=%{marker.size}<extra></extra>",
         "hovertext": [
          "FIN"
         ],
         "legendgroup": "FIN",
         "locations": [
          "FIN"
         ],
         "marker": {
          "color": "#636efa",
          "size": [
           12573
          ],
          "sizemode": "area",
          "sizeref": 239.6544,
          "symbol": "circle"
         },
         "mode": "markers",
         "name": "FIN",
         "showlegend": true,
         "type": "scattergeo"
        },
        {
         "geo": "geo",
         "hovertemplate": "<b>%{hovertext}</b><br><br>ISO_Alpha3=%{location}<br>Total_Deaths=%{marker.size}<extra></extra>",
         "hovertext": [
          "FRA"
         ],
         "legendgroup": "FRA",
         "locations": [
          "FRA"
         ],
         "marker": {
          "color": "#EF553B",
          "size": [
           160623
          ],
          "sizemode": "area",
          "sizeref": 239.6544,
          "symbol": "circle"
         },
         "mode": "markers",
         "name": "FRA",
         "showlegend": true,
         "type": "scattergeo"
        },
        {
         "geo": "geo",
         "hovertemplate": "<b>%{hovertext}</b><br><br>ISO_Alpha3=%{location}<br>Total_Deaths=%{marker.size}<extra></extra>",
         "hovertext": [
          "GBR"
         ],
         "legendgroup": "GBR",
         "locations": [
          "GBR"
         ],
         "marker": {
          "color": "#00cc96",
          "size": [
           166643
          ],
          "sizemode": "area",
          "sizeref": 239.6544,
          "symbol": "circle"
         },
         "mode": "markers",
         "name": "GBR",
         "showlegend": true,
         "type": "scattergeo"
        },
        {
         "geo": "geo",
         "hovertemplate": "<b>%{hovertext}</b><br><br>ISO_Alpha3=%{location}<br>Total_Deaths=%{marker.size}<extra></extra>",
         "hovertext": [
          "GEO"
         ],
         "legendgroup": "GEO",
         "locations": [
          "GEO"
         ],
         "marker": {
          "color": "#ab63fa",
          "size": [
           6884
          ],
          "sizemode": "area",
          "sizeref": 239.6544,
          "symbol": "circle"
         },
         "mode": "markers",
         "name": "GEO",
         "showlegend": true,
         "type": "scattergeo"
        },
        {
         "geo": "geo",
         "hovertemplate": "<b>%{hovertext}</b><br><br>ISO_Alpha3=%{location}<br>Total_Deaths=%{marker.size}<extra></extra>",
         "hovertext": [
          "GLP"
         ],
         "legendgroup": "GLP",
         "locations": [
          "GLP"
         ],
         "marker": {
          "color": "#FFA15A",
          "size": [
           661
          ],
          "sizemode": "area",
          "sizeref": 239.6544,
          "symbol": "circle"
         },
         "mode": "markers",
         "name": "GLP",
         "showlegend": true,
         "type": "scattergeo"
        },
        {
         "geo": "geo",
         "hovertemplate": "<b>%{hovertext}</b><br><br>ISO_Alpha3=%{location}<br>Total_Deaths=%{marker.size}<extra></extra>",
         "hovertext": [
          "GRC"
         ],
         "legendgroup": "GRC",
         "locations": [
          "GRC"
         ],
         "marker": {
          "color": "#19d3f3",
          "size": [
           29872
          ],
          "sizemode": "area",
          "sizeref": 239.6544,
          "symbol": "circle"
         },
         "mode": "markers",
         "name": "GRC",
         "showlegend": true,
         "type": "scattergeo"
        },
        {
         "geo": "geo",
         "hovertemplate": "<b>%{hovertext}</b><br><br>ISO_Alpha3=%{location}<br>Total_Deaths=%{marker.size}<extra></extra>",
         "hovertext": [
          "GRD"
         ],
         "legendgroup": "GRD",
         "locations": [
          "GRD"
         ],
         "marker": {
          "color": "#FF6692",
          "size": [
           183
          ],
          "sizemode": "area",
          "sizeref": 239.6544,
          "symbol": "circle"
         },
         "mode": "markers",
         "name": "GRD",
         "showlegend": true,
         "type": "scattergeo"
        },
        {
         "geo": "geo",
         "hovertemplate": "<b>%{hovertext}</b><br><br>ISO_Alpha3=%{location}<br>Total_Deaths=%{marker.size}<extra></extra>",
         "hovertext": [
          "GTM"
         ],
         "legendgroup": "GTM",
         "locations": [
          "GTM"
         ],
         "marker": {
          "color": "#B6E880",
          "size": [
           7738
          ],
          "sizemode": "area",
          "sizeref": 239.6544,
          "symbol": "circle"
         },
         "mode": "markers",
         "name": "GTM",
         "showlegend": true,
         "type": "scattergeo"
        },
        {
         "geo": "geo",
         "hovertemplate": "<b>%{hovertext}</b><br><br>ISO_Alpha3=%{location}<br>Total_Deaths=%{marker.size}<extra></extra>",
         "hovertext": [
          "GUF"
         ],
         "legendgroup": "GUF",
         "locations": [
          "GUF"
         ],
         "marker": {
          "color": "#FF97FF",
          "size": [
           182
          ],
          "sizemode": "area",
          "sizeref": 239.6544,
          "symbol": "circle"
         },
         "mode": "markers",
         "name": "GUF",
         "showlegend": true,
         "type": "scattergeo"
        },
        {
         "geo": "geo",
         "hovertemplate": "<b>%{hovertext}</b><br><br>ISO_Alpha3=%{location}<br>Total_Deaths=%{marker.size}<extra></extra>",
         "hovertext": [
          "GUY"
         ],
         "legendgroup": "GUY",
         "locations": [
          "GUY"
         ],
         "marker": {
          "color": "#FECB52",
          "size": [
           572
          ],
          "sizemode": "area",
          "sizeref": 239.6544,
          "symbol": "circle"
         },
         "mode": "markers",
         "name": "GUY",
         "showlegend": true,
         "type": "scattergeo"
        },
        {
         "geo": "geo",
         "hovertemplate": "<b>%{hovertext}</b><br><br>ISO_Alpha3=%{location}<br>Total_Deaths=%{marker.size}<extra></extra>",
         "hovertext": [
          "HRV"
         ],
         "legendgroup": "HRV",
         "locations": [
          "HRV"
         ],
         "marker": {
          "color": "#636efa",
          "size": [
           13716
          ],
          "sizemode": "area",
          "sizeref": 239.6544,
          "symbol": "circle"
         },
         "mode": "markers",
         "name": "HRV",
         "showlegend": true,
         "type": "scattergeo"
        },
        {
         "geo": "geo",
         "hovertemplate": "<b>%{hovertext}</b><br><br>ISO_Alpha3=%{location}<br>Total_Deaths=%{marker.size}<extra></extra>",
         "hovertext": [
          "HUN"
         ],
         "legendgroup": "HUN",
         "locations": [
          "HUN"
         ],
         "marker": {
          "color": "#EF553B",
          "size": [
           32844
          ],
          "sizemode": "area",
          "sizeref": 239.6544,
          "symbol": "circle"
         },
         "mode": "markers",
         "name": "HUN",
         "showlegend": true,
         "type": "scattergeo"
        },
        {
         "geo": "geo",
         "hovertemplate": "<b>%{hovertext}</b><br><br>ISO_Alpha3=%{location}<br>Total_Deaths=%{marker.size}<extra></extra>",
         "hovertext": [
          "IRL"
         ],
         "legendgroup": "IRL",
         "locations": [
          "IRL"
         ],
         "marker": {
          "color": "#00cc96",
          "size": [
           9126
          ],
          "sizemode": "area",
          "sizeref": 239.6544,
          "symbol": "circle"
         },
         "mode": "markers",
         "name": "IRL",
         "showlegend": true,
         "type": "scattergeo"
        },
        {
         "geo": "geo",
         "hovertemplate": "<b>%{hovertext}</b><br><br>ISO_Alpha3=%{location}<br>Total_Deaths=%{marker.size}<extra></extra>",
         "hovertext": [
          "ISL"
         ],
         "legendgroup": "ISL",
         "locations": [
          "ISL"
         ],
         "marker": {
          "color": "#ab63fa",
          "size": [
           594
          ],
          "sizemode": "area",
          "sizeref": 239.6544,
          "symbol": "circle"
         },
         "mode": "markers",
         "name": "ISL",
         "showlegend": true,
         "type": "scattergeo"
        },
        {
         "geo": "geo",
         "hovertemplate": "<b>%{hovertext}</b><br><br>ISO_Alpha3=%{location}<br>Total_Deaths=%{marker.size}<extra></extra>",
         "hovertext": [
          "ISR"
         ],
         "legendgroup": "ISR",
         "locations": [
          "ISR"
         ],
         "marker": {
          "color": "#FFA15A",
          "size": [
           11223
          ],
          "sizemode": "area",
          "sizeref": 239.6544,
          "symbol": "circle"
         },
         "mode": "markers",
         "name": "ISR",
         "showlegend": true,
         "type": "scattergeo"
        },
        {
         "geo": "geo",
         "hovertemplate": "<b>%{hovertext}</b><br><br>ISO_Alpha3=%{location}<br>Total_Deaths=%{marker.size}<extra></extra>",
         "hovertext": [
          "ITA"
         ],
         "legendgroup": "ITA",
         "locations": [
          "ITA"
         ],
         "marker": {
          "color": "#19d3f3",
          "size": [
           170554
          ],
          "sizemode": "area",
          "sizeref": 239.6544,
          "symbol": "circle"
         },
         "mode": "markers",
         "name": "ITA",
         "showlegend": true,
         "type": "scattergeo"
        },
        {
         "geo": "geo",
         "hovertemplate": "<b>%{hovertext}</b><br><br>ISO_Alpha3=%{location}<br>Total_Deaths=%{marker.size}<extra></extra>",
         "hovertext": [
          "JOR"
         ],
         "legendgroup": "JOR",
         "locations": [
          "JOR"
         ],
         "marker": {
          "color": "#FF6692",
          "size": [
           3105
          ],
          "sizemode": "area",
          "sizeref": 239.6544,
          "symbol": "circle"
         },
         "mode": "markers",
         "name": "JOR",
         "showlegend": true,
         "type": "scattergeo"
        },
        {
         "geo": "geo",
         "hovertemplate": "<b>%{hovertext}</b><br><br>ISO_Alpha3=%{location}<br>Total_Deaths=%{marker.size}<extra></extra>",
         "hovertext": [
          "JPN"
         ],
         "legendgroup": "JPN",
         "locations": [
          "JPN"
         ],
         "marker": {
          "color": "#B6E880",
          "size": [
           373334
          ],
          "sizemode": "area",
          "sizeref": 239.6544,
          "symbol": "circle"
         },
         "mode": "markers",
         "name": "JPN",
         "showlegend": true,
         "type": "scattergeo"
        },
        {
         "geo": "geo",
         "hovertemplate": "<b>%{hovertext}</b><br><br>ISO_Alpha3=%{location}<br>Total_Deaths=%{marker.size}<extra></extra>",
         "hovertext": [
          "KAZ"
         ],
         "legendgroup": "KAZ",
         "locations": [
          "KAZ"
         ],
         "marker": {
          "color": "#FF97FF",
          "size": [
           15133
          ],
          "sizemode": "area",
          "sizeref": 239.6544,
          "symbol": "circle"
         },
         "mode": "markers",
         "name": "KAZ",
         "showlegend": true,
         "type": "scattergeo"
        },
        {
         "geo": "geo",
         "hovertemplate": "<b>%{hovertext}</b><br><br>ISO_Alpha3=%{location}<br>Total_Deaths=%{marker.size}<extra></extra>",
         "hovertext": [
          "KGZ"
         ],
         "legendgroup": "KGZ",
         "locations": [
          "KGZ"
         ],
         "marker": {
          "color": "#FECB52",
          "size": [
           3786
          ],
          "sizemode": "area",
          "sizeref": 239.6544,
          "symbol": "circle"
         },
         "mode": "markers",
         "name": "KGZ",
         "showlegend": true,
         "type": "scattergeo"
        },
        {
         "geo": "geo",
         "hovertemplate": "<b>%{hovertext}</b><br><br>ISO_Alpha3=%{location}<br>Total_Deaths=%{marker.size}<extra></extra>",
         "hovertext": [
          "KWT"
         ],
         "legendgroup": "KWT",
         "locations": [
          "KWT"
         ],
         "marker": {
          "color": "#636efa",
          "size": [
           931
          ],
          "sizemode": "area",
          "sizeref": 239.6544,
          "symbol": "circle"
         },
         "mode": "markers",
         "name": "KWT",
         "showlegend": true,
         "type": "scattergeo"
        },
        {
         "geo": "geo",
         "hovertemplate": "<b>%{hovertext}</b><br><br>ISO_Alpha3=%{location}<br>Total_Deaths=%{marker.size}<extra></extra>",
         "hovertext": [
          "LBN"
         ],
         "legendgroup": "LBN",
         "locations": [
          "LBN"
         ],
         "marker": {
          "color": "#EF553B",
          "size": [
           3066
          ],
          "sizemode": "area",
          "sizeref": 239.6544,
          "symbol": "circle"
         },
         "mode": "markers",
         "name": "LBN",
         "showlegend": true,
         "type": "scattergeo"
        },
        {
         "geo": "geo",
         "hovertemplate": "<b>%{hovertext}</b><br><br>ISO_Alpha3=%{location}<br>Total_Deaths=%{marker.size}<extra></extra>",
         "hovertext": [
          "LCA"
         ],
         "legendgroup": "LCA",
         "locations": [
          "LCA"
         ],
         "marker": {
          "color": "#00cc96",
          "size": [
           228
          ],
          "sizemode": "area",
          "sizeref": 239.6544,
          "symbol": "circle"
         },
         "mode": "markers",
         "name": "LCA",
         "showlegend": true,
         "type": "scattergeo"
        },
        {
         "geo": "geo",
         "hovertemplate": "<b>%{hovertext}</b><br><br>ISO_Alpha3=%{location}<br>Total_Deaths=%{marker.size}<extra></extra>",
         "hovertext": [
          "LTU"
         ],
         "legendgroup": "LTU",
         "locations": [
          "LTU"
         ],
         "marker": {
          "color": "#ab63fa",
          "size": [
           7996
          ],
          "sizemode": "area",
          "sizeref": 239.6544,
          "symbol": "circle"
         },
         "mode": "markers",
         "name": "LTU",
         "showlegend": true,
         "type": "scattergeo"
        },
        {
         "geo": "geo",
         "hovertemplate": "<b>%{hovertext}</b><br><br>ISO_Alpha3=%{location}<br>Total_Deaths=%{marker.size}<extra></extra>",
         "hovertext": [
          "LUX"
         ],
         "legendgroup": "LUX",
         "locations": [
          "LUX"
         ],
         "marker": {
          "color": "#FFA15A",
          "size": [
           1075
          ],
          "sizemode": "area",
          "sizeref": 239.6544,
          "symbol": "circle"
         },
         "mode": "markers",
         "name": "LUX",
         "showlegend": true,
         "type": "scattergeo"
        },
        {
         "geo": "geo",
         "hovertemplate": "<b>%{hovertext}</b><br><br>ISO_Alpha3=%{location}<br>Total_Deaths=%{marker.size}<extra></extra>",
         "hovertext": [
          "LVA"
         ],
         "legendgroup": "LVA",
         "locations": [
          "LVA"
         ],
         "marker": {
          "color": "#19d3f3",
          "size": [
           5988
          ],
          "sizemode": "area",
          "sizeref": 239.6544,
          "symbol": "circle"
         },
         "mode": "markers",
         "name": "LVA",
         "showlegend": true,
         "type": "scattergeo"
        },
        {
         "geo": "geo",
         "hovertemplate": "<b>%{hovertext}</b><br><br>ISO_Alpha3=%{location}<br>Total_Deaths=%{marker.size}<extra></extra>",
         "hovertext": [
          "MDA"
         ],
         "legendgroup": "MDA",
         "locations": [
          "MDA"
         ],
         "marker": {
          "color": "#FF6692",
          "size": [
           6078
          ],
          "sizemode": "area",
          "sizeref": 239.6544,
          "symbol": "circle"
         },
         "mode": "markers",
         "name": "MDA",
         "showlegend": true,
         "type": "scattergeo"
        },
        {
         "geo": "geo",
         "hovertemplate": "<b>%{hovertext}</b><br><br>ISO_Alpha3=%{location}<br>Total_Deaths=%{marker.size}<extra></extra>",
         "hovertext": [
          "MDV"
         ],
         "legendgroup": "MDV",
         "locations": [
          "MDV"
         ],
         "marker": {
          "color": "#B6E880",
          "size": [
           91
          ],
          "sizemode": "area",
          "sizeref": 239.6544,
          "symbol": "circle"
         },
         "mode": "markers",
         "name": "MDV",
         "showlegend": true,
         "type": "scattergeo"
        },
        {
         "geo": "geo",
         "hovertemplate": "<b>%{hovertext}</b><br><br>ISO_Alpha3=%{location}<br>Total_Deaths=%{marker.size}<extra></extra>",
         "hovertext": [
          "MEX"
         ],
         "legendgroup": "MEX",
         "locations": [
          "MEX"
         ],
         "marker": {
          "color": "#FF97FF",
          "size": [
           82492
          ],
          "sizemode": "area",
          "sizeref": 239.6544,
          "symbol": "circle"
         },
         "mode": "markers",
         "name": "MEX",
         "showlegend": true,
         "type": "scattergeo"
        },
        {
         "geo": "geo",
         "hovertemplate": "<b>%{hovertext}</b><br><br>ISO_Alpha3=%{location}<br>Total_Deaths=%{marker.size}<extra></extra>",
         "hovertext": [
          "MKD"
         ],
         "legendgroup": "MKD",
         "locations": [
          "MKD"
         ],
         "marker": {
          "color": "#FECB52",
          "size": [
           3680
          ],
          "sizemode": "area",
          "sizeref": 239.6544,
          "symbol": "circle"
         },
         "mode": "markers",
         "name": "MKD",
         "showlegend": true,
         "type": "scattergeo"
        },
        {
         "geo": "geo",
         "hovertemplate": "<b>%{hovertext}</b><br><br>ISO_Alpha3=%{location}<br>Total_Deaths=%{marker.size}<extra></extra>",
         "hovertext": [
          "MLT"
         ],
         "legendgroup": "MLT",
         "locations": [
          "MLT"
         ],
         "marker": {
          "color": "#636efa",
          "size": [
           948
          ],
          "sizemode": "area",
          "sizeref": 239.6544,
          "symbol": "circle"
         },
         "mode": "markers",
         "name": "MLT",
         "showlegend": true,
         "type": "scattergeo"
        },
        {
         "geo": "geo",
         "hovertemplate": "<b>%{hovertext}</b><br><br>ISO_Alpha3=%{location}<br>Total_Deaths=%{marker.size}<extra></extra>",
         "hovertext": [
          "MNE"
         ],
         "legendgroup": "MNE",
         "locations": [
          "MNE"
         ],
         "marker": {
          "color": "#EF553B",
          "size": [
           1251
          ],
          "sizemode": "area",
          "sizeref": 239.6544,
          "symbol": "circle"
         },
         "mode": "markers",
         "name": "MNE",
         "showlegend": true,
         "type": "scattergeo"
        },
        {
         "geo": "geo",
         "hovertemplate": "<b>%{hovertext}</b><br><br>ISO_Alpha3=%{location}<br>Total_Deaths=%{marker.size}<extra></extra>",
         "hovertext": [
          "MNG"
         ],
         "legendgroup": "MNG",
         "locations": [
          "MNG"
         ],
         "marker": {
          "color": "#00cc96",
          "size": [
           3993
          ],
          "sizemode": "area",
          "sizeref": 239.6544,
          "symbol": "circle"
         },
         "mode": "markers",
         "name": "MNG",
         "showlegend": true,
         "type": "scattergeo"
        },
        {
         "geo": "geo",
         "hovertemplate": "<b>%{hovertext}</b><br><br>ISO_Alpha3=%{location}<br>Total_Deaths=%{marker.size}<extra></extra>",
         "hovertext": [
          "MSR"
         ],
         "legendgroup": "MSR",
         "locations": [
          "MSR"
         ],
         "marker": {
          "color": "#ab63fa",
          "size": [
           3
          ],
          "sizemode": "area",
          "sizeref": 239.6544,
          "symbol": "circle"
         },
         "mode": "markers",
         "name": "MSR",
         "showlegend": true,
         "type": "scattergeo"
        },
        {
         "geo": "geo",
         "hovertemplate": "<b>%{hovertext}</b><br><br>ISO_Alpha3=%{location}<br>Total_Deaths=%{marker.size}<extra></extra>",
         "hovertext": [
          "MTQ"
         ],
         "legendgroup": "MTQ",
         "locations": [
          "MTQ"
         ],
         "marker": {
          "color": "#FFA15A",
          "size": [
           865
          ],
          "sizemode": "area",
          "sizeref": 239.6544,
          "symbol": "circle"
         },
         "mode": "markers",
         "name": "MTQ",
         "showlegend": true,
         "type": "scattergeo"
        },
        {
         "geo": "geo",
         "hovertemplate": "<b>%{hovertext}</b><br><br>ISO_Alpha3=%{location}<br>Total_Deaths=%{marker.size}<extra></extra>",
         "hovertext": [
          "MUS"
         ],
         "legendgroup": "MUS",
         "locations": [
          "MUS"
         ],
         "marker": {
          "color": "#19d3f3",
          "size": [
           1317
          ],
          "sizemode": "area",
          "sizeref": 239.6544,
          "symbol": "circle"
         },
         "mode": "markers",
         "name": "MUS",
         "showlegend": true,
         "type": "scattergeo"
        },
        {
         "geo": "geo",
         "hovertemplate": "<b>%{hovertext}</b><br><br>ISO_Alpha3=%{location}<br>Total_Deaths=%{marker.size}<extra></extra>",
         "hovertext": [
          "MYS"
         ],
         "legendgroup": "MYS",
         "locations": [
          "MYS"
         ],
         "marker": {
          "color": "#FF6692",
          "size": [
           13030
          ],
          "sizemode": "area",
          "sizeref": 239.6544,
          "symbol": "circle"
         },
         "mode": "markers",
         "name": "MYS",
         "showlegend": true,
         "type": "scattergeo"
        },
        {
         "geo": "geo",
         "hovertemplate": "<b>%{hovertext}</b><br><br>ISO_Alpha3=%{location}<br>Total_Deaths=%{marker.size}<extra></extra>",
         "hovertext": [
          "MYT"
         ],
         "legendgroup": "MYT",
         "locations": [
          "MYT"
         ],
         "marker": {
          "color": "#B6E880",
          "size": [
           92
          ],
          "sizemode": "area",
          "sizeref": 239.6544,
          "symbol": "circle"
         },
         "mode": "markers",
         "name": "MYT",
         "showlegend": true,
         "type": "scattergeo"
        },
        {
         "geo": "geo",
         "hovertemplate": "<b>%{hovertext}</b><br><br>ISO_Alpha3=%{location}<br>Total_Deaths=%{marker.size}<extra></extra>",
         "hovertext": [
          "NIC"
         ],
         "legendgroup": "NIC",
         "locations": [
          "NIC"
         ],
         "marker": {
          "color": "#FF97FF",
          "size": [
           2825
          ],
          "sizemode": "area",
          "sizeref": 239.6544,
          "symbol": "circle"
         },
         "mode": "markers",
         "name": "NIC",
         "showlegend": true,
         "type": "scattergeo"
        },
        {
         "geo": "geo",
         "hovertemplate": "<b>%{hovertext}</b><br><br>ISO_Alpha3=%{location}<br>Total_Deaths=%{marker.size}<extra></extra>",
         "hovertext": [
          "NLD"
         ],
         "legendgroup": "NLD",
         "locations": [
          "NLD"
         ],
         "marker": {
          "color": "#FECB52",
          "size": [
           44908
          ],
          "sizemode": "area",
          "sizeref": 239.6544,
          "symbol": "circle"
         },
         "mode": "markers",
         "name": "NLD",
         "showlegend": true,
         "type": "scattergeo"
        },
        {
         "geo": "geo",
         "hovertemplate": "<b>%{hovertext}</b><br><br>ISO_Alpha3=%{location}<br>Total_Deaths=%{marker.size}<extra></extra>",
         "hovertext": [
          "NOR"
         ],
         "legendgroup": "NOR",
         "locations": [
          "NOR"
         ],
         "marker": {
          "color": "#636efa",
          "size": [
           10909
          ],
          "sizemode": "area",
          "sizeref": 239.6544,
          "symbol": "circle"
         },
         "mode": "markers",
         "name": "NOR",
         "showlegend": true,
         "type": "scattergeo"
        },
        {
         "geo": "geo",
         "hovertemplate": "<b>%{hovertext}</b><br><br>ISO_Alpha3=%{location}<br>Total_Deaths=%{marker.size}<extra></extra>",
         "hovertext": [
          "OMN"
         ],
         "legendgroup": "OMN",
         "locations": [
          "OMN"
         ],
         "marker": {
          "color": "#EF553B",
          "size": [
           372
          ],
          "sizemode": "area",
          "sizeref": 239.6544,
          "symbol": "circle"
         },
         "mode": "markers",
         "name": "OMN",
         "showlegend": true,
         "type": "scattergeo"
        },
        {
         "geo": "geo",
         "hovertemplate": "<b>%{hovertext}</b><br><br>ISO_Alpha3=%{location}<br>Total_Deaths=%{marker.size}<extra></extra>",
         "hovertext": [
          "PAN"
         ],
         "legendgroup": "PAN",
         "locations": [
          "PAN"
         ],
         "marker": {
          "color": "#00cc96",
          "size": [
           3061
          ],
          "sizemode": "area",
          "sizeref": 239.6544,
          "symbol": "circle"
         },
         "mode": "markers",
         "name": "PAN",
         "showlegend": true,
         "type": "scattergeo"
        },
        {
         "geo": "geo",
         "hovertemplate": "<b>%{hovertext}</b><br><br>ISO_Alpha3=%{location}<br>Total_Deaths=%{marker.size}<extra></extra>",
         "hovertext": [
          "PER"
         ],
         "legendgroup": "PER",
         "locations": [
          "PER"
         ],
         "marker": {
          "color": "#ab63fa",
          "size": [
           19738
          ],
          "sizemode": "area",
          "sizeref": 239.6544,
          "symbol": "circle"
         },
         "mode": "markers",
         "name": "PER",
         "showlegend": true,
         "type": "scattergeo"
        },
        {
         "geo": "geo",
         "hovertemplate": "<b>%{hovertext}</b><br><br>ISO_Alpha3=%{location}<br>Total_Deaths=%{marker.size}<extra></extra>",
         "hovertext": [
          "PHL"
         ],
         "legendgroup": "PHL",
         "locations": [
          "PHL"
         ],
         "marker": {
          "color": "#FFA15A",
          "size": [
           60807
          ],
          "sizemode": "area",
          "sizeref": 239.6544,
          "symbol": "circle"
         },
         "mode": "markers",
         "name": "PHL",
         "showlegend": true,
         "type": "scattergeo"
        },
        {
         "geo": "geo",
         "hovertemplate": "<b>%{hovertext}</b><br><br>ISO_Alpha3=%{location}<br>Total_Deaths=%{marker.size}<extra></extra>",
         "hovertext": [
          "POL"
         ],
         "legendgroup": "POL",
         "locations": [
          "POL"
         ],
         "marker": {
          "color": "#19d3f3",
          "size": [
           99643
          ],
          "sizemode": "area",
          "sizeref": 239.6544,
          "symbol": "circle"
         },
         "mode": "markers",
         "name": "POL",
         "showlegend": true,
         "type": "scattergeo"
        },
        {
         "geo": "geo",
         "hovertemplate": "<b>%{hovertext}</b><br><br>ISO_Alpha3=%{location}<br>Total_Deaths=%{marker.size}<extra></extra>",
         "hovertext": [
          "PRI"
         ],
         "legendgroup": "PRI",
         "locations": [
          "PRI"
         ],
         "marker": {
          "color": "#FF6692",
          "size": [
           5210
          ],
          "sizemode": "area",
          "sizeref": 239.6544,
          "symbol": "circle"
         },
         "mode": "markers",
         "name": "PRI",
         "showlegend": true,
         "type": "scattergeo"
        },
        {
         "geo": "geo",
         "hovertemplate": "<b>%{hovertext}</b><br><br>ISO_Alpha3=%{location}<br>Total_Deaths=%{marker.size}<extra></extra>",
         "hovertext": [
          "PRT"
         ],
         "legendgroup": "PRT",
         "locations": [
          "PRT"
         ],
         "marker": {
          "color": "#B6E880",
          "size": [
           27503
          ],
          "sizemode": "area",
          "sizeref": 239.6544,
          "symbol": "circle"
         },
         "mode": "markers",
         "name": "PRT",
         "showlegend": true,
         "type": "scattergeo"
        },
        {
         "geo": "geo",
         "hovertemplate": "<b>%{hovertext}</b><br><br>ISO_Alpha3=%{location}<br>Total_Deaths=%{marker.size}<extra></extra>",
         "hovertext": [
          "PRY"
         ],
         "legendgroup": "PRY",
         "locations": [
          "PRY"
         ],
         "marker": {
          "color": "#FF97FF",
          "size": [
           4329
          ],
          "sizemode": "area",
          "sizeref": 239.6544,
          "symbol": "circle"
         },
         "mode": "markers",
         "name": "PRY",
         "showlegend": true,
         "type": "scattergeo"
        },
        {
         "geo": "geo",
         "hovertemplate": "<b>%{hovertext}</b><br><br>ISO_Alpha3=%{location}<br>Total_Deaths=%{marker.size}<extra></extra>",
         "hovertext": [
          "QAT"
         ],
         "legendgroup": "QAT",
         "locations": [
          "QAT"
         ],
         "marker": {
          "color": "#FECB52",
          "size": [
           284
          ],
          "sizemode": "area",
          "sizeref": 239.6544,
          "symbol": "circle"
         },
         "mode": "markers",
         "name": "QAT",
         "showlegend": true,
         "type": "scattergeo"
        },
        {
         "geo": "geo",
         "hovertemplate": "<b>%{hovertext}</b><br><br>ISO_Alpha3=%{location}<br>Total_Deaths=%{marker.size}<extra></extra>",
         "hovertext": [
          "ROU"
         ],
         "legendgroup": "ROU",
         "locations": [
          "ROU"
         ],
         "marker": {
          "color": "#636efa",
          "size": [
           51601
          ],
          "sizemode": "area",
          "sizeref": 239.6544,
          "symbol": "circle"
         },
         "mode": "markers",
         "name": "ROU",
         "showlegend": true,
         "type": "scattergeo"
        },
        {
         "geo": "geo",
         "hovertemplate": "<b>%{hovertext}</b><br><br>ISO_Alpha3=%{location}<br>Total_Deaths=%{marker.size}<extra></extra>",
         "hovertext": [
          "SGP"
         ],
         "legendgroup": "SGP",
         "locations": [
          "SGP"
         ],
         "marker": {
          "color": "#EF553B",
          "size": [
           5780
          ],
          "sizemode": "area",
          "sizeref": 239.6544,
          "symbol": "circle"
         },
         "mode": "markers",
         "name": "SGP",
         "showlegend": true,
         "type": "scattergeo"
        },
        {
         "geo": "geo",
         "hovertemplate": "<b>%{hovertext}</b><br><br>ISO_Alpha3=%{location}<br>Total_Deaths=%{marker.size}<extra></extra>",
         "hovertext": [
          "SLB"
         ],
         "legendgroup": "SLB",
         "locations": [
          "SLB"
         ],
         "marker": {
          "color": "#00cc96",
          "size": [
           51
          ],
          "sizemode": "area",
          "sizeref": 239.6544,
          "symbol": "circle"
         },
         "mode": "markers",
         "name": "SLB",
         "showlegend": true,
         "type": "scattergeo"
        },
        {
         "geo": "geo",
         "hovertemplate": "<b>%{hovertext}</b><br><br>ISO_Alpha3=%{location}<br>Total_Deaths=%{marker.size}<extra></extra>",
         "hovertext": [
          "SLV"
         ],
         "legendgroup": "SLV",
         "locations": [
          "SLV"
         ],
         "marker": {
          "color": "#ab63fa",
          "size": [
           3164
          ],
          "sizemode": "area",
          "sizeref": 239.6544,
          "symbol": "circle"
         },
         "mode": "markers",
         "name": "SLV",
         "showlegend": true,
         "type": "scattergeo"
        },
        {
         "geo": "geo",
         "hovertemplate": "<b>%{hovertext}</b><br><br>ISO_Alpha3=%{location}<br>Total_Deaths=%{marker.size}<extra></extra>",
         "hovertext": [
          "SRB"
         ],
         "legendgroup": "SRB",
         "locations": [
          "SRB"
         ],
         "marker": {
          "color": "#FFA15A",
          "size": [
           21475
          ],
          "sizemode": "area",
          "sizeref": 239.6544,
          "symbol": "circle"
         },
         "mode": "markers",
         "name": "SRB",
         "showlegend": true,
         "type": "scattergeo"
        },
        {
         "geo": "geo",
         "hovertemplate": "<b>%{hovertext}</b><br><br>ISO_Alpha3=%{location}<br>Total_Deaths=%{marker.size}<extra></extra>",
         "hovertext": [
          "SVK"
         ],
         "legendgroup": "SVK",
         "locations": [
          "SVK"
         ],
         "marker": {
          "color": "#19d3f3",
          "size": [
           13731
          ],
          "sizemode": "area",
          "sizeref": 239.6544,
          "symbol": "circle"
         },
         "mode": "markers",
         "name": "SVK",
         "showlegend": true,
         "type": "scattergeo"
        },
        {
         "geo": "geo",
         "hovertemplate": "<b>%{hovertext}</b><br><br>ISO_Alpha3=%{location}<br>Total_Deaths=%{marker.size}<extra></extra>",
         "hovertext": [
          "SVN"
         ],
         "legendgroup": "SVN",
         "locations": [
          "SVN"
         ],
         "marker": {
          "color": "#FF6692",
          "size": [
           6306
          ],
          "sizemode": "area",
          "sizeref": 239.6544,
          "symbol": "circle"
         },
         "mode": "markers",
         "name": "SVN",
         "showlegend": true,
         "type": "scattergeo"
        },
        {
         "geo": "geo",
         "hovertemplate": "<b>%{hovertext}</b><br><br>ISO_Alpha3=%{location}<br>Total_Deaths=%{marker.size}<extra></extra>",
         "hovertext": [
          "SWE"
         ],
         "legendgroup": "SWE",
         "locations": [
          "SWE"
         ],
         "marker": {
          "color": "#B6E880",
          "size": [
           22955
          ],
          "sizemode": "area",
          "sizeref": 239.6544,
          "symbol": "circle"
         },
         "mode": "markers",
         "name": "SWE",
         "showlegend": true,
         "type": "scattergeo"
        },
        {
         "geo": "geo",
         "hovertemplate": "<b>%{hovertext}</b><br><br>ISO_Alpha3=%{location}<br>Total_Deaths=%{marker.size}<extra></extra>",
         "hovertext": [
          "TCA"
         ],
         "legendgroup": "TCA",
         "locations": [
          "TCA"
         ],
         "marker": {
          "color": "#FF97FF",
          "size": [
           26
          ],
          "sizemode": "area",
          "sizeref": 239.6544,
          "symbol": "circle"
         },
         "mode": "markers",
         "name": "TCA",
         "showlegend": true,
         "type": "scattergeo"
        },
        {
         "geo": "geo",
         "hovertemplate": "<b>%{hovertext}</b><br><br>ISO_Alpha3=%{location}<br>Total_Deaths=%{marker.size}<extra></extra>",
         "hovertext": [
          "THA"
         ],
         "legendgroup": "THA",
         "locations": [
          "THA"
         ],
         "marker": {
          "color": "#FECB52",
          "size": [
           76702
          ],
          "sizemode": "area",
          "sizeref": 239.6544,
          "symbol": "circle"
         },
         "mode": "markers",
         "name": "THA",
         "showlegend": true,
         "type": "scattergeo"
        },
        {
         "geo": "geo",
         "hovertemplate": "<b>%{hovertext}</b><br><br>ISO_Alpha3=%{location}<br>Total_Deaths=%{marker.size}<extra></extra>",
         "hovertext": [
          "TJK"
         ],
         "legendgroup": "TJK",
         "locations": [
          "TJK"
         ],
         "marker": {
          "color": "#636efa",
          "size": [
           2674
          ],
          "sizemode": "area",
          "sizeref": 239.6544,
          "symbol": "circle"
         },
         "mode": "markers",
         "name": "TJK",
         "showlegend": true,
         "type": "scattergeo"
        },
        {
         "geo": "geo",
         "hovertemplate": "<b>%{hovertext}</b><br><br>ISO_Alpha3=%{location}<br>Total_Deaths=%{marker.size}<extra></extra>",
         "hovertext": [
          "TUN"
         ],
         "legendgroup": "TUN",
         "locations": [
          "TUN"
         ],
         "marker": {
          "color": "#EF553B",
          "size": [
           4130
          ],
          "sizemode": "area",
          "sizeref": 239.6544,
          "symbol": "circle"
         },
         "mode": "markers",
         "name": "TUN",
         "showlegend": true,
         "type": "scattergeo"
        },
        {
         "geo": "geo",
         "hovertemplate": "<b>%{hovertext}</b><br><br>ISO_Alpha3=%{location}<br>Total_Deaths=%{marker.size}<extra></extra>",
         "hovertext": [
          "URY"
         ],
         "legendgroup": "URY",
         "locations": [
          "URY"
         ],
         "marker": {
          "color": "#00cc96",
          "size": [
           7539
          ],
          "sizemode": "area",
          "sizeref": 239.6544,
          "symbol": "circle"
         },
         "mode": "markers",
         "name": "URY",
         "showlegend": true,
         "type": "scattergeo"
        },
        {
         "geo": "geo",
         "hovertemplate": "<b>%{hovertext}</b><br><br>ISO_Alpha3=%{location}<br>Total_Deaths=%{marker.size}<extra></extra>",
         "hovertext": [
          "USA"
         ],
         "legendgroup": "USA",
         "locations": [
          "USA"
         ],
         "marker": {
          "color": "#ab63fa",
          "size": [
           599136
          ],
          "sizemode": "area",
          "sizeref": 239.6544,
          "symbol": "circle"
         },
         "mode": "markers",
         "name": "USA",
         "showlegend": true,
         "type": "scattergeo"
        },
        {
         "geo": "geo",
         "hovertemplate": "<b>%{hovertext}</b><br><br>ISO_Alpha3=%{location}<br>Total_Deaths=%{marker.size}<extra></extra>",
         "hovertext": [
          "UZB"
         ],
         "legendgroup": "UZB",
         "locations": [
          "UZB"
         ],
         "marker": {
          "color": "#FFA15A",
          "size": [
           15068
          ],
          "sizemode": "area",
          "sizeref": 239.6544,
          "symbol": "circle"
         },
         "mode": "markers",
         "name": "UZB",
         "showlegend": true,
         "type": "scattergeo"
        },
        {
         "geo": "geo",
         "hovertemplate": "<b>%{hovertext}</b><br><br>ISO_Alpha3=%{location}<br>Total_Deaths=%{marker.size}<extra></extra>",
         "hovertext": [
          "VGB"
         ],
         "legendgroup": "VGB",
         "locations": [
          "VGB"
         ],
         "marker": {
          "color": "#19d3f3",
          "size": [
           19
          ],
          "sizemode": "area",
          "sizeref": 239.6544,
          "symbol": "circle"
         },
         "mode": "markers",
         "name": "VGB",
         "showlegend": true,
         "type": "scattergeo"
        },
        {
         "geo": "geo",
         "hovertemplate": "<b>%{hovertext}</b><br><br>ISO_Alpha3=%{location}<br>Total_Deaths=%{marker.size}<extra></extra>",
         "hovertext": [
          "ZAF"
         ],
         "legendgroup": "ZAF",
         "locations": [
          "ZAF"
         ],
         "marker": {
          "color": "#FF6692",
          "size": [
           42798
          ],
          "sizemode": "area",
          "sizeref": 239.6544,
          "symbol": "circle"
         },
         "mode": "markers",
         "name": "ZAF",
         "showlegend": true,
         "type": "scattergeo"
        }
       ],
       "layout": {
        "geo": {
         "center": {},
         "domain": {
          "x": [
           0,
           1
          ],
          "y": [
           0,
           1
          ]
         },
         "projection": {
          "type": "natural earth"
         },
         "showcountries": true,
         "showframe": true
        },
        "legend": {
         "itemsizing": "constant",
         "title": {
          "text": "ISO_Alpha3"
         },
         "tracegroupgap": 0
        },
        "template": {
         "data": {
          "bar": [
           {
            "error_x": {
             "color": "#2a3f5f"
            },
            "error_y": {
             "color": "#2a3f5f"
            },
            "marker": {
             "line": {
              "color": "#E5ECF6",
              "width": 0.5
             },
             "pattern": {
              "fillmode": "overlay",
              "size": 10,
              "solidity": 0.2
             }
            },
            "type": "bar"
           }
          ],
          "barpolar": [
           {
            "marker": {
             "line": {
              "color": "#E5ECF6",
              "width": 0.5
             },
             "pattern": {
              "fillmode": "overlay",
              "size": 10,
              "solidity": 0.2
             }
            },
            "type": "barpolar"
           }
          ],
          "carpet": [
           {
            "aaxis": {
             "endlinecolor": "#2a3f5f",
             "gridcolor": "white",
             "linecolor": "white",
             "minorgridcolor": "white",
             "startlinecolor": "#2a3f5f"
            },
            "baxis": {
             "endlinecolor": "#2a3f5f",
             "gridcolor": "white",
             "linecolor": "white",
             "minorgridcolor": "white",
             "startlinecolor": "#2a3f5f"
            },
            "type": "carpet"
           }
          ],
          "choropleth": [
           {
            "colorbar": {
             "outlinewidth": 0,
             "ticks": ""
            },
            "type": "choropleth"
           }
          ],
          "contour": [
           {
            "colorbar": {
             "outlinewidth": 0,
             "ticks": ""
            },
            "colorscale": [
             [
              0,
              "#0d0887"
             ],
             [
              0.1111111111111111,
              "#46039f"
             ],
             [
              0.2222222222222222,
              "#7201a8"
             ],
             [
              0.3333333333333333,
              "#9c179e"
             ],
             [
              0.4444444444444444,
              "#bd3786"
             ],
             [
              0.5555555555555556,
              "#d8576b"
             ],
             [
              0.6666666666666666,
              "#ed7953"
             ],
             [
              0.7777777777777778,
              "#fb9f3a"
             ],
             [
              0.8888888888888888,
              "#fdca26"
             ],
             [
              1,
              "#f0f921"
             ]
            ],
            "type": "contour"
           }
          ],
          "contourcarpet": [
           {
            "colorbar": {
             "outlinewidth": 0,
             "ticks": ""
            },
            "type": "contourcarpet"
           }
          ],
          "heatmap": [
           {
            "colorbar": {
             "outlinewidth": 0,
             "ticks": ""
            },
            "colorscale": [
             [
              0,
              "#0d0887"
             ],
             [
              0.1111111111111111,
              "#46039f"
             ],
             [
              0.2222222222222222,
              "#7201a8"
             ],
             [
              0.3333333333333333,
              "#9c179e"
             ],
             [
              0.4444444444444444,
              "#bd3786"
             ],
             [
              0.5555555555555556,
              "#d8576b"
             ],
             [
              0.6666666666666666,
              "#ed7953"
             ],
             [
              0.7777777777777778,
              "#fb9f3a"
             ],
             [
              0.8888888888888888,
              "#fdca26"
             ],
             [
              1,
              "#f0f921"
             ]
            ],
            "type": "heatmap"
           }
          ],
          "heatmapgl": [
           {
            "colorbar": {
             "outlinewidth": 0,
             "ticks": ""
            },
            "colorscale": [
             [
              0,
              "#0d0887"
             ],
             [
              0.1111111111111111,
              "#46039f"
             ],
             [
              0.2222222222222222,
              "#7201a8"
             ],
             [
              0.3333333333333333,
              "#9c179e"
             ],
             [
              0.4444444444444444,
              "#bd3786"
             ],
             [
              0.5555555555555556,
              "#d8576b"
             ],
             [
              0.6666666666666666,
              "#ed7953"
             ],
             [
              0.7777777777777778,
              "#fb9f3a"
             ],
             [
              0.8888888888888888,
              "#fdca26"
             ],
             [
              1,
              "#f0f921"
             ]
            ],
            "type": "heatmapgl"
           }
          ],
          "histogram": [
           {
            "marker": {
             "pattern": {
              "fillmode": "overlay",
              "size": 10,
              "solidity": 0.2
             }
            },
            "type": "histogram"
           }
          ],
          "histogram2d": [
           {
            "colorbar": {
             "outlinewidth": 0,
             "ticks": ""
            },
            "colorscale": [
             [
              0,
              "#0d0887"
             ],
             [
              0.1111111111111111,
              "#46039f"
             ],
             [
              0.2222222222222222,
              "#7201a8"
             ],
             [
              0.3333333333333333,
              "#9c179e"
             ],
             [
              0.4444444444444444,
              "#bd3786"
             ],
             [
              0.5555555555555556,
              "#d8576b"
             ],
             [
              0.6666666666666666,
              "#ed7953"
             ],
             [
              0.7777777777777778,
              "#fb9f3a"
             ],
             [
              0.8888888888888888,
              "#fdca26"
             ],
             [
              1,
              "#f0f921"
             ]
            ],
            "type": "histogram2d"
           }
          ],
          "histogram2dcontour": [
           {
            "colorbar": {
             "outlinewidth": 0,
             "ticks": ""
            },
            "colorscale": [
             [
              0,
              "#0d0887"
             ],
             [
              0.1111111111111111,
              "#46039f"
             ],
             [
              0.2222222222222222,
              "#7201a8"
             ],
             [
              0.3333333333333333,
              "#9c179e"
             ],
             [
              0.4444444444444444,
              "#bd3786"
             ],
             [
              0.5555555555555556,
              "#d8576b"
             ],
             [
              0.6666666666666666,
              "#ed7953"
             ],
             [
              0.7777777777777778,
              "#fb9f3a"
             ],
             [
              0.8888888888888888,
              "#fdca26"
             ],
             [
              1,
              "#f0f921"
             ]
            ],
            "type": "histogram2dcontour"
           }
          ],
          "mesh3d": [
           {
            "colorbar": {
             "outlinewidth": 0,
             "ticks": ""
            },
            "type": "mesh3d"
           }
          ],
          "parcoords": [
           {
            "line": {
             "colorbar": {
              "outlinewidth": 0,
              "ticks": ""
             }
            },
            "type": "parcoords"
           }
          ],
          "pie": [
           {
            "automargin": true,
            "type": "pie"
           }
          ],
          "scatter": [
           {
            "fillpattern": {
             "fillmode": "overlay",
             "size": 10,
             "solidity": 0.2
            },
            "type": "scatter"
           }
          ],
          "scatter3d": [
           {
            "line": {
             "colorbar": {
              "outlinewidth": 0,
              "ticks": ""
             }
            },
            "marker": {
             "colorbar": {
              "outlinewidth": 0,
              "ticks": ""
             }
            },
            "type": "scatter3d"
           }
          ],
          "scattercarpet": [
           {
            "marker": {
             "colorbar": {
              "outlinewidth": 0,
              "ticks": ""
             }
            },
            "type": "scattercarpet"
           }
          ],
          "scattergeo": [
           {
            "marker": {
             "colorbar": {
              "outlinewidth": 0,
              "ticks": ""
             }
            },
            "type": "scattergeo"
           }
          ],
          "scattergl": [
           {
            "marker": {
             "colorbar": {
              "outlinewidth": 0,
              "ticks": ""
             }
            },
            "type": "scattergl"
           }
          ],
          "scattermapbox": [
           {
            "marker": {
             "colorbar": {
              "outlinewidth": 0,
              "ticks": ""
             }
            },
            "type": "scattermapbox"
           }
          ],
          "scatterpolar": [
           {
            "marker": {
             "colorbar": {
              "outlinewidth": 0,
              "ticks": ""
             }
            },
            "type": "scatterpolar"
           }
          ],
          "scatterpolargl": [
           {
            "marker": {
             "colorbar": {
              "outlinewidth": 0,
              "ticks": ""
             }
            },
            "type": "scatterpolargl"
           }
          ],
          "scatterternary": [
           {
            "marker": {
             "colorbar": {
              "outlinewidth": 0,
              "ticks": ""
             }
            },
            "type": "scatterternary"
           }
          ],
          "surface": [
           {
            "colorbar": {
             "outlinewidth": 0,
             "ticks": ""
            },
            "colorscale": [
             [
              0,
              "#0d0887"
             ],
             [
              0.1111111111111111,
              "#46039f"
             ],
             [
              0.2222222222222222,
              "#7201a8"
             ],
             [
              0.3333333333333333,
              "#9c179e"
             ],
             [
              0.4444444444444444,
              "#bd3786"
             ],
             [
              0.5555555555555556,
              "#d8576b"
             ],
             [
              0.6666666666666666,
              "#ed7953"
             ],
             [
              0.7777777777777778,
              "#fb9f3a"
             ],
             [
              0.8888888888888888,
              "#fdca26"
             ],
             [
              1,
              "#f0f921"
             ]
            ],
            "type": "surface"
           }
          ],
          "table": [
           {
            "cells": {
             "fill": {
              "color": "#EBF0F8"
             },
             "line": {
              "color": "white"
             }
            },
            "header": {
             "fill": {
              "color": "#C8D4E3"
             },
             "line": {
              "color": "white"
             }
            },
            "type": "table"
           }
          ]
         },
         "layout": {
          "annotationdefaults": {
           "arrowcolor": "#2a3f5f",
           "arrowhead": 0,
           "arrowwidth": 1
          },
          "autotypenumbers": "strict",
          "coloraxis": {
           "colorbar": {
            "outlinewidth": 0,
            "ticks": ""
           }
          },
          "colorscale": {
           "diverging": [
            [
             0,
             "#8e0152"
            ],
            [
             0.1,
             "#c51b7d"
            ],
            [
             0.2,
             "#de77ae"
            ],
            [
             0.3,
             "#f1b6da"
            ],
            [
             0.4,
             "#fde0ef"
            ],
            [
             0.5,
             "#f7f7f7"
            ],
            [
             0.6,
             "#e6f5d0"
            ],
            [
             0.7,
             "#b8e186"
            ],
            [
             0.8,
             "#7fbc41"
            ],
            [
             0.9,
             "#4d9221"
            ],
            [
             1,
             "#276419"
            ]
           ],
           "sequential": [
            [
             0,
             "#0d0887"
            ],
            [
             0.1111111111111111,
             "#46039f"
            ],
            [
             0.2222222222222222,
             "#7201a8"
            ],
            [
             0.3333333333333333,
             "#9c179e"
            ],
            [
             0.4444444444444444,
             "#bd3786"
            ],
            [
             0.5555555555555556,
             "#d8576b"
            ],
            [
             0.6666666666666666,
             "#ed7953"
            ],
            [
             0.7777777777777778,
             "#fb9f3a"
            ],
            [
             0.8888888888888888,
             "#fdca26"
            ],
            [
             1,
             "#f0f921"
            ]
           ],
           "sequentialminus": [
            [
             0,
             "#0d0887"
            ],
            [
             0.1111111111111111,
             "#46039f"
            ],
            [
             0.2222222222222222,
             "#7201a8"
            ],
            [
             0.3333333333333333,
             "#9c179e"
            ],
            [
             0.4444444444444444,
             "#bd3786"
            ],
            [
             0.5555555555555556,
             "#d8576b"
            ],
            [
             0.6666666666666666,
             "#ed7953"
            ],
            [
             0.7777777777777778,
             "#fb9f3a"
            ],
            [
             0.8888888888888888,
             "#fdca26"
            ],
            [
             1,
             "#f0f921"
            ]
           ]
          },
          "colorway": [
           "#636efa",
           "#EF553B",
           "#00cc96",
           "#ab63fa",
           "#FFA15A",
           "#19d3f3",
           "#FF6692",
           "#B6E880",
           "#FF97FF",
           "#FECB52"
          ],
          "font": {
           "color": "#2a3f5f"
          },
          "geo": {
           "bgcolor": "white",
           "lakecolor": "white",
           "landcolor": "#E5ECF6",
           "showlakes": true,
           "showland": true,
           "subunitcolor": "white"
          },
          "hoverlabel": {
           "align": "left"
          },
          "hovermode": "closest",
          "mapbox": {
           "style": "light"
          },
          "paper_bgcolor": "white",
          "plot_bgcolor": "#E5ECF6",
          "polar": {
           "angularaxis": {
            "gridcolor": "white",
            "linecolor": "white",
            "ticks": ""
           },
           "bgcolor": "#E5ECF6",
           "radialaxis": {
            "gridcolor": "white",
            "linecolor": "white",
            "ticks": ""
           }
          },
          "scene": {
           "xaxis": {
            "backgroundcolor": "#E5ECF6",
            "gridcolor": "white",
            "gridwidth": 2,
            "linecolor": "white",
            "showbackground": true,
            "ticks": "",
            "zerolinecolor": "white"
           },
           "yaxis": {
            "backgroundcolor": "#E5ECF6",
            "gridcolor": "white",
            "gridwidth": 2,
            "linecolor": "white",
            "showbackground": true,
            "ticks": "",
            "zerolinecolor": "white"
           },
           "zaxis": {
            "backgroundcolor": "#E5ECF6",
            "gridcolor": "white",
            "gridwidth": 2,
            "linecolor": "white",
            "showbackground": true,
            "ticks": "",
            "zerolinecolor": "white"
           }
          },
          "shapedefaults": {
           "line": {
            "color": "#2a3f5f"
           }
          },
          "ternary": {
           "aaxis": {
            "gridcolor": "white",
            "linecolor": "white",
            "ticks": ""
           },
           "baxis": {
            "gridcolor": "white",
            "linecolor": "white",
            "ticks": ""
           },
           "bgcolor": "#E5ECF6",
           "caxis": {
            "gridcolor": "white",
            "linecolor": "white",
            "ticks": ""
           }
          },
          "title": {
           "x": 0.05
          },
          "xaxis": {
           "automargin": true,
           "gridcolor": "white",
           "linecolor": "white",
           "ticks": "",
           "title": {
            "standoff": 15
           },
           "zerolinecolor": "white",
           "zerolinewidth": 2
          },
          "yaxis": {
           "automargin": true,
           "gridcolor": "white",
           "linecolor": "white",
           "ticks": "",
           "title": {
            "standoff": 15
           },
           "zerolinecolor": "white",
           "zerolinewidth": 2
          }
         }
        },
        "title": {
         "text": "Total Deaths for Cause Group: C in Year: 2017"
        }
       }
      }
     },
     "metadata": {},
     "output_type": "display_data"
    },
    {
     "data": {
      "text/plain": [
       "<function __main__.visualize_grouped_cause_deaths(cause_group, year)>"
      ]
     },
     "execution_count": 36,
     "metadata": {},
     "output_type": "execute_result"
    }
   ],
   "source": [
    "# Function to visualize deaths for a grouped cause and year\n",
    "def visualize_grouped_cause_deaths(cause_group, year):\n",
    "    # Add a new column for the first character of the cause\n",
    "    cleaned_part5_country_mortality_df['Cause_Group'] = cleaned_part5_country_mortality_df['Cause'].str[0]\n",
    "    \n",
    "    # Filter data for the selected cause group and year\n",
    "    filtered_data = cleaned_part5_country_mortality_df[\n",
    "        (cleaned_part5_country_mortality_df['Cause_Group'] == cause_group) & \n",
    "        (cleaned_part5_country_mortality_df['Year'] == year)\n",
    "    ]\n",
    "    \n",
    "    # Check if there is data to display\n",
    "    if filtered_data.empty:\n",
    "        print(f\"No data available for Cause Group: {cause_group} in Year: {year}\")\n",
    "        return\n",
    "    \n",
    "    # Aggregate total deaths by country for the selected cause group and year\n",
    "    country_death_data = filtered_data.groupby('ISO_Alpha3')['Total_deaths'].sum().reset_index()\n",
    "    country_death_data.columns = ['ISO_Alpha3', 'Total_Deaths']\n",
    "    \n",
    "    # Plot the data on a map\n",
    "    fig = px.scatter_geo(\n",
    "        country_death_data,\n",
    "        locations='ISO_Alpha3', \n",
    "        size='Total_Deaths',\n",
    "        color='ISO_Alpha3',  # Different color for each country\n",
    "        title=f'Total Deaths for Cause Group: {cause_group} in Year: {year}',\n",
    "        projection='natural earth',\n",
    "        size_max=50,\n",
    "        hover_name='ISO_Alpha3',\n",
    "    )\n",
    "    fig.update_geos(showcountries=True, showframe=True)\n",
    "    fig.show()\n",
    "\n",
    "# Create a list of unique cause groups and years for dropdown and slider\n",
    "unique_cause_groups = sorted(cleaned_part5_country_mortality_df['Cause'].str[0].unique())\n",
    "min_year = int(cleaned_part5_country_mortality_df['Year'].min())\n",
    "max_year = int(cleaned_part5_country_mortality_df['Year'].max())\n",
    "\n",
    "# Create an interactive dropdown for cause group and slider for year\n",
    "interact(\n",
    "    visualize_grouped_cause_deaths, \n",
    "    cause_group=unique_cause_groups, \n",
    "    year=IntSlider(min=min_year, max=max_year, step=1, value=min_year, description='Year')\n",
    ")"
   ]
  },
  {
   "cell_type": "markdown",
   "metadata": {},
   "source": [
    "## Section to add geocoordinates (Latitude and Longitude information to the country_code dataframe)"
   ]
  },
  {
   "cell_type": "code",
   "execution_count": 37,
   "metadata": {},
   "outputs": [
    {
     "name": "stdout",
     "output_type": "stream",
     "text": [
      "     Country_code     Country_name   Latitude   Longitude\n",
      "0            1010          Algeria  28.000027    2.999983\n",
      "1            1020           Angola -11.877577   17.569124\n",
      "2            1025            Benin   9.529347    2.258441\n",
      "3            1030         Botswana -23.168178   24.592874\n",
      "4            1035     Burkina Faso  12.075308   -1.688031\n",
      "..            ...              ...        ...         ...\n",
      "222          5197            Samoa -13.769390 -172.120050\n",
      "223          5198  Solomon Islands  -8.705394  159.107069\n",
      "224          5200            Tonga -19.916082 -175.202642\n",
      "225          5205           Tuvalu  -8.640521  179.158292\n",
      "226          5207          Vanuatu -16.525507  168.106915\n",
      "\n",
      "[227 rows x 4 columns]\n"
     ]
    }
   ],
   "source": [
    "\n",
    "\n",
    "# OpenCage API Key\n",
    "api_key = 'db93da1e2d1e4512a1170f38d537eea0'  # Replace with your OpenCage API key\n",
    "geocoder = OpenCageGeocode(api_key)\n",
    "\n",
    "# Function to get geo-coordinates\n",
    "def get_coordinates(country_name):\n",
    "    result = geocoder.geocode(country_name)\n",
    "    if result:\n",
    "        return result[0]['geometry']['lat'], result[0]['geometry']['lng']\n",
    "    return None, None\n",
    "\n",
    "# Add latitude and longitude columns\n",
    "country_code_df['Latitude'], country_code_df['Longitude'] = zip(*country_code_df['Country_name'].apply(get_coordinates))\n",
    "\n",
    "print(country_code_df)"
   ]
  },
  {
   "cell_type": "code",
   "execution_count": 38,
   "metadata": {},
   "outputs": [
    {
     "data": {
      "text/html": [
       "<div>\n",
       "<style scoped>\n",
       "    .dataframe tbody tr th:only-of-type {\n",
       "        vertical-align: middle;\n",
       "    }\n",
       "\n",
       "    .dataframe tbody tr th {\n",
       "        vertical-align: top;\n",
       "    }\n",
       "\n",
       "    .dataframe thead th {\n",
       "        text-align: right;\n",
       "    }\n",
       "</style>\n",
       "<table border=\"1\" class=\"dataframe\">\n",
       "  <thead>\n",
       "    <tr style=\"text-align: right;\">\n",
       "      <th></th>\n",
       "      <th>Country_code</th>\n",
       "      <th>Country_name</th>\n",
       "      <th>Latitude</th>\n",
       "      <th>Longitude</th>\n",
       "    </tr>\n",
       "  </thead>\n",
       "  <tbody>\n",
       "    <tr>\n",
       "      <th>0</th>\n",
       "      <td>1010</td>\n",
       "      <td>Algeria</td>\n",
       "      <td>28.000027</td>\n",
       "      <td>2.999983</td>\n",
       "    </tr>\n",
       "    <tr>\n",
       "      <th>1</th>\n",
       "      <td>1020</td>\n",
       "      <td>Angola</td>\n",
       "      <td>-11.877577</td>\n",
       "      <td>17.569124</td>\n",
       "    </tr>\n",
       "    <tr>\n",
       "      <th>2</th>\n",
       "      <td>1025</td>\n",
       "      <td>Benin</td>\n",
       "      <td>9.529347</td>\n",
       "      <td>2.258441</td>\n",
       "    </tr>\n",
       "    <tr>\n",
       "      <th>3</th>\n",
       "      <td>1030</td>\n",
       "      <td>Botswana</td>\n",
       "      <td>-23.168178</td>\n",
       "      <td>24.592874</td>\n",
       "    </tr>\n",
       "    <tr>\n",
       "      <th>4</th>\n",
       "      <td>1035</td>\n",
       "      <td>Burkina Faso</td>\n",
       "      <td>12.075308</td>\n",
       "      <td>-1.688031</td>\n",
       "    </tr>\n",
       "    <tr>\n",
       "      <th>...</th>\n",
       "      <td>...</td>\n",
       "      <td>...</td>\n",
       "      <td>...</td>\n",
       "      <td>...</td>\n",
       "    </tr>\n",
       "    <tr>\n",
       "      <th>222</th>\n",
       "      <td>5197</td>\n",
       "      <td>Samoa</td>\n",
       "      <td>-13.769390</td>\n",
       "      <td>-172.120050</td>\n",
       "    </tr>\n",
       "    <tr>\n",
       "      <th>223</th>\n",
       "      <td>5198</td>\n",
       "      <td>Solomon Islands</td>\n",
       "      <td>-8.705394</td>\n",
       "      <td>159.107069</td>\n",
       "    </tr>\n",
       "    <tr>\n",
       "      <th>224</th>\n",
       "      <td>5200</td>\n",
       "      <td>Tonga</td>\n",
       "      <td>-19.916082</td>\n",
       "      <td>-175.202642</td>\n",
       "    </tr>\n",
       "    <tr>\n",
       "      <th>225</th>\n",
       "      <td>5205</td>\n",
       "      <td>Tuvalu</td>\n",
       "      <td>-8.640521</td>\n",
       "      <td>179.158292</td>\n",
       "    </tr>\n",
       "    <tr>\n",
       "      <th>226</th>\n",
       "      <td>5207</td>\n",
       "      <td>Vanuatu</td>\n",
       "      <td>-16.525507</td>\n",
       "      <td>168.106915</td>\n",
       "    </tr>\n",
       "  </tbody>\n",
       "</table>\n",
       "<p>227 rows × 4 columns</p>\n",
       "</div>"
      ],
      "text/plain": [
       "     Country_code     Country_name   Latitude   Longitude\n",
       "0            1010          Algeria  28.000027    2.999983\n",
       "1            1020           Angola -11.877577   17.569124\n",
       "2            1025            Benin   9.529347    2.258441\n",
       "3            1030         Botswana -23.168178   24.592874\n",
       "4            1035     Burkina Faso  12.075308   -1.688031\n",
       "..            ...              ...        ...         ...\n",
       "222          5197            Samoa -13.769390 -172.120050\n",
       "223          5198  Solomon Islands  -8.705394  159.107069\n",
       "224          5200            Tonga -19.916082 -175.202642\n",
       "225          5205           Tuvalu  -8.640521  179.158292\n",
       "226          5207          Vanuatu -16.525507  168.106915\n",
       "\n",
       "[227 rows x 4 columns]"
      ]
     },
     "execution_count": 38,
     "metadata": {},
     "output_type": "execute_result"
    }
   ],
   "source": [
    "country_code_with_geocode_df = country_code_df\n",
    "country_code_with_geocode_df"
   ]
  },
  {
   "cell_type": "code",
   "execution_count": 43,
   "metadata": {},
   "outputs": [],
   "source": [
    "# Export file as a CSV, without the Pandas index, but with the header\n",
    "country_code_with_geocode_df.to_csv(\"data/country_code_with_geocode.csv\", index=False, header=True)"
   ]
  },
  {
   "cell_type": "markdown",
   "metadata": {},
   "source": [
    "# Getting the polygon coordinates surrounding each country to fill each country with a different color code"
   ]
  },
  {
   "cell_type": "code",
   "execution_count": null,
   "metadata": {},
   "outputs": [],
   "source": []
  },
  {
   "cell_type": "code",
   "execution_count": 51,
   "metadata": {},
   "outputs": [
    {
     "name": "stdout",
     "output_type": "stream",
     "text": [
      "Missing polygons for the following countries:\n",
      "                               Country_name\n",
      "7                                Cape Verde\n",
      "8                  Central African Republic\n",
      "12                            Cote d'Ivoire\n",
      "15                        Equatorial Guinea\n",
      "26                   Libyan Arab Jamahiriya\n",
      "32                                  Mayotte\n",
      "38                                  Reunion\n",
      "39                                Rodrigues\n",
      "41                    Sao Tome and Principe\n",
      "47                              South Sudan\n",
      "49                            Sudan, Former\n",
      "50                                 Eswatini\n",
      "54              United Republic of Tanzania\n",
      "55         Democratic Republic of the Congo\n",
      "59                      Antigua and Barbuda\n",
      "68                   British Virgin Islands\n",
      "70                           Cayman Islands\n",
      "76                       Dominican Republic\n",
      "79              Falkland Islands (Malvinas)\n",
      "80                            French Guiana\n",
      "82                               Guadeloupe\n",
      "88                               Martinique\n",
      "91                     Netherlands Antilles\n",
      "97                    Saint Kitts and Nevis\n",
      "99                Saint Pierre and Miquelon\n",
      "100            Saint Vincent and Grenadines\n",
      "103                Turks and Caicos Islands\n",
      "105                    Virgin Islands (USA)\n",
      "112                       Brunei Darussalam\n",
      "115          China: Province of Taiwan only\n",
      "117  Democratic Peoples's Republic of Korea\n",
      "118                           Hong Kong SAR\n",
      "121              Iran (Islamic Republic of)\n",
      "127        Lao People's Democratic Republic\n",
      "129                                   Macau\n",
      "135          Occupied Palestinian Territory\n",
      "140                       Republic of Korea\n",
      "141                         Ryu Kyu Islands\n",
      "145                    Syrian Arab Republic\n",
      "149                                Viet Nam\n",
      "158                  Bosnia and Herzegovina\n",
      "161                  Czechoslovakia, Former\n",
      "162                          Czech Republic\n",
      "169     Germany, Former Democratic Republic\n",
      "170        Germany, Former Federal Republic\n",
      "171                    Germany, West Berlin\n",
      "190                     Republic of Moldova\n",
      "192                      Russian Federation\n",
      "203                            USSR, Former\n",
      "205       United Kingdom, England and Wales\n",
      "206        United Kingdom, Northern Ireland\n",
      "207                United Kingdom, Scotland\n",
      "209                      Yugoslavia, Former\n",
      "210           Serbia and Montenegro, Former\n",
      "212                            Cook Islands\n",
      "215                        Marshall Islands\n",
      "216        Micronesia (Federated States of)\n",
      "223                         Solomon Islands\n"
     ]
    },
    {
     "name": "stderr",
     "output_type": "stream",
     "text": [
      "C:\\Users\\Owner\\AppData\\Local\\Temp\\ipykernel_3328\\1785106058.py:35: ShapelyDeprecationWarning: The 'type' attribute is deprecated, and will be removed in the future. You can use the 'geom_type' attribute instead.\n",
      "  if geometry.type == 'Polygon':\n",
      "C:\\Users\\Owner\\AppData\\Local\\Temp\\ipykernel_3328\\1785106058.py:38: ShapelyDeprecationWarning: The 'type' attribute is deprecated, and will be removed in the future. You can use the 'geom_type' attribute instead.\n",
      "  elif geometry.type == 'MultiPolygon':\n"
     ]
    },
    {
     "name": "stdout",
     "output_type": "stream",
     "text": [
      "        Country_name                                Polygon_Coordinates\n",
      "0            Algeria  [(-4.821613117999902, 24.99506459600009), (-4....\n",
      "1             Angola  [[(13.073702840000067, -4.635323180999961), (1...\n",
      "2              Benin  [(3.596400187000114, 11.69577301000001), (3.57...\n",
      "3           Botswana  [(25.259780721000112, -17.794106546999984), (2...\n",
      "4       Burkina Faso  [(2.3901689040000917, 11.896535950000057), (2....\n",
      "..               ...                                                ...\n",
      "222            Samoa  [[(-172.2010391919999, -13.592543226999908), (...\n",
      "223  Solomon Islands                                               None\n",
      "224            Tonga  [[(-173.95636959499993, -18.56731536299992), (...\n",
      "225           Tuvalu  [[(179.19125410200002, -8.542087497999944), (1...\n",
      "226          Vanuatu  [[(169.8403426440001, -20.140801690999922), (1...\n",
      "\n",
      "[227 rows x 2 columns]\n"
     ]
    }
   ],
   "source": [
    "import pandas as pd\n",
    "import geopandas as gpd\n",
    "\n",
    "# Load the CSV file\n",
    "file_3 = Path(\"data/country_codes.csv\")\n",
    "\n",
    "csv_file = Path(\"data/country_code_with_geocode.csv\")  \n",
    "df = pd.read_csv(csv_file)\n",
    "\n",
    "\n",
    "# Load the Natural Earth shapefile\n",
    "shapefile_path = Path(\"data/ne_10m_admin_0_countries/ne_10m_admin_0_countries.shp\")  # Replace with the actual path\n",
    "world = gpd.read_file(shapefile_path)\n",
    "\n",
    "# Merge the CSV data with the world geospatial data\n",
    "# Match by 'Country_name' from the CSV and 'name' from the world dataset\n",
    "geo_df = pd.merge(\n",
    "    df,\n",
    "    world,\n",
    "    left_on='Country_name',\n",
    "    right_on='NAME',\n",
    "    how='left'\n",
    ")\n",
    "\n",
    "# Check for missing polygons\n",
    "missing_polygons = geo_df[geo_df['geometry'].isnull()]\n",
    "if not missing_polygons.empty:\n",
    "    print(\"Missing polygons for the following countries:\")\n",
    "    print(missing_polygons[['Country_name']])\n",
    "################\n",
    "# Extract polygon coordinates for each country\n",
    "def get_polygon_coordinates(geometry):\n",
    "    if geometry is None:\n",
    "        return None\n",
    "    if geometry.type == 'Polygon':\n",
    "        # Return coordinates of a single Polygon\n",
    "        return list(geometry.exterior.coords)\n",
    "    elif geometry.type == 'MultiPolygon':\n",
    "        # Return coordinates of all Polygons in a MultiPolygon\n",
    "        return [list(poly.exterior.coords) for poly in geometry.geoms]\n",
    "    else:\n",
    "        return None\n",
    "\n",
    "# Apply the function to the geometry column\n",
    "geo_df['Polygon_Coordinates'] = geo_df['geometry'].apply(get_polygon_coordinates)\n",
    "\n",
    "# Display the DataFrame with polygon coordinates\n",
    "print(geo_df[['Country_name', 'Polygon_Coordinates']])\n",
    "\n",
    "###########\n",
    "\n",
    "# Optionally, save the results to a new CSV file\n",
    "geo_df[['Country_code', 'Country_name', 'Latitude', 'Longitude', 'Polygon_Coordinates']].to_csv(\n",
    "    'countries_with_polygons.csv',\n",
    "    index=False\n",
    ")\n"
   ]
  },
  {
   "cell_type": "code",
   "execution_count": 53,
   "metadata": {},
   "outputs": [
    {
     "name": "stderr",
     "output_type": "stream",
     "text": [
      "posx and posy should be finite values\n",
      "posx and posy should be finite values\n",
      "posx and posy should be finite values\n",
      "posx and posy should be finite values\n",
      "posx and posy should be finite values\n",
      "posx and posy should be finite values\n",
      "posx and posy should be finite values\n",
      "posx and posy should be finite values\n",
      "posx and posy should be finite values\n",
      "posx and posy should be finite values\n"
     ]
    },
    {
     "data": {
      "image/png": "[encoded data removed]",
      "text/plain": [
       "<Figure size 1500x1000 with 1 Axes>"
      ]
     },
     "metadata": {},
     "output_type": "display_data"
    }
   ],
   "source": [
    "#import geopandas as gpd\n",
    "#import matplotlib.pyplot as plt\n",
    "\n",
    "# Convert the DataFrame to a GeoDataFrame if not already done\n",
    "geo_df = gpd.GeoDataFrame(\n",
    "    geo_df, \n",
    "    geometry=geo_df['geometry'], \n",
    "    crs=\"EPSG:4326\"  # Ensure the correct coordinate reference system\n",
    ")\n",
    "\n",
    "# Create a base world map\n",
    "# world = gpd.read_file(gpd.datasets.get_path('naturalearth_lowres'))\n",
    "# Load the Natural Earth shapefile\n",
    "shapefile_path = Path(\"data/ne_10m_admin_0_countries/ne_10m_admin_0_countries.shp\")  # Replace with the actual path\n",
    "world = gpd.read_file(shapefile_path)\n",
    "\n",
    "\n",
    "# Plot the base map\n",
    "fig, ax = plt.subplots(figsize=(15, 10))\n",
    "world.plot(ax=ax, color='lightgrey', edgecolor='black')\n",
    "\n",
    "# Overlay the countries from geo_df\n",
    "geo_df.plot(\n",
    "    ax=ax, \n",
    "    color='blue', \n",
    "    edgecolor='black', \n",
    "    alpha=0.5,  # Transparency for overlay\n",
    "    legend=True\n",
    ")\n",
    "\n",
    "# Add annotations for each country\n",
    "for idx, row in geo_df.iterrows():\n",
    "    plt.text(\n",
    "        row['Longitude'], \n",
    "        row['Latitude'], \n",
    "        row['Country_name'], \n",
    "        fontsize=8, \n",
    "        ha='center', \n",
    "        color='darkred'\n",
    "    )\n",
    "\n",
    "# Add title and labels\n",
    "plt.title(\"Countries on the World Map\", fontsize=16)\n",
    "plt.xlabel(\"Longitude\", fontsize=12)\n",
    "plt.ylabel(\"Latitude\", fontsize=12)\n",
    "\n",
    "# Show the plot\n",
    "plt.show()\n"
   ]
  },
  {
   "cell_type": "code",
   "execution_count": null,
   "metadata": {},
   "outputs": [],
   "source": []
  },
  {
   "cell_type": "code",
   "execution_count": null,
   "metadata": {},
   "outputs": [],
   "source": []
  }
 ],
 "metadata": {
  "anaconda-cloud": {},
  "kernelspec": {
   "display_name": "dev",
   "language": "python",
   "name": "python3"
  },
  "language_info": {
   "codemirror_mode": {
    "name": "ipython",
    "version": 3
   },
   "file_extension": ".py",
   "mimetype": "text/x-python",
   "name": "python",
   "nbconvert_exporter": "python",
   "pygments_lexer": "ipython3",
   "version": "3.10.15"
  }
 },
 "nbformat": 4,
 "nbformat_minor": 2
}
