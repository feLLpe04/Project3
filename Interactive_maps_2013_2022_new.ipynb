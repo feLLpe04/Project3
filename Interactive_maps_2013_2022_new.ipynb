{
 "cells": [
  {
   "cell_type": "markdown",
   "metadata": {},
   "source": [
    "# Import the libraries"
   ]
  },
  {
   "cell_type": "code",
   "execution_count": null,
   "metadata": {},
   "outputs": [],
   "source": []
  },
  {
   "cell_type": "code",
   "execution_count": 1,
   "metadata": {},
   "outputs": [],
   "source": [
    "# install the opencage to get the geocoordinates for each country\n",
    "#%pip install opencage\n",
    "# install pycountry to get the ISO country code\n",
    "#%pip install pycountry\n"
   ]
  },
  {
   "cell_type": "code",
   "execution_count": 1,
   "metadata": {},
   "outputs": [],
   "source": [
    "# Dependencies\n",
    "import pandas as pd\n",
    "from functools import reduce\n",
    "from pathlib import Path\n",
    "from opencage.geocoder import OpenCageGeocode\n",
    "# For interactive visualisations\n",
    "import plotly.express as px\n",
    "from ipywidgets import interact, IntSlider\n",
    "import pycountry # to convert numeric code to ISO country code used by plotly\n",
    "# for using geopandas and matplotlib\n",
    "import geopandas as gpd\n",
    "import matplotlib.pyplot as plt\n"
   ]
  },
  {
   "cell_type": "markdown",
   "metadata": {},
   "source": [
    "# Define paths and read files"
   ]
  },
  {
   "cell_type": "code",
   "execution_count": 2,
   "metadata": {},
   "outputs": [],
   "source": [
    "# Store filepath in a variable\n",
    "file_one = Path(\"cleaneddata/morticd10_part4_cleaned_df.csv\")\n",
    "file_two = Path(\"cleaneddata/morticd10_part5_cleaned_df.csv\")\n",
    "file_3 = Path(\"data/country_codes.csv\")"
   ]
  },
  {
   "cell_type": "code",
   "execution_count": 3,
   "metadata": {},
   "outputs": [],
   "source": [
    "# Read our data file with the Pandas library\n",
    "# Not every CSV requires an encoding, but be aware this can come up\n",
    "morticd10_part4_df = pd.read_csv(file_one, encoding=\"ISO-8859-1\")\n",
    "morticd10_part5_df = pd.read_csv(file_two, encoding=\"ISO-8859-1\")\n",
    "country_code_df = pd.read_csv(file_3, encoding=\"ISO-8859-1\")\n"
   ]
  },
  {
   "cell_type": "markdown",
   "metadata": {},
   "source": [
    "# Understanding/analysing the data files"
   ]
  },
  {
   "cell_type": "code",
   "execution_count": 4,
   "metadata": {},
   "outputs": [
    {
     "data": {
      "text/html": [
       "<div>\n",
       "<style scoped>\n",
       "    .dataframe tbody tr th:only-of-type {\n",
       "        vertical-align: middle;\n",
       "    }\n",
       "\n",
       "    .dataframe tbody tr th {\n",
       "        vertical-align: top;\n",
       "    }\n",
       "\n",
       "    .dataframe thead th {\n",
       "        text-align: right;\n",
       "    }\n",
       "</style>\n",
       "<table border=\"1\" class=\"dataframe\">\n",
       "  <thead>\n",
       "    <tr style=\"text-align: right;\">\n",
       "      <th></th>\n",
       "      <th>ï»¿country</th>\n",
       "      <th>name</th>\n",
       "    </tr>\n",
       "  </thead>\n",
       "  <tbody>\n",
       "    <tr>\n",
       "      <th>0</th>\n",
       "      <td>1010</td>\n",
       "      <td>Algeria</td>\n",
       "    </tr>\n",
       "    <tr>\n",
       "      <th>1</th>\n",
       "      <td>1020</td>\n",
       "      <td>Angola</td>\n",
       "    </tr>\n",
       "    <tr>\n",
       "      <th>2</th>\n",
       "      <td>1025</td>\n",
       "      <td>Benin</td>\n",
       "    </tr>\n",
       "    <tr>\n",
       "      <th>3</th>\n",
       "      <td>1030</td>\n",
       "      <td>Botswana</td>\n",
       "    </tr>\n",
       "    <tr>\n",
       "      <th>4</th>\n",
       "      <td>1035</td>\n",
       "      <td>Burkina Faso</td>\n",
       "    </tr>\n",
       "    <tr>\n",
       "      <th>...</th>\n",
       "      <td>...</td>\n",
       "      <td>...</td>\n",
       "    </tr>\n",
       "    <tr>\n",
       "      <th>222</th>\n",
       "      <td>5197</td>\n",
       "      <td>Samoa</td>\n",
       "    </tr>\n",
       "    <tr>\n",
       "      <th>223</th>\n",
       "      <td>5198</td>\n",
       "      <td>Solomon Islands</td>\n",
       "    </tr>\n",
       "    <tr>\n",
       "      <th>224</th>\n",
       "      <td>5200</td>\n",
       "      <td>Tonga</td>\n",
       "    </tr>\n",
       "    <tr>\n",
       "      <th>225</th>\n",
       "      <td>5205</td>\n",
       "      <td>Tuvalu</td>\n",
       "    </tr>\n",
       "    <tr>\n",
       "      <th>226</th>\n",
       "      <td>5207</td>\n",
       "      <td>Vanuatu</td>\n",
       "    </tr>\n",
       "  </tbody>\n",
       "</table>\n",
       "<p>227 rows × 2 columns</p>\n",
       "</div>"
      ],
      "text/plain": [
       "     ï»¿country             name\n",
       "0          1010          Algeria\n",
       "1          1020           Angola\n",
       "2          1025            Benin\n",
       "3          1030         Botswana\n",
       "4          1035     Burkina Faso\n",
       "..          ...              ...\n",
       "222        5197            Samoa\n",
       "223        5198  Solomon Islands\n",
       "224        5200            Tonga\n",
       "225        5205           Tuvalu\n",
       "226        5207          Vanuatu\n",
       "\n",
       "[227 rows x 2 columns]"
      ]
     },
     "execution_count": 4,
     "metadata": {},
     "output_type": "execute_result"
    }
   ],
   "source": [
    "country_code_df"
   ]
  },
  {
   "cell_type": "code",
   "execution_count": 5,
   "metadata": {},
   "outputs": [
    {
     "data": {
      "text/html": [
       "<div>\n",
       "<style scoped>\n",
       "    .dataframe tbody tr th:only-of-type {\n",
       "        vertical-align: middle;\n",
       "    }\n",
       "\n",
       "    .dataframe tbody tr th {\n",
       "        vertical-align: top;\n",
       "    }\n",
       "\n",
       "    .dataframe thead th {\n",
       "        text-align: right;\n",
       "    }\n",
       "</style>\n",
       "<table border=\"1\" class=\"dataframe\">\n",
       "  <thead>\n",
       "    <tr style=\"text-align: right;\">\n",
       "      <th></th>\n",
       "      <th>Country</th>\n",
       "      <th>Year</th>\n",
       "      <th>List</th>\n",
       "      <th>Cause</th>\n",
       "      <th>Sex</th>\n",
       "      <th>Deaths1</th>\n",
       "      <th>IM_Deaths1</th>\n",
       "      <th>IM_Deaths2</th>\n",
       "      <th>IM_Deaths3</th>\n",
       "      <th>IM_Deaths4</th>\n",
       "      <th>mort_1_4</th>\n",
       "      <th>mort_5_24</th>\n",
       "      <th>mort_25_44</th>\n",
       "      <th>mort_45_64</th>\n",
       "      <th>mort_65_84</th>\n",
       "      <th>mort_85_95+</th>\n",
       "      <th>Deaths26</th>\n",
       "    </tr>\n",
       "  </thead>\n",
       "  <tbody>\n",
       "    <tr>\n",
       "      <th>0</th>\n",
       "      <td>1400</td>\n",
       "      <td>2013</td>\n",
       "      <td>101</td>\n",
       "      <td>1000</td>\n",
       "      <td>1</td>\n",
       "      <td>383</td>\n",
       "      <td>5.0</td>\n",
       "      <td>1.0</td>\n",
       "      <td>2.0</td>\n",
       "      <td>4.0</td>\n",
       "      <td>0.0</td>\n",
       "      <td>6.0</td>\n",
       "      <td>44.0</td>\n",
       "      <td>103.0</td>\n",
       "      <td>218.0</td>\n",
       "      <td>0.0</td>\n",
       "      <td>0.0</td>\n",
       "    </tr>\n",
       "    <tr>\n",
       "      <th>1</th>\n",
       "      <td>1400</td>\n",
       "      <td>2013</td>\n",
       "      <td>101</td>\n",
       "      <td>1000</td>\n",
       "      <td>2</td>\n",
       "      <td>334</td>\n",
       "      <td>2.0</td>\n",
       "      <td>7.0</td>\n",
       "      <td>3.0</td>\n",
       "      <td>5.0</td>\n",
       "      <td>2.0</td>\n",
       "      <td>3.0</td>\n",
       "      <td>20.0</td>\n",
       "      <td>60.0</td>\n",
       "      <td>232.0</td>\n",
       "      <td>0.0</td>\n",
       "      <td>0.0</td>\n",
       "    </tr>\n",
       "    <tr>\n",
       "      <th>2</th>\n",
       "      <td>1400</td>\n",
       "      <td>2013</td>\n",
       "      <td>101</td>\n",
       "      <td>1001</td>\n",
       "      <td>1</td>\n",
       "      <td>28</td>\n",
       "      <td>0.0</td>\n",
       "      <td>0.0</td>\n",
       "      <td>0.0</td>\n",
       "      <td>0.0</td>\n",
       "      <td>0.0</td>\n",
       "      <td>0.0</td>\n",
       "      <td>6.0</td>\n",
       "      <td>11.0</td>\n",
       "      <td>11.0</td>\n",
       "      <td>0.0</td>\n",
       "      <td>0.0</td>\n",
       "    </tr>\n",
       "    <tr>\n",
       "      <th>3</th>\n",
       "      <td>1400</td>\n",
       "      <td>2013</td>\n",
       "      <td>101</td>\n",
       "      <td>1001</td>\n",
       "      <td>2</td>\n",
       "      <td>30</td>\n",
       "      <td>0.0</td>\n",
       "      <td>2.0</td>\n",
       "      <td>2.0</td>\n",
       "      <td>1.0</td>\n",
       "      <td>0.0</td>\n",
       "      <td>0.0</td>\n",
       "      <td>0.0</td>\n",
       "      <td>6.0</td>\n",
       "      <td>19.0</td>\n",
       "      <td>0.0</td>\n",
       "      <td>0.0</td>\n",
       "    </tr>\n",
       "    <tr>\n",
       "      <th>4</th>\n",
       "      <td>1400</td>\n",
       "      <td>2013</td>\n",
       "      <td>101</td>\n",
       "      <td>1002</td>\n",
       "      <td>1</td>\n",
       "      <td>0</td>\n",
       "      <td>0.0</td>\n",
       "      <td>0.0</td>\n",
       "      <td>0.0</td>\n",
       "      <td>0.0</td>\n",
       "      <td>0.0</td>\n",
       "      <td>0.0</td>\n",
       "      <td>0.0</td>\n",
       "      <td>0.0</td>\n",
       "      <td>0.0</td>\n",
       "      <td>0.0</td>\n",
       "      <td>0.0</td>\n",
       "    </tr>\n",
       "    <tr>\n",
       "      <th>...</th>\n",
       "      <td>...</td>\n",
       "      <td>...</td>\n",
       "      <td>...</td>\n",
       "      <td>...</td>\n",
       "      <td>...</td>\n",
       "      <td>...</td>\n",
       "      <td>...</td>\n",
       "      <td>...</td>\n",
       "      <td>...</td>\n",
       "      <td>...</td>\n",
       "      <td>...</td>\n",
       "      <td>...</td>\n",
       "      <td>...</td>\n",
       "      <td>...</td>\n",
       "      <td>...</td>\n",
       "      <td>...</td>\n",
       "      <td>...</td>\n",
       "    </tr>\n",
       "    <tr>\n",
       "      <th>880537</th>\n",
       "      <td>5020</td>\n",
       "      <td>2016</td>\n",
       "      <td>104</td>\n",
       "      <td>Y870</td>\n",
       "      <td>2</td>\n",
       "      <td>2</td>\n",
       "      <td>0.0</td>\n",
       "      <td>0.0</td>\n",
       "      <td>0.0</td>\n",
       "      <td>0.0</td>\n",
       "      <td>0.0</td>\n",
       "      <td>0.0</td>\n",
       "      <td>1.0</td>\n",
       "      <td>1.0</td>\n",
       "      <td>0.0</td>\n",
       "      <td>0.0</td>\n",
       "      <td>0.0</td>\n",
       "    </tr>\n",
       "    <tr>\n",
       "      <th>880538</th>\n",
       "      <td>5020</td>\n",
       "      <td>2016</td>\n",
       "      <td>104</td>\n",
       "      <td>Y883</td>\n",
       "      <td>1</td>\n",
       "      <td>6</td>\n",
       "      <td>0.0</td>\n",
       "      <td>0.0</td>\n",
       "      <td>0.0</td>\n",
       "      <td>0.0</td>\n",
       "      <td>0.0</td>\n",
       "      <td>0.0</td>\n",
       "      <td>0.0</td>\n",
       "      <td>2.0</td>\n",
       "      <td>3.0</td>\n",
       "      <td>1.0</td>\n",
       "      <td>0.0</td>\n",
       "    </tr>\n",
       "    <tr>\n",
       "      <th>880539</th>\n",
       "      <td>5020</td>\n",
       "      <td>2016</td>\n",
       "      <td>104</td>\n",
       "      <td>Y883</td>\n",
       "      <td>2</td>\n",
       "      <td>7</td>\n",
       "      <td>0.0</td>\n",
       "      <td>0.0</td>\n",
       "      <td>0.0</td>\n",
       "      <td>0.0</td>\n",
       "      <td>0.0</td>\n",
       "      <td>0.0</td>\n",
       "      <td>0.0</td>\n",
       "      <td>1.0</td>\n",
       "      <td>3.0</td>\n",
       "      <td>3.0</td>\n",
       "      <td>0.0</td>\n",
       "    </tr>\n",
       "    <tr>\n",
       "      <th>880540</th>\n",
       "      <td>5020</td>\n",
       "      <td>2016</td>\n",
       "      <td>104</td>\n",
       "      <td>Y899</td>\n",
       "      <td>1</td>\n",
       "      <td>6</td>\n",
       "      <td>0.0</td>\n",
       "      <td>0.0</td>\n",
       "      <td>0.0</td>\n",
       "      <td>0.0</td>\n",
       "      <td>0.0</td>\n",
       "      <td>0.0</td>\n",
       "      <td>0.0</td>\n",
       "      <td>2.0</td>\n",
       "      <td>2.0</td>\n",
       "      <td>2.0</td>\n",
       "      <td>0.0</td>\n",
       "    </tr>\n",
       "    <tr>\n",
       "      <th>880541</th>\n",
       "      <td>5020</td>\n",
       "      <td>2016</td>\n",
       "      <td>104</td>\n",
       "      <td>Y899</td>\n",
       "      <td>2</td>\n",
       "      <td>2</td>\n",
       "      <td>0.0</td>\n",
       "      <td>0.0</td>\n",
       "      <td>0.0</td>\n",
       "      <td>0.0</td>\n",
       "      <td>0.0</td>\n",
       "      <td>0.0</td>\n",
       "      <td>0.0</td>\n",
       "      <td>0.0</td>\n",
       "      <td>2.0</td>\n",
       "      <td>0.0</td>\n",
       "      <td>0.0</td>\n",
       "    </tr>\n",
       "  </tbody>\n",
       "</table>\n",
       "<p>880542 rows × 17 columns</p>\n",
       "</div>"
      ],
      "text/plain": [
       "        Country  Year  List Cause  Sex  Deaths1  IM_Deaths1  IM_Deaths2  \\\n",
       "0          1400  2013   101  1000    1      383         5.0         1.0   \n",
       "1          1400  2013   101  1000    2      334         2.0         7.0   \n",
       "2          1400  2013   101  1001    1       28         0.0         0.0   \n",
       "3          1400  2013   101  1001    2       30         0.0         2.0   \n",
       "4          1400  2013   101  1002    1        0         0.0         0.0   \n",
       "...         ...   ...   ...   ...  ...      ...         ...         ...   \n",
       "880537     5020  2016   104  Y870    2        2         0.0         0.0   \n",
       "880538     5020  2016   104  Y883    1        6         0.0         0.0   \n",
       "880539     5020  2016   104  Y883    2        7         0.0         0.0   \n",
       "880540     5020  2016   104  Y899    1        6         0.0         0.0   \n",
       "880541     5020  2016   104  Y899    2        2         0.0         0.0   \n",
       "\n",
       "        IM_Deaths3  IM_Deaths4  mort_1_4  mort_5_24  mort_25_44  mort_45_64  \\\n",
       "0              2.0         4.0       0.0        6.0        44.0       103.0   \n",
       "1              3.0         5.0       2.0        3.0        20.0        60.0   \n",
       "2              0.0         0.0       0.0        0.0         6.0        11.0   \n",
       "3              2.0         1.0       0.0        0.0         0.0         6.0   \n",
       "4              0.0         0.0       0.0        0.0         0.0         0.0   \n",
       "...            ...         ...       ...        ...         ...         ...   \n",
       "880537         0.0         0.0       0.0        0.0         1.0         1.0   \n",
       "880538         0.0         0.0       0.0        0.0         0.0         2.0   \n",
       "880539         0.0         0.0       0.0        0.0         0.0         1.0   \n",
       "880540         0.0         0.0       0.0        0.0         0.0         2.0   \n",
       "880541         0.0         0.0       0.0        0.0         0.0         0.0   \n",
       "\n",
       "        mort_65_84  mort_85_95+  Deaths26  \n",
       "0            218.0          0.0       0.0  \n",
       "1            232.0          0.0       0.0  \n",
       "2             11.0          0.0       0.0  \n",
       "3             19.0          0.0       0.0  \n",
       "4              0.0          0.0       0.0  \n",
       "...            ...          ...       ...  \n",
       "880537         0.0          0.0       0.0  \n",
       "880538         3.0          1.0       0.0  \n",
       "880539         3.0          3.0       0.0  \n",
       "880540         2.0          2.0       0.0  \n",
       "880541         2.0          0.0       0.0  \n",
       "\n",
       "[880542 rows x 17 columns]"
      ]
     },
     "execution_count": 5,
     "metadata": {},
     "output_type": "execute_result"
    }
   ],
   "source": [
    "morticd10_part4_df"
   ]
  },
  {
   "cell_type": "code",
   "execution_count": 6,
   "metadata": {},
   "outputs": [
    {
     "data": {
      "text/html": [
       "<div>\n",
       "<style scoped>\n",
       "    .dataframe tbody tr th:only-of-type {\n",
       "        vertical-align: middle;\n",
       "    }\n",
       "\n",
       "    .dataframe tbody tr th {\n",
       "        vertical-align: top;\n",
       "    }\n",
       "\n",
       "    .dataframe thead th {\n",
       "        text-align: right;\n",
       "    }\n",
       "</style>\n",
       "<table border=\"1\" class=\"dataframe\">\n",
       "  <thead>\n",
       "    <tr style=\"text-align: right;\">\n",
       "      <th></th>\n",
       "      <th>Country_code</th>\n",
       "      <th>Year</th>\n",
       "      <th>List</th>\n",
       "      <th>Cause</th>\n",
       "      <th>Sex</th>\n",
       "      <th>Total_deaths</th>\n",
       "      <th>Mort_day0</th>\n",
       "      <th>Mort_day1_6</th>\n",
       "      <th>Mort_day7_27</th>\n",
       "      <th>Mort_day28_365</th>\n",
       "      <th>mort_1_4</th>\n",
       "      <th>mort_5_24</th>\n",
       "      <th>mort_25_44</th>\n",
       "      <th>mort_45_64</th>\n",
       "      <th>mort_65_84</th>\n",
       "      <th>mort_85_95+</th>\n",
       "      <th>Deaths26</th>\n",
       "    </tr>\n",
       "  </thead>\n",
       "  <tbody>\n",
       "    <tr>\n",
       "      <th>0</th>\n",
       "      <td>4303</td>\n",
       "      <td>2017</td>\n",
       "      <td>101</td>\n",
       "      <td>1000</td>\n",
       "      <td>1</td>\n",
       "      <td>281784</td>\n",
       "      <td>1608</td>\n",
       "      <td>0</td>\n",
       "      <td>0</td>\n",
       "      <td>0</td>\n",
       "      <td>357</td>\n",
       "      <td>2593</td>\n",
       "      <td>26494</td>\n",
       "      <td>86787</td>\n",
       "      <td>134693</td>\n",
       "      <td>29184</td>\n",
       "      <td>68</td>\n",
       "    </tr>\n",
       "    <tr>\n",
       "      <th>1</th>\n",
       "      <td>4303</td>\n",
       "      <td>2017</td>\n",
       "      <td>101</td>\n",
       "      <td>1000</td>\n",
       "      <td>2</td>\n",
       "      <td>292339</td>\n",
       "      <td>1178</td>\n",
       "      <td>0</td>\n",
       "      <td>0</td>\n",
       "      <td>0</td>\n",
       "      <td>241</td>\n",
       "      <td>998</td>\n",
       "      <td>9009</td>\n",
       "      <td>37295</td>\n",
       "      <td>155328</td>\n",
       "      <td>88271</td>\n",
       "      <td>19</td>\n",
       "    </tr>\n",
       "    <tr>\n",
       "      <th>2</th>\n",
       "      <td>4303</td>\n",
       "      <td>2017</td>\n",
       "      <td>101</td>\n",
       "      <td>1001</td>\n",
       "      <td>1</td>\n",
       "      <td>6198</td>\n",
       "      <td>41</td>\n",
       "      <td>0</td>\n",
       "      <td>0</td>\n",
       "      <td>0</td>\n",
       "      <td>29</td>\n",
       "      <td>65</td>\n",
       "      <td>3019</td>\n",
       "      <td>2670</td>\n",
       "      <td>358</td>\n",
       "      <td>15</td>\n",
       "      <td>1</td>\n",
       "    </tr>\n",
       "    <tr>\n",
       "      <th>3</th>\n",
       "      <td>4303</td>\n",
       "      <td>2017</td>\n",
       "      <td>101</td>\n",
       "      <td>1001</td>\n",
       "      <td>2</td>\n",
       "      <td>2516</td>\n",
       "      <td>29</td>\n",
       "      <td>0</td>\n",
       "      <td>0</td>\n",
       "      <td>0</td>\n",
       "      <td>19</td>\n",
       "      <td>51</td>\n",
       "      <td>1317</td>\n",
       "      <td>808</td>\n",
       "      <td>263</td>\n",
       "      <td>29</td>\n",
       "      <td>0</td>\n",
       "    </tr>\n",
       "    <tr>\n",
       "      <th>4</th>\n",
       "      <td>4303</td>\n",
       "      <td>2017</td>\n",
       "      <td>101</td>\n",
       "      <td>1002</td>\n",
       "      <td>1</td>\n",
       "      <td>0</td>\n",
       "      <td>0</td>\n",
       "      <td>0</td>\n",
       "      <td>0</td>\n",
       "      <td>0</td>\n",
       "      <td>0</td>\n",
       "      <td>0</td>\n",
       "      <td>0</td>\n",
       "      <td>0</td>\n",
       "      <td>0</td>\n",
       "      <td>0</td>\n",
       "      <td>0</td>\n",
       "    </tr>\n",
       "    <tr>\n",
       "      <th>...</th>\n",
       "      <td>...</td>\n",
       "      <td>...</td>\n",
       "      <td>...</td>\n",
       "      <td>...</td>\n",
       "      <td>...</td>\n",
       "      <td>...</td>\n",
       "      <td>...</td>\n",
       "      <td>...</td>\n",
       "      <td>...</td>\n",
       "      <td>...</td>\n",
       "      <td>...</td>\n",
       "      <td>...</td>\n",
       "      <td>...</td>\n",
       "      <td>...</td>\n",
       "      <td>...</td>\n",
       "      <td>...</td>\n",
       "      <td>...</td>\n",
       "    </tr>\n",
       "    <tr>\n",
       "      <th>1023255</th>\n",
       "      <td>5020</td>\n",
       "      <td>2022</td>\n",
       "      <td>104</td>\n",
       "      <td>Y871</td>\n",
       "      <td>1</td>\n",
       "      <td>1</td>\n",
       "      <td>0</td>\n",
       "      <td>0</td>\n",
       "      <td>0</td>\n",
       "      <td>0</td>\n",
       "      <td>0</td>\n",
       "      <td>0</td>\n",
       "      <td>1</td>\n",
       "      <td>0</td>\n",
       "      <td>0</td>\n",
       "      <td>0</td>\n",
       "      <td>0</td>\n",
       "    </tr>\n",
       "    <tr>\n",
       "      <th>1023256</th>\n",
       "      <td>5020</td>\n",
       "      <td>2022</td>\n",
       "      <td>104</td>\n",
       "      <td>Y883</td>\n",
       "      <td>1</td>\n",
       "      <td>4</td>\n",
       "      <td>0</td>\n",
       "      <td>0</td>\n",
       "      <td>0</td>\n",
       "      <td>0</td>\n",
       "      <td>0</td>\n",
       "      <td>0</td>\n",
       "      <td>2</td>\n",
       "      <td>0</td>\n",
       "      <td>1</td>\n",
       "      <td>1</td>\n",
       "      <td>0</td>\n",
       "    </tr>\n",
       "    <tr>\n",
       "      <th>1023257</th>\n",
       "      <td>5020</td>\n",
       "      <td>2022</td>\n",
       "      <td>104</td>\n",
       "      <td>Y883</td>\n",
       "      <td>2</td>\n",
       "      <td>3</td>\n",
       "      <td>0</td>\n",
       "      <td>0</td>\n",
       "      <td>0</td>\n",
       "      <td>0</td>\n",
       "      <td>0</td>\n",
       "      <td>0</td>\n",
       "      <td>0</td>\n",
       "      <td>1</td>\n",
       "      <td>2</td>\n",
       "      <td>0</td>\n",
       "      <td>0</td>\n",
       "    </tr>\n",
       "    <tr>\n",
       "      <th>1023258</th>\n",
       "      <td>5020</td>\n",
       "      <td>2022</td>\n",
       "      <td>104</td>\n",
       "      <td>Y890</td>\n",
       "      <td>2</td>\n",
       "      <td>1</td>\n",
       "      <td>0</td>\n",
       "      <td>0</td>\n",
       "      <td>0</td>\n",
       "      <td>0</td>\n",
       "      <td>0</td>\n",
       "      <td>1</td>\n",
       "      <td>0</td>\n",
       "      <td>0</td>\n",
       "      <td>0</td>\n",
       "      <td>0</td>\n",
       "      <td>0</td>\n",
       "    </tr>\n",
       "    <tr>\n",
       "      <th>1023259</th>\n",
       "      <td>5020</td>\n",
       "      <td>2022</td>\n",
       "      <td>104</td>\n",
       "      <td>Y899</td>\n",
       "      <td>1</td>\n",
       "      <td>1</td>\n",
       "      <td>0</td>\n",
       "      <td>0</td>\n",
       "      <td>0</td>\n",
       "      <td>0</td>\n",
       "      <td>0</td>\n",
       "      <td>0</td>\n",
       "      <td>0</td>\n",
       "      <td>0</td>\n",
       "      <td>0</td>\n",
       "      <td>1</td>\n",
       "      <td>0</td>\n",
       "    </tr>\n",
       "  </tbody>\n",
       "</table>\n",
       "<p>1023260 rows × 17 columns</p>\n",
       "</div>"
      ],
      "text/plain": [
       "         Country_code  Year  List Cause  Sex  Total_deaths  Mort_day0  \\\n",
       "0                4303  2017   101  1000    1        281784       1608   \n",
       "1                4303  2017   101  1000    2        292339       1178   \n",
       "2                4303  2017   101  1001    1          6198         41   \n",
       "3                4303  2017   101  1001    2          2516         29   \n",
       "4                4303  2017   101  1002    1             0          0   \n",
       "...               ...   ...   ...   ...  ...           ...        ...   \n",
       "1023255          5020  2022   104  Y871    1             1          0   \n",
       "1023256          5020  2022   104  Y883    1             4          0   \n",
       "1023257          5020  2022   104  Y883    2             3          0   \n",
       "1023258          5020  2022   104  Y890    2             1          0   \n",
       "1023259          5020  2022   104  Y899    1             1          0   \n",
       "\n",
       "         Mort_day1_6  Mort_day7_27  Mort_day28_365  mort_1_4  mort_5_24  \\\n",
       "0                  0             0               0       357       2593   \n",
       "1                  0             0               0       241        998   \n",
       "2                  0             0               0        29         65   \n",
       "3                  0             0               0        19         51   \n",
       "4                  0             0               0         0          0   \n",
       "...              ...           ...             ...       ...        ...   \n",
       "1023255            0             0               0         0          0   \n",
       "1023256            0             0               0         0          0   \n",
       "1023257            0             0               0         0          0   \n",
       "1023258            0             0               0         0          1   \n",
       "1023259            0             0               0         0          0   \n",
       "\n",
       "         mort_25_44  mort_45_64  mort_65_84  mort_85_95+  Deaths26  \n",
       "0             26494       86787      134693        29184        68  \n",
       "1              9009       37295      155328        88271        19  \n",
       "2              3019        2670         358           15         1  \n",
       "3              1317         808         263           29         0  \n",
       "4                 0           0           0            0         0  \n",
       "...             ...         ...         ...          ...       ...  \n",
       "1023255           1           0           0            0         0  \n",
       "1023256           2           0           1            1         0  \n",
       "1023257           0           1           2            0         0  \n",
       "1023258           0           0           0            0         0  \n",
       "1023259           0           0           0            1         0  \n",
       "\n",
       "[1023260 rows x 17 columns]"
      ]
     },
     "execution_count": 6,
     "metadata": {},
     "output_type": "execute_result"
    }
   ],
   "source": [
    "morticd10_part5_df"
   ]
  },
  {
   "cell_type": "code",
   "execution_count": 7,
   "metadata": {},
   "outputs": [
    {
     "data": {
      "text/plain": [
       "Index(['Country_code', 'Year', 'List', 'Cause', 'Sex', 'Total_deaths',\n",
       "       'Mort_day0', 'Mort_day1_6', 'Mort_day7_27', 'Mort_day28_365',\n",
       "       'mort_1_4', 'mort_5_24', 'mort_25_44', 'mort_45_64', 'mort_65_84',\n",
       "       'mort_85_95+', 'Deaths26'],\n",
       "      dtype='object')"
      ]
     },
     "execution_count": 7,
     "metadata": {},
     "output_type": "execute_result"
    }
   ],
   "source": [
    "part5_cols = morticd10_part5_df.columns\n",
    "part5_cols"
   ]
  },
  {
   "cell_type": "code",
   "execution_count": 8,
   "metadata": {},
   "outputs": [
    {
     "data": {
      "text/plain": [
       "Index(['Country', 'Year', 'List', 'Cause', 'Sex', 'Deaths1', 'IM_Deaths1',\n",
       "       'IM_Deaths2', 'IM_Deaths3', 'IM_Deaths4', 'mort_1_4', 'mort_5_24',\n",
       "       'mort_25_44', 'mort_45_64', 'mort_65_84', 'mort_85_95+', 'Deaths26'],\n",
       "      dtype='object')"
      ]
     },
     "execution_count": 8,
     "metadata": {},
     "output_type": "execute_result"
    }
   ],
   "source": [
    "part4_cols = morticd10_part4_df.columns\n",
    "part4_cols"
   ]
  },
  {
   "cell_type": "code",
   "execution_count": 9,
   "metadata": {},
   "outputs": [
    {
     "data": {
      "text/html": [
       "<div>\n",
       "<style scoped>\n",
       "    .dataframe tbody tr th:only-of-type {\n",
       "        vertical-align: middle;\n",
       "    }\n",
       "\n",
       "    .dataframe tbody tr th {\n",
       "        vertical-align: top;\n",
       "    }\n",
       "\n",
       "    .dataframe thead th {\n",
       "        text-align: right;\n",
       "    }\n",
       "</style>\n",
       "<table border=\"1\" class=\"dataframe\">\n",
       "  <thead>\n",
       "    <tr style=\"text-align: right;\">\n",
       "      <th></th>\n",
       "      <th>Country_code</th>\n",
       "      <th>Year</th>\n",
       "      <th>List</th>\n",
       "      <th>Cause</th>\n",
       "      <th>Sex</th>\n",
       "      <th>Total_deaths</th>\n",
       "      <th>Mort_day0</th>\n",
       "      <th>Mort_day1_6</th>\n",
       "      <th>Mort_day7_27</th>\n",
       "      <th>Mort_day28_365</th>\n",
       "      <th>mort_1_4</th>\n",
       "      <th>mort_5_24</th>\n",
       "      <th>mort_25_44</th>\n",
       "      <th>mort_45_64</th>\n",
       "      <th>mort_65_84</th>\n",
       "      <th>mort_85_95+</th>\n",
       "      <th>Deaths26</th>\n",
       "    </tr>\n",
       "  </thead>\n",
       "  <tbody>\n",
       "    <tr>\n",
       "      <th>0</th>\n",
       "      <td>1400</td>\n",
       "      <td>2013</td>\n",
       "      <td>101</td>\n",
       "      <td>1000</td>\n",
       "      <td>1</td>\n",
       "      <td>383</td>\n",
       "      <td>5.0</td>\n",
       "      <td>1.0</td>\n",
       "      <td>2.0</td>\n",
       "      <td>4.0</td>\n",
       "      <td>0.0</td>\n",
       "      <td>6.0</td>\n",
       "      <td>44.0</td>\n",
       "      <td>103.0</td>\n",
       "      <td>218.0</td>\n",
       "      <td>0.0</td>\n",
       "      <td>0.0</td>\n",
       "    </tr>\n",
       "    <tr>\n",
       "      <th>1</th>\n",
       "      <td>1400</td>\n",
       "      <td>2013</td>\n",
       "      <td>101</td>\n",
       "      <td>1000</td>\n",
       "      <td>2</td>\n",
       "      <td>334</td>\n",
       "      <td>2.0</td>\n",
       "      <td>7.0</td>\n",
       "      <td>3.0</td>\n",
       "      <td>5.0</td>\n",
       "      <td>2.0</td>\n",
       "      <td>3.0</td>\n",
       "      <td>20.0</td>\n",
       "      <td>60.0</td>\n",
       "      <td>232.0</td>\n",
       "      <td>0.0</td>\n",
       "      <td>0.0</td>\n",
       "    </tr>\n",
       "    <tr>\n",
       "      <th>2</th>\n",
       "      <td>1400</td>\n",
       "      <td>2013</td>\n",
       "      <td>101</td>\n",
       "      <td>1001</td>\n",
       "      <td>1</td>\n",
       "      <td>28</td>\n",
       "      <td>0.0</td>\n",
       "      <td>0.0</td>\n",
       "      <td>0.0</td>\n",
       "      <td>0.0</td>\n",
       "      <td>0.0</td>\n",
       "      <td>0.0</td>\n",
       "      <td>6.0</td>\n",
       "      <td>11.0</td>\n",
       "      <td>11.0</td>\n",
       "      <td>0.0</td>\n",
       "      <td>0.0</td>\n",
       "    </tr>\n",
       "    <tr>\n",
       "      <th>3</th>\n",
       "      <td>1400</td>\n",
       "      <td>2013</td>\n",
       "      <td>101</td>\n",
       "      <td>1001</td>\n",
       "      <td>2</td>\n",
       "      <td>30</td>\n",
       "      <td>0.0</td>\n",
       "      <td>2.0</td>\n",
       "      <td>2.0</td>\n",
       "      <td>1.0</td>\n",
       "      <td>0.0</td>\n",
       "      <td>0.0</td>\n",
       "      <td>0.0</td>\n",
       "      <td>6.0</td>\n",
       "      <td>19.0</td>\n",
       "      <td>0.0</td>\n",
       "      <td>0.0</td>\n",
       "    </tr>\n",
       "    <tr>\n",
       "      <th>4</th>\n",
       "      <td>1400</td>\n",
       "      <td>2013</td>\n",
       "      <td>101</td>\n",
       "      <td>1002</td>\n",
       "      <td>1</td>\n",
       "      <td>0</td>\n",
       "      <td>0.0</td>\n",
       "      <td>0.0</td>\n",
       "      <td>0.0</td>\n",
       "      <td>0.0</td>\n",
       "      <td>0.0</td>\n",
       "      <td>0.0</td>\n",
       "      <td>0.0</td>\n",
       "      <td>0.0</td>\n",
       "      <td>0.0</td>\n",
       "      <td>0.0</td>\n",
       "      <td>0.0</td>\n",
       "    </tr>\n",
       "    <tr>\n",
       "      <th>...</th>\n",
       "      <td>...</td>\n",
       "      <td>...</td>\n",
       "      <td>...</td>\n",
       "      <td>...</td>\n",
       "      <td>...</td>\n",
       "      <td>...</td>\n",
       "      <td>...</td>\n",
       "      <td>...</td>\n",
       "      <td>...</td>\n",
       "      <td>...</td>\n",
       "      <td>...</td>\n",
       "      <td>...</td>\n",
       "      <td>...</td>\n",
       "      <td>...</td>\n",
       "      <td>...</td>\n",
       "      <td>...</td>\n",
       "      <td>...</td>\n",
       "    </tr>\n",
       "    <tr>\n",
       "      <th>880537</th>\n",
       "      <td>5020</td>\n",
       "      <td>2016</td>\n",
       "      <td>104</td>\n",
       "      <td>Y870</td>\n",
       "      <td>2</td>\n",
       "      <td>2</td>\n",
       "      <td>0.0</td>\n",
       "      <td>0.0</td>\n",
       "      <td>0.0</td>\n",
       "      <td>0.0</td>\n",
       "      <td>0.0</td>\n",
       "      <td>0.0</td>\n",
       "      <td>1.0</td>\n",
       "      <td>1.0</td>\n",
       "      <td>0.0</td>\n",
       "      <td>0.0</td>\n",
       "      <td>0.0</td>\n",
       "    </tr>\n",
       "    <tr>\n",
       "      <th>880538</th>\n",
       "      <td>5020</td>\n",
       "      <td>2016</td>\n",
       "      <td>104</td>\n",
       "      <td>Y883</td>\n",
       "      <td>1</td>\n",
       "      <td>6</td>\n",
       "      <td>0.0</td>\n",
       "      <td>0.0</td>\n",
       "      <td>0.0</td>\n",
       "      <td>0.0</td>\n",
       "      <td>0.0</td>\n",
       "      <td>0.0</td>\n",
       "      <td>0.0</td>\n",
       "      <td>2.0</td>\n",
       "      <td>3.0</td>\n",
       "      <td>1.0</td>\n",
       "      <td>0.0</td>\n",
       "    </tr>\n",
       "    <tr>\n",
       "      <th>880539</th>\n",
       "      <td>5020</td>\n",
       "      <td>2016</td>\n",
       "      <td>104</td>\n",
       "      <td>Y883</td>\n",
       "      <td>2</td>\n",
       "      <td>7</td>\n",
       "      <td>0.0</td>\n",
       "      <td>0.0</td>\n",
       "      <td>0.0</td>\n",
       "      <td>0.0</td>\n",
       "      <td>0.0</td>\n",
       "      <td>0.0</td>\n",
       "      <td>0.0</td>\n",
       "      <td>1.0</td>\n",
       "      <td>3.0</td>\n",
       "      <td>3.0</td>\n",
       "      <td>0.0</td>\n",
       "    </tr>\n",
       "    <tr>\n",
       "      <th>880540</th>\n",
       "      <td>5020</td>\n",
       "      <td>2016</td>\n",
       "      <td>104</td>\n",
       "      <td>Y899</td>\n",
       "      <td>1</td>\n",
       "      <td>6</td>\n",
       "      <td>0.0</td>\n",
       "      <td>0.0</td>\n",
       "      <td>0.0</td>\n",
       "      <td>0.0</td>\n",
       "      <td>0.0</td>\n",
       "      <td>0.0</td>\n",
       "      <td>0.0</td>\n",
       "      <td>2.0</td>\n",
       "      <td>2.0</td>\n",
       "      <td>2.0</td>\n",
       "      <td>0.0</td>\n",
       "    </tr>\n",
       "    <tr>\n",
       "      <th>880541</th>\n",
       "      <td>5020</td>\n",
       "      <td>2016</td>\n",
       "      <td>104</td>\n",
       "      <td>Y899</td>\n",
       "      <td>2</td>\n",
       "      <td>2</td>\n",
       "      <td>0.0</td>\n",
       "      <td>0.0</td>\n",
       "      <td>0.0</td>\n",
       "      <td>0.0</td>\n",
       "      <td>0.0</td>\n",
       "      <td>0.0</td>\n",
       "      <td>0.0</td>\n",
       "      <td>0.0</td>\n",
       "      <td>2.0</td>\n",
       "      <td>0.0</td>\n",
       "      <td>0.0</td>\n",
       "    </tr>\n",
       "  </tbody>\n",
       "</table>\n",
       "<p>880542 rows × 17 columns</p>\n",
       "</div>"
      ],
      "text/plain": [
       "        Country_code  Year  List Cause  Sex  Total_deaths  Mort_day0  \\\n",
       "0               1400  2013   101  1000    1           383        5.0   \n",
       "1               1400  2013   101  1000    2           334        2.0   \n",
       "2               1400  2013   101  1001    1            28        0.0   \n",
       "3               1400  2013   101  1001    2            30        0.0   \n",
       "4               1400  2013   101  1002    1             0        0.0   \n",
       "...              ...   ...   ...   ...  ...           ...        ...   \n",
       "880537          5020  2016   104  Y870    2             2        0.0   \n",
       "880538          5020  2016   104  Y883    1             6        0.0   \n",
       "880539          5020  2016   104  Y883    2             7        0.0   \n",
       "880540          5020  2016   104  Y899    1             6        0.0   \n",
       "880541          5020  2016   104  Y899    2             2        0.0   \n",
       "\n",
       "        Mort_day1_6  Mort_day7_27  Mort_day28_365  mort_1_4  mort_5_24  \\\n",
       "0               1.0           2.0             4.0       0.0        6.0   \n",
       "1               7.0           3.0             5.0       2.0        3.0   \n",
       "2               0.0           0.0             0.0       0.0        0.0   \n",
       "3               2.0           2.0             1.0       0.0        0.0   \n",
       "4               0.0           0.0             0.0       0.0        0.0   \n",
       "...             ...           ...             ...       ...        ...   \n",
       "880537          0.0           0.0             0.0       0.0        0.0   \n",
       "880538          0.0           0.0             0.0       0.0        0.0   \n",
       "880539          0.0           0.0             0.0       0.0        0.0   \n",
       "880540          0.0           0.0             0.0       0.0        0.0   \n",
       "880541          0.0           0.0             0.0       0.0        0.0   \n",
       "\n",
       "        mort_25_44  mort_45_64  mort_65_84  mort_85_95+  Deaths26  \n",
       "0             44.0       103.0       218.0          0.0       0.0  \n",
       "1             20.0        60.0       232.0          0.0       0.0  \n",
       "2              6.0        11.0        11.0          0.0       0.0  \n",
       "3              0.0         6.0        19.0          0.0       0.0  \n",
       "4              0.0         0.0         0.0          0.0       0.0  \n",
       "...            ...         ...         ...          ...       ...  \n",
       "880537         1.0         1.0         0.0          0.0       0.0  \n",
       "880538         0.0         2.0         3.0          1.0       0.0  \n",
       "880539         0.0         1.0         3.0          3.0       0.0  \n",
       "880540         0.0         2.0         2.0          2.0       0.0  \n",
       "880541         0.0         0.0         2.0          0.0       0.0  \n",
       "\n",
       "[880542 rows x 17 columns]"
      ]
     },
     "execution_count": 9,
     "metadata": {},
     "output_type": "execute_result"
    }
   ],
   "source": [
    "# Renaming some columns for part4\n",
    "morticd10_part4_df= morticd10_part4_df.rename(columns = {'Country' : 'Country_code',\n",
    "                                                      'Deaths1' : \"Total_deaths\", 'IM_Deaths1' : 'Mort_day0',\n",
    "                                                      'IM_Deaths2' : 'Mort_day1_6' , \n",
    "                                                      'IM_Deaths3' : 'Mort_day7_27',\n",
    "                                                      'IM_Deaths4': 'Mort_day28_365'})\n",
    "morticd10_part4_df"
   ]
  },
  {
   "cell_type": "code",
   "execution_count": 10,
   "metadata": {},
   "outputs": [
    {
     "data": {
      "text/plain": [
       "Index(['Country_code', 'Year', 'List', 'Cause', 'Sex', 'Total_deaths',\n",
       "       'Mort_day0', 'Mort_day1_6', 'Mort_day7_27', 'Mort_day28_365',\n",
       "       'mort_1_4', 'mort_5_24', 'mort_25_44', 'mort_45_64', 'mort_65_84',\n",
       "       'mort_85_95+', 'Deaths26'],\n",
       "      dtype='object')"
      ]
     },
     "execution_count": 10,
     "metadata": {},
     "output_type": "execute_result"
    }
   ],
   "source": [
    "part4_cols = morticd10_part4_df.columns\n",
    "part4_cols"
   ]
  },
  {
   "cell_type": "markdown",
   "metadata": {},
   "source": []
  },
  {
   "cell_type": "markdown",
   "metadata": {},
   "source": [
    "### Concatenate part4 and part5.Keepking only the Total_deaths column together with Country_code, Year, list, Cause, Sex \n"
   ]
  },
  {
   "cell_type": "code",
   "execution_count": 11,
   "metadata": {},
   "outputs": [
    {
     "data": {
      "text/plain": [
       "Index(['Country_code', 'Year', 'List', 'Cause', 'Sex', 'Total_deaths',\n",
       "       'Mort_day0', 'Mort_day1_6', 'Mort_day7_27', 'Mort_day28_365',\n",
       "       'mort_1_4', 'mort_5_24', 'mort_25_44', 'mort_45_64', 'mort_65_84',\n",
       "       'mort_85_95+', 'Deaths26'],\n",
       "      dtype='object')"
      ]
     },
     "execution_count": 11,
     "metadata": {},
     "output_type": "execute_result"
    }
   ],
   "source": [
    "part4_cols = morticd10_part4_df.columns\n",
    "part4_cols"
   ]
  },
  {
   "cell_type": "code",
   "execution_count": 12,
   "metadata": {},
   "outputs": [
    {
     "data": {
      "text/html": [
       "<div>\n",
       "<style scoped>\n",
       "    .dataframe tbody tr th:only-of-type {\n",
       "        vertical-align: middle;\n",
       "    }\n",
       "\n",
       "    .dataframe tbody tr th {\n",
       "        vertical-align: top;\n",
       "    }\n",
       "\n",
       "    .dataframe thead th {\n",
       "        text-align: right;\n",
       "    }\n",
       "</style>\n",
       "<table border=\"1\" class=\"dataframe\">\n",
       "  <thead>\n",
       "    <tr style=\"text-align: right;\">\n",
       "      <th></th>\n",
       "      <th>Country_code</th>\n",
       "      <th>Year</th>\n",
       "      <th>Cause</th>\n",
       "      <th>Sex</th>\n",
       "      <th>Total_deaths</th>\n",
       "    </tr>\n",
       "  </thead>\n",
       "  <tbody>\n",
       "    <tr>\n",
       "      <th>0</th>\n",
       "      <td>1400</td>\n",
       "      <td>2013</td>\n",
       "      <td>1000</td>\n",
       "      <td>1</td>\n",
       "      <td>383</td>\n",
       "    </tr>\n",
       "    <tr>\n",
       "      <th>1</th>\n",
       "      <td>1400</td>\n",
       "      <td>2013</td>\n",
       "      <td>1000</td>\n",
       "      <td>2</td>\n",
       "      <td>334</td>\n",
       "    </tr>\n",
       "    <tr>\n",
       "      <th>2</th>\n",
       "      <td>1400</td>\n",
       "      <td>2013</td>\n",
       "      <td>1001</td>\n",
       "      <td>1</td>\n",
       "      <td>28</td>\n",
       "    </tr>\n",
       "    <tr>\n",
       "      <th>3</th>\n",
       "      <td>1400</td>\n",
       "      <td>2013</td>\n",
       "      <td>1001</td>\n",
       "      <td>2</td>\n",
       "      <td>30</td>\n",
       "    </tr>\n",
       "    <tr>\n",
       "      <th>4</th>\n",
       "      <td>1400</td>\n",
       "      <td>2013</td>\n",
       "      <td>1002</td>\n",
       "      <td>1</td>\n",
       "      <td>0</td>\n",
       "    </tr>\n",
       "    <tr>\n",
       "      <th>...</th>\n",
       "      <td>...</td>\n",
       "      <td>...</td>\n",
       "      <td>...</td>\n",
       "      <td>...</td>\n",
       "      <td>...</td>\n",
       "    </tr>\n",
       "    <tr>\n",
       "      <th>880537</th>\n",
       "      <td>5020</td>\n",
       "      <td>2016</td>\n",
       "      <td>Y870</td>\n",
       "      <td>2</td>\n",
       "      <td>2</td>\n",
       "    </tr>\n",
       "    <tr>\n",
       "      <th>880538</th>\n",
       "      <td>5020</td>\n",
       "      <td>2016</td>\n",
       "      <td>Y883</td>\n",
       "      <td>1</td>\n",
       "      <td>6</td>\n",
       "    </tr>\n",
       "    <tr>\n",
       "      <th>880539</th>\n",
       "      <td>5020</td>\n",
       "      <td>2016</td>\n",
       "      <td>Y883</td>\n",
       "      <td>2</td>\n",
       "      <td>7</td>\n",
       "    </tr>\n",
       "    <tr>\n",
       "      <th>880540</th>\n",
       "      <td>5020</td>\n",
       "      <td>2016</td>\n",
       "      <td>Y899</td>\n",
       "      <td>1</td>\n",
       "      <td>6</td>\n",
       "    </tr>\n",
       "    <tr>\n",
       "      <th>880541</th>\n",
       "      <td>5020</td>\n",
       "      <td>2016</td>\n",
       "      <td>Y899</td>\n",
       "      <td>2</td>\n",
       "      <td>2</td>\n",
       "    </tr>\n",
       "  </tbody>\n",
       "</table>\n",
       "<p>880542 rows × 5 columns</p>\n",
       "</div>"
      ],
      "text/plain": [
       "        Country_code  Year Cause  Sex  Total_deaths\n",
       "0               1400  2013  1000    1           383\n",
       "1               1400  2013  1000    2           334\n",
       "2               1400  2013  1001    1            28\n",
       "3               1400  2013  1001    2            30\n",
       "4               1400  2013  1002    1             0\n",
       "...              ...   ...   ...  ...           ...\n",
       "880537          5020  2016  Y870    2             2\n",
       "880538          5020  2016  Y883    1             6\n",
       "880539          5020  2016  Y883    2             7\n",
       "880540          5020  2016  Y899    1             6\n",
       "880541          5020  2016  Y899    2             2\n",
       "\n",
       "[880542 rows x 5 columns]"
      ]
     },
     "execution_count": 12,
     "metadata": {},
     "output_type": "execute_result"
    }
   ],
   "source": [
    "#Keeping only desired columns to study the total deaths per cause\n",
    "morticd10_part4_totaldeath_df = morticd10_part4_df[['Country_code', 'Year', 'Cause', 'Sex', 'Total_deaths']]\n",
    "morticd10_part4_totaldeath_df"
   ]
  },
  {
   "cell_type": "code",
   "execution_count": 13,
   "metadata": {},
   "outputs": [
    {
     "data": {
      "text/html": [
       "<div>\n",
       "<style scoped>\n",
       "    .dataframe tbody tr th:only-of-type {\n",
       "        vertical-align: middle;\n",
       "    }\n",
       "\n",
       "    .dataframe tbody tr th {\n",
       "        vertical-align: top;\n",
       "    }\n",
       "\n",
       "    .dataframe thead th {\n",
       "        text-align: right;\n",
       "    }\n",
       "</style>\n",
       "<table border=\"1\" class=\"dataframe\">\n",
       "  <thead>\n",
       "    <tr style=\"text-align: right;\">\n",
       "      <th></th>\n",
       "      <th>Country_code</th>\n",
       "      <th>Year</th>\n",
       "      <th>Cause</th>\n",
       "      <th>Sex</th>\n",
       "      <th>Total_deaths</th>\n",
       "    </tr>\n",
       "  </thead>\n",
       "  <tbody>\n",
       "    <tr>\n",
       "      <th>0</th>\n",
       "      <td>4303</td>\n",
       "      <td>2017</td>\n",
       "      <td>1000</td>\n",
       "      <td>1</td>\n",
       "      <td>281784</td>\n",
       "    </tr>\n",
       "    <tr>\n",
       "      <th>1</th>\n",
       "      <td>4303</td>\n",
       "      <td>2017</td>\n",
       "      <td>1000</td>\n",
       "      <td>2</td>\n",
       "      <td>292339</td>\n",
       "    </tr>\n",
       "    <tr>\n",
       "      <th>2</th>\n",
       "      <td>4303</td>\n",
       "      <td>2017</td>\n",
       "      <td>1001</td>\n",
       "      <td>1</td>\n",
       "      <td>6198</td>\n",
       "    </tr>\n",
       "    <tr>\n",
       "      <th>3</th>\n",
       "      <td>4303</td>\n",
       "      <td>2017</td>\n",
       "      <td>1001</td>\n",
       "      <td>2</td>\n",
       "      <td>2516</td>\n",
       "    </tr>\n",
       "    <tr>\n",
       "      <th>4</th>\n",
       "      <td>4303</td>\n",
       "      <td>2017</td>\n",
       "      <td>1002</td>\n",
       "      <td>1</td>\n",
       "      <td>0</td>\n",
       "    </tr>\n",
       "    <tr>\n",
       "      <th>...</th>\n",
       "      <td>...</td>\n",
       "      <td>...</td>\n",
       "      <td>...</td>\n",
       "      <td>...</td>\n",
       "      <td>...</td>\n",
       "    </tr>\n",
       "    <tr>\n",
       "      <th>1023255</th>\n",
       "      <td>5020</td>\n",
       "      <td>2022</td>\n",
       "      <td>Y871</td>\n",
       "      <td>1</td>\n",
       "      <td>1</td>\n",
       "    </tr>\n",
       "    <tr>\n",
       "      <th>1023256</th>\n",
       "      <td>5020</td>\n",
       "      <td>2022</td>\n",
       "      <td>Y883</td>\n",
       "      <td>1</td>\n",
       "      <td>4</td>\n",
       "    </tr>\n",
       "    <tr>\n",
       "      <th>1023257</th>\n",
       "      <td>5020</td>\n",
       "      <td>2022</td>\n",
       "      <td>Y883</td>\n",
       "      <td>2</td>\n",
       "      <td>3</td>\n",
       "    </tr>\n",
       "    <tr>\n",
       "      <th>1023258</th>\n",
       "      <td>5020</td>\n",
       "      <td>2022</td>\n",
       "      <td>Y890</td>\n",
       "      <td>2</td>\n",
       "      <td>1</td>\n",
       "    </tr>\n",
       "    <tr>\n",
       "      <th>1023259</th>\n",
       "      <td>5020</td>\n",
       "      <td>2022</td>\n",
       "      <td>Y899</td>\n",
       "      <td>1</td>\n",
       "      <td>1</td>\n",
       "    </tr>\n",
       "  </tbody>\n",
       "</table>\n",
       "<p>1023260 rows × 5 columns</p>\n",
       "</div>"
      ],
      "text/plain": [
       "         Country_code  Year Cause  Sex  Total_deaths\n",
       "0                4303  2017  1000    1        281784\n",
       "1                4303  2017  1000    2        292339\n",
       "2                4303  2017  1001    1          6198\n",
       "3                4303  2017  1001    2          2516\n",
       "4                4303  2017  1002    1             0\n",
       "...               ...   ...   ...  ...           ...\n",
       "1023255          5020  2022  Y871    1             1\n",
       "1023256          5020  2022  Y883    1             4\n",
       "1023257          5020  2022  Y883    2             3\n",
       "1023258          5020  2022  Y890    2             1\n",
       "1023259          5020  2022  Y899    1             1\n",
       "\n",
       "[1023260 rows x 5 columns]"
      ]
     },
     "execution_count": 13,
     "metadata": {},
     "output_type": "execute_result"
    }
   ],
   "source": [
    "#Keeping only desired columns to study the total deaths per cause\n",
    "morticd10_part5_totaldeath_df = morticd10_part5_df[['Country_code', 'Year', 'Cause', 'Sex', 'Total_deaths']]\n",
    "morticd10_part5_totaldeath_df"
   ]
  },
  {
   "cell_type": "markdown",
   "metadata": {},
   "source": [
    "### Concatenate the two DataFrames (with total death per cause) part4 and part5 "
   ]
  },
  {
   "cell_type": "code",
   "execution_count": 14,
   "metadata": {},
   "outputs": [
    {
     "data": {
      "text/html": [
       "<div>\n",
       "<style scoped>\n",
       "    .dataframe tbody tr th:only-of-type {\n",
       "        vertical-align: middle;\n",
       "    }\n",
       "\n",
       "    .dataframe tbody tr th {\n",
       "        vertical-align: top;\n",
       "    }\n",
       "\n",
       "    .dataframe thead th {\n",
       "        text-align: right;\n",
       "    }\n",
       "</style>\n",
       "<table border=\"1\" class=\"dataframe\">\n",
       "  <thead>\n",
       "    <tr style=\"text-align: right;\">\n",
       "      <th></th>\n",
       "      <th>Country_code</th>\n",
       "      <th>Year</th>\n",
       "      <th>Cause</th>\n",
       "      <th>Sex</th>\n",
       "      <th>Total_deaths</th>\n",
       "    </tr>\n",
       "  </thead>\n",
       "  <tbody>\n",
       "    <tr>\n",
       "      <th>0</th>\n",
       "      <td>1400</td>\n",
       "      <td>2013</td>\n",
       "      <td>1000</td>\n",
       "      <td>1</td>\n",
       "      <td>383</td>\n",
       "    </tr>\n",
       "    <tr>\n",
       "      <th>1</th>\n",
       "      <td>1400</td>\n",
       "      <td>2013</td>\n",
       "      <td>1000</td>\n",
       "      <td>2</td>\n",
       "      <td>334</td>\n",
       "    </tr>\n",
       "    <tr>\n",
       "      <th>2</th>\n",
       "      <td>1400</td>\n",
       "      <td>2013</td>\n",
       "      <td>1001</td>\n",
       "      <td>1</td>\n",
       "      <td>28</td>\n",
       "    </tr>\n",
       "    <tr>\n",
       "      <th>3</th>\n",
       "      <td>1400</td>\n",
       "      <td>2013</td>\n",
       "      <td>1001</td>\n",
       "      <td>2</td>\n",
       "      <td>30</td>\n",
       "    </tr>\n",
       "    <tr>\n",
       "      <th>4</th>\n",
       "      <td>1400</td>\n",
       "      <td>2013</td>\n",
       "      <td>1002</td>\n",
       "      <td>1</td>\n",
       "      <td>0</td>\n",
       "    </tr>\n",
       "    <tr>\n",
       "      <th>...</th>\n",
       "      <td>...</td>\n",
       "      <td>...</td>\n",
       "      <td>...</td>\n",
       "      <td>...</td>\n",
       "      <td>...</td>\n",
       "    </tr>\n",
       "    <tr>\n",
       "      <th>1903797</th>\n",
       "      <td>5020</td>\n",
       "      <td>2022</td>\n",
       "      <td>Y871</td>\n",
       "      <td>1</td>\n",
       "      <td>1</td>\n",
       "    </tr>\n",
       "    <tr>\n",
       "      <th>1903798</th>\n",
       "      <td>5020</td>\n",
       "      <td>2022</td>\n",
       "      <td>Y883</td>\n",
       "      <td>1</td>\n",
       "      <td>4</td>\n",
       "    </tr>\n",
       "    <tr>\n",
       "      <th>1903799</th>\n",
       "      <td>5020</td>\n",
       "      <td>2022</td>\n",
       "      <td>Y883</td>\n",
       "      <td>2</td>\n",
       "      <td>3</td>\n",
       "    </tr>\n",
       "    <tr>\n",
       "      <th>1903800</th>\n",
       "      <td>5020</td>\n",
       "      <td>2022</td>\n",
       "      <td>Y890</td>\n",
       "      <td>2</td>\n",
       "      <td>1</td>\n",
       "    </tr>\n",
       "    <tr>\n",
       "      <th>1903801</th>\n",
       "      <td>5020</td>\n",
       "      <td>2022</td>\n",
       "      <td>Y899</td>\n",
       "      <td>1</td>\n",
       "      <td>1</td>\n",
       "    </tr>\n",
       "  </tbody>\n",
       "</table>\n",
       "<p>1903802 rows × 5 columns</p>\n",
       "</div>"
      ],
      "text/plain": [
       "         Country_code  Year Cause  Sex  Total_deaths\n",
       "0                1400  2013  1000    1           383\n",
       "1                1400  2013  1000    2           334\n",
       "2                1400  2013  1001    1            28\n",
       "3                1400  2013  1001    2            30\n",
       "4                1400  2013  1002    1             0\n",
       "...               ...   ...   ...  ...           ...\n",
       "1903797          5020  2022  Y871    1             1\n",
       "1903798          5020  2022  Y883    1             4\n",
       "1903799          5020  2022  Y883    2             3\n",
       "1903800          5020  2022  Y890    2             1\n",
       "1903801          5020  2022  Y899    1             1\n",
       "\n",
       "[1903802 rows x 5 columns]"
      ]
     },
     "execution_count": 14,
     "metadata": {},
     "output_type": "execute_result"
    }
   ],
   "source": [
    "# Concatenate the two DataFrames\n",
    "morticd10_totaldeath_per_cause_2013_2022_df = pd.concat([morticd10_part4_totaldeath_df, morticd10_part5_totaldeath_df], ignore_index=True)\n",
    "morticd10_totaldeath_per_cause_2013_2022_df"
   ]
  },
  {
   "cell_type": "markdown",
   "metadata": {},
   "source": [
    "## Section to determine the most deadly causes."
   ]
  },
  {
   "cell_type": "markdown",
   "metadata": {},
   "source": [
    "## Get the total death per cause group. Exclude the causes 'AAA' and '1000' as they represent total death for all causes combined"
   ]
  },
  {
   "cell_type": "code",
   "execution_count": 15,
   "metadata": {},
   "outputs": [
    {
     "data": {
      "text/html": [
       "<div>\n",
       "<style scoped>\n",
       "    .dataframe tbody tr th:only-of-type {\n",
       "        vertical-align: middle;\n",
       "    }\n",
       "\n",
       "    .dataframe tbody tr th {\n",
       "        vertical-align: top;\n",
       "    }\n",
       "\n",
       "    .dataframe thead th {\n",
       "        text-align: right;\n",
       "    }\n",
       "</style>\n",
       "<table border=\"1\" class=\"dataframe\">\n",
       "  <thead>\n",
       "    <tr style=\"text-align: right;\">\n",
       "      <th></th>\n",
       "      <th>Country_code</th>\n",
       "      <th>Year</th>\n",
       "      <th>Cause</th>\n",
       "      <th>Sex</th>\n",
       "      <th>Total_deaths</th>\n",
       "      <th>Cause_Group</th>\n",
       "    </tr>\n",
       "  </thead>\n",
       "  <tbody>\n",
       "    <tr>\n",
       "      <th>2</th>\n",
       "      <td>1400</td>\n",
       "      <td>2013</td>\n",
       "      <td>1001</td>\n",
       "      <td>1</td>\n",
       "      <td>28</td>\n",
       "      <td>1</td>\n",
       "    </tr>\n",
       "    <tr>\n",
       "      <th>3</th>\n",
       "      <td>1400</td>\n",
       "      <td>2013</td>\n",
       "      <td>1001</td>\n",
       "      <td>2</td>\n",
       "      <td>30</td>\n",
       "      <td>1</td>\n",
       "    </tr>\n",
       "    <tr>\n",
       "      <th>4</th>\n",
       "      <td>1400</td>\n",
       "      <td>2013</td>\n",
       "      <td>1002</td>\n",
       "      <td>1</td>\n",
       "      <td>0</td>\n",
       "      <td>1</td>\n",
       "    </tr>\n",
       "    <tr>\n",
       "      <th>5</th>\n",
       "      <td>1400</td>\n",
       "      <td>2013</td>\n",
       "      <td>1002</td>\n",
       "      <td>2</td>\n",
       "      <td>0</td>\n",
       "      <td>1</td>\n",
       "    </tr>\n",
       "    <tr>\n",
       "      <th>6</th>\n",
       "      <td>1400</td>\n",
       "      <td>2013</td>\n",
       "      <td>1003</td>\n",
       "      <td>1</td>\n",
       "      <td>3</td>\n",
       "      <td>1</td>\n",
       "    </tr>\n",
       "    <tr>\n",
       "      <th>...</th>\n",
       "      <td>...</td>\n",
       "      <td>...</td>\n",
       "      <td>...</td>\n",
       "      <td>...</td>\n",
       "      <td>...</td>\n",
       "      <td>...</td>\n",
       "    </tr>\n",
       "    <tr>\n",
       "      <th>1903797</th>\n",
       "      <td>5020</td>\n",
       "      <td>2022</td>\n",
       "      <td>Y871</td>\n",
       "      <td>1</td>\n",
       "      <td>1</td>\n",
       "      <td>Y</td>\n",
       "    </tr>\n",
       "    <tr>\n",
       "      <th>1903798</th>\n",
       "      <td>5020</td>\n",
       "      <td>2022</td>\n",
       "      <td>Y883</td>\n",
       "      <td>1</td>\n",
       "      <td>4</td>\n",
       "      <td>Y</td>\n",
       "    </tr>\n",
       "    <tr>\n",
       "      <th>1903799</th>\n",
       "      <td>5020</td>\n",
       "      <td>2022</td>\n",
       "      <td>Y883</td>\n",
       "      <td>2</td>\n",
       "      <td>3</td>\n",
       "      <td>Y</td>\n",
       "    </tr>\n",
       "    <tr>\n",
       "      <th>1903800</th>\n",
       "      <td>5020</td>\n",
       "      <td>2022</td>\n",
       "      <td>Y890</td>\n",
       "      <td>2</td>\n",
       "      <td>1</td>\n",
       "      <td>Y</td>\n",
       "    </tr>\n",
       "    <tr>\n",
       "      <th>1903801</th>\n",
       "      <td>5020</td>\n",
       "      <td>2022</td>\n",
       "      <td>Y899</td>\n",
       "      <td>1</td>\n",
       "      <td>1</td>\n",
       "      <td>Y</td>\n",
       "    </tr>\n",
       "  </tbody>\n",
       "</table>\n",
       "<p>1901778 rows × 6 columns</p>\n",
       "</div>"
      ],
      "text/plain": [
       "         Country_code  Year Cause  Sex  Total_deaths Cause_Group\n",
       "2                1400  2013  1001    1            28           1\n",
       "3                1400  2013  1001    2            30           1\n",
       "4                1400  2013  1002    1             0           1\n",
       "5                1400  2013  1002    2             0           1\n",
       "6                1400  2013  1003    1             3           1\n",
       "...               ...   ...   ...  ...           ...         ...\n",
       "1903797          5020  2022  Y871    1             1           Y\n",
       "1903798          5020  2022  Y883    1             4           Y\n",
       "1903799          5020  2022  Y883    2             3           Y\n",
       "1903800          5020  2022  Y890    2             1           Y\n",
       "1903801          5020  2022  Y899    1             1           Y\n",
       "\n",
       "[1901778 rows x 6 columns]"
      ]
     },
     "execution_count": 15,
     "metadata": {},
     "output_type": "execute_result"
    }
   ],
   "source": [
    "# Exclude the causes 'AAA' and '1000' as they represent total death for all causes combined\n",
    "excluded_causes = ['AAA', '1000']\n",
    "filtered_df = morticd10_totaldeath_per_cause_2013_2022_df[~morticd10_totaldeath_per_cause_2013_2022_df['Cause'].isin(excluded_causes)]\n",
    "\n",
    "# Extract the first character of each cause\n",
    "filtered_df = filtered_df.copy()  # Ensure it's a copy, not a view\n",
    "filtered_df.loc[:,'Cause_Group'] = filtered_df['Cause'].str[0]\n",
    "filtered_df"
   ]
  },
  {
   "cell_type": "code",
   "execution_count": 16,
   "metadata": {},
   "outputs": [
    {
     "data": {
      "text/plain": [
       "Index(['Country_code', 'Year', 'Cause', 'Sex', 'Total_deaths', 'Cause_Group'], dtype='object')"
      ]
     },
     "execution_count": 16,
     "metadata": {},
     "output_type": "execute_result"
    }
   ],
   "source": [
    "filtered_df.columns"
   ]
  },
  {
   "cell_type": "code",
   "execution_count": 17,
   "metadata": {},
   "outputs": [
    {
     "data": {
      "text/html": [
       "<div>\n",
       "<style scoped>\n",
       "    .dataframe tbody tr th:only-of-type {\n",
       "        vertical-align: middle;\n",
       "    }\n",
       "\n",
       "    .dataframe tbody tr th {\n",
       "        vertical-align: top;\n",
       "    }\n",
       "\n",
       "    .dataframe thead th {\n",
       "        text-align: right;\n",
       "    }\n",
       "</style>\n",
       "<table border=\"1\" class=\"dataframe\">\n",
       "  <thead>\n",
       "    <tr style=\"text-align: right;\">\n",
       "      <th></th>\n",
       "      <th>Country_code</th>\n",
       "      <th>Year</th>\n",
       "      <th>Sex</th>\n",
       "      <th>Cause_Group</th>\n",
       "      <th>Total_deaths</th>\n",
       "    </tr>\n",
       "  </thead>\n",
       "  <tbody>\n",
       "    <tr>\n",
       "      <th>0</th>\n",
       "      <td>1125</td>\n",
       "      <td>2013</td>\n",
       "      <td>1</td>\n",
       "      <td>A</td>\n",
       "      <td>4726</td>\n",
       "    </tr>\n",
       "    <tr>\n",
       "      <th>1</th>\n",
       "      <td>1125</td>\n",
       "      <td>2013</td>\n",
       "      <td>1</td>\n",
       "      <td>B</td>\n",
       "      <td>4905</td>\n",
       "    </tr>\n",
       "    <tr>\n",
       "      <th>2</th>\n",
       "      <td>1125</td>\n",
       "      <td>2013</td>\n",
       "      <td>1</td>\n",
       "      <td>C</td>\n",
       "      <td>18119</td>\n",
       "    </tr>\n",
       "    <tr>\n",
       "      <th>3</th>\n",
       "      <td>1125</td>\n",
       "      <td>2013</td>\n",
       "      <td>1</td>\n",
       "      <td>D</td>\n",
       "      <td>4153</td>\n",
       "    </tr>\n",
       "    <tr>\n",
       "      <th>4</th>\n",
       "      <td>1125</td>\n",
       "      <td>2013</td>\n",
       "      <td>1</td>\n",
       "      <td>E</td>\n",
       "      <td>5382</td>\n",
       "    </tr>\n",
       "    <tr>\n",
       "      <th>...</th>\n",
       "      <td>...</td>\n",
       "      <td>...</td>\n",
       "      <td>...</td>\n",
       "      <td>...</td>\n",
       "      <td>...</td>\n",
       "    </tr>\n",
       "    <tr>\n",
       "      <th>37967</th>\n",
       "      <td>5198</td>\n",
       "      <td>2018</td>\n",
       "      <td>2</td>\n",
       "      <td>P</td>\n",
       "      <td>39</td>\n",
       "    </tr>\n",
       "    <tr>\n",
       "      <th>37968</th>\n",
       "      <td>5198</td>\n",
       "      <td>2018</td>\n",
       "      <td>2</td>\n",
       "      <td>Q</td>\n",
       "      <td>12</td>\n",
       "    </tr>\n",
       "    <tr>\n",
       "      <th>37969</th>\n",
       "      <td>5198</td>\n",
       "      <td>2018</td>\n",
       "      <td>2</td>\n",
       "      <td>R</td>\n",
       "      <td>4</td>\n",
       "    </tr>\n",
       "    <tr>\n",
       "      <th>37970</th>\n",
       "      <td>5198</td>\n",
       "      <td>2018</td>\n",
       "      <td>2</td>\n",
       "      <td>W</td>\n",
       "      <td>1</td>\n",
       "    </tr>\n",
       "    <tr>\n",
       "      <th>37971</th>\n",
       "      <td>5198</td>\n",
       "      <td>2018</td>\n",
       "      <td>2</td>\n",
       "      <td>Y</td>\n",
       "      <td>3</td>\n",
       "    </tr>\n",
       "  </tbody>\n",
       "</table>\n",
       "<p>37972 rows × 5 columns</p>\n",
       "</div>"
      ],
      "text/plain": [
       "       Country_code  Year  Sex Cause_Group  Total_deaths\n",
       "0              1125  2013    1           A          4726\n",
       "1              1125  2013    1           B          4905\n",
       "2              1125  2013    1           C         18119\n",
       "3              1125  2013    1           D          4153\n",
       "4              1125  2013    1           E          5382\n",
       "...             ...   ...  ...         ...           ...\n",
       "37967          5198  2018    2           P            39\n",
       "37968          5198  2018    2           Q            12\n",
       "37969          5198  2018    2           R             4\n",
       "37970          5198  2018    2           W             1\n",
       "37971          5198  2018    2           Y             3\n",
       "\n",
       "[37972 rows x 5 columns]"
      ]
     },
     "execution_count": 17,
     "metadata": {},
     "output_type": "execute_result"
    }
   ],
   "source": [
    "# Aggregate total deaths by cause group across all years\n",
    "aggregated_total_deaths_by_cause_group_df = filtered_df.groupby(['Country_code','Year','Sex','Cause_Group'],as_index=False)['Total_deaths'].sum()\n",
    "aggregated_total_deaths_by_cause_group_df"
   ]
  },
  {
   "cell_type": "markdown",
   "metadata": {},
   "source": []
  },
  {
   "cell_type": "markdown",
   "metadata": {},
   "source": [
    "# Studying the country code and adding geocoordinates"
   ]
  },
  {
   "cell_type": "code",
   "execution_count": 18,
   "metadata": {},
   "outputs": [
    {
     "data": {
      "text/html": [
       "<div>\n",
       "<style scoped>\n",
       "    .dataframe tbody tr th:only-of-type {\n",
       "        vertical-align: middle;\n",
       "    }\n",
       "\n",
       "    .dataframe tbody tr th {\n",
       "        vertical-align: top;\n",
       "    }\n",
       "\n",
       "    .dataframe thead th {\n",
       "        text-align: right;\n",
       "    }\n",
       "</style>\n",
       "<table border=\"1\" class=\"dataframe\">\n",
       "  <thead>\n",
       "    <tr style=\"text-align: right;\">\n",
       "      <th></th>\n",
       "      <th>ï»¿country</th>\n",
       "      <th>name</th>\n",
       "    </tr>\n",
       "  </thead>\n",
       "  <tbody>\n",
       "    <tr>\n",
       "      <th>0</th>\n",
       "      <td>1010</td>\n",
       "      <td>Algeria</td>\n",
       "    </tr>\n",
       "    <tr>\n",
       "      <th>1</th>\n",
       "      <td>1020</td>\n",
       "      <td>Angola</td>\n",
       "    </tr>\n",
       "    <tr>\n",
       "      <th>2</th>\n",
       "      <td>1025</td>\n",
       "      <td>Benin</td>\n",
       "    </tr>\n",
       "    <tr>\n",
       "      <th>3</th>\n",
       "      <td>1030</td>\n",
       "      <td>Botswana</td>\n",
       "    </tr>\n",
       "    <tr>\n",
       "      <th>4</th>\n",
       "      <td>1035</td>\n",
       "      <td>Burkina Faso</td>\n",
       "    </tr>\n",
       "    <tr>\n",
       "      <th>...</th>\n",
       "      <td>...</td>\n",
       "      <td>...</td>\n",
       "    </tr>\n",
       "    <tr>\n",
       "      <th>222</th>\n",
       "      <td>5197</td>\n",
       "      <td>Samoa</td>\n",
       "    </tr>\n",
       "    <tr>\n",
       "      <th>223</th>\n",
       "      <td>5198</td>\n",
       "      <td>Solomon Islands</td>\n",
       "    </tr>\n",
       "    <tr>\n",
       "      <th>224</th>\n",
       "      <td>5200</td>\n",
       "      <td>Tonga</td>\n",
       "    </tr>\n",
       "    <tr>\n",
       "      <th>225</th>\n",
       "      <td>5205</td>\n",
       "      <td>Tuvalu</td>\n",
       "    </tr>\n",
       "    <tr>\n",
       "      <th>226</th>\n",
       "      <td>5207</td>\n",
       "      <td>Vanuatu</td>\n",
       "    </tr>\n",
       "  </tbody>\n",
       "</table>\n",
       "<p>227 rows × 2 columns</p>\n",
       "</div>"
      ],
      "text/plain": [
       "     ï»¿country             name\n",
       "0          1010          Algeria\n",
       "1          1020           Angola\n",
       "2          1025            Benin\n",
       "3          1030         Botswana\n",
       "4          1035     Burkina Faso\n",
       "..          ...              ...\n",
       "222        5197            Samoa\n",
       "223        5198  Solomon Islands\n",
       "224        5200            Tonga\n",
       "225        5205           Tuvalu\n",
       "226        5207          Vanuatu\n",
       "\n",
       "[227 rows x 2 columns]"
      ]
     },
     "execution_count": 18,
     "metadata": {},
     "output_type": "execute_result"
    }
   ],
   "source": [
    "country_code_df"
   ]
  },
  {
   "cell_type": "code",
   "execution_count": 19,
   "metadata": {},
   "outputs": [
    {
     "data": {
      "text/html": [
       "<div>\n",
       "<style scoped>\n",
       "    .dataframe tbody tr th:only-of-type {\n",
       "        vertical-align: middle;\n",
       "    }\n",
       "\n",
       "    .dataframe tbody tr th {\n",
       "        vertical-align: top;\n",
       "    }\n",
       "\n",
       "    .dataframe thead th {\n",
       "        text-align: right;\n",
       "    }\n",
       "</style>\n",
       "<table border=\"1\" class=\"dataframe\">\n",
       "  <thead>\n",
       "    <tr style=\"text-align: right;\">\n",
       "      <th></th>\n",
       "      <th>Country_code</th>\n",
       "      <th>Country_name</th>\n",
       "    </tr>\n",
       "  </thead>\n",
       "  <tbody>\n",
       "    <tr>\n",
       "      <th>0</th>\n",
       "      <td>1010</td>\n",
       "      <td>Algeria</td>\n",
       "    </tr>\n",
       "    <tr>\n",
       "      <th>1</th>\n",
       "      <td>1020</td>\n",
       "      <td>Angola</td>\n",
       "    </tr>\n",
       "    <tr>\n",
       "      <th>2</th>\n",
       "      <td>1025</td>\n",
       "      <td>Benin</td>\n",
       "    </tr>\n",
       "    <tr>\n",
       "      <th>3</th>\n",
       "      <td>1030</td>\n",
       "      <td>Botswana</td>\n",
       "    </tr>\n",
       "    <tr>\n",
       "      <th>4</th>\n",
       "      <td>1035</td>\n",
       "      <td>Burkina Faso</td>\n",
       "    </tr>\n",
       "    <tr>\n",
       "      <th>...</th>\n",
       "      <td>...</td>\n",
       "      <td>...</td>\n",
       "    </tr>\n",
       "    <tr>\n",
       "      <th>222</th>\n",
       "      <td>5197</td>\n",
       "      <td>Samoa</td>\n",
       "    </tr>\n",
       "    <tr>\n",
       "      <th>223</th>\n",
       "      <td>5198</td>\n",
       "      <td>Solomon Islands</td>\n",
       "    </tr>\n",
       "    <tr>\n",
       "      <th>224</th>\n",
       "      <td>5200</td>\n",
       "      <td>Tonga</td>\n",
       "    </tr>\n",
       "    <tr>\n",
       "      <th>225</th>\n",
       "      <td>5205</td>\n",
       "      <td>Tuvalu</td>\n",
       "    </tr>\n",
       "    <tr>\n",
       "      <th>226</th>\n",
       "      <td>5207</td>\n",
       "      <td>Vanuatu</td>\n",
       "    </tr>\n",
       "  </tbody>\n",
       "</table>\n",
       "<p>227 rows × 2 columns</p>\n",
       "</div>"
      ],
      "text/plain": [
       "     Country_code     Country_name\n",
       "0            1010          Algeria\n",
       "1            1020           Angola\n",
       "2            1025            Benin\n",
       "3            1030         Botswana\n",
       "4            1035     Burkina Faso\n",
       "..            ...              ...\n",
       "222          5197            Samoa\n",
       "223          5198  Solomon Islands\n",
       "224          5200            Tonga\n",
       "225          5205           Tuvalu\n",
       "226          5207          Vanuatu\n",
       "\n",
       "[227 rows x 2 columns]"
      ]
     },
     "execution_count": 19,
     "metadata": {},
     "output_type": "execute_result"
    }
   ],
   "source": [
    "# Renaming the country column to Country_code\n",
    "country_code_df= country_code_df.rename(columns = {'ï»¿country' : 'Country_code',\n",
    "                                                   'name' : 'Country_name'})\n",
    "country_code_df"
   ]
  },
  {
   "cell_type": "markdown",
   "metadata": {},
   "source": [
    "## Converting the numeric country code to ISO country codes"
   ]
  },
  {
   "cell_type": "code",
   "execution_count": 22,
   "metadata": {},
   "outputs": [
    {
     "data": {
      "text/html": [
       "<div>\n",
       "<style scoped>\n",
       "    .dataframe tbody tr th:only-of-type {\n",
       "        vertical-align: middle;\n",
       "    }\n",
       "\n",
       "    .dataframe tbody tr th {\n",
       "        vertical-align: top;\n",
       "    }\n",
       "\n",
       "    .dataframe thead th {\n",
       "        text-align: right;\n",
       "    }\n",
       "</style>\n",
       "<table border=\"1\" class=\"dataframe\">\n",
       "  <thead>\n",
       "    <tr style=\"text-align: right;\">\n",
       "      <th></th>\n",
       "      <th>Country_code</th>\n",
       "      <th>Country_name</th>\n",
       "      <th>ISO_Alpha3</th>\n",
       "    </tr>\n",
       "  </thead>\n",
       "  <tbody>\n",
       "    <tr>\n",
       "      <th>0</th>\n",
       "      <td>1010</td>\n",
       "      <td>Algeria</td>\n",
       "      <td>DZA</td>\n",
       "    </tr>\n",
       "    <tr>\n",
       "      <th>1</th>\n",
       "      <td>1020</td>\n",
       "      <td>Angola</td>\n",
       "      <td>AGO</td>\n",
       "    </tr>\n",
       "    <tr>\n",
       "      <th>2</th>\n",
       "      <td>1025</td>\n",
       "      <td>Benin</td>\n",
       "      <td>BEN</td>\n",
       "    </tr>\n",
       "    <tr>\n",
       "      <th>3</th>\n",
       "      <td>1030</td>\n",
       "      <td>Botswana</td>\n",
       "      <td>BWA</td>\n",
       "    </tr>\n",
       "    <tr>\n",
       "      <th>4</th>\n",
       "      <td>1035</td>\n",
       "      <td>Burkina Faso</td>\n",
       "      <td>BFA</td>\n",
       "    </tr>\n",
       "  </tbody>\n",
       "</table>\n",
       "</div>"
      ],
      "text/plain": [
       "   Country_code  Country_name ISO_Alpha3\n",
       "0          1010       Algeria        DZA\n",
       "1          1020        Angola        AGO\n",
       "2          1025         Benin        BEN\n",
       "3          1030      Botswana        BWA\n",
       "4          1035  Burkina Faso        BFA"
      ]
     },
     "execution_count": 22,
     "metadata": {},
     "output_type": "execute_result"
    }
   ],
   "source": [
    "# Function to fetch ISO Alpha-3 codes using pycountry\n",
    "def get_iso_alpha3(country_name):\n",
    "    try:\n",
    "        return pycountry.countries.lookup(country_name).alpha_3\n",
    "    except LookupError:\n",
    "        return None  # Return None if the country name is not found\n",
    "\n",
    "# Add ISO_Alpha3 column\n",
    "country_code_df['ISO_Alpha3'] = country_code_df['Country_name'].apply(get_iso_alpha3)\n",
    "\n",
    "# Display the updated DataFrame\n",
    "country_code_df.head()"
   ]
  },
  {
   "cell_type": "code",
   "execution_count": 23,
   "metadata": {},
   "outputs": [
    {
     "data": {
      "text/html": [
       "<div>\n",
       "<style scoped>\n",
       "    .dataframe tbody tr th:only-of-type {\n",
       "        vertical-align: middle;\n",
       "    }\n",
       "\n",
       "    .dataframe tbody tr th {\n",
       "        vertical-align: top;\n",
       "    }\n",
       "\n",
       "    .dataframe thead th {\n",
       "        text-align: right;\n",
       "    }\n",
       "</style>\n",
       "<table border=\"1\" class=\"dataframe\">\n",
       "  <thead>\n",
       "    <tr style=\"text-align: right;\">\n",
       "      <th></th>\n",
       "      <th>Country_code</th>\n",
       "      <th>Year</th>\n",
       "      <th>Sex</th>\n",
       "      <th>Cause_Group</th>\n",
       "      <th>Total_deaths</th>\n",
       "    </tr>\n",
       "  </thead>\n",
       "  <tbody>\n",
       "    <tr>\n",
       "      <th>0</th>\n",
       "      <td>1125</td>\n",
       "      <td>2013</td>\n",
       "      <td>1</td>\n",
       "      <td>A</td>\n",
       "      <td>4726</td>\n",
       "    </tr>\n",
       "    <tr>\n",
       "      <th>1</th>\n",
       "      <td>1125</td>\n",
       "      <td>2013</td>\n",
       "      <td>1</td>\n",
       "      <td>B</td>\n",
       "      <td>4905</td>\n",
       "    </tr>\n",
       "    <tr>\n",
       "      <th>2</th>\n",
       "      <td>1125</td>\n",
       "      <td>2013</td>\n",
       "      <td>1</td>\n",
       "      <td>C</td>\n",
       "      <td>18119</td>\n",
       "    </tr>\n",
       "    <tr>\n",
       "      <th>3</th>\n",
       "      <td>1125</td>\n",
       "      <td>2013</td>\n",
       "      <td>1</td>\n",
       "      <td>D</td>\n",
       "      <td>4153</td>\n",
       "    </tr>\n",
       "    <tr>\n",
       "      <th>4</th>\n",
       "      <td>1125</td>\n",
       "      <td>2013</td>\n",
       "      <td>1</td>\n",
       "      <td>E</td>\n",
       "      <td>5382</td>\n",
       "    </tr>\n",
       "    <tr>\n",
       "      <th>...</th>\n",
       "      <td>...</td>\n",
       "      <td>...</td>\n",
       "      <td>...</td>\n",
       "      <td>...</td>\n",
       "      <td>...</td>\n",
       "    </tr>\n",
       "    <tr>\n",
       "      <th>37967</th>\n",
       "      <td>5198</td>\n",
       "      <td>2018</td>\n",
       "      <td>2</td>\n",
       "      <td>P</td>\n",
       "      <td>39</td>\n",
       "    </tr>\n",
       "    <tr>\n",
       "      <th>37968</th>\n",
       "      <td>5198</td>\n",
       "      <td>2018</td>\n",
       "      <td>2</td>\n",
       "      <td>Q</td>\n",
       "      <td>12</td>\n",
       "    </tr>\n",
       "    <tr>\n",
       "      <th>37969</th>\n",
       "      <td>5198</td>\n",
       "      <td>2018</td>\n",
       "      <td>2</td>\n",
       "      <td>R</td>\n",
       "      <td>4</td>\n",
       "    </tr>\n",
       "    <tr>\n",
       "      <th>37970</th>\n",
       "      <td>5198</td>\n",
       "      <td>2018</td>\n",
       "      <td>2</td>\n",
       "      <td>W</td>\n",
       "      <td>1</td>\n",
       "    </tr>\n",
       "    <tr>\n",
       "      <th>37971</th>\n",
       "      <td>5198</td>\n",
       "      <td>2018</td>\n",
       "      <td>2</td>\n",
       "      <td>Y</td>\n",
       "      <td>3</td>\n",
       "    </tr>\n",
       "  </tbody>\n",
       "</table>\n",
       "<p>37972 rows × 5 columns</p>\n",
       "</div>"
      ],
      "text/plain": [
       "       Country_code  Year  Sex Cause_Group  Total_deaths\n",
       "0              1125  2013    1           A          4726\n",
       "1              1125  2013    1           B          4905\n",
       "2              1125  2013    1           C         18119\n",
       "3              1125  2013    1           D          4153\n",
       "4              1125  2013    1           E          5382\n",
       "...             ...   ...  ...         ...           ...\n",
       "37967          5198  2018    2           P            39\n",
       "37968          5198  2018    2           Q            12\n",
       "37969          5198  2018    2           R             4\n",
       "37970          5198  2018    2           W             1\n",
       "37971          5198  2018    2           Y             3\n",
       "\n",
       "[37972 rows x 5 columns]"
      ]
     },
     "execution_count": 23,
     "metadata": {},
     "output_type": "execute_result"
    }
   ],
   "source": [
    "aggregated_total_deaths_by_cause_group_df"
   ]
  },
  {
   "cell_type": "markdown",
   "metadata": {},
   "source": [
    "## Merge the mortality data with country dataframe"
   ]
  },
  {
   "cell_type": "code",
   "execution_count": 24,
   "metadata": {},
   "outputs": [
    {
     "data": {
      "text/html": [
       "<div>\n",
       "<style scoped>\n",
       "    .dataframe tbody tr th:only-of-type {\n",
       "        vertical-align: middle;\n",
       "    }\n",
       "\n",
       "    .dataframe tbody tr th {\n",
       "        vertical-align: top;\n",
       "    }\n",
       "\n",
       "    .dataframe thead th {\n",
       "        text-align: right;\n",
       "    }\n",
       "</style>\n",
       "<table border=\"1\" class=\"dataframe\">\n",
       "  <thead>\n",
       "    <tr style=\"text-align: right;\">\n",
       "      <th></th>\n",
       "      <th>Country_code</th>\n",
       "      <th>Year</th>\n",
       "      <th>Cause</th>\n",
       "      <th>Sex</th>\n",
       "      <th>Total_deaths</th>\n",
       "      <th>Cause_Group</th>\n",
       "      <th>Country_name</th>\n",
       "      <th>ISO_Alpha3</th>\n",
       "    </tr>\n",
       "  </thead>\n",
       "  <tbody>\n",
       "    <tr>\n",
       "      <th>0</th>\n",
       "      <td>1400</td>\n",
       "      <td>2013</td>\n",
       "      <td>1001</td>\n",
       "      <td>1</td>\n",
       "      <td>28</td>\n",
       "      <td>1</td>\n",
       "      <td>Seychelles</td>\n",
       "      <td>SYC</td>\n",
       "    </tr>\n",
       "    <tr>\n",
       "      <th>1</th>\n",
       "      <td>1400</td>\n",
       "      <td>2013</td>\n",
       "      <td>1001</td>\n",
       "      <td>2</td>\n",
       "      <td>30</td>\n",
       "      <td>1</td>\n",
       "      <td>Seychelles</td>\n",
       "      <td>SYC</td>\n",
       "    </tr>\n",
       "    <tr>\n",
       "      <th>2</th>\n",
       "      <td>1400</td>\n",
       "      <td>2013</td>\n",
       "      <td>1002</td>\n",
       "      <td>1</td>\n",
       "      <td>0</td>\n",
       "      <td>1</td>\n",
       "      <td>Seychelles</td>\n",
       "      <td>SYC</td>\n",
       "    </tr>\n",
       "    <tr>\n",
       "      <th>3</th>\n",
       "      <td>1400</td>\n",
       "      <td>2013</td>\n",
       "      <td>1002</td>\n",
       "      <td>2</td>\n",
       "      <td>0</td>\n",
       "      <td>1</td>\n",
       "      <td>Seychelles</td>\n",
       "      <td>SYC</td>\n",
       "    </tr>\n",
       "    <tr>\n",
       "      <th>4</th>\n",
       "      <td>1400</td>\n",
       "      <td>2013</td>\n",
       "      <td>1003</td>\n",
       "      <td>1</td>\n",
       "      <td>3</td>\n",
       "      <td>1</td>\n",
       "      <td>Seychelles</td>\n",
       "      <td>SYC</td>\n",
       "    </tr>\n",
       "    <tr>\n",
       "      <th>...</th>\n",
       "      <td>...</td>\n",
       "      <td>...</td>\n",
       "      <td>...</td>\n",
       "      <td>...</td>\n",
       "      <td>...</td>\n",
       "      <td>...</td>\n",
       "      <td>...</td>\n",
       "      <td>...</td>\n",
       "    </tr>\n",
       "    <tr>\n",
       "      <th>1901773</th>\n",
       "      <td>5020</td>\n",
       "      <td>2022</td>\n",
       "      <td>Y871</td>\n",
       "      <td>1</td>\n",
       "      <td>1</td>\n",
       "      <td>Y</td>\n",
       "      <td>Australia</td>\n",
       "      <td>AUS</td>\n",
       "    </tr>\n",
       "    <tr>\n",
       "      <th>1901774</th>\n",
       "      <td>5020</td>\n",
       "      <td>2022</td>\n",
       "      <td>Y883</td>\n",
       "      <td>1</td>\n",
       "      <td>4</td>\n",
       "      <td>Y</td>\n",
       "      <td>Australia</td>\n",
       "      <td>AUS</td>\n",
       "    </tr>\n",
       "    <tr>\n",
       "      <th>1901775</th>\n",
       "      <td>5020</td>\n",
       "      <td>2022</td>\n",
       "      <td>Y883</td>\n",
       "      <td>2</td>\n",
       "      <td>3</td>\n",
       "      <td>Y</td>\n",
       "      <td>Australia</td>\n",
       "      <td>AUS</td>\n",
       "    </tr>\n",
       "    <tr>\n",
       "      <th>1901776</th>\n",
       "      <td>5020</td>\n",
       "      <td>2022</td>\n",
       "      <td>Y890</td>\n",
       "      <td>2</td>\n",
       "      <td>1</td>\n",
       "      <td>Y</td>\n",
       "      <td>Australia</td>\n",
       "      <td>AUS</td>\n",
       "    </tr>\n",
       "    <tr>\n",
       "      <th>1901777</th>\n",
       "      <td>5020</td>\n",
       "      <td>2022</td>\n",
       "      <td>Y899</td>\n",
       "      <td>1</td>\n",
       "      <td>1</td>\n",
       "      <td>Y</td>\n",
       "      <td>Australia</td>\n",
       "      <td>AUS</td>\n",
       "    </tr>\n",
       "  </tbody>\n",
       "</table>\n",
       "<p>1901778 rows × 8 columns</p>\n",
       "</div>"
      ],
      "text/plain": [
       "         Country_code  Year Cause  Sex  Total_deaths Cause_Group Country_name  \\\n",
       "0                1400  2013  1001    1            28           1   Seychelles   \n",
       "1                1400  2013  1001    2            30           1   Seychelles   \n",
       "2                1400  2013  1002    1             0           1   Seychelles   \n",
       "3                1400  2013  1002    2             0           1   Seychelles   \n",
       "4                1400  2013  1003    1             3           1   Seychelles   \n",
       "...               ...   ...   ...  ...           ...         ...          ...   \n",
       "1901773          5020  2022  Y871    1             1           Y    Australia   \n",
       "1901774          5020  2022  Y883    1             4           Y    Australia   \n",
       "1901775          5020  2022  Y883    2             3           Y    Australia   \n",
       "1901776          5020  2022  Y890    2             1           Y    Australia   \n",
       "1901777          5020  2022  Y899    1             1           Y    Australia   \n",
       "\n",
       "        ISO_Alpha3  \n",
       "0              SYC  \n",
       "1              SYC  \n",
       "2              SYC  \n",
       "3              SYC  \n",
       "4              SYC  \n",
       "...            ...  \n",
       "1901773        AUS  \n",
       "1901774        AUS  \n",
       "1901775        AUS  \n",
       "1901776        AUS  \n",
       "1901777        AUS  \n",
       "\n",
       "[1901778 rows x 8 columns]"
      ]
     },
     "execution_count": 24,
     "metadata": {},
     "output_type": "execute_result"
    }
   ],
   "source": [
    "# Merge the mortality dataframe with the country data\n",
    "country_mortality_2013_2022_df = pd.merge(\n",
    "    filtered_df,\n",
    "    country_code_df,\n",
    "    on='Country_code',\n",
    "    how='left'  # Use 'left' join to retain all rows from the mortality data\n",
    ")\n",
    "country_mortality_2013_2022_df"
   ]
  },
  {
   "cell_type": "code",
   "execution_count": 25,
   "metadata": {},
   "outputs": [
    {
     "data": {
      "text/html": [
       "<div>\n",
       "<style scoped>\n",
       "    .dataframe tbody tr th:only-of-type {\n",
       "        vertical-align: middle;\n",
       "    }\n",
       "\n",
       "    .dataframe tbody tr th {\n",
       "        vertical-align: top;\n",
       "    }\n",
       "\n",
       "    .dataframe thead th {\n",
       "        text-align: right;\n",
       "    }\n",
       "</style>\n",
       "<table border=\"1\" class=\"dataframe\">\n",
       "  <thead>\n",
       "    <tr style=\"text-align: right;\">\n",
       "      <th></th>\n",
       "      <th>Country_code</th>\n",
       "      <th>Year</th>\n",
       "      <th>Cause</th>\n",
       "      <th>Sex</th>\n",
       "      <th>Total_deaths</th>\n",
       "      <th>Cause_Group</th>\n",
       "      <th>Country_name</th>\n",
       "      <th>ISO_Alpha3</th>\n",
       "    </tr>\n",
       "  </thead>\n",
       "  <tbody>\n",
       "    <tr>\n",
       "      <th>0</th>\n",
       "      <td>1400</td>\n",
       "      <td>2013</td>\n",
       "      <td>1001</td>\n",
       "      <td>1</td>\n",
       "      <td>28</td>\n",
       "      <td>1</td>\n",
       "      <td>Seychelles</td>\n",
       "      <td>SYC</td>\n",
       "    </tr>\n",
       "    <tr>\n",
       "      <th>1</th>\n",
       "      <td>1400</td>\n",
       "      <td>2013</td>\n",
       "      <td>1001</td>\n",
       "      <td>2</td>\n",
       "      <td>30</td>\n",
       "      <td>1</td>\n",
       "      <td>Seychelles</td>\n",
       "      <td>SYC</td>\n",
       "    </tr>\n",
       "    <tr>\n",
       "      <th>2</th>\n",
       "      <td>1400</td>\n",
       "      <td>2013</td>\n",
       "      <td>1002</td>\n",
       "      <td>1</td>\n",
       "      <td>0</td>\n",
       "      <td>1</td>\n",
       "      <td>Seychelles</td>\n",
       "      <td>SYC</td>\n",
       "    </tr>\n",
       "    <tr>\n",
       "      <th>3</th>\n",
       "      <td>1400</td>\n",
       "      <td>2013</td>\n",
       "      <td>1002</td>\n",
       "      <td>2</td>\n",
       "      <td>0</td>\n",
       "      <td>1</td>\n",
       "      <td>Seychelles</td>\n",
       "      <td>SYC</td>\n",
       "    </tr>\n",
       "    <tr>\n",
       "      <th>4</th>\n",
       "      <td>1400</td>\n",
       "      <td>2013</td>\n",
       "      <td>1003</td>\n",
       "      <td>1</td>\n",
       "      <td>3</td>\n",
       "      <td>1</td>\n",
       "      <td>Seychelles</td>\n",
       "      <td>SYC</td>\n",
       "    </tr>\n",
       "    <tr>\n",
       "      <th>...</th>\n",
       "      <td>...</td>\n",
       "      <td>...</td>\n",
       "      <td>...</td>\n",
       "      <td>...</td>\n",
       "      <td>...</td>\n",
       "      <td>...</td>\n",
       "      <td>...</td>\n",
       "      <td>...</td>\n",
       "    </tr>\n",
       "    <tr>\n",
       "      <th>1901773</th>\n",
       "      <td>5020</td>\n",
       "      <td>2022</td>\n",
       "      <td>Y871</td>\n",
       "      <td>1</td>\n",
       "      <td>1</td>\n",
       "      <td>Y</td>\n",
       "      <td>Australia</td>\n",
       "      <td>AUS</td>\n",
       "    </tr>\n",
       "    <tr>\n",
       "      <th>1901774</th>\n",
       "      <td>5020</td>\n",
       "      <td>2022</td>\n",
       "      <td>Y883</td>\n",
       "      <td>1</td>\n",
       "      <td>4</td>\n",
       "      <td>Y</td>\n",
       "      <td>Australia</td>\n",
       "      <td>AUS</td>\n",
       "    </tr>\n",
       "    <tr>\n",
       "      <th>1901775</th>\n",
       "      <td>5020</td>\n",
       "      <td>2022</td>\n",
       "      <td>Y883</td>\n",
       "      <td>2</td>\n",
       "      <td>3</td>\n",
       "      <td>Y</td>\n",
       "      <td>Australia</td>\n",
       "      <td>AUS</td>\n",
       "    </tr>\n",
       "    <tr>\n",
       "      <th>1901776</th>\n",
       "      <td>5020</td>\n",
       "      <td>2022</td>\n",
       "      <td>Y890</td>\n",
       "      <td>2</td>\n",
       "      <td>1</td>\n",
       "      <td>Y</td>\n",
       "      <td>Australia</td>\n",
       "      <td>AUS</td>\n",
       "    </tr>\n",
       "    <tr>\n",
       "      <th>1901777</th>\n",
       "      <td>5020</td>\n",
       "      <td>2022</td>\n",
       "      <td>Y899</td>\n",
       "      <td>1</td>\n",
       "      <td>1</td>\n",
       "      <td>Y</td>\n",
       "      <td>Australia</td>\n",
       "      <td>AUS</td>\n",
       "    </tr>\n",
       "  </tbody>\n",
       "</table>\n",
       "<p>1717075 rows × 8 columns</p>\n",
       "</div>"
      ],
      "text/plain": [
       "         Country_code  Year Cause  Sex  Total_deaths Cause_Group Country_name  \\\n",
       "0                1400  2013  1001    1            28           1   Seychelles   \n",
       "1                1400  2013  1001    2            30           1   Seychelles   \n",
       "2                1400  2013  1002    1             0           1   Seychelles   \n",
       "3                1400  2013  1002    2             0           1   Seychelles   \n",
       "4                1400  2013  1003    1             3           1   Seychelles   \n",
       "...               ...   ...   ...  ...           ...         ...          ...   \n",
       "1901773          5020  2022  Y871    1             1           Y    Australia   \n",
       "1901774          5020  2022  Y883    1             4           Y    Australia   \n",
       "1901775          5020  2022  Y883    2             3           Y    Australia   \n",
       "1901776          5020  2022  Y890    2             1           Y    Australia   \n",
       "1901777          5020  2022  Y899    1             1           Y    Australia   \n",
       "\n",
       "        ISO_Alpha3  \n",
       "0              SYC  \n",
       "1              SYC  \n",
       "2              SYC  \n",
       "3              SYC  \n",
       "4              SYC  \n",
       "...            ...  \n",
       "1901773        AUS  \n",
       "1901774        AUS  \n",
       "1901775        AUS  \n",
       "1901776        AUS  \n",
       "1901777        AUS  \n",
       "\n",
       "[1717075 rows x 8 columns]"
      ]
     },
     "execution_count": 25,
     "metadata": {},
     "output_type": "execute_result"
    }
   ],
   "source": [
    "# Drop rows containing NaN values\n",
    "cleaned_country_mortality_2013_2022_df= country_mortality_2013_2022_df.dropna()\n",
    "cleaned_country_mortality_2013_2022_df"
   ]
  },
  {
   "cell_type": "code",
   "execution_count": 26,
   "metadata": {},
   "outputs": [
    {
     "data": {
      "text/html": [
       "<div>\n",
       "<style scoped>\n",
       "    .dataframe tbody tr th:only-of-type {\n",
       "        vertical-align: middle;\n",
       "    }\n",
       "\n",
       "    .dataframe tbody tr th {\n",
       "        vertical-align: top;\n",
       "    }\n",
       "\n",
       "    .dataframe thead th {\n",
       "        text-align: right;\n",
       "    }\n",
       "</style>\n",
       "<table border=\"1\" class=\"dataframe\">\n",
       "  <thead>\n",
       "    <tr style=\"text-align: right;\">\n",
       "      <th></th>\n",
       "      <th>Country_code</th>\n",
       "      <th>Year</th>\n",
       "      <th>Sex</th>\n",
       "      <th>Cause_Group</th>\n",
       "      <th>Total_deaths</th>\n",
       "      <th>Country_name</th>\n",
       "      <th>ISO_Alpha3</th>\n",
       "    </tr>\n",
       "  </thead>\n",
       "  <tbody>\n",
       "    <tr>\n",
       "      <th>0</th>\n",
       "      <td>1125</td>\n",
       "      <td>2013</td>\n",
       "      <td>1</td>\n",
       "      <td>A</td>\n",
       "      <td>4726</td>\n",
       "      <td>Egypt</td>\n",
       "      <td>EGY</td>\n",
       "    </tr>\n",
       "    <tr>\n",
       "      <th>1</th>\n",
       "      <td>1125</td>\n",
       "      <td>2013</td>\n",
       "      <td>1</td>\n",
       "      <td>B</td>\n",
       "      <td>4905</td>\n",
       "      <td>Egypt</td>\n",
       "      <td>EGY</td>\n",
       "    </tr>\n",
       "    <tr>\n",
       "      <th>2</th>\n",
       "      <td>1125</td>\n",
       "      <td>2013</td>\n",
       "      <td>1</td>\n",
       "      <td>C</td>\n",
       "      <td>18119</td>\n",
       "      <td>Egypt</td>\n",
       "      <td>EGY</td>\n",
       "    </tr>\n",
       "    <tr>\n",
       "      <th>3</th>\n",
       "      <td>1125</td>\n",
       "      <td>2013</td>\n",
       "      <td>1</td>\n",
       "      <td>D</td>\n",
       "      <td>4153</td>\n",
       "      <td>Egypt</td>\n",
       "      <td>EGY</td>\n",
       "    </tr>\n",
       "    <tr>\n",
       "      <th>4</th>\n",
       "      <td>1125</td>\n",
       "      <td>2013</td>\n",
       "      <td>1</td>\n",
       "      <td>E</td>\n",
       "      <td>5382</td>\n",
       "      <td>Egypt</td>\n",
       "      <td>EGY</td>\n",
       "    </tr>\n",
       "    <tr>\n",
       "      <th>...</th>\n",
       "      <td>...</td>\n",
       "      <td>...</td>\n",
       "      <td>...</td>\n",
       "      <td>...</td>\n",
       "      <td>...</td>\n",
       "      <td>...</td>\n",
       "      <td>...</td>\n",
       "    </tr>\n",
       "    <tr>\n",
       "      <th>37967</th>\n",
       "      <td>5198</td>\n",
       "      <td>2018</td>\n",
       "      <td>2</td>\n",
       "      <td>P</td>\n",
       "      <td>39</td>\n",
       "      <td>Solomon Islands</td>\n",
       "      <td>SLB</td>\n",
       "    </tr>\n",
       "    <tr>\n",
       "      <th>37968</th>\n",
       "      <td>5198</td>\n",
       "      <td>2018</td>\n",
       "      <td>2</td>\n",
       "      <td>Q</td>\n",
       "      <td>12</td>\n",
       "      <td>Solomon Islands</td>\n",
       "      <td>SLB</td>\n",
       "    </tr>\n",
       "    <tr>\n",
       "      <th>37969</th>\n",
       "      <td>5198</td>\n",
       "      <td>2018</td>\n",
       "      <td>2</td>\n",
       "      <td>R</td>\n",
       "      <td>4</td>\n",
       "      <td>Solomon Islands</td>\n",
       "      <td>SLB</td>\n",
       "    </tr>\n",
       "    <tr>\n",
       "      <th>37970</th>\n",
       "      <td>5198</td>\n",
       "      <td>2018</td>\n",
       "      <td>2</td>\n",
       "      <td>W</td>\n",
       "      <td>1</td>\n",
       "      <td>Solomon Islands</td>\n",
       "      <td>SLB</td>\n",
       "    </tr>\n",
       "    <tr>\n",
       "      <th>37971</th>\n",
       "      <td>5198</td>\n",
       "      <td>2018</td>\n",
       "      <td>2</td>\n",
       "      <td>Y</td>\n",
       "      <td>3</td>\n",
       "      <td>Solomon Islands</td>\n",
       "      <td>SLB</td>\n",
       "    </tr>\n",
       "  </tbody>\n",
       "</table>\n",
       "<p>37972 rows × 7 columns</p>\n",
       "</div>"
      ],
      "text/plain": [
       "       Country_code  Year  Sex Cause_Group  Total_deaths     Country_name  \\\n",
       "0              1125  2013    1           A          4726            Egypt   \n",
       "1              1125  2013    1           B          4905            Egypt   \n",
       "2              1125  2013    1           C         18119            Egypt   \n",
       "3              1125  2013    1           D          4153            Egypt   \n",
       "4              1125  2013    1           E          5382            Egypt   \n",
       "...             ...   ...  ...         ...           ...              ...   \n",
       "37967          5198  2018    2           P            39  Solomon Islands   \n",
       "37968          5198  2018    2           Q            12  Solomon Islands   \n",
       "37969          5198  2018    2           R             4  Solomon Islands   \n",
       "37970          5198  2018    2           W             1  Solomon Islands   \n",
       "37971          5198  2018    2           Y             3  Solomon Islands   \n",
       "\n",
       "      ISO_Alpha3  \n",
       "0            EGY  \n",
       "1            EGY  \n",
       "2            EGY  \n",
       "3            EGY  \n",
       "4            EGY  \n",
       "...          ...  \n",
       "37967        SLB  \n",
       "37968        SLB  \n",
       "37969        SLB  \n",
       "37970        SLB  \n",
       "37971        SLB  \n",
       "\n",
       "[37972 rows x 7 columns]"
      ]
     },
     "execution_count": 26,
     "metadata": {},
     "output_type": "execute_result"
    }
   ],
   "source": [
    "# Merge the aggregated mortality dataframe with the country data\n",
    "aggregated_mortality_byCauseGroup_2013_2022_df = pd.merge(\n",
    "    aggregated_total_deaths_by_cause_group_df,\n",
    "    country_code_df,\n",
    "    on='Country_code',\n",
    "    how='left'  # Use 'left' join to retain all rows from the mortality data\n",
    ")\n",
    "aggregated_mortality_byCauseGroup_2013_2022_df"
   ]
  },
  {
   "cell_type": "code",
   "execution_count": 27,
   "metadata": {},
   "outputs": [
    {
     "data": {
      "text/html": [
       "<div>\n",
       "<style scoped>\n",
       "    .dataframe tbody tr th:only-of-type {\n",
       "        vertical-align: middle;\n",
       "    }\n",
       "\n",
       "    .dataframe tbody tr th {\n",
       "        vertical-align: top;\n",
       "    }\n",
       "\n",
       "    .dataframe thead th {\n",
       "        text-align: right;\n",
       "    }\n",
       "</style>\n",
       "<table border=\"1\" class=\"dataframe\">\n",
       "  <thead>\n",
       "    <tr style=\"text-align: right;\">\n",
       "      <th></th>\n",
       "      <th>Country_code</th>\n",
       "      <th>Year</th>\n",
       "      <th>Sex</th>\n",
       "      <th>Cause_Group</th>\n",
       "      <th>Total_deaths</th>\n",
       "      <th>Country_name</th>\n",
       "      <th>ISO_Alpha3</th>\n",
       "    </tr>\n",
       "  </thead>\n",
       "  <tbody>\n",
       "    <tr>\n",
       "      <th>0</th>\n",
       "      <td>1125</td>\n",
       "      <td>2013</td>\n",
       "      <td>1</td>\n",
       "      <td>A</td>\n",
       "      <td>4726</td>\n",
       "      <td>Egypt</td>\n",
       "      <td>EGY</td>\n",
       "    </tr>\n",
       "    <tr>\n",
       "      <th>1</th>\n",
       "      <td>1125</td>\n",
       "      <td>2013</td>\n",
       "      <td>1</td>\n",
       "      <td>B</td>\n",
       "      <td>4905</td>\n",
       "      <td>Egypt</td>\n",
       "      <td>EGY</td>\n",
       "    </tr>\n",
       "    <tr>\n",
       "      <th>2</th>\n",
       "      <td>1125</td>\n",
       "      <td>2013</td>\n",
       "      <td>1</td>\n",
       "      <td>C</td>\n",
       "      <td>18119</td>\n",
       "      <td>Egypt</td>\n",
       "      <td>EGY</td>\n",
       "    </tr>\n",
       "    <tr>\n",
       "      <th>3</th>\n",
       "      <td>1125</td>\n",
       "      <td>2013</td>\n",
       "      <td>1</td>\n",
       "      <td>D</td>\n",
       "      <td>4153</td>\n",
       "      <td>Egypt</td>\n",
       "      <td>EGY</td>\n",
       "    </tr>\n",
       "    <tr>\n",
       "      <th>4</th>\n",
       "      <td>1125</td>\n",
       "      <td>2013</td>\n",
       "      <td>1</td>\n",
       "      <td>E</td>\n",
       "      <td>5382</td>\n",
       "      <td>Egypt</td>\n",
       "      <td>EGY</td>\n",
       "    </tr>\n",
       "    <tr>\n",
       "      <th>...</th>\n",
       "      <td>...</td>\n",
       "      <td>...</td>\n",
       "      <td>...</td>\n",
       "      <td>...</td>\n",
       "      <td>...</td>\n",
       "      <td>...</td>\n",
       "      <td>...</td>\n",
       "    </tr>\n",
       "    <tr>\n",
       "      <th>37967</th>\n",
       "      <td>5198</td>\n",
       "      <td>2018</td>\n",
       "      <td>2</td>\n",
       "      <td>P</td>\n",
       "      <td>39</td>\n",
       "      <td>Solomon Islands</td>\n",
       "      <td>SLB</td>\n",
       "    </tr>\n",
       "    <tr>\n",
       "      <th>37968</th>\n",
       "      <td>5198</td>\n",
       "      <td>2018</td>\n",
       "      <td>2</td>\n",
       "      <td>Q</td>\n",
       "      <td>12</td>\n",
       "      <td>Solomon Islands</td>\n",
       "      <td>SLB</td>\n",
       "    </tr>\n",
       "    <tr>\n",
       "      <th>37969</th>\n",
       "      <td>5198</td>\n",
       "      <td>2018</td>\n",
       "      <td>2</td>\n",
       "      <td>R</td>\n",
       "      <td>4</td>\n",
       "      <td>Solomon Islands</td>\n",
       "      <td>SLB</td>\n",
       "    </tr>\n",
       "    <tr>\n",
       "      <th>37970</th>\n",
       "      <td>5198</td>\n",
       "      <td>2018</td>\n",
       "      <td>2</td>\n",
       "      <td>W</td>\n",
       "      <td>1</td>\n",
       "      <td>Solomon Islands</td>\n",
       "      <td>SLB</td>\n",
       "    </tr>\n",
       "    <tr>\n",
       "      <th>37971</th>\n",
       "      <td>5198</td>\n",
       "      <td>2018</td>\n",
       "      <td>2</td>\n",
       "      <td>Y</td>\n",
       "      <td>3</td>\n",
       "      <td>Solomon Islands</td>\n",
       "      <td>SLB</td>\n",
       "    </tr>\n",
       "  </tbody>\n",
       "</table>\n",
       "<p>34032 rows × 7 columns</p>\n",
       "</div>"
      ],
      "text/plain": [
       "       Country_code  Year  Sex Cause_Group  Total_deaths     Country_name  \\\n",
       "0              1125  2013    1           A          4726            Egypt   \n",
       "1              1125  2013    1           B          4905            Egypt   \n",
       "2              1125  2013    1           C         18119            Egypt   \n",
       "3              1125  2013    1           D          4153            Egypt   \n",
       "4              1125  2013    1           E          5382            Egypt   \n",
       "...             ...   ...  ...         ...           ...              ...   \n",
       "37967          5198  2018    2           P            39  Solomon Islands   \n",
       "37968          5198  2018    2           Q            12  Solomon Islands   \n",
       "37969          5198  2018    2           R             4  Solomon Islands   \n",
       "37970          5198  2018    2           W             1  Solomon Islands   \n",
       "37971          5198  2018    2           Y             3  Solomon Islands   \n",
       "\n",
       "      ISO_Alpha3  \n",
       "0            EGY  \n",
       "1            EGY  \n",
       "2            EGY  \n",
       "3            EGY  \n",
       "4            EGY  \n",
       "...          ...  \n",
       "37967        SLB  \n",
       "37968        SLB  \n",
       "37969        SLB  \n",
       "37970        SLB  \n",
       "37971        SLB  \n",
       "\n",
       "[34032 rows x 7 columns]"
      ]
     },
     "execution_count": 27,
     "metadata": {},
     "output_type": "execute_result"
    }
   ],
   "source": [
    "# Drop rows containing NaN values\n",
    "cleaned_aggregated_mortality_byCauseGroup_2013_2022_df = aggregated_mortality_byCauseGroup_2013_2022_df.dropna()\n",
    "cleaned_aggregated_mortality_byCauseGroup_2013_2022_df"
   ]
  },
  {
   "cell_type": "code",
   "execution_count": 28,
   "metadata": {},
   "outputs": [
    {
     "data": {
      "text/plain": [
       "Index(['Country_code', 'Year', 'Sex', 'Cause_Group', 'Total_deaths',\n",
       "       'Country_name', 'ISO_Alpha3'],\n",
       "      dtype='object')"
      ]
     },
     "execution_count": 28,
     "metadata": {},
     "output_type": "execute_result"
    }
   ],
   "source": [
    "# List the columns names\n",
    "cleaned_aggregated_mortality_byCauseGroup_2013_2022_df.columns"
   ]
  },
  {
   "cell_type": "code",
   "execution_count": 29,
   "metadata": {},
   "outputs": [
    {
     "data": {
      "text/html": [
       "<div>\n",
       "<style scoped>\n",
       "    .dataframe tbody tr th:only-of-type {\n",
       "        vertical-align: middle;\n",
       "    }\n",
       "\n",
       "    .dataframe tbody tr th {\n",
       "        vertical-align: top;\n",
       "    }\n",
       "\n",
       "    .dataframe thead th {\n",
       "        text-align: right;\n",
       "    }\n",
       "</style>\n",
       "<table border=\"1\" class=\"dataframe\">\n",
       "  <thead>\n",
       "    <tr style=\"text-align: right;\">\n",
       "      <th></th>\n",
       "      <th>Country_code</th>\n",
       "      <th>Country_name</th>\n",
       "      <th>ISO_Alpha3</th>\n",
       "      <th>Year</th>\n",
       "      <th>Cause_Group</th>\n",
       "      <th>Sex</th>\n",
       "      <th>Total_deaths</th>\n",
       "    </tr>\n",
       "  </thead>\n",
       "  <tbody>\n",
       "    <tr>\n",
       "      <th>0</th>\n",
       "      <td>1125</td>\n",
       "      <td>Egypt</td>\n",
       "      <td>EGY</td>\n",
       "      <td>2013</td>\n",
       "      <td>A</td>\n",
       "      <td>1</td>\n",
       "      <td>4726</td>\n",
       "    </tr>\n",
       "    <tr>\n",
       "      <th>1</th>\n",
       "      <td>1125</td>\n",
       "      <td>Egypt</td>\n",
       "      <td>EGY</td>\n",
       "      <td>2013</td>\n",
       "      <td>B</td>\n",
       "      <td>1</td>\n",
       "      <td>4905</td>\n",
       "    </tr>\n",
       "    <tr>\n",
       "      <th>2</th>\n",
       "      <td>1125</td>\n",
       "      <td>Egypt</td>\n",
       "      <td>EGY</td>\n",
       "      <td>2013</td>\n",
       "      <td>C</td>\n",
       "      <td>1</td>\n",
       "      <td>18119</td>\n",
       "    </tr>\n",
       "    <tr>\n",
       "      <th>3</th>\n",
       "      <td>1125</td>\n",
       "      <td>Egypt</td>\n",
       "      <td>EGY</td>\n",
       "      <td>2013</td>\n",
       "      <td>D</td>\n",
       "      <td>1</td>\n",
       "      <td>4153</td>\n",
       "    </tr>\n",
       "    <tr>\n",
       "      <th>4</th>\n",
       "      <td>1125</td>\n",
       "      <td>Egypt</td>\n",
       "      <td>EGY</td>\n",
       "      <td>2013</td>\n",
       "      <td>E</td>\n",
       "      <td>1</td>\n",
       "      <td>5382</td>\n",
       "    </tr>\n",
       "    <tr>\n",
       "      <th>...</th>\n",
       "      <td>...</td>\n",
       "      <td>...</td>\n",
       "      <td>...</td>\n",
       "      <td>...</td>\n",
       "      <td>...</td>\n",
       "      <td>...</td>\n",
       "      <td>...</td>\n",
       "    </tr>\n",
       "    <tr>\n",
       "      <th>37967</th>\n",
       "      <td>5198</td>\n",
       "      <td>Solomon Islands</td>\n",
       "      <td>SLB</td>\n",
       "      <td>2018</td>\n",
       "      <td>P</td>\n",
       "      <td>2</td>\n",
       "      <td>39</td>\n",
       "    </tr>\n",
       "    <tr>\n",
       "      <th>37968</th>\n",
       "      <td>5198</td>\n",
       "      <td>Solomon Islands</td>\n",
       "      <td>SLB</td>\n",
       "      <td>2018</td>\n",
       "      <td>Q</td>\n",
       "      <td>2</td>\n",
       "      <td>12</td>\n",
       "    </tr>\n",
       "    <tr>\n",
       "      <th>37969</th>\n",
       "      <td>5198</td>\n",
       "      <td>Solomon Islands</td>\n",
       "      <td>SLB</td>\n",
       "      <td>2018</td>\n",
       "      <td>R</td>\n",
       "      <td>2</td>\n",
       "      <td>4</td>\n",
       "    </tr>\n",
       "    <tr>\n",
       "      <th>37970</th>\n",
       "      <td>5198</td>\n",
       "      <td>Solomon Islands</td>\n",
       "      <td>SLB</td>\n",
       "      <td>2018</td>\n",
       "      <td>W</td>\n",
       "      <td>2</td>\n",
       "      <td>1</td>\n",
       "    </tr>\n",
       "    <tr>\n",
       "      <th>37971</th>\n",
       "      <td>5198</td>\n",
       "      <td>Solomon Islands</td>\n",
       "      <td>SLB</td>\n",
       "      <td>2018</td>\n",
       "      <td>Y</td>\n",
       "      <td>2</td>\n",
       "      <td>3</td>\n",
       "    </tr>\n",
       "  </tbody>\n",
       "</table>\n",
       "<p>34032 rows × 7 columns</p>\n",
       "</div>"
      ],
      "text/plain": [
       "       Country_code     Country_name ISO_Alpha3  Year Cause_Group  Sex  \\\n",
       "0              1125            Egypt        EGY  2013           A    1   \n",
       "1              1125            Egypt        EGY  2013           B    1   \n",
       "2              1125            Egypt        EGY  2013           C    1   \n",
       "3              1125            Egypt        EGY  2013           D    1   \n",
       "4              1125            Egypt        EGY  2013           E    1   \n",
       "...             ...              ...        ...   ...         ...  ...   \n",
       "37967          5198  Solomon Islands        SLB  2018           P    2   \n",
       "37968          5198  Solomon Islands        SLB  2018           Q    2   \n",
       "37969          5198  Solomon Islands        SLB  2018           R    2   \n",
       "37970          5198  Solomon Islands        SLB  2018           W    2   \n",
       "37971          5198  Solomon Islands        SLB  2018           Y    2   \n",
       "\n",
       "       Total_deaths  \n",
       "0              4726  \n",
       "1              4905  \n",
       "2             18119  \n",
       "3              4153  \n",
       "4              5382  \n",
       "...             ...  \n",
       "37967            39  \n",
       "37968            12  \n",
       "37969             4  \n",
       "37970             1  \n",
       "37971             3  \n",
       "\n",
       "[34032 rows x 7 columns]"
      ]
     },
     "execution_count": 29,
     "metadata": {},
     "output_type": "execute_result"
    }
   ],
   "source": [
    "#Reorder the columns\n",
    "cleaned_aggregated_mortality_byCauseGroup_2013_2022_df = cleaned_aggregated_mortality_byCauseGroup_2013_2022_df[\n",
    "    ['Country_code','Country_name', 'ISO_Alpha3', 'Year',  'Cause_Group', 'Sex','Total_deaths',\n",
    "       ]\n",
    "]\n",
    "cleaned_aggregated_mortality_byCauseGroup_2013_2022_df"
   ]
  },
  {
   "cell_type": "markdown",
   "metadata": {},
   "source": [
    "# Save the cleaned data from 2013-2022 and the aggregated total death by Cause_Group with country Alpha3 codes"
   ]
  },
  {
   "cell_type": "code",
   "execution_count": 31,
   "metadata": {},
   "outputs": [],
   "source": [
    "# Export file as a CSV, without the Pandas index, but with the header\n",
    "cleaned_country_mortality_2013_2022_df.to_csv(\"cleaneddata/cleaned_country_mortality_2013_2022_df.csv\", index=False, header=True)\n",
    "cleaned_aggregated_mortality_byCauseGroup_2013_2022_df.to_csv(\"cleaneddata/cleaned_aggregated_mortality_byCauseGroup_2013_2022_df.csv\", index=False, header=True)"
   ]
  },
  {
   "cell_type": "markdown",
   "metadata": {},
   "source": [
    "## Function to visualize deaths for a selected cause"
   ]
  },
  {
   "cell_type": "code",
   "execution_count": 49,
   "metadata": {},
   "outputs": [
    {
     "data": {
      "application/vnd.jupyter.widget-view+json": {
       "model_id": "2c4dd5133cd14d7092b37c63a77001dc",
       "version_major": 2,
       "version_minor": 0
      },
      "text/plain": [
       "interactive(children=(Dropdown(description='cause', options=('1001', '1002', '1003', '1004', '1005', '1006', '…"
      ]
     },
     "metadata": {},
     "output_type": "display_data"
    },
    {
     "data": {
      "application/vnd.plotly.v1+json": {
       "config": {
        "plotlyServerURL": "https://plot.ly"
       },
       "data": [
        {
         "geo": "geo",
         "hovertemplate": "<b>%{hovertext}</b><br><br>Total_Deaths=%{marker.size}<br>ISO_Alpha3=%{location}<extra></extra>",
         "hovertext": [
          "ARM",
          "EGY",
          "IRQ",
          "KAZ",
          "MYS",
          "PHL",
          "QAT",
          "THA",
          "TJK",
          "UZB",
          "ZAF"
         ],
         "legendgroup": "",
         "locations": [
          "ARM",
          "EGY",
          "IRQ",
          "KAZ",
          "MYS",
          "PHL",
          "QAT",
          "THA",
          "TJK",
          "UZB",
          "ZAF"
         ],
         "marker": {
          "color": "#636efa",
          "size": [
           1,
           125,
           19,
           18,
           30,
           1275,
           1,
           19,
           1,
           8,
           46
          ],
          "sizemode": "area",
          "sizeref": 0.51,
          "symbol": "circle"
         },
         "mode": "markers",
         "name": "",
         "showlegend": false,
         "type": "scattergeo"
        }
       ],
       "layout": {
        "geo": {
         "center": {},
         "domain": {
          "x": [
           0,
           1
          ],
          "y": [
           0,
           1
          ]
         },
         "projection": {
          "type": "natural earth"
         },
         "showcountries": true,
         "showframe": true
        },
        "legend": {
         "itemsizing": "constant",
         "tracegroupgap": 0
        },
        "template": {
         "data": {
          "bar": [
           {
            "error_x": {
             "color": "#2a3f5f"
            },
            "error_y": {
             "color": "#2a3f5f"
            },
            "marker": {
             "line": {
              "color": "#E5ECF6",
              "width": 0.5
             },
             "pattern": {
              "fillmode": "overlay",
              "size": 10,
              "solidity": 0.2
             }
            },
            "type": "bar"
           }
          ],
          "barpolar": [
           {
            "marker": {
             "line": {
              "color": "#E5ECF6",
              "width": 0.5
             },
             "pattern": {
              "fillmode": "overlay",
              "size": 10,
              "solidity": 0.2
             }
            },
            "type": "barpolar"
           }
          ],
          "carpet": [
           {
            "aaxis": {
             "endlinecolor": "#2a3f5f",
             "gridcolor": "white",
             "linecolor": "white",
             "minorgridcolor": "white",
             "startlinecolor": "#2a3f5f"
            },
            "baxis": {
             "endlinecolor": "#2a3f5f",
             "gridcolor": "white",
             "linecolor": "white",
             "minorgridcolor": "white",
             "startlinecolor": "#2a3f5f"
            },
            "type": "carpet"
           }
          ],
          "choropleth": [
           {
            "colorbar": {
             "outlinewidth": 0,
             "ticks": ""
            },
            "type": "choropleth"
           }
          ],
          "contour": [
           {
            "colorbar": {
             "outlinewidth": 0,
             "ticks": ""
            },
            "colorscale": [
             [
              0,
              "#0d0887"
             ],
             [
              0.1111111111111111,
              "#46039f"
             ],
             [
              0.2222222222222222,
              "#7201a8"
             ],
             [
              0.3333333333333333,
              "#9c179e"
             ],
             [
              0.4444444444444444,
              "#bd3786"
             ],
             [
              0.5555555555555556,
              "#d8576b"
             ],
             [
              0.6666666666666666,
              "#ed7953"
             ],
             [
              0.7777777777777778,
              "#fb9f3a"
             ],
             [
              0.8888888888888888,
              "#fdca26"
             ],
             [
              1,
              "#f0f921"
             ]
            ],
            "type": "contour"
           }
          ],
          "contourcarpet": [
           {
            "colorbar": {
             "outlinewidth": 0,
             "ticks": ""
            },
            "type": "contourcarpet"
           }
          ],
          "heatmap": [
           {
            "colorbar": {
             "outlinewidth": 0,
             "ticks": ""
            },
            "colorscale": [
             [
              0,
              "#0d0887"
             ],
             [
              0.1111111111111111,
              "#46039f"
             ],
             [
              0.2222222222222222,
              "#7201a8"
             ],
             [
              0.3333333333333333,
              "#9c179e"
             ],
             [
              0.4444444444444444,
              "#bd3786"
             ],
             [
              0.5555555555555556,
              "#d8576b"
             ],
             [
              0.6666666666666666,
              "#ed7953"
             ],
             [
              0.7777777777777778,
              "#fb9f3a"
             ],
             [
              0.8888888888888888,
              "#fdca26"
             ],
             [
              1,
              "#f0f921"
             ]
            ],
            "type": "heatmap"
           }
          ],
          "heatmapgl": [
           {
            "colorbar": {
             "outlinewidth": 0,
             "ticks": ""
            },
            "colorscale": [
             [
              0,
              "#0d0887"
             ],
             [
              0.1111111111111111,
              "#46039f"
             ],
             [
              0.2222222222222222,
              "#7201a8"
             ],
             [
              0.3333333333333333,
              "#9c179e"
             ],
             [
              0.4444444444444444,
              "#bd3786"
             ],
             [
              0.5555555555555556,
              "#d8576b"
             ],
             [
              0.6666666666666666,
              "#ed7953"
             ],
             [
              0.7777777777777778,
              "#fb9f3a"
             ],
             [
              0.8888888888888888,
              "#fdca26"
             ],
             [
              1,
              "#f0f921"
             ]
            ],
            "type": "heatmapgl"
           }
          ],
          "histogram": [
           {
            "marker": {
             "pattern": {
              "fillmode": "overlay",
              "size": 10,
              "solidity": 0.2
             }
            },
            "type": "histogram"
           }
          ],
          "histogram2d": [
           {
            "colorbar": {
             "outlinewidth": 0,
             "ticks": ""
            },
            "colorscale": [
             [
              0,
              "#0d0887"
             ],
             [
              0.1111111111111111,
              "#46039f"
             ],
             [
              0.2222222222222222,
              "#7201a8"
             ],
             [
              0.3333333333333333,
              "#9c179e"
             ],
             [
              0.4444444444444444,
              "#bd3786"
             ],
             [
              0.5555555555555556,
              "#d8576b"
             ],
             [
              0.6666666666666666,
              "#ed7953"
             ],
             [
              0.7777777777777778,
              "#fb9f3a"
             ],
             [
              0.8888888888888888,
              "#fdca26"
             ],
             [
              1,
              "#f0f921"
             ]
            ],
            "type": "histogram2d"
           }
          ],
          "histogram2dcontour": [
           {
            "colorbar": {
             "outlinewidth": 0,
             "ticks": ""
            },
            "colorscale": [
             [
              0,
              "#0d0887"
             ],
             [
              0.1111111111111111,
              "#46039f"
             ],
             [
              0.2222222222222222,
              "#7201a8"
             ],
             [
              0.3333333333333333,
              "#9c179e"
             ],
             [
              0.4444444444444444,
              "#bd3786"
             ],
             [
              0.5555555555555556,
              "#d8576b"
             ],
             [
              0.6666666666666666,
              "#ed7953"
             ],
             [
              0.7777777777777778,
              "#fb9f3a"
             ],
             [
              0.8888888888888888,
              "#fdca26"
             ],
             [
              1,
              "#f0f921"
             ]
            ],
            "type": "histogram2dcontour"
           }
          ],
          "mesh3d": [
           {
            "colorbar": {
             "outlinewidth": 0,
             "ticks": ""
            },
            "type": "mesh3d"
           }
          ],
          "parcoords": [
           {
            "line": {
             "colorbar": {
              "outlinewidth": 0,
              "ticks": ""
             }
            },
            "type": "parcoords"
           }
          ],
          "pie": [
           {
            "automargin": true,
            "type": "pie"
           }
          ],
          "scatter": [
           {
            "fillpattern": {
             "fillmode": "overlay",
             "size": 10,
             "solidity": 0.2
            },
            "type": "scatter"
           }
          ],
          "scatter3d": [
           {
            "line": {
             "colorbar": {
              "outlinewidth": 0,
              "ticks": ""
             }
            },
            "marker": {
             "colorbar": {
              "outlinewidth": 0,
              "ticks": ""
             }
            },
            "type": "scatter3d"
           }
          ],
          "scattercarpet": [
           {
            "marker": {
             "colorbar": {
              "outlinewidth": 0,
              "ticks": ""
             }
            },
            "type": "scattercarpet"
           }
          ],
          "scattergeo": [
           {
            "marker": {
             "colorbar": {
              "outlinewidth": 0,
              "ticks": ""
             }
            },
            "type": "scattergeo"
           }
          ],
          "scattergl": [
           {
            "marker": {
             "colorbar": {
              "outlinewidth": 0,
              "ticks": ""
             }
            },
            "type": "scattergl"
           }
          ],
          "scattermapbox": [
           {
            "marker": {
             "colorbar": {
              "outlinewidth": 0,
              "ticks": ""
             }
            },
            "type": "scattermapbox"
           }
          ],
          "scatterpolar": [
           {
            "marker": {
             "colorbar": {
              "outlinewidth": 0,
              "ticks": ""
             }
            },
            "type": "scatterpolar"
           }
          ],
          "scatterpolargl": [
           {
            "marker": {
             "colorbar": {
              "outlinewidth": 0,
              "ticks": ""
             }
            },
            "type": "scatterpolargl"
           }
          ],
          "scatterternary": [
           {
            "marker": {
             "colorbar": {
              "outlinewidth": 0,
              "ticks": ""
             }
            },
            "type": "scatterternary"
           }
          ],
          "surface": [
           {
            "colorbar": {
             "outlinewidth": 0,
             "ticks": ""
            },
            "colorscale": [
             [
              0,
              "#0d0887"
             ],
             [
              0.1111111111111111,
              "#46039f"
             ],
             [
              0.2222222222222222,
              "#7201a8"
             ],
             [
              0.3333333333333333,
              "#9c179e"
             ],
             [
              0.4444444444444444,
              "#bd3786"
             ],
             [
              0.5555555555555556,
              "#d8576b"
             ],
             [
              0.6666666666666666,
              "#ed7953"
             ],
             [
              0.7777777777777778,
              "#fb9f3a"
             ],
             [
              0.8888888888888888,
              "#fdca26"
             ],
             [
              1,
              "#f0f921"
             ]
            ],
            "type": "surface"
           }
          ],
          "table": [
           {
            "cells": {
             "fill": {
              "color": "#EBF0F8"
             },
             "line": {
              "color": "white"
             }
            },
            "header": {
             "fill": {
              "color": "#C8D4E3"
             },
             "line": {
              "color": "white"
             }
            },
            "type": "table"
           }
          ]
         },
         "layout": {
          "annotationdefaults": {
           "arrowcolor": "#2a3f5f",
           "arrowhead": 0,
           "arrowwidth": 1
          },
          "autotypenumbers": "strict",
          "coloraxis": {
           "colorbar": {
            "outlinewidth": 0,
            "ticks": ""
           }
          },
          "colorscale": {
           "diverging": [
            [
             0,
             "#8e0152"
            ],
            [
             0.1,
             "#c51b7d"
            ],
            [
             0.2,
             "#de77ae"
            ],
            [
             0.3,
             "#f1b6da"
            ],
            [
             0.4,
             "#fde0ef"
            ],
            [
             0.5,
             "#f7f7f7"
            ],
            [
             0.6,
             "#e6f5d0"
            ],
            [
             0.7,
             "#b8e186"
            ],
            [
             0.8,
             "#7fbc41"
            ],
            [
             0.9,
             "#4d9221"
            ],
            [
             1,
             "#276419"
            ]
           ],
           "sequential": [
            [
             0,
             "#0d0887"
            ],
            [
             0.1111111111111111,
             "#46039f"
            ],
            [
             0.2222222222222222,
             "#7201a8"
            ],
            [
             0.3333333333333333,
             "#9c179e"
            ],
            [
             0.4444444444444444,
             "#bd3786"
            ],
            [
             0.5555555555555556,
             "#d8576b"
            ],
            [
             0.6666666666666666,
             "#ed7953"
            ],
            [
             0.7777777777777778,
             "#fb9f3a"
            ],
            [
             0.8888888888888888,
             "#fdca26"
            ],
            [
             1,
             "#f0f921"
            ]
           ],
           "sequentialminus": [
            [
             0,
             "#0d0887"
            ],
            [
             0.1111111111111111,
             "#46039f"
            ],
            [
             0.2222222222222222,
             "#7201a8"
            ],
            [
             0.3333333333333333,
             "#9c179e"
            ],
            [
             0.4444444444444444,
             "#bd3786"
            ],
            [
             0.5555555555555556,
             "#d8576b"
            ],
            [
             0.6666666666666666,
             "#ed7953"
            ],
            [
             0.7777777777777778,
             "#fb9f3a"
            ],
            [
             0.8888888888888888,
             "#fdca26"
            ],
            [
             1,
             "#f0f921"
            ]
           ]
          },
          "colorway": [
           "#636efa",
           "#EF553B",
           "#00cc96",
           "#ab63fa",
           "#FFA15A",
           "#19d3f3",
           "#FF6692",
           "#B6E880",
           "#FF97FF",
           "#FECB52"
          ],
          "font": {
           "color": "#2a3f5f"
          },
          "geo": {
           "bgcolor": "white",
           "lakecolor": "white",
           "landcolor": "#E5ECF6",
           "showlakes": true,
           "showland": true,
           "subunitcolor": "white"
          },
          "hoverlabel": {
           "align": "left"
          },
          "hovermode": "closest",
          "mapbox": {
           "style": "light"
          },
          "paper_bgcolor": "white",
          "plot_bgcolor": "#E5ECF6",
          "polar": {
           "angularaxis": {
            "gridcolor": "white",
            "linecolor": "white",
            "ticks": ""
           },
           "bgcolor": "#E5ECF6",
           "radialaxis": {
            "gridcolor": "white",
            "linecolor": "white",
            "ticks": ""
           }
          },
          "scene": {
           "xaxis": {
            "backgroundcolor": "#E5ECF6",
            "gridcolor": "white",
            "gridwidth": 2,
            "linecolor": "white",
            "showbackground": true,
            "ticks": "",
            "zerolinecolor": "white"
           },
           "yaxis": {
            "backgroundcolor": "#E5ECF6",
            "gridcolor": "white",
            "gridwidth": 2,
            "linecolor": "white",
            "showbackground": true,
            "ticks": "",
            "zerolinecolor": "white"
           },
           "zaxis": {
            "backgroundcolor": "#E5ECF6",
            "gridcolor": "white",
            "gridwidth": 2,
            "linecolor": "white",
            "showbackground": true,
            "ticks": "",
            "zerolinecolor": "white"
           }
          },
          "shapedefaults": {
           "line": {
            "color": "#2a3f5f"
           }
          },
          "ternary": {
           "aaxis": {
            "gridcolor": "white",
            "linecolor": "white",
            "ticks": ""
           },
           "baxis": {
            "gridcolor": "white",
            "linecolor": "white",
            "ticks": ""
           },
           "bgcolor": "#E5ECF6",
           "caxis": {
            "gridcolor": "white",
            "linecolor": "white",
            "ticks": ""
           }
          },
          "title": {
           "x": 0.05
          },
          "xaxis": {
           "automargin": true,
           "gridcolor": "white",
           "linecolor": "white",
           "ticks": "",
           "title": {
            "standoff": 15
           },
           "zerolinecolor": "white",
           "zerolinewidth": 2
          },
          "yaxis": {
           "automargin": true,
           "gridcolor": "white",
           "linecolor": "white",
           "ticks": "",
           "title": {
            "standoff": 15
           },
           "zerolinecolor": "white",
           "zerolinewidth": 2
          }
         }
        },
        "title": {
         "text": "Total Deaths for Cause: A82"
        }
       }
      }
     },
     "metadata": {},
     "output_type": "display_data"
    },
    {
     "data": {
      "text/plain": [
       "<function __main__.visualize_cause_deaths(cause)>"
      ]
     },
     "execution_count": 49,
     "metadata": {},
     "output_type": "execute_result"
    }
   ],
   "source": [
    "# Function to visualize deaths for a selected cause\n",
    "def visualize_cause_deaths(cause):\n",
    "    # Filter data for the selected cause\n",
    "    cause_data = cleaned_country_mortality_2013_2022_df[cleaned_country_mortality_2013_2022_df['Cause'] == cause]\n",
    "    \n",
    "    # Aggregate total deaths by country for the selected cause\n",
    "    country_death_data = cause_data.groupby('ISO_Alpha3')['Total_deaths'].sum().reset_index()\n",
    "    \n",
    "    # Rename columns for clarity\n",
    "    country_death_data.columns = ['ISO_Alpha3', 'Total_Deaths']\n",
    "    \n",
    "    # Plot the data on a map\n",
    "    fig = px.scatter_geo(\n",
    "        country_death_data,\n",
    "        locations='ISO_Alpha3',  # Country codes (ISO Alpha-3 recommended)\n",
    "        size='Total_Deaths',\n",
    "        title=f'Total Deaths for Cause: {cause}',\n",
    "        projection='natural earth',\n",
    "        size_max=50,\n",
    "        hover_name='ISO_Alpha3',\n",
    "    )\n",
    "    fig.update_geos(showcountries=True, showframe=True)\n",
    "    fig.show()\n",
    "\n",
    "# List of unique causes for dropdown menu\n",
    "unique_causes = cleaned_country_mortality_2013_2022_df['Cause'].unique()\n",
    "\n",
    "# Create an interactive dropdown to select a cause\n",
    "interact(visualize_cause_deaths, cause=unique_causes)"
   ]
  },
  {
   "cell_type": "markdown",
   "metadata": {},
   "source": [
    "## Function to visualize deaths for a selected cause and year"
   ]
  },
  {
   "cell_type": "code",
   "execution_count": 50,
   "metadata": {},
   "outputs": [
    {
     "data": {
      "application/vnd.jupyter.widget-view+json": {
       "model_id": "935142ed7cf545db9c5e796704b92a86",
       "version_major": 2,
       "version_minor": 0
      },
      "text/plain": [
       "interactive(children=(Dropdown(description='cause', options=('1001', '1002', '1003', '1004', '1005', '1006', '…"
      ]
     },
     "metadata": {},
     "output_type": "display_data"
    },
    {
     "data": {
      "application/vnd.plotly.v1+json": {
       "config": {
        "plotlyServerURL": "https://plot.ly"
       },
       "data": [
        {
         "geo": "geo",
         "hovertemplate": "<b>%{hovertext}</b><br><br>Total_Deaths=%{marker.size}<br>ISO_Alpha3=%{location}<extra></extra>",
         "hovertext": [
          "BIH",
          "EGY",
          "FIN",
          "IRL",
          "MKD",
          "MYS",
          "PHL",
          "SRB",
          "SVN",
          "UZB"
         ],
         "legendgroup": "",
         "locations": [
          "BIH",
          "EGY",
          "FIN",
          "IRL",
          "MKD",
          "MYS",
          "PHL",
          "SRB",
          "SVN",
          "UZB"
         ],
         "marker": {
          "color": "#636efa",
          "size": [
           2,
           67,
           10,
           5,
           2,
           18,
           66,
           17,
           1,
           23
          ],
          "sizemode": "area",
          "sizeref": 0.0268,
          "symbol": "circle"
         },
         "mode": "markers",
         "name": "",
         "showlegend": false,
         "type": "scattergeo"
        }
       ],
       "layout": {
        "geo": {
         "center": {},
         "domain": {
          "x": [
           0,
           1
          ],
          "y": [
           0,
           1
          ]
         },
         "projection": {
          "type": "natural earth"
         },
         "showcountries": true,
         "showframe": true
        },
        "legend": {
         "itemsizing": "constant",
         "tracegroupgap": 0
        },
        "template": {
         "data": {
          "bar": [
           {
            "error_x": {
             "color": "#2a3f5f"
            },
            "error_y": {
             "color": "#2a3f5f"
            },
            "marker": {
             "line": {
              "color": "#E5ECF6",
              "width": 0.5
             },
             "pattern": {
              "fillmode": "overlay",
              "size": 10,
              "solidity": 0.2
             }
            },
            "type": "bar"
           }
          ],
          "barpolar": [
           {
            "marker": {
             "line": {
              "color": "#E5ECF6",
              "width": 0.5
             },
             "pattern": {
              "fillmode": "overlay",
              "size": 10,
              "solidity": 0.2
             }
            },
            "type": "barpolar"
           }
          ],
          "carpet": [
           {
            "aaxis": {
             "endlinecolor": "#2a3f5f",
             "gridcolor": "white",
             "linecolor": "white",
             "minorgridcolor": "white",
             "startlinecolor": "#2a3f5f"
            },
            "baxis": {
             "endlinecolor": "#2a3f5f",
             "gridcolor": "white",
             "linecolor": "white",
             "minorgridcolor": "white",
             "startlinecolor": "#2a3f5f"
            },
            "type": "carpet"
           }
          ],
          "choropleth": [
           {
            "colorbar": {
             "outlinewidth": 0,
             "ticks": ""
            },
            "type": "choropleth"
           }
          ],
          "contour": [
           {
            "colorbar": {
             "outlinewidth": 0,
             "ticks": ""
            },
            "colorscale": [
             [
              0,
              "#0d0887"
             ],
             [
              0.1111111111111111,
              "#46039f"
             ],
             [
              0.2222222222222222,
              "#7201a8"
             ],
             [
              0.3333333333333333,
              "#9c179e"
             ],
             [
              0.4444444444444444,
              "#bd3786"
             ],
             [
              0.5555555555555556,
              "#d8576b"
             ],
             [
              0.6666666666666666,
              "#ed7953"
             ],
             [
              0.7777777777777778,
              "#fb9f3a"
             ],
             [
              0.8888888888888888,
              "#fdca26"
             ],
             [
              1,
              "#f0f921"
             ]
            ],
            "type": "contour"
           }
          ],
          "contourcarpet": [
           {
            "colorbar": {
             "outlinewidth": 0,
             "ticks": ""
            },
            "type": "contourcarpet"
           }
          ],
          "heatmap": [
           {
            "colorbar": {
             "outlinewidth": 0,
             "ticks": ""
            },
            "colorscale": [
             [
              0,
              "#0d0887"
             ],
             [
              0.1111111111111111,
              "#46039f"
             ],
             [
              0.2222222222222222,
              "#7201a8"
             ],
             [
              0.3333333333333333,
              "#9c179e"
             ],
             [
              0.4444444444444444,
              "#bd3786"
             ],
             [
              0.5555555555555556,
              "#d8576b"
             ],
             [
              0.6666666666666666,
              "#ed7953"
             ],
             [
              0.7777777777777778,
              "#fb9f3a"
             ],
             [
              0.8888888888888888,
              "#fdca26"
             ],
             [
              1,
              "#f0f921"
             ]
            ],
            "type": "heatmap"
           }
          ],
          "heatmapgl": [
           {
            "colorbar": {
             "outlinewidth": 0,
             "ticks": ""
            },
            "colorscale": [
             [
              0,
              "#0d0887"
             ],
             [
              0.1111111111111111,
              "#46039f"
             ],
             [
              0.2222222222222222,
              "#7201a8"
             ],
             [
              0.3333333333333333,
              "#9c179e"
             ],
             [
              0.4444444444444444,
              "#bd3786"
             ],
             [
              0.5555555555555556,
              "#d8576b"
             ],
             [
              0.6666666666666666,
              "#ed7953"
             ],
             [
              0.7777777777777778,
              "#fb9f3a"
             ],
             [
              0.8888888888888888,
              "#fdca26"
             ],
             [
              1,
              "#f0f921"
             ]
            ],
            "type": "heatmapgl"
           }
          ],
          "histogram": [
           {
            "marker": {
             "pattern": {
              "fillmode": "overlay",
              "size": 10,
              "solidity": 0.2
             }
            },
            "type": "histogram"
           }
          ],
          "histogram2d": [
           {
            "colorbar": {
             "outlinewidth": 0,
             "ticks": ""
            },
            "colorscale": [
             [
              0,
              "#0d0887"
             ],
             [
              0.1111111111111111,
              "#46039f"
             ],
             [
              0.2222222222222222,
              "#7201a8"
             ],
             [
              0.3333333333333333,
              "#9c179e"
             ],
             [
              0.4444444444444444,
              "#bd3786"
             ],
             [
              0.5555555555555556,
              "#d8576b"
             ],
             [
              0.6666666666666666,
              "#ed7953"
             ],
             [
              0.7777777777777778,
              "#fb9f3a"
             ],
             [
              0.8888888888888888,
              "#fdca26"
             ],
             [
              1,
              "#f0f921"
             ]
            ],
            "type": "histogram2d"
           }
          ],
          "histogram2dcontour": [
           {
            "colorbar": {
             "outlinewidth": 0,
             "ticks": ""
            },
            "colorscale": [
             [
              0,
              "#0d0887"
             ],
             [
              0.1111111111111111,
              "#46039f"
             ],
             [
              0.2222222222222222,
              "#7201a8"
             ],
             [
              0.3333333333333333,
              "#9c179e"
             ],
             [
              0.4444444444444444,
              "#bd3786"
             ],
             [
              0.5555555555555556,
              "#d8576b"
             ],
             [
              0.6666666666666666,
              "#ed7953"
             ],
             [
              0.7777777777777778,
              "#fb9f3a"
             ],
             [
              0.8888888888888888,
              "#fdca26"
             ],
             [
              1,
              "#f0f921"
             ]
            ],
            "type": "histogram2dcontour"
           }
          ],
          "mesh3d": [
           {
            "colorbar": {
             "outlinewidth": 0,
             "ticks": ""
            },
            "type": "mesh3d"
           }
          ],
          "parcoords": [
           {
            "line": {
             "colorbar": {
              "outlinewidth": 0,
              "ticks": ""
             }
            },
            "type": "parcoords"
           }
          ],
          "pie": [
           {
            "automargin": true,
            "type": "pie"
           }
          ],
          "scatter": [
           {
            "fillpattern": {
             "fillmode": "overlay",
             "size": 10,
             "solidity": 0.2
            },
            "type": "scatter"
           }
          ],
          "scatter3d": [
           {
            "line": {
             "colorbar": {
              "outlinewidth": 0,
              "ticks": ""
             }
            },
            "marker": {
             "colorbar": {
              "outlinewidth": 0,
              "ticks": ""
             }
            },
            "type": "scatter3d"
           }
          ],
          "scattercarpet": [
           {
            "marker": {
             "colorbar": {
              "outlinewidth": 0,
              "ticks": ""
             }
            },
            "type": "scattercarpet"
           }
          ],
          "scattergeo": [
           {
            "marker": {
             "colorbar": {
              "outlinewidth": 0,
              "ticks": ""
             }
            },
            "type": "scattergeo"
           }
          ],
          "scattergl": [
           {
            "marker": {
             "colorbar": {
              "outlinewidth": 0,
              "ticks": ""
             }
            },
            "type": "scattergl"
           }
          ],
          "scattermapbox": [
           {
            "marker": {
             "colorbar": {
              "outlinewidth": 0,
              "ticks": ""
             }
            },
            "type": "scattermapbox"
           }
          ],
          "scatterpolar": [
           {
            "marker": {
             "colorbar": {
              "outlinewidth": 0,
              "ticks": ""
             }
            },
            "type": "scatterpolar"
           }
          ],
          "scatterpolargl": [
           {
            "marker": {
             "colorbar": {
              "outlinewidth": 0,
              "ticks": ""
             }
            },
            "type": "scatterpolargl"
           }
          ],
          "scatterternary": [
           {
            "marker": {
             "colorbar": {
              "outlinewidth": 0,
              "ticks": ""
             }
            },
            "type": "scatterternary"
           }
          ],
          "surface": [
           {
            "colorbar": {
             "outlinewidth": 0,
             "ticks": ""
            },
            "colorscale": [
             [
              0,
              "#0d0887"
             ],
             [
              0.1111111111111111,
              "#46039f"
             ],
             [
              0.2222222222222222,
              "#7201a8"
             ],
             [
              0.3333333333333333,
              "#9c179e"
             ],
             [
              0.4444444444444444,
              "#bd3786"
             ],
             [
              0.5555555555555556,
              "#d8576b"
             ],
             [
              0.6666666666666666,
              "#ed7953"
             ],
             [
              0.7777777777777778,
              "#fb9f3a"
             ],
             [
              0.8888888888888888,
              "#fdca26"
             ],
             [
              1,
              "#f0f921"
             ]
            ],
            "type": "surface"
           }
          ],
          "table": [
           {
            "cells": {
             "fill": {
              "color": "#EBF0F8"
             },
             "line": {
              "color": "white"
             }
            },
            "header": {
             "fill": {
              "color": "#C8D4E3"
             },
             "line": {
              "color": "white"
             }
            },
            "type": "table"
           }
          ]
         },
         "layout": {
          "annotationdefaults": {
           "arrowcolor": "#2a3f5f",
           "arrowhead": 0,
           "arrowwidth": 1
          },
          "autotypenumbers": "strict",
          "coloraxis": {
           "colorbar": {
            "outlinewidth": 0,
            "ticks": ""
           }
          },
          "colorscale": {
           "diverging": [
            [
             0,
             "#8e0152"
            ],
            [
             0.1,
             "#c51b7d"
            ],
            [
             0.2,
             "#de77ae"
            ],
            [
             0.3,
             "#f1b6da"
            ],
            [
             0.4,
             "#fde0ef"
            ],
            [
             0.5,
             "#f7f7f7"
            ],
            [
             0.6,
             "#e6f5d0"
            ],
            [
             0.7,
             "#b8e186"
            ],
            [
             0.8,
             "#7fbc41"
            ],
            [
             0.9,
             "#4d9221"
            ],
            [
             1,
             "#276419"
            ]
           ],
           "sequential": [
            [
             0,
             "#0d0887"
            ],
            [
             0.1111111111111111,
             "#46039f"
            ],
            [
             0.2222222222222222,
             "#7201a8"
            ],
            [
             0.3333333333333333,
             "#9c179e"
            ],
            [
             0.4444444444444444,
             "#bd3786"
            ],
            [
             0.5555555555555556,
             "#d8576b"
            ],
            [
             0.6666666666666666,
             "#ed7953"
            ],
            [
             0.7777777777777778,
             "#fb9f3a"
            ],
            [
             0.8888888888888888,
             "#fdca26"
            ],
            [
             1,
             "#f0f921"
            ]
           ],
           "sequentialminus": [
            [
             0,
             "#0d0887"
            ],
            [
             0.1111111111111111,
             "#46039f"
            ],
            [
             0.2222222222222222,
             "#7201a8"
            ],
            [
             0.3333333333333333,
             "#9c179e"
            ],
            [
             0.4444444444444444,
             "#bd3786"
            ],
            [
             0.5555555555555556,
             "#d8576b"
            ],
            [
             0.6666666666666666,
             "#ed7953"
            ],
            [
             0.7777777777777778,
             "#fb9f3a"
            ],
            [
             0.8888888888888888,
             "#fdca26"
            ],
            [
             1,
             "#f0f921"
            ]
           ]
          },
          "colorway": [
           "#636efa",
           "#EF553B",
           "#00cc96",
           "#ab63fa",
           "#FFA15A",
           "#19d3f3",
           "#FF6692",
           "#B6E880",
           "#FF97FF",
           "#FECB52"
          ],
          "font": {
           "color": "#2a3f5f"
          },
          "geo": {
           "bgcolor": "white",
           "lakecolor": "white",
           "landcolor": "#E5ECF6",
           "showlakes": true,
           "showland": true,
           "subunitcolor": "white"
          },
          "hoverlabel": {
           "align": "left"
          },
          "hovermode": "closest",
          "mapbox": {
           "style": "light"
          },
          "paper_bgcolor": "white",
          "plot_bgcolor": "#E5ECF6",
          "polar": {
           "angularaxis": {
            "gridcolor": "white",
            "linecolor": "white",
            "ticks": ""
           },
           "bgcolor": "#E5ECF6",
           "radialaxis": {
            "gridcolor": "white",
            "linecolor": "white",
            "ticks": ""
           }
          },
          "scene": {
           "xaxis": {
            "backgroundcolor": "#E5ECF6",
            "gridcolor": "white",
            "gridwidth": 2,
            "linecolor": "white",
            "showbackground": true,
            "ticks": "",
            "zerolinecolor": "white"
           },
           "yaxis": {
            "backgroundcolor": "#E5ECF6",
            "gridcolor": "white",
            "gridwidth": 2,
            "linecolor": "white",
            "showbackground": true,
            "ticks": "",
            "zerolinecolor": "white"
           },
           "zaxis": {
            "backgroundcolor": "#E5ECF6",
            "gridcolor": "white",
            "gridwidth": 2,
            "linecolor": "white",
            "showbackground": true,
            "ticks": "",
            "zerolinecolor": "white"
           }
          },
          "shapedefaults": {
           "line": {
            "color": "#2a3f5f"
           }
          },
          "ternary": {
           "aaxis": {
            "gridcolor": "white",
            "linecolor": "white",
            "ticks": ""
           },
           "baxis": {
            "gridcolor": "white",
            "linecolor": "white",
            "ticks": ""
           },
           "bgcolor": "#E5ECF6",
           "caxis": {
            "gridcolor": "white",
            "linecolor": "white",
            "ticks": ""
           }
          },
          "title": {
           "x": 0.05
          },
          "xaxis": {
           "automargin": true,
           "gridcolor": "white",
           "linecolor": "white",
           "ticks": "",
           "title": {
            "standoff": 15
           },
           "zerolinecolor": "white",
           "zerolinewidth": 2
          },
          "yaxis": {
           "automargin": true,
           "gridcolor": "white",
           "linecolor": "white",
           "ticks": "",
           "title": {
            "standoff": 15
           },
           "zerolinecolor": "white",
           "zerolinewidth": 2
          }
         }
        },
        "title": {
         "text": "Total Deaths for Cause: C08 in Year: 2019"
        }
       }
      }
     },
     "metadata": {},
     "output_type": "display_data"
    },
    {
     "data": {
      "text/plain": [
       "<function __main__.visualize_cause_deaths(cause, year)>"
      ]
     },
     "execution_count": 50,
     "metadata": {},
     "output_type": "execute_result"
    }
   ],
   "source": [
    "# Function to visualize deaths for a selected cause and year\n",
    "def visualize_cause_deaths(cause, year):\n",
    "    # Filter data for the selected cause and year\n",
    "    filtered_data = cleaned_country_mortality_2013_2022_df[\n",
    "        (cleaned_country_mortality_2013_2022_df['Cause'] == cause) & \n",
    "        (cleaned_country_mortality_2013_2022_df['Year'] == year)\n",
    "    ]\n",
    "    \n",
    "    # Aggregate total deaths by country for the selected cause and year\n",
    "    country_death_data = filtered_data.groupby('ISO_Alpha3')['Total_deaths'].sum().reset_index()\n",
    "    \n",
    "    # Rename columns for clarity\n",
    "    country_death_data.columns = ['ISO_Alpha3', 'Total_Deaths']\n",
    "    \n",
    "    # Plot the data on a map\n",
    "    fig = px.scatter_geo(\n",
    "        country_death_data,\n",
    "        locations='ISO_Alpha3',  # Country codes (ISO Alpha-3 recommended)\n",
    "        size='Total_Deaths',\n",
    "        title=f'Total Deaths for Cause: {cause} in Year: {year}',\n",
    "        projection='natural earth',\n",
    "        size_max=50,\n",
    "        hover_name='ISO_Alpha3',\n",
    "    )\n",
    "    fig.update_geos(showcountries=True, showframe=True)\n",
    "    fig.show()\n",
    "\n",
    "# List of unique causes and years for dropdown menus\n",
    "unique_causes = cleaned_country_mortality_2013_2022_df['Cause'].unique()\n",
    "unique_years = cleaned_country_mortality_2013_2022_df['Year'].dropna().unique()\n",
    "\n",
    "# Create an interactive dropdown to select a cause and a year\n",
    "interact(visualize_cause_deaths, cause=unique_causes, year=unique_years)"
   ]
  },
  {
   "cell_type": "markdown",
   "metadata": {},
   "source": [
    "## Adding code to make bubbles of each country to have different colors"
   ]
  },
  {
   "cell_type": "code",
   "execution_count": 51,
   "metadata": {},
   "outputs": [
    {
     "data": {
      "application/vnd.jupyter.widget-view+json": {
       "model_id": "05702ba890424816a6c5c32bfcdda09a",
       "version_major": 2,
       "version_minor": 0
      },
      "text/plain": [
       "interactive(children=(Dropdown(description='cause', options=('1001', '1002', '1003', '1004', '1005', '1006', '…"
      ]
     },
     "metadata": {},
     "output_type": "display_data"
    },
    {
     "data": {
      "application/vnd.plotly.v1+json": {
       "config": {
        "plotlyServerURL": "https://plot.ly"
       },
       "data": [
        {
         "geo": "geo",
         "hovertemplate": "<b>%{hovertext}</b><br><br>Country_Color=AUS<br>Total_Deaths=%{marker.size}<br>ISO_Alpha3=%{location}<extra></extra>",
         "hovertext": [
          "AUS"
         ],
         "legendgroup": "AUS",
         "locations": [
          "AUS"
         ],
         "marker": {
          "color": "#636efa",
          "size": [
           2
          ],
          "sizemode": "area",
          "sizeref": 0.0096,
          "symbol": "circle"
         },
         "mode": "markers",
         "name": "AUS",
         "showlegend": true,
         "type": "scattergeo"
        },
        {
         "geo": "geo",
         "hovertemplate": "<b>%{hovertext}</b><br><br>Country_Color=AUT<br>Total_Deaths=%{marker.size}<br>ISO_Alpha3=%{location}<extra></extra>",
         "hovertext": [
          "AUT"
         ],
         "legendgroup": "AUT",
         "locations": [
          "AUT"
         ],
         "marker": {
          "color": "#EF553B",
          "size": [
           2
          ],
          "sizemode": "area",
          "sizeref": 0.0096,
          "symbol": "circle"
         },
         "mode": "markers",
         "name": "AUT",
         "showlegend": true,
         "type": "scattergeo"
        },
        {
         "geo": "geo",
         "hovertemplate": "<b>%{hovertext}</b><br><br>Country_Color=BEL<br>Total_Deaths=%{marker.size}<br>ISO_Alpha3=%{location}<extra></extra>",
         "hovertext": [
          "BEL"
         ],
         "legendgroup": "BEL",
         "locations": [
          "BEL"
         ],
         "marker": {
          "color": "#00cc96",
          "size": [
           3
          ],
          "sizemode": "area",
          "sizeref": 0.0096,
          "symbol": "circle"
         },
         "mode": "markers",
         "name": "BEL",
         "showlegend": true,
         "type": "scattergeo"
        },
        {
         "geo": "geo",
         "hovertemplate": "<b>%{hovertext}</b><br><br>Country_Color=BGR<br>Total_Deaths=%{marker.size}<br>ISO_Alpha3=%{location}<extra></extra>",
         "hovertext": [
          "BGR"
         ],
         "legendgroup": "BGR",
         "locations": [
          "BGR"
         ],
         "marker": {
          "color": "#ab63fa",
          "size": [
           1
          ],
          "sizemode": "area",
          "sizeref": 0.0096,
          "symbol": "circle"
         },
         "mode": "markers",
         "name": "BGR",
         "showlegend": true,
         "type": "scattergeo"
        },
        {
         "geo": "geo",
         "hovertemplate": "<b>%{hovertext}</b><br><br>Country_Color=BRA<br>Total_Deaths=%{marker.size}<br>ISO_Alpha3=%{location}<extra></extra>",
         "hovertext": [
          "BRA"
         ],
         "legendgroup": "BRA",
         "locations": [
          "BRA"
         ],
         "marker": {
          "color": "#FFA15A",
          "size": [
           2
          ],
          "sizemode": "area",
          "sizeref": 0.0096,
          "symbol": "circle"
         },
         "mode": "markers",
         "name": "BRA",
         "showlegend": true,
         "type": "scattergeo"
        },
        {
         "geo": "geo",
         "hovertemplate": "<b>%{hovertext}</b><br><br>Country_Color=CAN<br>Total_Deaths=%{marker.size}<br>ISO_Alpha3=%{location}<extra></extra>",
         "hovertext": [
          "CAN"
         ],
         "legendgroup": "CAN",
         "locations": [
          "CAN"
         ],
         "marker": {
          "color": "#19d3f3",
          "size": [
           1
          ],
          "sizemode": "area",
          "sizeref": 0.0096,
          "symbol": "circle"
         },
         "mode": "markers",
         "name": "CAN",
         "showlegend": true,
         "type": "scattergeo"
        },
        {
         "geo": "geo",
         "hovertemplate": "<b>%{hovertext}</b><br><br>Country_Color=CRI<br>Total_Deaths=%{marker.size}<br>ISO_Alpha3=%{location}<extra></extra>",
         "hovertext": [
          "CRI"
         ],
         "legendgroup": "CRI",
         "locations": [
          "CRI"
         ],
         "marker": {
          "color": "#FF6692",
          "size": [
           1
          ],
          "sizemode": "area",
          "sizeref": 0.0096,
          "symbol": "circle"
         },
         "mode": "markers",
         "name": "CRI",
         "showlegend": true,
         "type": "scattergeo"
        },
        {
         "geo": "geo",
         "hovertemplate": "<b>%{hovertext}</b><br><br>Country_Color=DEU<br>Total_Deaths=%{marker.size}<br>ISO_Alpha3=%{location}<extra></extra>",
         "hovertext": [
          "DEU"
         ],
         "legendgroup": "DEU",
         "locations": [
          "DEU"
         ],
         "marker": {
          "color": "#B6E880",
          "size": [
           24
          ],
          "sizemode": "area",
          "sizeref": 0.0096,
          "symbol": "circle"
         },
         "mode": "markers",
         "name": "DEU",
         "showlegend": true,
         "type": "scattergeo"
        },
        {
         "geo": "geo",
         "hovertemplate": "<b>%{hovertext}</b><br><br>Country_Color=ECU<br>Total_Deaths=%{marker.size}<br>ISO_Alpha3=%{location}<extra></extra>",
         "hovertext": [
          "ECU"
         ],
         "legendgroup": "ECU",
         "locations": [
          "ECU"
         ],
         "marker": {
          "color": "#FF97FF",
          "size": [
           1
          ],
          "sizemode": "area",
          "sizeref": 0.0096,
          "symbol": "circle"
         },
         "mode": "markers",
         "name": "ECU",
         "showlegend": true,
         "type": "scattergeo"
        },
        {
         "geo": "geo",
         "hovertemplate": "<b>%{hovertext}</b><br><br>Country_Color=FRA<br>Total_Deaths=%{marker.size}<br>ISO_Alpha3=%{location}<extra></extra>",
         "hovertext": [
          "FRA"
         ],
         "legendgroup": "FRA",
         "locations": [
          "FRA"
         ],
         "marker": {
          "color": "#FECB52",
          "size": [
           4
          ],
          "sizemode": "area",
          "sizeref": 0.0096,
          "symbol": "circle"
         },
         "mode": "markers",
         "name": "FRA",
         "showlegend": true,
         "type": "scattergeo"
        },
        {
         "geo": "geo",
         "hovertemplate": "<b>%{hovertext}</b><br><br>Country_Color=GTM<br>Total_Deaths=%{marker.size}<br>ISO_Alpha3=%{location}<extra></extra>",
         "hovertext": [
          "GTM"
         ],
         "legendgroup": "GTM",
         "locations": [
          "GTM"
         ],
         "marker": {
          "color": "#636efa",
          "size": [
           3
          ],
          "sizemode": "area",
          "sizeref": 0.0096,
          "symbol": "circle"
         },
         "mode": "markers",
         "name": "GTM",
         "showlegend": true,
         "type": "scattergeo"
        },
        {
         "geo": "geo",
         "hovertemplate": "<b>%{hovertext}</b><br><br>Country_Color=HUN<br>Total_Deaths=%{marker.size}<br>ISO_Alpha3=%{location}<extra></extra>",
         "hovertext": [
          "HUN"
         ],
         "legendgroup": "HUN",
         "locations": [
          "HUN"
         ],
         "marker": {
          "color": "#EF553B",
          "size": [
           2
          ],
          "sizemode": "area",
          "sizeref": 0.0096,
          "symbol": "circle"
         },
         "mode": "markers",
         "name": "HUN",
         "showlegend": true,
         "type": "scattergeo"
        },
        {
         "geo": "geo",
         "hovertemplate": "<b>%{hovertext}</b><br><br>Country_Color=ITA<br>Total_Deaths=%{marker.size}<br>ISO_Alpha3=%{location}<extra></extra>",
         "hovertext": [
          "ITA"
         ],
         "legendgroup": "ITA",
         "locations": [
          "ITA"
         ],
         "marker": {
          "color": "#00cc96",
          "size": [
           2
          ],
          "sizemode": "area",
          "sizeref": 0.0096,
          "symbol": "circle"
         },
         "mode": "markers",
         "name": "ITA",
         "showlegend": true,
         "type": "scattergeo"
        },
        {
         "geo": "geo",
         "hovertemplate": "<b>%{hovertext}</b><br><br>Country_Color=JPN<br>Total_Deaths=%{marker.size}<br>ISO_Alpha3=%{location}<extra></extra>",
         "hovertext": [
          "JPN"
         ],
         "legendgroup": "JPN",
         "locations": [
          "JPN"
         ],
         "marker": {
          "color": "#ab63fa",
          "size": [
           7
          ],
          "sizemode": "area",
          "sizeref": 0.0096,
          "symbol": "circle"
         },
         "mode": "markers",
         "name": "JPN",
         "showlegend": true,
         "type": "scattergeo"
        },
        {
         "geo": "geo",
         "hovertemplate": "<b>%{hovertext}</b><br><br>Country_Color=LTU<br>Total_Deaths=%{marker.size}<br>ISO_Alpha3=%{location}<extra></extra>",
         "hovertext": [
          "LTU"
         ],
         "legendgroup": "LTU",
         "locations": [
          "LTU"
         ],
         "marker": {
          "color": "#FFA15A",
          "size": [
           1
          ],
          "sizemode": "area",
          "sizeref": 0.0096,
          "symbol": "circle"
         },
         "mode": "markers",
         "name": "LTU",
         "showlegend": true,
         "type": "scattergeo"
        },
        {
         "geo": "geo",
         "hovertemplate": "<b>%{hovertext}</b><br><br>Country_Color=MEX<br>Total_Deaths=%{marker.size}<br>ISO_Alpha3=%{location}<extra></extra>",
         "hovertext": [
          "MEX"
         ],
         "legendgroup": "MEX",
         "locations": [
          "MEX"
         ],
         "marker": {
          "color": "#19d3f3",
          "size": [
           4
          ],
          "sizemode": "area",
          "sizeref": 0.0096,
          "symbol": "circle"
         },
         "mode": "markers",
         "name": "MEX",
         "showlegend": true,
         "type": "scattergeo"
        },
        {
         "geo": "geo",
         "hovertemplate": "<b>%{hovertext}</b><br><br>Country_Color=NLD<br>Total_Deaths=%{marker.size}<br>ISO_Alpha3=%{location}<extra></extra>",
         "hovertext": [
          "NLD"
         ],
         "legendgroup": "NLD",
         "locations": [
          "NLD"
         ],
         "marker": {
          "color": "#FF6692",
          "size": [
           13
          ],
          "sizemode": "area",
          "sizeref": 0.0096,
          "symbol": "circle"
         },
         "mode": "markers",
         "name": "NLD",
         "showlegend": true,
         "type": "scattergeo"
        },
        {
         "geo": "geo",
         "hovertemplate": "<b>%{hovertext}</b><br><br>Country_Color=PER<br>Total_Deaths=%{marker.size}<br>ISO_Alpha3=%{location}<extra></extra>",
         "hovertext": [
          "PER"
         ],
         "legendgroup": "PER",
         "locations": [
          "PER"
         ],
         "marker": {
          "color": "#B6E880",
          "size": [
           1
          ],
          "sizemode": "area",
          "sizeref": 0.0096,
          "symbol": "circle"
         },
         "mode": "markers",
         "name": "PER",
         "showlegend": true,
         "type": "scattergeo"
        },
        {
         "geo": "geo",
         "hovertemplate": "<b>%{hovertext}</b><br><br>Country_Color=POL<br>Total_Deaths=%{marker.size}<br>ISO_Alpha3=%{location}<extra></extra>",
         "hovertext": [
          "POL"
         ],
         "legendgroup": "POL",
         "locations": [
          "POL"
         ],
         "marker": {
          "color": "#FF97FF",
          "size": [
           1
          ],
          "sizemode": "area",
          "sizeref": 0.0096,
          "symbol": "circle"
         },
         "mode": "markers",
         "name": "POL",
         "showlegend": true,
         "type": "scattergeo"
        },
        {
         "geo": "geo",
         "hovertemplate": "<b>%{hovertext}</b><br><br>Country_Color=PRT<br>Total_Deaths=%{marker.size}<br>ISO_Alpha3=%{location}<extra></extra>",
         "hovertext": [
          "PRT"
         ],
         "legendgroup": "PRT",
         "locations": [
          "PRT"
         ],
         "marker": {
          "color": "#FECB52",
          "size": [
           1
          ],
          "sizemode": "area",
          "sizeref": 0.0096,
          "symbol": "circle"
         },
         "mode": "markers",
         "name": "PRT",
         "showlegend": true,
         "type": "scattergeo"
        },
        {
         "geo": "geo",
         "hovertemplate": "<b>%{hovertext}</b><br><br>Country_Color=ROU<br>Total_Deaths=%{marker.size}<br>ISO_Alpha3=%{location}<extra></extra>",
         "hovertext": [
          "ROU"
         ],
         "legendgroup": "ROU",
         "locations": [
          "ROU"
         ],
         "marker": {
          "color": "#636efa",
          "size": [
           1
          ],
          "sizemode": "area",
          "sizeref": 0.0096,
          "symbol": "circle"
         },
         "mode": "markers",
         "name": "ROU",
         "showlegend": true,
         "type": "scattergeo"
        },
        {
         "geo": "geo",
         "hovertemplate": "<b>%{hovertext}</b><br><br>Country_Color=SWE<br>Total_Deaths=%{marker.size}<br>ISO_Alpha3=%{location}<extra></extra>",
         "hovertext": [
          "SWE"
         ],
         "legendgroup": "SWE",
         "locations": [
          "SWE"
         ],
         "marker": {
          "color": "#EF553B",
          "size": [
           3
          ],
          "sizemode": "area",
          "sizeref": 0.0096,
          "symbol": "circle"
         },
         "mode": "markers",
         "name": "SWE",
         "showlegend": true,
         "type": "scattergeo"
        },
        {
         "geo": "geo",
         "hovertemplate": "<b>%{hovertext}</b><br><br>Country_Color=USA<br>Total_Deaths=%{marker.size}<br>ISO_Alpha3=%{location}<extra></extra>",
         "hovertext": [
          "USA"
         ],
         "legendgroup": "USA",
         "locations": [
          "USA"
         ],
         "marker": {
          "color": "#00cc96",
          "size": [
           1
          ],
          "sizemode": "area",
          "sizeref": 0.0096,
          "symbol": "circle"
         },
         "mode": "markers",
         "name": "USA",
         "showlegend": true,
         "type": "scattergeo"
        }
       ],
       "layout": {
        "geo": {
         "center": {},
         "domain": {
          "x": [
           0,
           1
          ],
          "y": [
           0,
           1
          ]
         },
         "projection": {
          "type": "natural earth"
         },
         "showcountries": true,
         "showframe": true
        },
        "legend": {
         "itemsizing": "constant",
         "title": {
          "text": "Country_Color"
         },
         "tracegroupgap": 0
        },
        "template": {
         "data": {
          "bar": [
           {
            "error_x": {
             "color": "#2a3f5f"
            },
            "error_y": {
             "color": "#2a3f5f"
            },
            "marker": {
             "line": {
              "color": "#E5ECF6",
              "width": 0.5
             },
             "pattern": {
              "fillmode": "overlay",
              "size": 10,
              "solidity": 0.2
             }
            },
            "type": "bar"
           }
          ],
          "barpolar": [
           {
            "marker": {
             "line": {
              "color": "#E5ECF6",
              "width": 0.5
             },
             "pattern": {
              "fillmode": "overlay",
              "size": 10,
              "solidity": 0.2
             }
            },
            "type": "barpolar"
           }
          ],
          "carpet": [
           {
            "aaxis": {
             "endlinecolor": "#2a3f5f",
             "gridcolor": "white",
             "linecolor": "white",
             "minorgridcolor": "white",
             "startlinecolor": "#2a3f5f"
            },
            "baxis": {
             "endlinecolor": "#2a3f5f",
             "gridcolor": "white",
             "linecolor": "white",
             "minorgridcolor": "white",
             "startlinecolor": "#2a3f5f"
            },
            "type": "carpet"
           }
          ],
          "choropleth": [
           {
            "colorbar": {
             "outlinewidth": 0,
             "ticks": ""
            },
            "type": "choropleth"
           }
          ],
          "contour": [
           {
            "colorbar": {
             "outlinewidth": 0,
             "ticks": ""
            },
            "colorscale": [
             [
              0,
              "#0d0887"
             ],
             [
              0.1111111111111111,
              "#46039f"
             ],
             [
              0.2222222222222222,
              "#7201a8"
             ],
             [
              0.3333333333333333,
              "#9c179e"
             ],
             [
              0.4444444444444444,
              "#bd3786"
             ],
             [
              0.5555555555555556,
              "#d8576b"
             ],
             [
              0.6666666666666666,
              "#ed7953"
             ],
             [
              0.7777777777777778,
              "#fb9f3a"
             ],
             [
              0.8888888888888888,
              "#fdca26"
             ],
             [
              1,
              "#f0f921"
             ]
            ],
            "type": "contour"
           }
          ],
          "contourcarpet": [
           {
            "colorbar": {
             "outlinewidth": 0,
             "ticks": ""
            },
            "type": "contourcarpet"
           }
          ],
          "heatmap": [
           {
            "colorbar": {
             "outlinewidth": 0,
             "ticks": ""
            },
            "colorscale": [
             [
              0,
              "#0d0887"
             ],
             [
              0.1111111111111111,
              "#46039f"
             ],
             [
              0.2222222222222222,
              "#7201a8"
             ],
             [
              0.3333333333333333,
              "#9c179e"
             ],
             [
              0.4444444444444444,
              "#bd3786"
             ],
             [
              0.5555555555555556,
              "#d8576b"
             ],
             [
              0.6666666666666666,
              "#ed7953"
             ],
             [
              0.7777777777777778,
              "#fb9f3a"
             ],
             [
              0.8888888888888888,
              "#fdca26"
             ],
             [
              1,
              "#f0f921"
             ]
            ],
            "type": "heatmap"
           }
          ],
          "heatmapgl": [
           {
            "colorbar": {
             "outlinewidth": 0,
             "ticks": ""
            },
            "colorscale": [
             [
              0,
              "#0d0887"
             ],
             [
              0.1111111111111111,
              "#46039f"
             ],
             [
              0.2222222222222222,
              "#7201a8"
             ],
             [
              0.3333333333333333,
              "#9c179e"
             ],
             [
              0.4444444444444444,
              "#bd3786"
             ],
             [
              0.5555555555555556,
              "#d8576b"
             ],
             [
              0.6666666666666666,
              "#ed7953"
             ],
             [
              0.7777777777777778,
              "#fb9f3a"
             ],
             [
              0.8888888888888888,
              "#fdca26"
             ],
             [
              1,
              "#f0f921"
             ]
            ],
            "type": "heatmapgl"
           }
          ],
          "histogram": [
           {
            "marker": {
             "pattern": {
              "fillmode": "overlay",
              "size": 10,
              "solidity": 0.2
             }
            },
            "type": "histogram"
           }
          ],
          "histogram2d": [
           {
            "colorbar": {
             "outlinewidth": 0,
             "ticks": ""
            },
            "colorscale": [
             [
              0,
              "#0d0887"
             ],
             [
              0.1111111111111111,
              "#46039f"
             ],
             [
              0.2222222222222222,
              "#7201a8"
             ],
             [
              0.3333333333333333,
              "#9c179e"
             ],
             [
              0.4444444444444444,
              "#bd3786"
             ],
             [
              0.5555555555555556,
              "#d8576b"
             ],
             [
              0.6666666666666666,
              "#ed7953"
             ],
             [
              0.7777777777777778,
              "#fb9f3a"
             ],
             [
              0.8888888888888888,
              "#fdca26"
             ],
             [
              1,
              "#f0f921"
             ]
            ],
            "type": "histogram2d"
           }
          ],
          "histogram2dcontour": [
           {
            "colorbar": {
             "outlinewidth": 0,
             "ticks": ""
            },
            "colorscale": [
             [
              0,
              "#0d0887"
             ],
             [
              0.1111111111111111,
              "#46039f"
             ],
             [
              0.2222222222222222,
              "#7201a8"
             ],
             [
              0.3333333333333333,
              "#9c179e"
             ],
             [
              0.4444444444444444,
              "#bd3786"
             ],
             [
              0.5555555555555556,
              "#d8576b"
             ],
             [
              0.6666666666666666,
              "#ed7953"
             ],
             [
              0.7777777777777778,
              "#fb9f3a"
             ],
             [
              0.8888888888888888,
              "#fdca26"
             ],
             [
              1,
              "#f0f921"
             ]
            ],
            "type": "histogram2dcontour"
           }
          ],
          "mesh3d": [
           {
            "colorbar": {
             "outlinewidth": 0,
             "ticks": ""
            },
            "type": "mesh3d"
           }
          ],
          "parcoords": [
           {
            "line": {
             "colorbar": {
              "outlinewidth": 0,
              "ticks": ""
             }
            },
            "type": "parcoords"
           }
          ],
          "pie": [
           {
            "automargin": true,
            "type": "pie"
           }
          ],
          "scatter": [
           {
            "fillpattern": {
             "fillmode": "overlay",
             "size": 10,
             "solidity": 0.2
            },
            "type": "scatter"
           }
          ],
          "scatter3d": [
           {
            "line": {
             "colorbar": {
              "outlinewidth": 0,
              "ticks": ""
             }
            },
            "marker": {
             "colorbar": {
              "outlinewidth": 0,
              "ticks": ""
             }
            },
            "type": "scatter3d"
           }
          ],
          "scattercarpet": [
           {
            "marker": {
             "colorbar": {
              "outlinewidth": 0,
              "ticks": ""
             }
            },
            "type": "scattercarpet"
           }
          ],
          "scattergeo": [
           {
            "marker": {
             "colorbar": {
              "outlinewidth": 0,
              "ticks": ""
             }
            },
            "type": "scattergeo"
           }
          ],
          "scattergl": [
           {
            "marker": {
             "colorbar": {
              "outlinewidth": 0,
              "ticks": ""
             }
            },
            "type": "scattergl"
           }
          ],
          "scattermapbox": [
           {
            "marker": {
             "colorbar": {
              "outlinewidth": 0,
              "ticks": ""
             }
            },
            "type": "scattermapbox"
           }
          ],
          "scatterpolar": [
           {
            "marker": {
             "colorbar": {
              "outlinewidth": 0,
              "ticks": ""
             }
            },
            "type": "scatterpolar"
           }
          ],
          "scatterpolargl": [
           {
            "marker": {
             "colorbar": {
              "outlinewidth": 0,
              "ticks": ""
             }
            },
            "type": "scatterpolargl"
           }
          ],
          "scatterternary": [
           {
            "marker": {
             "colorbar": {
              "outlinewidth": 0,
              "ticks": ""
             }
            },
            "type": "scatterternary"
           }
          ],
          "surface": [
           {
            "colorbar": {
             "outlinewidth": 0,
             "ticks": ""
            },
            "colorscale": [
             [
              0,
              "#0d0887"
             ],
             [
              0.1111111111111111,
              "#46039f"
             ],
             [
              0.2222222222222222,
              "#7201a8"
             ],
             [
              0.3333333333333333,
              "#9c179e"
             ],
             [
              0.4444444444444444,
              "#bd3786"
             ],
             [
              0.5555555555555556,
              "#d8576b"
             ],
             [
              0.6666666666666666,
              "#ed7953"
             ],
             [
              0.7777777777777778,
              "#fb9f3a"
             ],
             [
              0.8888888888888888,
              "#fdca26"
             ],
             [
              1,
              "#f0f921"
             ]
            ],
            "type": "surface"
           }
          ],
          "table": [
           {
            "cells": {
             "fill": {
              "color": "#EBF0F8"
             },
             "line": {
              "color": "white"
             }
            },
            "header": {
             "fill": {
              "color": "#C8D4E3"
             },
             "line": {
              "color": "white"
             }
            },
            "type": "table"
           }
          ]
         },
         "layout": {
          "annotationdefaults": {
           "arrowcolor": "#2a3f5f",
           "arrowhead": 0,
           "arrowwidth": 1
          },
          "autotypenumbers": "strict",
          "coloraxis": {
           "colorbar": {
            "outlinewidth": 0,
            "ticks": ""
           }
          },
          "colorscale": {
           "diverging": [
            [
             0,
             "#8e0152"
            ],
            [
             0.1,
             "#c51b7d"
            ],
            [
             0.2,
             "#de77ae"
            ],
            [
             0.3,
             "#f1b6da"
            ],
            [
             0.4,
             "#fde0ef"
            ],
            [
             0.5,
             "#f7f7f7"
            ],
            [
             0.6,
             "#e6f5d0"
            ],
            [
             0.7,
             "#b8e186"
            ],
            [
             0.8,
             "#7fbc41"
            ],
            [
             0.9,
             "#4d9221"
            ],
            [
             1,
             "#276419"
            ]
           ],
           "sequential": [
            [
             0,
             "#0d0887"
            ],
            [
             0.1111111111111111,
             "#46039f"
            ],
            [
             0.2222222222222222,
             "#7201a8"
            ],
            [
             0.3333333333333333,
             "#9c179e"
            ],
            [
             0.4444444444444444,
             "#bd3786"
            ],
            [
             0.5555555555555556,
             "#d8576b"
            ],
            [
             0.6666666666666666,
             "#ed7953"
            ],
            [
             0.7777777777777778,
             "#fb9f3a"
            ],
            [
             0.8888888888888888,
             "#fdca26"
            ],
            [
             1,
             "#f0f921"
            ]
           ],
           "sequentialminus": [
            [
             0,
             "#0d0887"
            ],
            [
             0.1111111111111111,
             "#46039f"
            ],
            [
             0.2222222222222222,
             "#7201a8"
            ],
            [
             0.3333333333333333,
             "#9c179e"
            ],
            [
             0.4444444444444444,
             "#bd3786"
            ],
            [
             0.5555555555555556,
             "#d8576b"
            ],
            [
             0.6666666666666666,
             "#ed7953"
            ],
            [
             0.7777777777777778,
             "#fb9f3a"
            ],
            [
             0.8888888888888888,
             "#fdca26"
            ],
            [
             1,
             "#f0f921"
            ]
           ]
          },
          "colorway": [
           "#636efa",
           "#EF553B",
           "#00cc96",
           "#ab63fa",
           "#FFA15A",
           "#19d3f3",
           "#FF6692",
           "#B6E880",
           "#FF97FF",
           "#FECB52"
          ],
          "font": {
           "color": "#2a3f5f"
          },
          "geo": {
           "bgcolor": "white",
           "lakecolor": "white",
           "landcolor": "#E5ECF6",
           "showlakes": true,
           "showland": true,
           "subunitcolor": "white"
          },
          "hoverlabel": {
           "align": "left"
          },
          "hovermode": "closest",
          "mapbox": {
           "style": "light"
          },
          "paper_bgcolor": "white",
          "plot_bgcolor": "#E5ECF6",
          "polar": {
           "angularaxis": {
            "gridcolor": "white",
            "linecolor": "white",
            "ticks": ""
           },
           "bgcolor": "#E5ECF6",
           "radialaxis": {
            "gridcolor": "white",
            "linecolor": "white",
            "ticks": ""
           }
          },
          "scene": {
           "xaxis": {
            "backgroundcolor": "#E5ECF6",
            "gridcolor": "white",
            "gridwidth": 2,
            "linecolor": "white",
            "showbackground": true,
            "ticks": "",
            "zerolinecolor": "white"
           },
           "yaxis": {
            "backgroundcolor": "#E5ECF6",
            "gridcolor": "white",
            "gridwidth": 2,
            "linecolor": "white",
            "showbackground": true,
            "ticks": "",
            "zerolinecolor": "white"
           },
           "zaxis": {
            "backgroundcolor": "#E5ECF6",
            "gridcolor": "white",
            "gridwidth": 2,
            "linecolor": "white",
            "showbackground": true,
            "ticks": "",
            "zerolinecolor": "white"
           }
          },
          "shapedefaults": {
           "line": {
            "color": "#2a3f5f"
           }
          },
          "ternary": {
           "aaxis": {
            "gridcolor": "white",
            "linecolor": "white",
            "ticks": ""
           },
           "baxis": {
            "gridcolor": "white",
            "linecolor": "white",
            "ticks": ""
           },
           "bgcolor": "#E5ECF6",
           "caxis": {
            "gridcolor": "white",
            "linecolor": "white",
            "ticks": ""
           }
          },
          "title": {
           "x": 0.05
          },
          "xaxis": {
           "automargin": true,
           "gridcolor": "white",
           "linecolor": "white",
           "ticks": "",
           "title": {
            "standoff": 15
           },
           "zerolinecolor": "white",
           "zerolinewidth": 2
          },
          "yaxis": {
           "automargin": true,
           "gridcolor": "white",
           "linecolor": "white",
           "ticks": "",
           "title": {
            "standoff": 15
           },
           "zerolinecolor": "white",
           "zerolinewidth": 2
          }
         }
        },
        "title": {
         "text": "Total Deaths for Cause: A080 in Year: 2017"
        }
       }
      }
     },
     "metadata": {},
     "output_type": "display_data"
    },
    {
     "data": {
      "text/plain": [
       "<function __main__.visualize_cause_deaths(cause, year)>"
      ]
     },
     "execution_count": 51,
     "metadata": {},
     "output_type": "execute_result"
    }
   ],
   "source": [
    "# Function to visualize deaths for a selected cause and year\n",
    "def visualize_cause_deaths(cause, year):\n",
    "    # Filter data for the selected cause and year\n",
    "    filtered_data = cleaned_country_mortality_2013_2022_df[\n",
    "        (cleaned_country_mortality_2013_2022_df['Cause'] == cause) & \n",
    "        (cleaned_country_mortality_2013_2022_df['Year'] == year)\n",
    "    ]\n",
    "    \n",
    "    # Check if there is data to display\n",
    "    if filtered_data.empty:\n",
    "        print(f\"No data available for Cause: {cause} in Year: {year}\")\n",
    "        return\n",
    "    \n",
    "    # Aggregate total deaths by country for the selected cause and year\n",
    "    country_death_data = filtered_data.groupby('ISO_Alpha3')['Total_deaths'].sum().reset_index()\n",
    "    country_death_data.columns = ['ISO_Alpha3', 'Total_Deaths']\n",
    "    \n",
    "    # Assign unique colors to each country\n",
    "    country_death_data['Country_Color'] = country_death_data['ISO_Alpha3']\n",
    "    \n",
    "    # Plot the data on a map\n",
    "    fig = px.scatter_geo(\n",
    "        country_death_data,\n",
    "        locations='ISO_Alpha3', \n",
    "        size='Total_Deaths',\n",
    "        color='Country_Color',  # Different color for each country\n",
    "        title=f'Total Deaths for Cause: {cause} in Year: {year}',\n",
    "        projection='natural earth',\n",
    "        size_max=50,\n",
    "        hover_name='ISO_Alpha3',\n",
    "    )\n",
    "    fig.update_geos(showcountries=True, showframe=True)\n",
    "    fig.show()\n",
    "\n",
    "# List of unique causes and years for dropdown menus\n",
    "unique_causes = sorted(cleaned_country_mortality_2013_2022_df['Cause'].unique())\n",
    "unique_years = sorted(cleaned_country_mortality_2013_2022_df['Year'].dropna().unique())\n",
    "\n",
    "# Create an interactive dropdown to select a cause and a year\n",
    "interact(visualize_cause_deaths, cause=unique_causes, year=unique_years)"
   ]
  },
  {
   "cell_type": "markdown",
   "metadata": {},
   "source": [
    "## Adding a slider horizontal bar to choose the year"
   ]
  },
  {
   "cell_type": "code",
   "execution_count": 53,
   "metadata": {},
   "outputs": [
    {
     "data": {
      "application/vnd.jupyter.widget-view+json": {
       "model_id": "f9263cc4265d42d999bdbf529b57f95b",
       "version_major": 2,
       "version_minor": 0
      },
      "text/plain": [
       "interactive(children=(Dropdown(description='cause', options=('1001', '1002', '1003', '1004', '1005', '1006', '…"
      ]
     },
     "metadata": {},
     "output_type": "display_data"
    },
    {
     "data": {
      "application/vnd.plotly.v1+json": {
       "config": {
        "plotlyServerURL": "https://plot.ly"
       },
       "data": [
        {
         "geo": "geo",
         "hovertemplate": "<b>%{hovertext}</b><br><br>ISO_Alpha3=%{location}<br>Total_Deaths=%{marker.size}<extra></extra>",
         "hovertext": [
          "BRA"
         ],
         "legendgroup": "BRA",
         "locations": [
          "BRA"
         ],
         "marker": {
          "color": "#636efa",
          "size": [
           21
          ],
          "sizemode": "area",
          "sizeref": 0.0084,
          "symbol": "circle"
         },
         "mode": "markers",
         "name": "BRA",
         "showlegend": true,
         "type": "scattergeo"
        },
        {
         "geo": "geo",
         "hovertemplate": "<b>%{hovertext}</b><br><br>ISO_Alpha3=%{location}<br>Total_Deaths=%{marker.size}<extra></extra>",
         "hovertext": [
          "COL"
         ],
         "legendgroup": "COL",
         "locations": [
          "COL"
         ],
         "marker": {
          "color": "#EF553B",
          "size": [
           6
          ],
          "sizemode": "area",
          "sizeref": 0.0084,
          "symbol": "circle"
         },
         "mode": "markers",
         "name": "COL",
         "showlegend": true,
         "type": "scattergeo"
        },
        {
         "geo": "geo",
         "hovertemplate": "<b>%{hovertext}</b><br><br>ISO_Alpha3=%{location}<br>Total_Deaths=%{marker.size}<extra></extra>",
         "hovertext": [
          "CUB"
         ],
         "legendgroup": "CUB",
         "locations": [
          "CUB"
         ],
         "marker": {
          "color": "#00cc96",
          "size": [
           2
          ],
          "sizemode": "area",
          "sizeref": 0.0084,
          "symbol": "circle"
         },
         "mode": "markers",
         "name": "CUB",
         "showlegend": true,
         "type": "scattergeo"
        },
        {
         "geo": "geo",
         "hovertemplate": "<b>%{hovertext}</b><br><br>ISO_Alpha3=%{location}<br>Total_Deaths=%{marker.size}<extra></extra>",
         "hovertext": [
          "ECU"
         ],
         "legendgroup": "ECU",
         "locations": [
          "ECU"
         ],
         "marker": {
          "color": "#ab63fa",
          "size": [
           1
          ],
          "sizemode": "area",
          "sizeref": 0.0084,
          "symbol": "circle"
         },
         "mode": "markers",
         "name": "ECU",
         "showlegend": true,
         "type": "scattergeo"
        },
        {
         "geo": "geo",
         "hovertemplate": "<b>%{hovertext}</b><br><br>ISO_Alpha3=%{location}<br>Total_Deaths=%{marker.size}<extra></extra>",
         "hovertext": [
          "ESP"
         ],
         "legendgroup": "ESP",
         "locations": [
          "ESP"
         ],
         "marker": {
          "color": "#FFA15A",
          "size": [
           1
          ],
          "sizemode": "area",
          "sizeref": 0.0084,
          "symbol": "circle"
         },
         "mode": "markers",
         "name": "ESP",
         "showlegend": true,
         "type": "scattergeo"
        },
        {
         "geo": "geo",
         "hovertemplate": "<b>%{hovertext}</b><br><br>ISO_Alpha3=%{location}<br>Total_Deaths=%{marker.size}<extra></extra>",
         "hovertext": [
          "GTM"
         ],
         "legendgroup": "GTM",
         "locations": [
          "GTM"
         ],
         "marker": {
          "color": "#19d3f3",
          "size": [
           3
          ],
          "sizemode": "area",
          "sizeref": 0.0084,
          "symbol": "circle"
         },
         "mode": "markers",
         "name": "GTM",
         "showlegend": true,
         "type": "scattergeo"
        },
        {
         "geo": "geo",
         "hovertemplate": "<b>%{hovertext}</b><br><br>ISO_Alpha3=%{location}<br>Total_Deaths=%{marker.size}<extra></extra>",
         "hovertext": [
          "JPN"
         ],
         "legendgroup": "JPN",
         "locations": [
          "JPN"
         ],
         "marker": {
          "color": "#FF6692",
          "size": [
           3
          ],
          "sizemode": "area",
          "sizeref": 0.0084,
          "symbol": "circle"
         },
         "mode": "markers",
         "name": "JPN",
         "showlegend": true,
         "type": "scattergeo"
        },
        {
         "geo": "geo",
         "hovertemplate": "<b>%{hovertext}</b><br><br>ISO_Alpha3=%{location}<br>Total_Deaths=%{marker.size}<extra></extra>",
         "hovertext": [
          "LTU"
         ],
         "legendgroup": "LTU",
         "locations": [
          "LTU"
         ],
         "marker": {
          "color": "#B6E880",
          "size": [
           1
          ],
          "sizemode": "area",
          "sizeref": 0.0084,
          "symbol": "circle"
         },
         "mode": "markers",
         "name": "LTU",
         "showlegend": true,
         "type": "scattergeo"
        },
        {
         "geo": "geo",
         "hovertemplate": "<b>%{hovertext}</b><br><br>ISO_Alpha3=%{location}<br>Total_Deaths=%{marker.size}<extra></extra>",
         "hovertext": [
          "MEX"
         ],
         "legendgroup": "MEX",
         "locations": [
          "MEX"
         ],
         "marker": {
          "color": "#FF97FF",
          "size": [
           11
          ],
          "sizemode": "area",
          "sizeref": 0.0084,
          "symbol": "circle"
         },
         "mode": "markers",
         "name": "MEX",
         "showlegend": true,
         "type": "scattergeo"
        },
        {
         "geo": "geo",
         "hovertemplate": "<b>%{hovertext}</b><br><br>ISO_Alpha3=%{location}<br>Total_Deaths=%{marker.size}<extra></extra>",
         "hovertext": [
          "USA"
         ],
         "legendgroup": "USA",
         "locations": [
          "USA"
         ],
         "marker": {
          "color": "#FECB52",
          "size": [
           2
          ],
          "sizemode": "area",
          "sizeref": 0.0084,
          "symbol": "circle"
         },
         "mode": "markers",
         "name": "USA",
         "showlegend": true,
         "type": "scattergeo"
        }
       ],
       "layout": {
        "geo": {
         "center": {},
         "domain": {
          "x": [
           0,
           1
          ],
          "y": [
           0,
           1
          ]
         },
         "projection": {
          "type": "natural earth"
         },
         "showcountries": true,
         "showframe": true
        },
        "legend": {
         "itemsizing": "constant",
         "title": {
          "text": "ISO_Alpha3"
         },
         "tracegroupgap": 0
        },
        "template": {
         "data": {
          "bar": [
           {
            "error_x": {
             "color": "#2a3f5f"
            },
            "error_y": {
             "color": "#2a3f5f"
            },
            "marker": {
             "line": {
              "color": "#E5ECF6",
              "width": 0.5
             },
             "pattern": {
              "fillmode": "overlay",
              "size": 10,
              "solidity": 0.2
             }
            },
            "type": "bar"
           }
          ],
          "barpolar": [
           {
            "marker": {
             "line": {
              "color": "#E5ECF6",
              "width": 0.5
             },
             "pattern": {
              "fillmode": "overlay",
              "size": 10,
              "solidity": 0.2
             }
            },
            "type": "barpolar"
           }
          ],
          "carpet": [
           {
            "aaxis": {
             "endlinecolor": "#2a3f5f",
             "gridcolor": "white",
             "linecolor": "white",
             "minorgridcolor": "white",
             "startlinecolor": "#2a3f5f"
            },
            "baxis": {
             "endlinecolor": "#2a3f5f",
             "gridcolor": "white",
             "linecolor": "white",
             "minorgridcolor": "white",
             "startlinecolor": "#2a3f5f"
            },
            "type": "carpet"
           }
          ],
          "choropleth": [
           {
            "colorbar": {
             "outlinewidth": 0,
             "ticks": ""
            },
            "type": "choropleth"
           }
          ],
          "contour": [
           {
            "colorbar": {
             "outlinewidth": 0,
             "ticks": ""
            },
            "colorscale": [
             [
              0,
              "#0d0887"
             ],
             [
              0.1111111111111111,
              "#46039f"
             ],
             [
              0.2222222222222222,
              "#7201a8"
             ],
             [
              0.3333333333333333,
              "#9c179e"
             ],
             [
              0.4444444444444444,
              "#bd3786"
             ],
             [
              0.5555555555555556,
              "#d8576b"
             ],
             [
              0.6666666666666666,
              "#ed7953"
             ],
             [
              0.7777777777777778,
              "#fb9f3a"
             ],
             [
              0.8888888888888888,
              "#fdca26"
             ],
             [
              1,
              "#f0f921"
             ]
            ],
            "type": "contour"
           }
          ],
          "contourcarpet": [
           {
            "colorbar": {
             "outlinewidth": 0,
             "ticks": ""
            },
            "type": "contourcarpet"
           }
          ],
          "heatmap": [
           {
            "colorbar": {
             "outlinewidth": 0,
             "ticks": ""
            },
            "colorscale": [
             [
              0,
              "#0d0887"
             ],
             [
              0.1111111111111111,
              "#46039f"
             ],
             [
              0.2222222222222222,
              "#7201a8"
             ],
             [
              0.3333333333333333,
              "#9c179e"
             ],
             [
              0.4444444444444444,
              "#bd3786"
             ],
             [
              0.5555555555555556,
              "#d8576b"
             ],
             [
              0.6666666666666666,
              "#ed7953"
             ],
             [
              0.7777777777777778,
              "#fb9f3a"
             ],
             [
              0.8888888888888888,
              "#fdca26"
             ],
             [
              1,
              "#f0f921"
             ]
            ],
            "type": "heatmap"
           }
          ],
          "heatmapgl": [
           {
            "colorbar": {
             "outlinewidth": 0,
             "ticks": ""
            },
            "colorscale": [
             [
              0,
              "#0d0887"
             ],
             [
              0.1111111111111111,
              "#46039f"
             ],
             [
              0.2222222222222222,
              "#7201a8"
             ],
             [
              0.3333333333333333,
              "#9c179e"
             ],
             [
              0.4444444444444444,
              "#bd3786"
             ],
             [
              0.5555555555555556,
              "#d8576b"
             ],
             [
              0.6666666666666666,
              "#ed7953"
             ],
             [
              0.7777777777777778,
              "#fb9f3a"
             ],
             [
              0.8888888888888888,
              "#fdca26"
             ],
             [
              1,
              "#f0f921"
             ]
            ],
            "type": "heatmapgl"
           }
          ],
          "histogram": [
           {
            "marker": {
             "pattern": {
              "fillmode": "overlay",
              "size": 10,
              "solidity": 0.2
             }
            },
            "type": "histogram"
           }
          ],
          "histogram2d": [
           {
            "colorbar": {
             "outlinewidth": 0,
             "ticks": ""
            },
            "colorscale": [
             [
              0,
              "#0d0887"
             ],
             [
              0.1111111111111111,
              "#46039f"
             ],
             [
              0.2222222222222222,
              "#7201a8"
             ],
             [
              0.3333333333333333,
              "#9c179e"
             ],
             [
              0.4444444444444444,
              "#bd3786"
             ],
             [
              0.5555555555555556,
              "#d8576b"
             ],
             [
              0.6666666666666666,
              "#ed7953"
             ],
             [
              0.7777777777777778,
              "#fb9f3a"
             ],
             [
              0.8888888888888888,
              "#fdca26"
             ],
             [
              1,
              "#f0f921"
             ]
            ],
            "type": "histogram2d"
           }
          ],
          "histogram2dcontour": [
           {
            "colorbar": {
             "outlinewidth": 0,
             "ticks": ""
            },
            "colorscale": [
             [
              0,
              "#0d0887"
             ],
             [
              0.1111111111111111,
              "#46039f"
             ],
             [
              0.2222222222222222,
              "#7201a8"
             ],
             [
              0.3333333333333333,
              "#9c179e"
             ],
             [
              0.4444444444444444,
              "#bd3786"
             ],
             [
              0.5555555555555556,
              "#d8576b"
             ],
             [
              0.6666666666666666,
              "#ed7953"
             ],
             [
              0.7777777777777778,
              "#fb9f3a"
             ],
             [
              0.8888888888888888,
              "#fdca26"
             ],
             [
              1,
              "#f0f921"
             ]
            ],
            "type": "histogram2dcontour"
           }
          ],
          "mesh3d": [
           {
            "colorbar": {
             "outlinewidth": 0,
             "ticks": ""
            },
            "type": "mesh3d"
           }
          ],
          "parcoords": [
           {
            "line": {
             "colorbar": {
              "outlinewidth": 0,
              "ticks": ""
             }
            },
            "type": "parcoords"
           }
          ],
          "pie": [
           {
            "automargin": true,
            "type": "pie"
           }
          ],
          "scatter": [
           {
            "fillpattern": {
             "fillmode": "overlay",
             "size": 10,
             "solidity": 0.2
            },
            "type": "scatter"
           }
          ],
          "scatter3d": [
           {
            "line": {
             "colorbar": {
              "outlinewidth": 0,
              "ticks": ""
             }
            },
            "marker": {
             "colorbar": {
              "outlinewidth": 0,
              "ticks": ""
             }
            },
            "type": "scatter3d"
           }
          ],
          "scattercarpet": [
           {
            "marker": {
             "colorbar": {
              "outlinewidth": 0,
              "ticks": ""
             }
            },
            "type": "scattercarpet"
           }
          ],
          "scattergeo": [
           {
            "marker": {
             "colorbar": {
              "outlinewidth": 0,
              "ticks": ""
             }
            },
            "type": "scattergeo"
           }
          ],
          "scattergl": [
           {
            "marker": {
             "colorbar": {
              "outlinewidth": 0,
              "ticks": ""
             }
            },
            "type": "scattergl"
           }
          ],
          "scattermapbox": [
           {
            "marker": {
             "colorbar": {
              "outlinewidth": 0,
              "ticks": ""
             }
            },
            "type": "scattermapbox"
           }
          ],
          "scatterpolar": [
           {
            "marker": {
             "colorbar": {
              "outlinewidth": 0,
              "ticks": ""
             }
            },
            "type": "scatterpolar"
           }
          ],
          "scatterpolargl": [
           {
            "marker": {
             "colorbar": {
              "outlinewidth": 0,
              "ticks": ""
             }
            },
            "type": "scatterpolargl"
           }
          ],
          "scatterternary": [
           {
            "marker": {
             "colorbar": {
              "outlinewidth": 0,
              "ticks": ""
             }
            },
            "type": "scatterternary"
           }
          ],
          "surface": [
           {
            "colorbar": {
             "outlinewidth": 0,
             "ticks": ""
            },
            "colorscale": [
             [
              0,
              "#0d0887"
             ],
             [
              0.1111111111111111,
              "#46039f"
             ],
             [
              0.2222222222222222,
              "#7201a8"
             ],
             [
              0.3333333333333333,
              "#9c179e"
             ],
             [
              0.4444444444444444,
              "#bd3786"
             ],
             [
              0.5555555555555556,
              "#d8576b"
             ],
             [
              0.6666666666666666,
              "#ed7953"
             ],
             [
              0.7777777777777778,
              "#fb9f3a"
             ],
             [
              0.8888888888888888,
              "#fdca26"
             ],
             [
              1,
              "#f0f921"
             ]
            ],
            "type": "surface"
           }
          ],
          "table": [
           {
            "cells": {
             "fill": {
              "color": "#EBF0F8"
             },
             "line": {
              "color": "white"
             }
            },
            "header": {
             "fill": {
              "color": "#C8D4E3"
             },
             "line": {
              "color": "white"
             }
            },
            "type": "table"
           }
          ]
         },
         "layout": {
          "annotationdefaults": {
           "arrowcolor": "#2a3f5f",
           "arrowhead": 0,
           "arrowwidth": 1
          },
          "autotypenumbers": "strict",
          "coloraxis": {
           "colorbar": {
            "outlinewidth": 0,
            "ticks": ""
           }
          },
          "colorscale": {
           "diverging": [
            [
             0,
             "#8e0152"
            ],
            [
             0.1,
             "#c51b7d"
            ],
            [
             0.2,
             "#de77ae"
            ],
            [
             0.3,
             "#f1b6da"
            ],
            [
             0.4,
             "#fde0ef"
            ],
            [
             0.5,
             "#f7f7f7"
            ],
            [
             0.6,
             "#e6f5d0"
            ],
            [
             0.7,
             "#b8e186"
            ],
            [
             0.8,
             "#7fbc41"
            ],
            [
             0.9,
             "#4d9221"
            ],
            [
             1,
             "#276419"
            ]
           ],
           "sequential": [
            [
             0,
             "#0d0887"
            ],
            [
             0.1111111111111111,
             "#46039f"
            ],
            [
             0.2222222222222222,
             "#7201a8"
            ],
            [
             0.3333333333333333,
             "#9c179e"
            ],
            [
             0.4444444444444444,
             "#bd3786"
            ],
            [
             0.5555555555555556,
             "#d8576b"
            ],
            [
             0.6666666666666666,
             "#ed7953"
            ],
            [
             0.7777777777777778,
             "#fb9f3a"
            ],
            [
             0.8888888888888888,
             "#fdca26"
            ],
            [
             1,
             "#f0f921"
            ]
           ],
           "sequentialminus": [
            [
             0,
             "#0d0887"
            ],
            [
             0.1111111111111111,
             "#46039f"
            ],
            [
             0.2222222222222222,
             "#7201a8"
            ],
            [
             0.3333333333333333,
             "#9c179e"
            ],
            [
             0.4444444444444444,
             "#bd3786"
            ],
            [
             0.5555555555555556,
             "#d8576b"
            ],
            [
             0.6666666666666666,
             "#ed7953"
            ],
            [
             0.7777777777777778,
             "#fb9f3a"
            ],
            [
             0.8888888888888888,
             "#fdca26"
            ],
            [
             1,
             "#f0f921"
            ]
           ]
          },
          "colorway": [
           "#636efa",
           "#EF553B",
           "#00cc96",
           "#ab63fa",
           "#FFA15A",
           "#19d3f3",
           "#FF6692",
           "#B6E880",
           "#FF97FF",
           "#FECB52"
          ],
          "font": {
           "color": "#2a3f5f"
          },
          "geo": {
           "bgcolor": "white",
           "lakecolor": "white",
           "landcolor": "#E5ECF6",
           "showlakes": true,
           "showland": true,
           "subunitcolor": "white"
          },
          "hoverlabel": {
           "align": "left"
          },
          "hovermode": "closest",
          "mapbox": {
           "style": "light"
          },
          "paper_bgcolor": "white",
          "plot_bgcolor": "#E5ECF6",
          "polar": {
           "angularaxis": {
            "gridcolor": "white",
            "linecolor": "white",
            "ticks": ""
           },
           "bgcolor": "#E5ECF6",
           "radialaxis": {
            "gridcolor": "white",
            "linecolor": "white",
            "ticks": ""
           }
          },
          "scene": {
           "xaxis": {
            "backgroundcolor": "#E5ECF6",
            "gridcolor": "white",
            "gridwidth": 2,
            "linecolor": "white",
            "showbackground": true,
            "ticks": "",
            "zerolinecolor": "white"
           },
           "yaxis": {
            "backgroundcolor": "#E5ECF6",
            "gridcolor": "white",
            "gridwidth": 2,
            "linecolor": "white",
            "showbackground": true,
            "ticks": "",
            "zerolinecolor": "white"
           },
           "zaxis": {
            "backgroundcolor": "#E5ECF6",
            "gridcolor": "white",
            "gridwidth": 2,
            "linecolor": "white",
            "showbackground": true,
            "ticks": "",
            "zerolinecolor": "white"
           }
          },
          "shapedefaults": {
           "line": {
            "color": "#2a3f5f"
           }
          },
          "ternary": {
           "aaxis": {
            "gridcolor": "white",
            "linecolor": "white",
            "ticks": ""
           },
           "baxis": {
            "gridcolor": "white",
            "linecolor": "white",
            "ticks": ""
           },
           "bgcolor": "#E5ECF6",
           "caxis": {
            "gridcolor": "white",
            "linecolor": "white",
            "ticks": ""
           }
          },
          "title": {
           "x": 0.05
          },
          "xaxis": {
           "automargin": true,
           "gridcolor": "white",
           "linecolor": "white",
           "ticks": "",
           "title": {
            "standoff": 15
           },
           "zerolinecolor": "white",
           "zerolinewidth": 2
          },
          "yaxis": {
           "automargin": true,
           "gridcolor": "white",
           "linecolor": "white",
           "ticks": "",
           "title": {
            "standoff": 15
           },
           "zerolinecolor": "white",
           "zerolinewidth": 2
          }
         }
        },
        "title": {
         "text": "Total Deaths for Cause: A060 in Year: 2021"
        }
       }
      }
     },
     "metadata": {},
     "output_type": "display_data"
    },
    {
     "data": {
      "text/plain": [
       "<function __main__.visualize_cause_deaths(cause, year)>"
      ]
     },
     "execution_count": 53,
     "metadata": {},
     "output_type": "execute_result"
    }
   ],
   "source": [
    "# Function to visualize deaths for a selected cause and year\n",
    "def visualize_cause_deaths(cause, year):\n",
    "    # Filter data for the selected cause and year\n",
    "    filtered_data = cleaned_country_mortality_2013_2022_df[\n",
    "        (cleaned_country_mortality_2013_2022_df['Cause'] == cause) & \n",
    "        (cleaned_country_mortality_2013_2022_df['Year'] == year)\n",
    "    ]\n",
    "    \n",
    "    # Check if there is data to display\n",
    "    if filtered_data.empty:\n",
    "        print(f\"No data available for Cause: {cause} in Year: {year}\")\n",
    "        return\n",
    "    \n",
    "    # Aggregate total deaths by country for the selected cause and year\n",
    "    country_death_data = filtered_data.groupby('ISO_Alpha3')['Total_deaths'].sum().reset_index()\n",
    "    country_death_data.columns = ['ISO_Alpha3', 'Total_Deaths']\n",
    "    \n",
    "    # Plot the data on a map\n",
    "    fig = px.scatter_geo(\n",
    "        country_death_data,\n",
    "        locations='ISO_Alpha3', \n",
    "        size='Total_Deaths',\n",
    "        color='ISO_Alpha3',  # Different color for each country\n",
    "        title=f'Total Deaths for Cause: {cause} in Year: {year}',\n",
    "        projection='natural earth',\n",
    "        size_max=50,\n",
    "        hover_name='ISO_Alpha3',\n",
    "    )\n",
    "    fig.update_geos(showcountries=True, showframe=True)\n",
    "    fig.show()\n",
    "\n",
    "# List of unique causes and years for dropdown and slider\n",
    "unique_causes = sorted(cleaned_country_mortality_2013_2022_df['Cause'].unique())\n",
    "min_year = int(cleaned_country_mortality_2013_2022_df['Year'].min())\n",
    "max_year = int(cleaned_country_mortality_2013_2022_df['Year'].max())\n",
    "\n",
    "# Create an interactive dropdown for cause and slider for year\n",
    "interact(\n",
    "    visualize_cause_deaths, \n",
    "    cause=unique_causes, \n",
    "    year=IntSlider(min=min_year, max=max_year, step=1, value=min_year, description='Year')\n",
    ")"
   ]
  },
  {
   "cell_type": "markdown",
   "metadata": {},
   "source": [
    "## Making visualizations based on cause_group"
   ]
  },
  {
   "cell_type": "code",
   "execution_count": 60,
   "metadata": {},
   "outputs": [
    {
     "data": {
      "application/vnd.jupyter.widget-view+json": {
       "model_id": "6d7baef44ee9479e998a2d052a3a08b8",
       "version_major": 2,
       "version_minor": 0
      },
      "text/plain": [
       "interactive(children=(Dropdown(description='cause_group', options=('1', 'A', 'B', 'C', 'D', 'E', 'F', 'G', 'H'…"
      ]
     },
     "metadata": {},
     "output_type": "display_data"
    },
    {
     "data": {
      "application/vnd.plotly.v1+json": {
       "config": {
        "plotlyServerURL": "https://plot.ly"
       },
       "data": [
        {
         "geo": "geo",
         "hovertemplate": "<b>%{hovertext}</b><br><br>ISO_Alpha3=%{location}<br>Total_Deaths=%{marker.size}<extra></extra>",
         "hovertext": [
          "ARG"
         ],
         "legendgroup": "ARG",
         "locations": [
          "ARG"
         ],
         "marker": {
          "color": "#636efa",
          "size": [
           4186
          ],
          "sizemode": "area",
          "sizeref": 11.2616,
          "symbol": "circle"
         },
         "mode": "markers",
         "name": "ARG",
         "showlegend": true,
         "type": "scattergeo"
        },
        {
         "geo": "geo",
         "hovertemplate": "<b>%{hovertext}</b><br><br>ISO_Alpha3=%{location}<br>Total_Deaths=%{marker.size}<extra></extra>",
         "hovertext": [
          "ARM"
         ],
         "legendgroup": "ARM",
         "locations": [
          "ARM"
         ],
         "marker": {
          "color": "#EF553B",
          "size": [
           91
          ],
          "sizemode": "area",
          "sizeref": 11.2616,
          "symbol": "circle"
         },
         "mode": "markers",
         "name": "ARM",
         "showlegend": true,
         "type": "scattergeo"
        },
        {
         "geo": "geo",
         "hovertemplate": "<b>%{hovertext}</b><br><br>ISO_Alpha3=%{location}<br>Total_Deaths=%{marker.size}<extra></extra>",
         "hovertext": [
          "ATG"
         ],
         "legendgroup": "ATG",
         "locations": [
          "ATG"
         ],
         "marker": {
          "color": "#00cc96",
          "size": [
           8
          ],
          "sizemode": "area",
          "sizeref": 11.2616,
          "symbol": "circle"
         },
         "mode": "markers",
         "name": "ATG",
         "showlegend": true,
         "type": "scattergeo"
        },
        {
         "geo": "geo",
         "hovertemplate": "<b>%{hovertext}</b><br><br>ISO_Alpha3=%{location}<br>Total_Deaths=%{marker.size}<extra></extra>",
         "hovertext": [
          "AUS"
         ],
         "legendgroup": "AUS",
         "locations": [
          "AUS"
         ],
         "marker": {
          "color": "#ab63fa",
          "size": [
           1865
          ],
          "sizemode": "area",
          "sizeref": 11.2616,
          "symbol": "circle"
         },
         "mode": "markers",
         "name": "AUS",
         "showlegend": true,
         "type": "scattergeo"
        },
        {
         "geo": "geo",
         "hovertemplate": "<b>%{hovertext}</b><br><br>ISO_Alpha3=%{location}<br>Total_Deaths=%{marker.size}<extra></extra>",
         "hovertext": [
          "AUT"
         ],
         "legendgroup": "AUT",
         "locations": [
          "AUT"
         ],
         "marker": {
          "color": "#FFA15A",
          "size": [
           1125
          ],
          "sizemode": "area",
          "sizeref": 11.2616,
          "symbol": "circle"
         },
         "mode": "markers",
         "name": "AUT",
         "showlegend": true,
         "type": "scattergeo"
        },
        {
         "geo": "geo",
         "hovertemplate": "<b>%{hovertext}</b><br><br>ISO_Alpha3=%{location}<br>Total_Deaths=%{marker.size}<extra></extra>",
         "hovertext": [
          "BGR"
         ],
         "legendgroup": "BGR",
         "locations": [
          "BGR"
         ],
         "marker": {
          "color": "#19d3f3",
          "size": [
           221
          ],
          "sizemode": "area",
          "sizeref": 11.2616,
          "symbol": "circle"
         },
         "mode": "markers",
         "name": "BGR",
         "showlegend": true,
         "type": "scattergeo"
        },
        {
         "geo": "geo",
         "hovertemplate": "<b>%{hovertext}</b><br><br>ISO_Alpha3=%{location}<br>Total_Deaths=%{marker.size}<extra></extra>",
         "hovertext": [
          "BIH"
         ],
         "legendgroup": "BIH",
         "locations": [
          "BIH"
         ],
         "marker": {
          "color": "#FF6692",
          "size": [
           219
          ],
          "sizemode": "area",
          "sizeref": 11.2616,
          "symbol": "circle"
         },
         "mode": "markers",
         "name": "BIH",
         "showlegend": true,
         "type": "scattergeo"
        },
        {
         "geo": "geo",
         "hovertemplate": "<b>%{hovertext}</b><br><br>ISO_Alpha3=%{location}<br>Total_Deaths=%{marker.size}<extra></extra>",
         "hovertext": [
          "BRA"
         ],
         "legendgroup": "BRA",
         "locations": [
          "BRA"
         ],
         "marker": {
          "color": "#B6E880",
          "size": [
           12323
          ],
          "sizemode": "area",
          "sizeref": 11.2616,
          "symbol": "circle"
         },
         "mode": "markers",
         "name": "BRA",
         "showlegend": true,
         "type": "scattergeo"
        },
        {
         "geo": "geo",
         "hovertemplate": "<b>%{hovertext}</b><br><br>ISO_Alpha3=%{location}<br>Total_Deaths=%{marker.size}<extra></extra>",
         "hovertext": [
          "CAN"
         ],
         "legendgroup": "CAN",
         "locations": [
          "CAN"
         ],
         "marker": {
          "color": "#FF97FF",
          "size": [
           2854
          ],
          "sizemode": "area",
          "sizeref": 11.2616,
          "symbol": "circle"
         },
         "mode": "markers",
         "name": "CAN",
         "showlegend": true,
         "type": "scattergeo"
        },
        {
         "geo": "geo",
         "hovertemplate": "<b>%{hovertext}</b><br><br>ISO_Alpha3=%{location}<br>Total_Deaths=%{marker.size}<extra></extra>",
         "hovertext": [
          "CHE"
         ],
         "legendgroup": "CHE",
         "locations": [
          "CHE"
         ],
         "marker": {
          "color": "#FECB52",
          "size": [
           792
          ],
          "sizemode": "area",
          "sizeref": 11.2616,
          "symbol": "circle"
         },
         "mode": "markers",
         "name": "CHE",
         "showlegend": true,
         "type": "scattergeo"
        },
        {
         "geo": "geo",
         "hovertemplate": "<b>%{hovertext}</b><br><br>ISO_Alpha3=%{location}<br>Total_Deaths=%{marker.size}<extra></extra>",
         "hovertext": [
          "CHL"
         ],
         "legendgroup": "CHL",
         "locations": [
          "CHL"
         ],
         "marker": {
          "color": "#636efa",
          "size": [
           1458
          ],
          "sizemode": "area",
          "sizeref": 11.2616,
          "symbol": "circle"
         },
         "mode": "markers",
         "name": "CHL",
         "showlegend": true,
         "type": "scattergeo"
        },
        {
         "geo": "geo",
         "hovertemplate": "<b>%{hovertext}</b><br><br>ISO_Alpha3=%{location}<br>Total_Deaths=%{marker.size}<extra></extra>",
         "hovertext": [
          "COL"
         ],
         "legendgroup": "COL",
         "locations": [
          "COL"
         ],
         "marker": {
          "color": "#EF553B",
          "size": [
           5035
          ],
          "sizemode": "area",
          "sizeref": 11.2616,
          "symbol": "circle"
         },
         "mode": "markers",
         "name": "COL",
         "showlegend": true,
         "type": "scattergeo"
        },
        {
         "geo": "geo",
         "hovertemplate": "<b>%{hovertext}</b><br><br>ISO_Alpha3=%{location}<br>Total_Deaths=%{marker.size}<extra></extra>",
         "hovertext": [
          "CUB"
         ],
         "legendgroup": "CUB",
         "locations": [
          "CUB"
         ],
         "marker": {
          "color": "#00cc96",
          "size": [
           1352
          ],
          "sizemode": "area",
          "sizeref": 11.2616,
          "symbol": "circle"
         },
         "mode": "markers",
         "name": "CUB",
         "showlegend": true,
         "type": "scattergeo"
        },
        {
         "geo": "geo",
         "hovertemplate": "<b>%{hovertext}</b><br><br>ISO_Alpha3=%{location}<br>Total_Deaths=%{marker.size}<extra></extra>",
         "hovertext": [
          "CYP"
         ],
         "legendgroup": "CYP",
         "locations": [
          "CYP"
         ],
         "marker": {
          "color": "#ab63fa",
          "size": [
           123
          ],
          "sizemode": "area",
          "sizeref": 11.2616,
          "symbol": "circle"
         },
         "mode": "markers",
         "name": "CYP",
         "showlegend": true,
         "type": "scattergeo"
        },
        {
         "geo": "geo",
         "hovertemplate": "<b>%{hovertext}</b><br><br>ISO_Alpha3=%{location}<br>Total_Deaths=%{marker.size}<extra></extra>",
         "hovertext": [
          "CZE"
         ],
         "legendgroup": "CZE",
         "locations": [
          "CZE"
         ],
         "marker": {
          "color": "#FFA15A",
          "size": [
           940
          ],
          "sizemode": "area",
          "sizeref": 11.2616,
          "symbol": "circle"
         },
         "mode": "markers",
         "name": "CZE",
         "showlegend": true,
         "type": "scattergeo"
        },
        {
         "geo": "geo",
         "hovertemplate": "<b>%{hovertext}</b><br><br>ISO_Alpha3=%{location}<br>Total_Deaths=%{marker.size}<extra></extra>",
         "hovertext": [
          "DNK"
         ],
         "legendgroup": "DNK",
         "locations": [
          "DNK"
         ],
         "marker": {
          "color": "#19d3f3",
          "size": [
           470
          ],
          "sizemode": "area",
          "sizeref": 11.2616,
          "symbol": "circle"
         },
         "mode": "markers",
         "name": "DNK",
         "showlegend": true,
         "type": "scattergeo"
        },
        {
         "geo": "geo",
         "hovertemplate": "<b>%{hovertext}</b><br><br>ISO_Alpha3=%{location}<br>Total_Deaths=%{marker.size}<extra></extra>",
         "hovertext": [
          "ECU"
         ],
         "legendgroup": "ECU",
         "locations": [
          "ECU"
         ],
         "marker": {
          "color": "#FF6692",
          "size": [
           1506
          ],
          "sizemode": "area",
          "sizeref": 11.2616,
          "symbol": "circle"
         },
         "mode": "markers",
         "name": "ECU",
         "showlegend": true,
         "type": "scattergeo"
        },
        {
         "geo": "geo",
         "hovertemplate": "<b>%{hovertext}</b><br><br>ISO_Alpha3=%{location}<br>Total_Deaths=%{marker.size}<extra></extra>",
         "hovertext": [
          "ESP"
         ],
         "legendgroup": "ESP",
         "locations": [
          "ESP"
         ],
         "marker": {
          "color": "#B6E880",
          "size": [
           6489
          ],
          "sizemode": "area",
          "sizeref": 11.2616,
          "symbol": "circle"
         },
         "mode": "markers",
         "name": "ESP",
         "showlegend": true,
         "type": "scattergeo"
        },
        {
         "geo": "geo",
         "hovertemplate": "<b>%{hovertext}</b><br><br>ISO_Alpha3=%{location}<br>Total_Deaths=%{marker.size}<extra></extra>",
         "hovertext": [
          "EST"
         ],
         "legendgroup": "EST",
         "locations": [
          "EST"
         ],
         "marker": {
          "color": "#FF97FF",
          "size": [
           181
          ],
          "sizemode": "area",
          "sizeref": 11.2616,
          "symbol": "circle"
         },
         "mode": "markers",
         "name": "EST",
         "showlegend": true,
         "type": "scattergeo"
        },
        {
         "geo": "geo",
         "hovertemplate": "<b>%{hovertext}</b><br><br>ISO_Alpha3=%{location}<br>Total_Deaths=%{marker.size}<extra></extra>",
         "hovertext": [
          "FIN"
         ],
         "legendgroup": "FIN",
         "locations": [
          "FIN"
         ],
         "marker": {
          "color": "#FECB52",
          "size": [
           473
          ],
          "sizemode": "area",
          "sizeref": 11.2616,
          "symbol": "circle"
         },
         "mode": "markers",
         "name": "FIN",
         "showlegend": true,
         "type": "scattergeo"
        },
        {
         "geo": "geo",
         "hovertemplate": "<b>%{hovertext}</b><br><br>ISO_Alpha3=%{location}<br>Total_Deaths=%{marker.size}<extra></extra>",
         "hovertext": [
          "GEO"
         ],
         "legendgroup": "GEO",
         "locations": [
          "GEO"
         ],
         "marker": {
          "color": "#636efa",
          "size": [
           599
          ],
          "sizemode": "area",
          "sizeref": 11.2616,
          "symbol": "circle"
         },
         "mode": "markers",
         "name": "GEO",
         "showlegend": true,
         "type": "scattergeo"
        },
        {
         "geo": "geo",
         "hovertemplate": "<b>%{hovertext}</b><br><br>ISO_Alpha3=%{location}<br>Total_Deaths=%{marker.size}<extra></extra>",
         "hovertext": [
          "GRD"
         ],
         "legendgroup": "GRD",
         "locations": [
          "GRD"
         ],
         "marker": {
          "color": "#EF553B",
          "size": [
           24
          ],
          "sizemode": "area",
          "sizeref": 11.2616,
          "symbol": "circle"
         },
         "mode": "markers",
         "name": "GRD",
         "showlegend": true,
         "type": "scattergeo"
        },
        {
         "geo": "geo",
         "hovertemplate": "<b>%{hovertext}</b><br><br>ISO_Alpha3=%{location}<br>Total_Deaths=%{marker.size}<extra></extra>",
         "hovertext": [
          "GTM"
         ],
         "legendgroup": "GTM",
         "locations": [
          "GTM"
         ],
         "marker": {
          "color": "#00cc96",
          "size": [
           1147
          ],
          "sizemode": "area",
          "sizeref": 11.2616,
          "symbol": "circle"
         },
         "mode": "markers",
         "name": "GTM",
         "showlegend": true,
         "type": "scattergeo"
        },
        {
         "geo": "geo",
         "hovertemplate": "<b>%{hovertext}</b><br><br>ISO_Alpha3=%{location}<br>Total_Deaths=%{marker.size}<extra></extra>",
         "hovertext": [
          "HRV"
         ],
         "legendgroup": "HRV",
         "locations": [
          "HRV"
         ],
         "marker": {
          "color": "#ab63fa",
          "size": [
           254
          ],
          "sizemode": "area",
          "sizeref": 11.2616,
          "symbol": "circle"
         },
         "mode": "markers",
         "name": "HRV",
         "showlegend": true,
         "type": "scattergeo"
        },
        {
         "geo": "geo",
         "hovertemplate": "<b>%{hovertext}</b><br><br>ISO_Alpha3=%{location}<br>Total_Deaths=%{marker.size}<extra></extra>",
         "hovertext": [
          "HUN"
         ],
         "legendgroup": "HUN",
         "locations": [
          "HUN"
         ],
         "marker": {
          "color": "#FFA15A",
          "size": [
           968
          ],
          "sizemode": "area",
          "sizeref": 11.2616,
          "symbol": "circle"
         },
         "mode": "markers",
         "name": "HUN",
         "showlegend": true,
         "type": "scattergeo"
        },
        {
         "geo": "geo",
         "hovertemplate": "<b>%{hovertext}</b><br><br>ISO_Alpha3=%{location}<br>Total_Deaths=%{marker.size}<extra></extra>",
         "hovertext": [
          "ISL"
         ],
         "legendgroup": "ISL",
         "locations": [
          "ISL"
         ],
         "marker": {
          "color": "#19d3f3",
          "size": [
           19
          ],
          "sizemode": "area",
          "sizeref": 11.2616,
          "symbol": "circle"
         },
         "mode": "markers",
         "name": "ISL",
         "showlegend": true,
         "type": "scattergeo"
        },
        {
         "geo": "geo",
         "hovertemplate": "<b>%{hovertext}</b><br><br>ISO_Alpha3=%{location}<br>Total_Deaths=%{marker.size}<extra></extra>",
         "hovertext": [
          "ISR"
         ],
         "legendgroup": "ISR",
         "locations": [
          "ISR"
         ],
         "marker": {
          "color": "#FF6692",
          "size": [
           738
          ],
          "sizemode": "area",
          "sizeref": 11.2616,
          "symbol": "circle"
         },
         "mode": "markers",
         "name": "ISR",
         "showlegend": true,
         "type": "scattergeo"
        },
        {
         "geo": "geo",
         "hovertemplate": "<b>%{hovertext}</b><br><br>ISO_Alpha3=%{location}<br>Total_Deaths=%{marker.size}<extra></extra>",
         "hovertext": [
          "JPN"
         ],
         "legendgroup": "JPN",
         "locations": [
          "JPN"
         ],
         "marker": {
          "color": "#B6E880",
          "size": [
           18078
          ],
          "sizemode": "area",
          "sizeref": 11.2616,
          "symbol": "circle"
         },
         "mode": "markers",
         "name": "JPN",
         "showlegend": true,
         "type": "scattergeo"
        },
        {
         "geo": "geo",
         "hovertemplate": "<b>%{hovertext}</b><br><br>ISO_Alpha3=%{location}<br>Total_Deaths=%{marker.size}<extra></extra>",
         "hovertext": [
          "KAZ"
         ],
         "legendgroup": "KAZ",
         "locations": [
          "KAZ"
         ],
         "marker": {
          "color": "#FF97FF",
          "size": [
           548
          ],
          "sizemode": "area",
          "sizeref": 11.2616,
          "symbol": "circle"
         },
         "mode": "markers",
         "name": "KAZ",
         "showlegend": true,
         "type": "scattergeo"
        },
        {
         "geo": "geo",
         "hovertemplate": "<b>%{hovertext}</b><br><br>ISO_Alpha3=%{location}<br>Total_Deaths=%{marker.size}<extra></extra>",
         "hovertext": [
          "LBN"
         ],
         "legendgroup": "LBN",
         "locations": [
          "LBN"
         ],
         "marker": {
          "color": "#FECB52",
          "size": [
           252
          ],
          "sizemode": "area",
          "sizeref": 11.2616,
          "symbol": "circle"
         },
         "mode": "markers",
         "name": "LBN",
         "showlegend": true,
         "type": "scattergeo"
        },
        {
         "geo": "geo",
         "hovertemplate": "<b>%{hovertext}</b><br><br>ISO_Alpha3=%{location}<br>Total_Deaths=%{marker.size}<extra></extra>",
         "hovertext": [
          "LTU"
         ],
         "legendgroup": "LTU",
         "locations": [
          "LTU"
         ],
         "marker": {
          "color": "#636efa",
          "size": [
           253
          ],
          "sizemode": "area",
          "sizeref": 11.2616,
          "symbol": "circle"
         },
         "mode": "markers",
         "name": "LTU",
         "showlegend": true,
         "type": "scattergeo"
        },
        {
         "geo": "geo",
         "hovertemplate": "<b>%{hovertext}</b><br><br>ISO_Alpha3=%{location}<br>Total_Deaths=%{marker.size}<extra></extra>",
         "hovertext": [
          "LUX"
         ],
         "legendgroup": "LUX",
         "locations": [
          "LUX"
         ],
         "marker": {
          "color": "#EF553B",
          "size": [
           56
          ],
          "sizemode": "area",
          "sizeref": 11.2616,
          "symbol": "circle"
         },
         "mode": "markers",
         "name": "LUX",
         "showlegend": true,
         "type": "scattergeo"
        },
        {
         "geo": "geo",
         "hovertemplate": "<b>%{hovertext}</b><br><br>ISO_Alpha3=%{location}<br>Total_Deaths=%{marker.size}<extra></extra>",
         "hovertext": [
          "LVA"
         ],
         "legendgroup": "LVA",
         "locations": [
          "LVA"
         ],
         "marker": {
          "color": "#00cc96",
          "size": [
           180
          ],
          "sizemode": "area",
          "sizeref": 11.2616,
          "symbol": "circle"
         },
         "mode": "markers",
         "name": "LVA",
         "showlegend": true,
         "type": "scattergeo"
        },
        {
         "geo": "geo",
         "hovertemplate": "<b>%{hovertext}</b><br><br>ISO_Alpha3=%{location}<br>Total_Deaths=%{marker.size}<extra></extra>",
         "hovertext": [
          "MEX"
         ],
         "legendgroup": "MEX",
         "locations": [
          "MEX"
         ],
         "marker": {
          "color": "#ab63fa",
          "size": [
           12574
          ],
          "sizemode": "area",
          "sizeref": 11.2616,
          "symbol": "circle"
         },
         "mode": "markers",
         "name": "MEX",
         "showlegend": true,
         "type": "scattergeo"
        },
        {
         "geo": "geo",
         "hovertemplate": "<b>%{hovertext}</b><br><br>ISO_Alpha3=%{location}<br>Total_Deaths=%{marker.size}<extra></extra>",
         "hovertext": [
          "MKD"
         ],
         "legendgroup": "MKD",
         "locations": [
          "MKD"
         ],
         "marker": {
          "color": "#FFA15A",
          "size": [
           138
          ],
          "sizemode": "area",
          "sizeref": 11.2616,
          "symbol": "circle"
         },
         "mode": "markers",
         "name": "MKD",
         "showlegend": true,
         "type": "scattergeo"
        },
        {
         "geo": "geo",
         "hovertemplate": "<b>%{hovertext}</b><br><br>ISO_Alpha3=%{location}<br>Total_Deaths=%{marker.size}<extra></extra>",
         "hovertext": [
          "MNG"
         ],
         "legendgroup": "MNG",
         "locations": [
          "MNG"
         ],
         "marker": {
          "color": "#19d3f3",
          "size": [
           62
          ],
          "sizemode": "area",
          "sizeref": 11.2616,
          "symbol": "circle"
         },
         "mode": "markers",
         "name": "MNG",
         "showlegend": true,
         "type": "scattergeo"
        },
        {
         "geo": "geo",
         "hovertemplate": "<b>%{hovertext}</b><br><br>ISO_Alpha3=%{location}<br>Total_Deaths=%{marker.size}<extra></extra>",
         "hovertext": [
          "MSR"
         ],
         "legendgroup": "MSR",
         "locations": [
          "MSR"
         ],
         "marker": {
          "color": "#FF6692",
          "size": [
           2
          ],
          "sizemode": "area",
          "sizeref": 11.2616,
          "symbol": "circle"
         },
         "mode": "markers",
         "name": "MSR",
         "showlegend": true,
         "type": "scattergeo"
        },
        {
         "geo": "geo",
         "hovertemplate": "<b>%{hovertext}</b><br><br>ISO_Alpha3=%{location}<br>Total_Deaths=%{marker.size}<extra></extra>",
         "hovertext": [
          "MUS"
         ],
         "legendgroup": "MUS",
         "locations": [
          "MUS"
         ],
         "marker": {
          "color": "#B6E880",
          "size": [
           102
          ],
          "sizemode": "area",
          "sizeref": 11.2616,
          "symbol": "circle"
         },
         "mode": "markers",
         "name": "MUS",
         "showlegend": true,
         "type": "scattergeo"
        },
        {
         "geo": "geo",
         "hovertemplate": "<b>%{hovertext}</b><br><br>ISO_Alpha3=%{location}<br>Total_Deaths=%{marker.size}<extra></extra>",
         "hovertext": [
          "NIC"
         ],
         "legendgroup": "NIC",
         "locations": [
          "NIC"
         ],
         "marker": {
          "color": "#FF97FF",
          "size": [
           256
          ],
          "sizemode": "area",
          "sizeref": 11.2616,
          "symbol": "circle"
         },
         "mode": "markers",
         "name": "NIC",
         "showlegend": true,
         "type": "scattergeo"
        },
        {
         "geo": "geo",
         "hovertemplate": "<b>%{hovertext}</b><br><br>ISO_Alpha3=%{location}<br>Total_Deaths=%{marker.size}<extra></extra>",
         "hovertext": [
          "NLD"
         ],
         "legendgroup": "NLD",
         "locations": [
          "NLD"
         ],
         "marker": {
          "color": "#FECB52",
          "size": [
           2652
          ],
          "sizemode": "area",
          "sizeref": 11.2616,
          "symbol": "circle"
         },
         "mode": "markers",
         "name": "NLD",
         "showlegend": true,
         "type": "scattergeo"
        },
        {
         "geo": "geo",
         "hovertemplate": "<b>%{hovertext}</b><br><br>ISO_Alpha3=%{location}<br>Total_Deaths=%{marker.size}<extra></extra>",
         "hovertext": [
          "OMN"
         ],
         "legendgroup": "OMN",
         "locations": [
          "OMN"
         ],
         "marker": {
          "color": "#636efa",
          "size": [
           79
          ],
          "sizemode": "area",
          "sizeref": 11.2616,
          "symbol": "circle"
         },
         "mode": "markers",
         "name": "OMN",
         "showlegend": true,
         "type": "scattergeo"
        },
        {
         "geo": "geo",
         "hovertemplate": "<b>%{hovertext}</b><br><br>ISO_Alpha3=%{location}<br>Total_Deaths=%{marker.size}<extra></extra>",
         "hovertext": [
          "PAN"
         ],
         "legendgroup": "PAN",
         "locations": [
          "PAN"
         ],
         "marker": {
          "color": "#EF553B",
          "size": [
           376
          ],
          "sizemode": "area",
          "sizeref": 11.2616,
          "symbol": "circle"
         },
         "mode": "markers",
         "name": "PAN",
         "showlegend": true,
         "type": "scattergeo"
        },
        {
         "geo": "geo",
         "hovertemplate": "<b>%{hovertext}</b><br><br>ISO_Alpha3=%{location}<br>Total_Deaths=%{marker.size}<extra></extra>",
         "hovertext": [
          "POL"
         ],
         "legendgroup": "POL",
         "locations": [
          "POL"
         ],
         "marker": {
          "color": "#00cc96",
          "size": [
           8712
          ],
          "sizemode": "area",
          "sizeref": 11.2616,
          "symbol": "circle"
         },
         "mode": "markers",
         "name": "POL",
         "showlegend": true,
         "type": "scattergeo"
        },
        {
         "geo": "geo",
         "hovertemplate": "<b>%{hovertext}</b><br><br>ISO_Alpha3=%{location}<br>Total_Deaths=%{marker.size}<extra></extra>",
         "hovertext": [
          "PRI"
         ],
         "legendgroup": "PRI",
         "locations": [
          "PRI"
         ],
         "marker": {
          "color": "#ab63fa",
          "size": [
           557
          ],
          "sizemode": "area",
          "sizeref": 11.2616,
          "symbol": "circle"
         },
         "mode": "markers",
         "name": "PRI",
         "showlegend": true,
         "type": "scattergeo"
        },
        {
         "geo": "geo",
         "hovertemplate": "<b>%{hovertext}</b><br><br>ISO_Alpha3=%{location}<br>Total_Deaths=%{marker.size}<extra></extra>",
         "hovertext": [
          "PRY"
         ],
         "legendgroup": "PRY",
         "locations": [
          "PRY"
         ],
         "marker": {
          "color": "#FFA15A",
          "size": [
           540
          ],
          "sizemode": "area",
          "sizeref": 11.2616,
          "symbol": "circle"
         },
         "mode": "markers",
         "name": "PRY",
         "showlegend": true,
         "type": "scattergeo"
        },
        {
         "geo": "geo",
         "hovertemplate": "<b>%{hovertext}</b><br><br>ISO_Alpha3=%{location}<br>Total_Deaths=%{marker.size}<extra></extra>",
         "hovertext": [
          "QAT"
         ],
         "legendgroup": "QAT",
         "locations": [
          "QAT"
         ],
         "marker": {
          "color": "#19d3f3",
          "size": [
           22
          ],
          "sizemode": "area",
          "sizeref": 11.2616,
          "symbol": "circle"
         },
         "mode": "markers",
         "name": "QAT",
         "showlegend": true,
         "type": "scattergeo"
        },
        {
         "geo": "geo",
         "hovertemplate": "<b>%{hovertext}</b><br><br>ISO_Alpha3=%{location}<br>Total_Deaths=%{marker.size}<extra></extra>",
         "hovertext": [
          "SAU"
         ],
         "legendgroup": "SAU",
         "locations": [
          "SAU"
         ],
         "marker": {
          "color": "#FF6692",
          "size": [
           741
          ],
          "sizemode": "area",
          "sizeref": 11.2616,
          "symbol": "circle"
         },
         "mode": "markers",
         "name": "SAU",
         "showlegend": true,
         "type": "scattergeo"
        },
        {
         "geo": "geo",
         "hovertemplate": "<b>%{hovertext}</b><br><br>ISO_Alpha3=%{location}<br>Total_Deaths=%{marker.size}<extra></extra>",
         "hovertext": [
          "SGP"
         ],
         "legendgroup": "SGP",
         "locations": [
          "SGP"
         ],
         "marker": {
          "color": "#B6E880",
          "size": [
           201
          ],
          "sizemode": "area",
          "sizeref": 11.2616,
          "symbol": "circle"
         },
         "mode": "markers",
         "name": "SGP",
         "showlegend": true,
         "type": "scattergeo"
        },
        {
         "geo": "geo",
         "hovertemplate": "<b>%{hovertext}</b><br><br>ISO_Alpha3=%{location}<br>Total_Deaths=%{marker.size}<extra></extra>",
         "hovertext": [
          "SRB"
         ],
         "legendgroup": "SRB",
         "locations": [
          "SRB"
         ],
         "marker": {
          "color": "#FF97FF",
          "size": [
           926
          ],
          "sizemode": "area",
          "sizeref": 11.2616,
          "symbol": "circle"
         },
         "mode": "markers",
         "name": "SRB",
         "showlegend": true,
         "type": "scattergeo"
        },
        {
         "geo": "geo",
         "hovertemplate": "<b>%{hovertext}</b><br><br>ISO_Alpha3=%{location}<br>Total_Deaths=%{marker.size}<extra></extra>",
         "hovertext": [
          "SVK"
         ],
         "legendgroup": "SVK",
         "locations": [
          "SVK"
         ],
         "marker": {
          "color": "#FECB52",
          "size": [
           182
          ],
          "sizemode": "area",
          "sizeref": 11.2616,
          "symbol": "circle"
         },
         "mode": "markers",
         "name": "SVK",
         "showlegend": true,
         "type": "scattergeo"
        },
        {
         "geo": "geo",
         "hovertemplate": "<b>%{hovertext}</b><br><br>ISO_Alpha3=%{location}<br>Total_Deaths=%{marker.size}<extra></extra>",
         "hovertext": [
          "SWE"
         ],
         "legendgroup": "SWE",
         "locations": [
          "SWE"
         ],
         "marker": {
          "color": "#636efa",
          "size": [
           1232
          ],
          "sizemode": "area",
          "sizeref": 11.2616,
          "symbol": "circle"
         },
         "mode": "markers",
         "name": "SWE",
         "showlegend": true,
         "type": "scattergeo"
        },
        {
         "geo": "geo",
         "hovertemplate": "<b>%{hovertext}</b><br><br>ISO_Alpha3=%{location}<br>Total_Deaths=%{marker.size}<extra></extra>",
         "hovertext": [
          "TUN"
         ],
         "legendgroup": "TUN",
         "locations": [
          "TUN"
         ],
         "marker": {
          "color": "#EF553B",
          "size": [
           461
          ],
          "sizemode": "area",
          "sizeref": 11.2616,
          "symbol": "circle"
         },
         "mode": "markers",
         "name": "TUN",
         "showlegend": true,
         "type": "scattergeo"
        },
        {
         "geo": "geo",
         "hovertemplate": "<b>%{hovertext}</b><br><br>ISO_Alpha3=%{location}<br>Total_Deaths=%{marker.size}<extra></extra>",
         "hovertext": [
          "USA"
         ],
         "legendgroup": "USA",
         "locations": [
          "USA"
         ],
         "marker": {
          "color": "#00cc96",
          "size": [
           28154
          ],
          "sizemode": "area",
          "sizeref": 11.2616,
          "symbol": "circle"
         },
         "mode": "markers",
         "name": "USA",
         "showlegend": true,
         "type": "scattergeo"
        }
       ],
       "layout": {
        "geo": {
         "center": {},
         "domain": {
          "x": [
           0,
           1
          ],
          "y": [
           0,
           1
          ]
         },
         "projection": {
          "type": "natural earth"
         },
         "showcountries": true,
         "showframe": true
        },
        "legend": {
         "itemsizing": "constant",
         "title": {
          "text": "ISO_Alpha3"
         },
         "tracegroupgap": 0
        },
        "template": {
         "data": {
          "bar": [
           {
            "error_x": {
             "color": "#2a3f5f"
            },
            "error_y": {
             "color": "#2a3f5f"
            },
            "marker": {
             "line": {
              "color": "#E5ECF6",
              "width": 0.5
             },
             "pattern": {
              "fillmode": "overlay",
              "size": 10,
              "solidity": 0.2
             }
            },
            "type": "bar"
           }
          ],
          "barpolar": [
           {
            "marker": {
             "line": {
              "color": "#E5ECF6",
              "width": 0.5
             },
             "pattern": {
              "fillmode": "overlay",
              "size": 10,
              "solidity": 0.2
             }
            },
            "type": "barpolar"
           }
          ],
          "carpet": [
           {
            "aaxis": {
             "endlinecolor": "#2a3f5f",
             "gridcolor": "white",
             "linecolor": "white",
             "minorgridcolor": "white",
             "startlinecolor": "#2a3f5f"
            },
            "baxis": {
             "endlinecolor": "#2a3f5f",
             "gridcolor": "white",
             "linecolor": "white",
             "minorgridcolor": "white",
             "startlinecolor": "#2a3f5f"
            },
            "type": "carpet"
           }
          ],
          "choropleth": [
           {
            "colorbar": {
             "outlinewidth": 0,
             "ticks": ""
            },
            "type": "choropleth"
           }
          ],
          "contour": [
           {
            "colorbar": {
             "outlinewidth": 0,
             "ticks": ""
            },
            "colorscale": [
             [
              0,
              "#0d0887"
             ],
             [
              0.1111111111111111,
              "#46039f"
             ],
             [
              0.2222222222222222,
              "#7201a8"
             ],
             [
              0.3333333333333333,
              "#9c179e"
             ],
             [
              0.4444444444444444,
              "#bd3786"
             ],
             [
              0.5555555555555556,
              "#d8576b"
             ],
             [
              0.6666666666666666,
              "#ed7953"
             ],
             [
              0.7777777777777778,
              "#fb9f3a"
             ],
             [
              0.8888888888888888,
              "#fdca26"
             ],
             [
              1,
              "#f0f921"
             ]
            ],
            "type": "contour"
           }
          ],
          "contourcarpet": [
           {
            "colorbar": {
             "outlinewidth": 0,
             "ticks": ""
            },
            "type": "contourcarpet"
           }
          ],
          "heatmap": [
           {
            "colorbar": {
             "outlinewidth": 0,
             "ticks": ""
            },
            "colorscale": [
             [
              0,
              "#0d0887"
             ],
             [
              0.1111111111111111,
              "#46039f"
             ],
             [
              0.2222222222222222,
              "#7201a8"
             ],
             [
              0.3333333333333333,
              "#9c179e"
             ],
             [
              0.4444444444444444,
              "#bd3786"
             ],
             [
              0.5555555555555556,
              "#d8576b"
             ],
             [
              0.6666666666666666,
              "#ed7953"
             ],
             [
              0.7777777777777778,
              "#fb9f3a"
             ],
             [
              0.8888888888888888,
              "#fdca26"
             ],
             [
              1,
              "#f0f921"
             ]
            ],
            "type": "heatmap"
           }
          ],
          "heatmapgl": [
           {
            "colorbar": {
             "outlinewidth": 0,
             "ticks": ""
            },
            "colorscale": [
             [
              0,
              "#0d0887"
             ],
             [
              0.1111111111111111,
              "#46039f"
             ],
             [
              0.2222222222222222,
              "#7201a8"
             ],
             [
              0.3333333333333333,
              "#9c179e"
             ],
             [
              0.4444444444444444,
              "#bd3786"
             ],
             [
              0.5555555555555556,
              "#d8576b"
             ],
             [
              0.6666666666666666,
              "#ed7953"
             ],
             [
              0.7777777777777778,
              "#fb9f3a"
             ],
             [
              0.8888888888888888,
              "#fdca26"
             ],
             [
              1,
              "#f0f921"
             ]
            ],
            "type": "heatmapgl"
           }
          ],
          "histogram": [
           {
            "marker": {
             "pattern": {
              "fillmode": "overlay",
              "size": 10,
              "solidity": 0.2
             }
            },
            "type": "histogram"
           }
          ],
          "histogram2d": [
           {
            "colorbar": {
             "outlinewidth": 0,
             "ticks": ""
            },
            "colorscale": [
             [
              0,
              "#0d0887"
             ],
             [
              0.1111111111111111,
              "#46039f"
             ],
             [
              0.2222222222222222,
              "#7201a8"
             ],
             [
              0.3333333333333333,
              "#9c179e"
             ],
             [
              0.4444444444444444,
              "#bd3786"
             ],
             [
              0.5555555555555556,
              "#d8576b"
             ],
             [
              0.6666666666666666,
              "#ed7953"
             ],
             [
              0.7777777777777778,
              "#fb9f3a"
             ],
             [
              0.8888888888888888,
              "#fdca26"
             ],
             [
              1,
              "#f0f921"
             ]
            ],
            "type": "histogram2d"
           }
          ],
          "histogram2dcontour": [
           {
            "colorbar": {
             "outlinewidth": 0,
             "ticks": ""
            },
            "colorscale": [
             [
              0,
              "#0d0887"
             ],
             [
              0.1111111111111111,
              "#46039f"
             ],
             [
              0.2222222222222222,
              "#7201a8"
             ],
             [
              0.3333333333333333,
              "#9c179e"
             ],
             [
              0.4444444444444444,
              "#bd3786"
             ],
             [
              0.5555555555555556,
              "#d8576b"
             ],
             [
              0.6666666666666666,
              "#ed7953"
             ],
             [
              0.7777777777777778,
              "#fb9f3a"
             ],
             [
              0.8888888888888888,
              "#fdca26"
             ],
             [
              1,
              "#f0f921"
             ]
            ],
            "type": "histogram2dcontour"
           }
          ],
          "mesh3d": [
           {
            "colorbar": {
             "outlinewidth": 0,
             "ticks": ""
            },
            "type": "mesh3d"
           }
          ],
          "parcoords": [
           {
            "line": {
             "colorbar": {
              "outlinewidth": 0,
              "ticks": ""
             }
            },
            "type": "parcoords"
           }
          ],
          "pie": [
           {
            "automargin": true,
            "type": "pie"
           }
          ],
          "scatter": [
           {
            "fillpattern": {
             "fillmode": "overlay",
             "size": 10,
             "solidity": 0.2
            },
            "type": "scatter"
           }
          ],
          "scatter3d": [
           {
            "line": {
             "colorbar": {
              "outlinewidth": 0,
              "ticks": ""
             }
            },
            "marker": {
             "colorbar": {
              "outlinewidth": 0,
              "ticks": ""
             }
            },
            "type": "scatter3d"
           }
          ],
          "scattercarpet": [
           {
            "marker": {
             "colorbar": {
              "outlinewidth": 0,
              "ticks": ""
             }
            },
            "type": "scattercarpet"
           }
          ],
          "scattergeo": [
           {
            "marker": {
             "colorbar": {
              "outlinewidth": 0,
              "ticks": ""
             }
            },
            "type": "scattergeo"
           }
          ],
          "scattergl": [
           {
            "marker": {
             "colorbar": {
              "outlinewidth": 0,
              "ticks": ""
             }
            },
            "type": "scattergl"
           }
          ],
          "scattermapbox": [
           {
            "marker": {
             "colorbar": {
              "outlinewidth": 0,
              "ticks": ""
             }
            },
            "type": "scattermapbox"
           }
          ],
          "scatterpolar": [
           {
            "marker": {
             "colorbar": {
              "outlinewidth": 0,
              "ticks": ""
             }
            },
            "type": "scatterpolar"
           }
          ],
          "scatterpolargl": [
           {
            "marker": {
             "colorbar": {
              "outlinewidth": 0,
              "ticks": ""
             }
            },
            "type": "scatterpolargl"
           }
          ],
          "scatterternary": [
           {
            "marker": {
             "colorbar": {
              "outlinewidth": 0,
              "ticks": ""
             }
            },
            "type": "scatterternary"
           }
          ],
          "surface": [
           {
            "colorbar": {
             "outlinewidth": 0,
             "ticks": ""
            },
            "colorscale": [
             [
              0,
              "#0d0887"
             ],
             [
              0.1111111111111111,
              "#46039f"
             ],
             [
              0.2222222222222222,
              "#7201a8"
             ],
             [
              0.3333333333333333,
              "#9c179e"
             ],
             [
              0.4444444444444444,
              "#bd3786"
             ],
             [
              0.5555555555555556,
              "#d8576b"
             ],
             [
              0.6666666666666666,
              "#ed7953"
             ],
             [
              0.7777777777777778,
              "#fb9f3a"
             ],
             [
              0.8888888888888888,
              "#fdca26"
             ],
             [
              1,
              "#f0f921"
             ]
            ],
            "type": "surface"
           }
          ],
          "table": [
           {
            "cells": {
             "fill": {
              "color": "#EBF0F8"
             },
             "line": {
              "color": "white"
             }
            },
            "header": {
             "fill": {
              "color": "#C8D4E3"
             },
             "line": {
              "color": "white"
             }
            },
            "type": "table"
           }
          ]
         },
         "layout": {
          "annotationdefaults": {
           "arrowcolor": "#2a3f5f",
           "arrowhead": 0,
           "arrowwidth": 1
          },
          "autotypenumbers": "strict",
          "coloraxis": {
           "colorbar": {
            "outlinewidth": 0,
            "ticks": ""
           }
          },
          "colorscale": {
           "diverging": [
            [
             0,
             "#8e0152"
            ],
            [
             0.1,
             "#c51b7d"
            ],
            [
             0.2,
             "#de77ae"
            ],
            [
             0.3,
             "#f1b6da"
            ],
            [
             0.4,
             "#fde0ef"
            ],
            [
             0.5,
             "#f7f7f7"
            ],
            [
             0.6,
             "#e6f5d0"
            ],
            [
             0.7,
             "#b8e186"
            ],
            [
             0.8,
             "#7fbc41"
            ],
            [
             0.9,
             "#4d9221"
            ],
            [
             1,
             "#276419"
            ]
           ],
           "sequential": [
            [
             0,
             "#0d0887"
            ],
            [
             0.1111111111111111,
             "#46039f"
            ],
            [
             0.2222222222222222,
             "#7201a8"
            ],
            [
             0.3333333333333333,
             "#9c179e"
            ],
            [
             0.4444444444444444,
             "#bd3786"
            ],
            [
             0.5555555555555556,
             "#d8576b"
            ],
            [
             0.6666666666666666,
             "#ed7953"
            ],
            [
             0.7777777777777778,
             "#fb9f3a"
            ],
            [
             0.8888888888888888,
             "#fdca26"
            ],
            [
             1,
             "#f0f921"
            ]
           ],
           "sequentialminus": [
            [
             0,
             "#0d0887"
            ],
            [
             0.1111111111111111,
             "#46039f"
            ],
            [
             0.2222222222222222,
             "#7201a8"
            ],
            [
             0.3333333333333333,
             "#9c179e"
            ],
            [
             0.4444444444444444,
             "#bd3786"
            ],
            [
             0.5555555555555556,
             "#d8576b"
            ],
            [
             0.6666666666666666,
             "#ed7953"
            ],
            [
             0.7777777777777778,
             "#fb9f3a"
            ],
            [
             0.8888888888888888,
             "#fdca26"
            ],
            [
             1,
             "#f0f921"
            ]
           ]
          },
          "colorway": [
           "#636efa",
           "#EF553B",
           "#00cc96",
           "#ab63fa",
           "#FFA15A",
           "#19d3f3",
           "#FF6692",
           "#B6E880",
           "#FF97FF",
           "#FECB52"
          ],
          "font": {
           "color": "#2a3f5f"
          },
          "geo": {
           "bgcolor": "white",
           "lakecolor": "white",
           "landcolor": "#E5ECF6",
           "showlakes": true,
           "showland": true,
           "subunitcolor": "white"
          },
          "hoverlabel": {
           "align": "left"
          },
          "hovermode": "closest",
          "mapbox": {
           "style": "light"
          },
          "paper_bgcolor": "white",
          "plot_bgcolor": "#E5ECF6",
          "polar": {
           "angularaxis": {
            "gridcolor": "white",
            "linecolor": "white",
            "ticks": ""
           },
           "bgcolor": "#E5ECF6",
           "radialaxis": {
            "gridcolor": "white",
            "linecolor": "white",
            "ticks": ""
           }
          },
          "scene": {
           "xaxis": {
            "backgroundcolor": "#E5ECF6",
            "gridcolor": "white",
            "gridwidth": 2,
            "linecolor": "white",
            "showbackground": true,
            "ticks": "",
            "zerolinecolor": "white"
           },
           "yaxis": {
            "backgroundcolor": "#E5ECF6",
            "gridcolor": "white",
            "gridwidth": 2,
            "linecolor": "white",
            "showbackground": true,
            "ticks": "",
            "zerolinecolor": "white"
           },
           "zaxis": {
            "backgroundcolor": "#E5ECF6",
            "gridcolor": "white",
            "gridwidth": 2,
            "linecolor": "white",
            "showbackground": true,
            "ticks": "",
            "zerolinecolor": "white"
           }
          },
          "shapedefaults": {
           "line": {
            "color": "#2a3f5f"
           }
          },
          "ternary": {
           "aaxis": {
            "gridcolor": "white",
            "linecolor": "white",
            "ticks": ""
           },
           "baxis": {
            "gridcolor": "white",
            "linecolor": "white",
            "ticks": ""
           },
           "bgcolor": "#E5ECF6",
           "caxis": {
            "gridcolor": "white",
            "linecolor": "white",
            "ticks": ""
           }
          },
          "title": {
           "x": 0.05
          },
          "xaxis": {
           "automargin": true,
           "gridcolor": "white",
           "linecolor": "white",
           "ticks": "",
           "title": {
            "standoff": 15
           },
           "zerolinecolor": "white",
           "zerolinewidth": 2
          },
          "yaxis": {
           "automargin": true,
           "gridcolor": "white",
           "linecolor": "white",
           "ticks": "",
           "title": {
            "standoff": 15
           },
           "zerolinecolor": "white",
           "zerolinewidth": 2
          }
         }
        },
        "title": {
         "text": "Total Deaths for Cause Group: D in Year: 2021"
        }
       }
      }
     },
     "metadata": {},
     "output_type": "display_data"
    },
    {
     "data": {
      "text/plain": [
       "<function __main__.visualize_grouped_cause_deaths(cause_group, year)>"
      ]
     },
     "execution_count": 60,
     "metadata": {},
     "output_type": "execute_result"
    }
   ],
   "source": [
    "# Function to visualize deaths for a grouped cause and year\n",
    "def visualize_grouped_cause_deaths(cause_group, year):\n",
    "    # Add a new column for the first character of the cause\n",
    "    copy_mortality_2013_2022_df = cleaned_country_mortality_2013_2022_df.copy()\n",
    "    copy_mortality_2013_2022_df.loc[:,'Cause_Group'] = copy_mortality_2013_2022_df['Cause'].str[0]\n",
    "    \n",
    "    # Filter data for the selected cause group and year\n",
    "    filtered_data = copy_mortality_2013_2022_df[\n",
    "        (copy_mortality_2013_2022_df['Cause_Group'] == cause_group) & \n",
    "        (copy_mortality_2013_2022_df['Year'] == year)\n",
    "    ]\n",
    "    \n",
    "    # Check if there is data to display\n",
    "    if filtered_data.empty:\n",
    "        print(f\"No data available for Cause Group: {cause_group} in Year: {year}\")\n",
    "        return\n",
    "    \n",
    "    # Aggregate total deaths by country for the selected cause group and year\n",
    "    country_death_data = filtered_data.groupby('ISO_Alpha3')['Total_deaths'].sum().reset_index()\n",
    "    country_death_data.columns = ['ISO_Alpha3', 'Total_Deaths']\n",
    "    \n",
    "    # Plot the data on a map\n",
    "    fig = px.scatter_geo(\n",
    "        country_death_data,\n",
    "        locations='ISO_Alpha3', \n",
    "        size='Total_Deaths',\n",
    "        color='ISO_Alpha3',  # Different color for each country\n",
    "        title=f'Total Deaths for Cause Group: {cause_group} in Year: {year}',\n",
    "        projection='natural earth',\n",
    "        size_max=50,\n",
    "        hover_name='ISO_Alpha3',\n",
    "    )\n",
    "    fig.update_geos(showcountries=True, showframe=True)\n",
    "    fig.show()\n",
    "\n",
    "# Create a list of unique cause groups and years for dropdown and slider\n",
    "unique_cause_groups = sorted(cleaned_country_mortality_2013_2022_df['Cause'].str[0].unique())\n",
    "min_year = int(cleaned_country_mortality_2013_2022_df['Year'].min())\n",
    "max_year = int(cleaned_country_mortality_2013_2022_df['Year'].max())\n",
    "\n",
    "# Create an interactive dropdown for cause group and slider for year\n",
    "interact(\n",
    "    visualize_grouped_cause_deaths, \n",
    "    cause_group=unique_cause_groups, \n",
    "    year=IntSlider(min=min_year, max=max_year, step=1, value=min_year, description='Year')\n",
    ")"
   ]
  }
 ],
 "metadata": {
  "anaconda-cloud": {},
  "kernelspec": {
   "display_name": "dev",
   "language": "python",
   "name": "python3"
  },
  "language_info": {
   "codemirror_mode": {
    "name": "ipython",
    "version": 3
   },
   "file_extension": ".py",
   "mimetype": "text/x-python",
   "name": "python",
   "nbconvert_exporter": "python",
   "pygments_lexer": "ipython3",
   "version": "3.10.15"
  }
 },
 "nbformat": 4,
 "nbformat_minor": 2
}
